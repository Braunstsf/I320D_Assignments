{
 "cells": [
  {
   "cell_type": "markdown",
   "id": "a380cd66",
   "metadata": {},
   "source": [
    "### Assignment 1: Feature Engineering "
   ]
  },
  {
   "cell_type": "markdown",
   "id": "ff2f97f3",
   "metadata": {},
   "source": [
    "<mark>Ethan Wen - 1/27/2022 - Professor Mishra</mark>"
   ]
  },
  {
   "cell_type": "markdown",
   "id": "53c98e9d",
   "metadata": {},
   "source": [
    "From Kaggle and the assignment posted, there are a **set of attributes (79) describing houses in Ames, Iowa**. We will try to **predict the price of the house** based on these features using regression techniques. "
   ]
  },
  {
   "cell_type": "markdown",
   "id": "50ae1662",
   "metadata": {},
   "source": [
    "We can find the dataset located here (training split of the original dataset): [Click Here](https://www.kaggle.com/competitions/house-prices-advanced-regression-techniques/data?select=train.csv)"
   ]
  },
  {
   "cell_type": "markdown",
   "id": "4d7619e6",
   "metadata": {},
   "source": [
    "We can find the descriptions of the columns right [here](https://www.kaggle.com/competitions/house-prices-advanced-regression-techniques/data?select=data_description.txt)"
   ]
  },
  {
   "cell_type": "markdown",
   "id": "a22b5fe9",
   "metadata": {},
   "source": [
    "The training dataset and the descriptions of the column are named train.csv and data_description.txt respectively. "
   ]
  },
  {
   "cell_type": "markdown",
   "id": "0d2189b9",
   "metadata": {},
   "source": [
    "### a. Load the dataset as a dataframe using pandas library. Print a few columns using head() function "
   ]
  },
  {
   "cell_type": "code",
   "execution_count": 1,
   "id": "ae91b9de",
   "metadata": {},
   "outputs": [
    {
     "data": {
      "text/html": [
       "<div>\n",
       "<style scoped>\n",
       "    .dataframe tbody tr th:only-of-type {\n",
       "        vertical-align: middle;\n",
       "    }\n",
       "\n",
       "    .dataframe tbody tr th {\n",
       "        vertical-align: top;\n",
       "    }\n",
       "\n",
       "    .dataframe thead th {\n",
       "        text-align: right;\n",
       "    }\n",
       "</style>\n",
       "<table border=\"1\" class=\"dataframe\">\n",
       "  <thead>\n",
       "    <tr style=\"text-align: right;\">\n",
       "      <th></th>\n",
       "      <th>Id</th>\n",
       "      <th>MSSubClass</th>\n",
       "      <th>MSZoning</th>\n",
       "      <th>LotFrontage</th>\n",
       "      <th>LotArea</th>\n",
       "      <th>Street</th>\n",
       "      <th>Alley</th>\n",
       "      <th>LotShape</th>\n",
       "      <th>LandContour</th>\n",
       "      <th>Utilities</th>\n",
       "      <th>...</th>\n",
       "      <th>PoolArea</th>\n",
       "      <th>PoolQC</th>\n",
       "      <th>Fence</th>\n",
       "      <th>MiscFeature</th>\n",
       "      <th>MiscVal</th>\n",
       "      <th>MoSold</th>\n",
       "      <th>YrSold</th>\n",
       "      <th>SaleType</th>\n",
       "      <th>SaleCondition</th>\n",
       "      <th>SalePrice</th>\n",
       "    </tr>\n",
       "  </thead>\n",
       "  <tbody>\n",
       "    <tr>\n",
       "      <th>0</th>\n",
       "      <td>1</td>\n",
       "      <td>60</td>\n",
       "      <td>RL</td>\n",
       "      <td>65.0</td>\n",
       "      <td>8450</td>\n",
       "      <td>Pave</td>\n",
       "      <td>NaN</td>\n",
       "      <td>Reg</td>\n",
       "      <td>Lvl</td>\n",
       "      <td>AllPub</td>\n",
       "      <td>...</td>\n",
       "      <td>0</td>\n",
       "      <td>NaN</td>\n",
       "      <td>NaN</td>\n",
       "      <td>NaN</td>\n",
       "      <td>0</td>\n",
       "      <td>2</td>\n",
       "      <td>2008</td>\n",
       "      <td>WD</td>\n",
       "      <td>Normal</td>\n",
       "      <td>208500</td>\n",
       "    </tr>\n",
       "    <tr>\n",
       "      <th>1</th>\n",
       "      <td>2</td>\n",
       "      <td>20</td>\n",
       "      <td>RL</td>\n",
       "      <td>80.0</td>\n",
       "      <td>9600</td>\n",
       "      <td>Pave</td>\n",
       "      <td>NaN</td>\n",
       "      <td>Reg</td>\n",
       "      <td>Lvl</td>\n",
       "      <td>AllPub</td>\n",
       "      <td>...</td>\n",
       "      <td>0</td>\n",
       "      <td>NaN</td>\n",
       "      <td>NaN</td>\n",
       "      <td>NaN</td>\n",
       "      <td>0</td>\n",
       "      <td>5</td>\n",
       "      <td>2007</td>\n",
       "      <td>WD</td>\n",
       "      <td>Normal</td>\n",
       "      <td>181500</td>\n",
       "    </tr>\n",
       "    <tr>\n",
       "      <th>2</th>\n",
       "      <td>3</td>\n",
       "      <td>60</td>\n",
       "      <td>RL</td>\n",
       "      <td>68.0</td>\n",
       "      <td>11250</td>\n",
       "      <td>Pave</td>\n",
       "      <td>NaN</td>\n",
       "      <td>IR1</td>\n",
       "      <td>Lvl</td>\n",
       "      <td>AllPub</td>\n",
       "      <td>...</td>\n",
       "      <td>0</td>\n",
       "      <td>NaN</td>\n",
       "      <td>NaN</td>\n",
       "      <td>NaN</td>\n",
       "      <td>0</td>\n",
       "      <td>9</td>\n",
       "      <td>2008</td>\n",
       "      <td>WD</td>\n",
       "      <td>Normal</td>\n",
       "      <td>223500</td>\n",
       "    </tr>\n",
       "    <tr>\n",
       "      <th>3</th>\n",
       "      <td>4</td>\n",
       "      <td>70</td>\n",
       "      <td>RL</td>\n",
       "      <td>60.0</td>\n",
       "      <td>9550</td>\n",
       "      <td>Pave</td>\n",
       "      <td>NaN</td>\n",
       "      <td>IR1</td>\n",
       "      <td>Lvl</td>\n",
       "      <td>AllPub</td>\n",
       "      <td>...</td>\n",
       "      <td>0</td>\n",
       "      <td>NaN</td>\n",
       "      <td>NaN</td>\n",
       "      <td>NaN</td>\n",
       "      <td>0</td>\n",
       "      <td>2</td>\n",
       "      <td>2006</td>\n",
       "      <td>WD</td>\n",
       "      <td>Abnorml</td>\n",
       "      <td>140000</td>\n",
       "    </tr>\n",
       "    <tr>\n",
       "      <th>4</th>\n",
       "      <td>5</td>\n",
       "      <td>60</td>\n",
       "      <td>RL</td>\n",
       "      <td>84.0</td>\n",
       "      <td>14260</td>\n",
       "      <td>Pave</td>\n",
       "      <td>NaN</td>\n",
       "      <td>IR1</td>\n",
       "      <td>Lvl</td>\n",
       "      <td>AllPub</td>\n",
       "      <td>...</td>\n",
       "      <td>0</td>\n",
       "      <td>NaN</td>\n",
       "      <td>NaN</td>\n",
       "      <td>NaN</td>\n",
       "      <td>0</td>\n",
       "      <td>12</td>\n",
       "      <td>2008</td>\n",
       "      <td>WD</td>\n",
       "      <td>Normal</td>\n",
       "      <td>250000</td>\n",
       "    </tr>\n",
       "  </tbody>\n",
       "</table>\n",
       "<p>5 rows × 81 columns</p>\n",
       "</div>"
      ],
      "text/plain": [
       "   Id  MSSubClass MSZoning  LotFrontage  LotArea Street Alley LotShape  \\\n",
       "0   1          60       RL         65.0     8450   Pave   NaN      Reg   \n",
       "1   2          20       RL         80.0     9600   Pave   NaN      Reg   \n",
       "2   3          60       RL         68.0    11250   Pave   NaN      IR1   \n",
       "3   4          70       RL         60.0     9550   Pave   NaN      IR1   \n",
       "4   5          60       RL         84.0    14260   Pave   NaN      IR1   \n",
       "\n",
       "  LandContour Utilities  ... PoolArea PoolQC Fence MiscFeature MiscVal MoSold  \\\n",
       "0         Lvl    AllPub  ...        0    NaN   NaN         NaN       0      2   \n",
       "1         Lvl    AllPub  ...        0    NaN   NaN         NaN       0      5   \n",
       "2         Lvl    AllPub  ...        0    NaN   NaN         NaN       0      9   \n",
       "3         Lvl    AllPub  ...        0    NaN   NaN         NaN       0      2   \n",
       "4         Lvl    AllPub  ...        0    NaN   NaN         NaN       0     12   \n",
       "\n",
       "  YrSold  SaleType  SaleCondition  SalePrice  \n",
       "0   2008        WD         Normal     208500  \n",
       "1   2007        WD         Normal     181500  \n",
       "2   2008        WD         Normal     223500  \n",
       "3   2006        WD        Abnorml     140000  \n",
       "4   2008        WD         Normal     250000  \n",
       "\n",
       "[5 rows x 81 columns]"
      ]
     },
     "execution_count": 1,
     "metadata": {},
     "output_type": "execute_result"
    }
   ],
   "source": [
    "import pandas as pd\n",
    "house_predict_df = pd.read_csv(\"train.csv\")\n",
    "house_predict_df.head()"
   ]
  },
  {
   "cell_type": "markdown",
   "id": "61009e74",
   "metadata": {},
   "source": [
    "There are 81 Columns instead of the proposed 79 explantory features but I think that those 2 are probably from the \"Id\" column and something else (maybe sale price since we are supposed to predict that). "
   ]
  },
  {
   "cell_type": "code",
   "execution_count": 2,
   "id": "74534d14",
   "metadata": {},
   "outputs": [
    {
     "name": "stdout",
     "output_type": "stream",
     "text": [
      "Index(['Id', 'MSSubClass', 'MSZoning', 'LotFrontage', 'LotArea', 'Street',\n",
      "       'Alley', 'LotShape', 'LandContour', 'Utilities', 'LotConfig',\n",
      "       'LandSlope', 'Neighborhood', 'Condition1', 'Condition2', 'BldgType',\n",
      "       'HouseStyle', 'OverallQual', 'OverallCond', 'YearBuilt', 'YearRemodAdd',\n",
      "       'RoofStyle', 'RoofMatl', 'Exterior1st', 'Exterior2nd', 'MasVnrType',\n",
      "       'MasVnrArea', 'ExterQual', 'ExterCond', 'Foundation', 'BsmtQual',\n",
      "       'BsmtCond', 'BsmtExposure', 'BsmtFinType1', 'BsmtFinSF1',\n",
      "       'BsmtFinType2', 'BsmtFinSF2', 'BsmtUnfSF', 'TotalBsmtSF', 'Heating',\n",
      "       'HeatingQC', 'CentralAir', 'Electrical', '1stFlrSF', '2ndFlrSF',\n",
      "       'LowQualFinSF', 'GrLivArea', 'BsmtFullBath', 'BsmtHalfBath', 'FullBath',\n",
      "       'HalfBath', 'BedroomAbvGr', 'KitchenAbvGr', 'KitchenQual',\n",
      "       'TotRmsAbvGrd', 'Functional', 'Fireplaces', 'FireplaceQu', 'GarageType',\n",
      "       'GarageYrBlt', 'GarageFinish', 'GarageCars', 'GarageArea', 'GarageQual',\n",
      "       'GarageCond', 'PavedDrive', 'WoodDeckSF', 'OpenPorchSF',\n",
      "       'EnclosedPorch', '3SsnPorch', 'ScreenPorch', 'PoolArea', 'PoolQC',\n",
      "       'Fence', 'MiscFeature', 'MiscVal', 'MoSold', 'YrSold', 'SaleType',\n",
      "       'SaleCondition', 'SalePrice'],\n",
      "      dtype='object')\n"
     ]
    }
   ],
   "source": [
    "print(house_predict_df.columns)"
   ]
  },
  {
   "cell_type": "markdown",
   "id": "82398fd2",
   "metadata": {},
   "source": [
    "### (b) Perform exploratory data analysis"
   ]
  },
  {
   "cell_type": "markdown",
   "id": "66f480af",
   "metadata": {},
   "source": [
    "Checking duplicates like in the imdb_dataframe lab from last week"
   ]
  },
  {
   "cell_type": "code",
   "execution_count": 3,
   "id": "82515df5",
   "metadata": {},
   "outputs": [
    {
     "data": {
      "text/plain": [
       "0"
      ]
     },
     "execution_count": 3,
     "metadata": {},
     "output_type": "execute_result"
    }
   ],
   "source": [
    "house_predict_df.duplicated().sum()"
   ]
  },
  {
   "cell_type": "markdown",
   "id": "eceb4a72",
   "metadata": {},
   "source": [
    "Apparently there are no duplicates in this dataset. "
   ]
  },
  {
   "cell_type": "code",
   "execution_count": 4,
   "id": "829152b4",
   "metadata": {},
   "outputs": [
    {
     "name": "stdout",
     "output_type": "stream",
     "text": [
      "<class 'pandas.core.frame.DataFrame'>\n",
      "RangeIndex: 1460 entries, 0 to 1459\n",
      "Data columns (total 81 columns):\n",
      " #   Column         Non-Null Count  Dtype  \n",
      "---  ------         --------------  -----  \n",
      " 0   Id             1460 non-null   int64  \n",
      " 1   MSSubClass     1460 non-null   int64  \n",
      " 2   MSZoning       1460 non-null   object \n",
      " 3   LotFrontage    1201 non-null   float64\n",
      " 4   LotArea        1460 non-null   int64  \n",
      " 5   Street         1460 non-null   object \n",
      " 6   Alley          91 non-null     object \n",
      " 7   LotShape       1460 non-null   object \n",
      " 8   LandContour    1460 non-null   object \n",
      " 9   Utilities      1460 non-null   object \n",
      " 10  LotConfig      1460 non-null   object \n",
      " 11  LandSlope      1460 non-null   object \n",
      " 12  Neighborhood   1460 non-null   object \n",
      " 13  Condition1     1460 non-null   object \n",
      " 14  Condition2     1460 non-null   object \n",
      " 15  BldgType       1460 non-null   object \n",
      " 16  HouseStyle     1460 non-null   object \n",
      " 17  OverallQual    1460 non-null   int64  \n",
      " 18  OverallCond    1460 non-null   int64  \n",
      " 19  YearBuilt      1460 non-null   int64  \n",
      " 20  YearRemodAdd   1460 non-null   int64  \n",
      " 21  RoofStyle      1460 non-null   object \n",
      " 22  RoofMatl       1460 non-null   object \n",
      " 23  Exterior1st    1460 non-null   object \n",
      " 24  Exterior2nd    1460 non-null   object \n",
      " 25  MasVnrType     1452 non-null   object \n",
      " 26  MasVnrArea     1452 non-null   float64\n",
      " 27  ExterQual      1460 non-null   object \n",
      " 28  ExterCond      1460 non-null   object \n",
      " 29  Foundation     1460 non-null   object \n",
      " 30  BsmtQual       1423 non-null   object \n",
      " 31  BsmtCond       1423 non-null   object \n",
      " 32  BsmtExposure   1422 non-null   object \n",
      " 33  BsmtFinType1   1423 non-null   object \n",
      " 34  BsmtFinSF1     1460 non-null   int64  \n",
      " 35  BsmtFinType2   1422 non-null   object \n",
      " 36  BsmtFinSF2     1460 non-null   int64  \n",
      " 37  BsmtUnfSF      1460 non-null   int64  \n",
      " 38  TotalBsmtSF    1460 non-null   int64  \n",
      " 39  Heating        1460 non-null   object \n",
      " 40  HeatingQC      1460 non-null   object \n",
      " 41  CentralAir     1460 non-null   object \n",
      " 42  Electrical     1459 non-null   object \n",
      " 43  1stFlrSF       1460 non-null   int64  \n",
      " 44  2ndFlrSF       1460 non-null   int64  \n",
      " 45  LowQualFinSF   1460 non-null   int64  \n",
      " 46  GrLivArea      1460 non-null   int64  \n",
      " 47  BsmtFullBath   1460 non-null   int64  \n",
      " 48  BsmtHalfBath   1460 non-null   int64  \n",
      " 49  FullBath       1460 non-null   int64  \n",
      " 50  HalfBath       1460 non-null   int64  \n",
      " 51  BedroomAbvGr   1460 non-null   int64  \n",
      " 52  KitchenAbvGr   1460 non-null   int64  \n",
      " 53  KitchenQual    1460 non-null   object \n",
      " 54  TotRmsAbvGrd   1460 non-null   int64  \n",
      " 55  Functional     1460 non-null   object \n",
      " 56  Fireplaces     1460 non-null   int64  \n",
      " 57  FireplaceQu    770 non-null    object \n",
      " 58  GarageType     1379 non-null   object \n",
      " 59  GarageYrBlt    1379 non-null   float64\n",
      " 60  GarageFinish   1379 non-null   object \n",
      " 61  GarageCars     1460 non-null   int64  \n",
      " 62  GarageArea     1460 non-null   int64  \n",
      " 63  GarageQual     1379 non-null   object \n",
      " 64  GarageCond     1379 non-null   object \n",
      " 65  PavedDrive     1460 non-null   object \n",
      " 66  WoodDeckSF     1460 non-null   int64  \n",
      " 67  OpenPorchSF    1460 non-null   int64  \n",
      " 68  EnclosedPorch  1460 non-null   int64  \n",
      " 69  3SsnPorch      1460 non-null   int64  \n",
      " 70  ScreenPorch    1460 non-null   int64  \n",
      " 71  PoolArea       1460 non-null   int64  \n",
      " 72  PoolQC         7 non-null      object \n",
      " 73  Fence          281 non-null    object \n",
      " 74  MiscFeature    54 non-null     object \n",
      " 75  MiscVal        1460 non-null   int64  \n",
      " 76  MoSold         1460 non-null   int64  \n",
      " 77  YrSold         1460 non-null   int64  \n",
      " 78  SaleType       1460 non-null   object \n",
      " 79  SaleCondition  1460 non-null   object \n",
      " 80  SalePrice      1460 non-null   int64  \n",
      "dtypes: float64(3), int64(35), object(43)\n",
      "memory usage: 924.0+ KB\n"
     ]
    }
   ],
   "source": [
    "house_predict_df.info()"
   ]
  },
  {
   "cell_type": "markdown",
   "id": "d17aae17",
   "metadata": {},
   "source": [
    "It seems like there are some null values in some columns although most of them are non-null. You can also see the distribution of the different types of values with 38 of them being numerical (3 of them are floats and 35 of them are integers) and the remaining 43 values being an object(most likely a string). "
   ]
  },
  {
   "cell_type": "code",
   "execution_count": 5,
   "id": "1f125fc8",
   "metadata": {},
   "outputs": [
    {
     "data": {
      "text/plain": [
       "Id               1460\n",
       "MSSubClass       1460\n",
       "MSZoning         1460\n",
       "LotFrontage      1201\n",
       "LotArea          1460\n",
       "                 ... \n",
       "MoSold           1460\n",
       "YrSold           1460\n",
       "SaleType         1460\n",
       "SaleCondition    1460\n",
       "SalePrice        1460\n",
       "Length: 81, dtype: int64"
      ]
     },
     "execution_count": 5,
     "metadata": {},
     "output_type": "execute_result"
    }
   ],
   "source": [
    "house_predict_df.count()"
   ]
  },
  {
   "cell_type": "markdown",
   "id": "93a3d19d",
   "metadata": {},
   "source": [
    "The number of rows left are the same since there are no duplicated rows - should be 81 columns and 1460 rows. "
   ]
  },
  {
   "cell_type": "markdown",
   "id": "7ea8907e",
   "metadata": {},
   "source": [
    "### (c) Feature and Label Definition"
   ]
  },
  {
   "cell_type": "markdown",
   "id": "f6150c20",
   "metadata": {},
   "source": [
    "From the assignment, we choose these columns: Lotshape, LotConfig, Neighborhood, OverallQual, OverallCond, YearRemodAdd, GrLivArea, MoSold, and SalePrice."
   ]
  },
  {
   "cell_type": "code",
   "execution_count": 6,
   "id": "b9ab6a11",
   "metadata": {},
   "outputs": [],
   "source": [
    "temp = house_predict_df[[\"LotShape\",\"LotConfig\",\"Neighborhood\",\"OverallQual\", \"OverallCond\", \"YearRemodAdd\", \"GrLivArea\", \"MoSold\", \"SalePrice\"]] "
   ]
  },
  {
   "cell_type": "code",
   "execution_count": 7,
   "id": "4b4028df",
   "metadata": {},
   "outputs": [
    {
     "name": "stdout",
     "output_type": "stream",
     "text": [
      "<class 'pandas.core.frame.DataFrame'>\n",
      "RangeIndex: 1460 entries, 0 to 1459\n",
      "Data columns (total 9 columns):\n",
      " #   Column        Non-Null Count  Dtype \n",
      "---  ------        --------------  ----- \n",
      " 0   LotShape      1460 non-null   object\n",
      " 1   LotConfig     1460 non-null   object\n",
      " 2   Neighborhood  1460 non-null   object\n",
      " 3   OverallQual   1460 non-null   int64 \n",
      " 4   OverallCond   1460 non-null   int64 \n",
      " 5   YearRemodAdd  1460 non-null   int64 \n",
      " 6   GrLivArea     1460 non-null   int64 \n",
      " 7   MoSold        1460 non-null   int64 \n",
      " 8   SalePrice     1460 non-null   int64 \n",
      "dtypes: int64(6), object(3)\n",
      "memory usage: 102.8+ KB\n"
     ]
    }
   ],
   "source": [
    "temp.info()"
   ]
  },
  {
   "cell_type": "markdown",
   "id": "8bef323d",
   "metadata": {},
   "source": [
    "From here, we can see that all of the rows have no null values. Just in case, we can check..."
   ]
  },
  {
   "cell_type": "code",
   "execution_count": 8,
   "id": "c036d3bb",
   "metadata": {},
   "outputs": [
    {
     "name": "stdout",
     "output_type": "stream",
     "text": [
      "<class 'pandas.core.frame.DataFrame'>\n",
      "RangeIndex: 1460 entries, 0 to 1459\n",
      "Data columns (total 9 columns):\n",
      " #   Column        Non-Null Count  Dtype \n",
      "---  ------        --------------  ----- \n",
      " 0   LotShape      1460 non-null   object\n",
      " 1   LotConfig     1460 non-null   object\n",
      " 2   Neighborhood  1460 non-null   object\n",
      " 3   OverallQual   1460 non-null   int64 \n",
      " 4   OverallCond   1460 non-null   int64 \n",
      " 5   YearRemodAdd  1460 non-null   int64 \n",
      " 6   GrLivArea     1460 non-null   int64 \n",
      " 7   MoSold        1460 non-null   int64 \n",
      " 8   SalePrice     1460 non-null   int64 \n",
      "dtypes: int64(6), object(3)\n",
      "memory usage: 102.8+ KB\n"
     ]
    }
   ],
   "source": [
    "temp = temp.dropna()\n",
    "temp.info()"
   ]
  },
  {
   "cell_type": "markdown",
   "id": "87511f1a",
   "metadata": {},
   "source": [
    "From here, we seperate the <mark> temp </mark> dataframe into two other dataframes/labels - <mark> housing_features_df and sales_price_df </mark>. "
   ]
  },
  {
   "cell_type": "code",
   "execution_count": 9,
   "id": "a2ed815c",
   "metadata": {},
   "outputs": [
    {
     "data": {
      "text/plain": [
       "0    208500\n",
       "1    181500\n",
       "2    223500\n",
       "3    140000\n",
       "4    250000\n",
       "Name: SalePrice, dtype: int64"
      ]
     },
     "execution_count": 9,
     "metadata": {},
     "output_type": "execute_result"
    }
   ],
   "source": [
    "sales_price_df = temp.pop('SalePrice')\n",
    "sales_price_df.head()"
   ]
  },
  {
   "cell_type": "markdown",
   "id": "971e3137",
   "metadata": {},
   "source": [
    "We can see that the values of SalePrice are numerical based on the saleprice of the house in dollars. "
   ]
  },
  {
   "cell_type": "code",
   "execution_count": 10,
   "id": "f684e20e",
   "metadata": {
    "scrolled": true
   },
   "outputs": [
    {
     "data": {
      "text/html": [
       "<div>\n",
       "<style scoped>\n",
       "    .dataframe tbody tr th:only-of-type {\n",
       "        vertical-align: middle;\n",
       "    }\n",
       "\n",
       "    .dataframe tbody tr th {\n",
       "        vertical-align: top;\n",
       "    }\n",
       "\n",
       "    .dataframe thead th {\n",
       "        text-align: right;\n",
       "    }\n",
       "</style>\n",
       "<table border=\"1\" class=\"dataframe\">\n",
       "  <thead>\n",
       "    <tr style=\"text-align: right;\">\n",
       "      <th></th>\n",
       "      <th>LotShape</th>\n",
       "      <th>LotConfig</th>\n",
       "      <th>Neighborhood</th>\n",
       "      <th>OverallQual</th>\n",
       "      <th>OverallCond</th>\n",
       "      <th>YearRemodAdd</th>\n",
       "      <th>GrLivArea</th>\n",
       "      <th>MoSold</th>\n",
       "    </tr>\n",
       "  </thead>\n",
       "  <tbody>\n",
       "    <tr>\n",
       "      <th>0</th>\n",
       "      <td>Reg</td>\n",
       "      <td>Inside</td>\n",
       "      <td>CollgCr</td>\n",
       "      <td>7</td>\n",
       "      <td>5</td>\n",
       "      <td>2003</td>\n",
       "      <td>1710</td>\n",
       "      <td>2</td>\n",
       "    </tr>\n",
       "    <tr>\n",
       "      <th>1</th>\n",
       "      <td>Reg</td>\n",
       "      <td>FR2</td>\n",
       "      <td>Veenker</td>\n",
       "      <td>6</td>\n",
       "      <td>8</td>\n",
       "      <td>1976</td>\n",
       "      <td>1262</td>\n",
       "      <td>5</td>\n",
       "    </tr>\n",
       "    <tr>\n",
       "      <th>2</th>\n",
       "      <td>IR1</td>\n",
       "      <td>Inside</td>\n",
       "      <td>CollgCr</td>\n",
       "      <td>7</td>\n",
       "      <td>5</td>\n",
       "      <td>2002</td>\n",
       "      <td>1786</td>\n",
       "      <td>9</td>\n",
       "    </tr>\n",
       "    <tr>\n",
       "      <th>3</th>\n",
       "      <td>IR1</td>\n",
       "      <td>Corner</td>\n",
       "      <td>Crawfor</td>\n",
       "      <td>7</td>\n",
       "      <td>5</td>\n",
       "      <td>1970</td>\n",
       "      <td>1717</td>\n",
       "      <td>2</td>\n",
       "    </tr>\n",
       "    <tr>\n",
       "      <th>4</th>\n",
       "      <td>IR1</td>\n",
       "      <td>FR2</td>\n",
       "      <td>NoRidge</td>\n",
       "      <td>8</td>\n",
       "      <td>5</td>\n",
       "      <td>2000</td>\n",
       "      <td>2198</td>\n",
       "      <td>12</td>\n",
       "    </tr>\n",
       "  </tbody>\n",
       "</table>\n",
       "</div>"
      ],
      "text/plain": [
       "  LotShape LotConfig Neighborhood  OverallQual  OverallCond  YearRemodAdd  \\\n",
       "0      Reg    Inside      CollgCr            7            5          2003   \n",
       "1      Reg       FR2      Veenker            6            8          1976   \n",
       "2      IR1    Inside      CollgCr            7            5          2002   \n",
       "3      IR1    Corner      Crawfor            7            5          1970   \n",
       "4      IR1       FR2      NoRidge            8            5          2000   \n",
       "\n",
       "   GrLivArea  MoSold  \n",
       "0       1710       2  \n",
       "1       1262       5  \n",
       "2       1786       9  \n",
       "3       1717       2  \n",
       "4       2198      12  "
      ]
     },
     "execution_count": 10,
     "metadata": {},
     "output_type": "execute_result"
    }
   ],
   "source": [
    "housing_features_df = temp\n",
    "housing_features_df = housing_features_df.dropna()\n",
    "housing_features_df.head()\n"
   ]
  },
  {
   "cell_type": "markdown",
   "id": "e318375e",
   "metadata": {},
   "source": [
    "From data_description.txt, we are given the values of each feature - most of them are categorical. "
   ]
  },
  {
   "cell_type": "code",
   "execution_count": 11,
   "id": "461ec39b",
   "metadata": {},
   "outputs": [
    {
     "data": {
      "text/plain": [
       "array(['Reg', 'IR1', 'IR2', 'IR3'], dtype=object)"
      ]
     },
     "execution_count": 11,
     "metadata": {},
     "output_type": "execute_result"
    }
   ],
   "source": [
    "housing_features_df[\"LotShape\"].unique()"
   ]
  },
  {
   "cell_type": "markdown",
   "id": "fb8a90a3",
   "metadata": {},
   "source": [
    "The LotShape feature is **categorical ordinal** since there is some type of ordering (hierarchy). The following values are used for **LotShape**: Regular, Slighty Irregular, Moderately Irregular, Irregular. "
   ]
  },
  {
   "cell_type": "code",
   "execution_count": 12,
   "id": "d53712d9",
   "metadata": {},
   "outputs": [
    {
     "data": {
      "text/plain": [
       "array(['Inside', 'FR2', 'Corner', 'CulDSac', 'FR3'], dtype=object)"
      ]
     },
     "execution_count": 12,
     "metadata": {},
     "output_type": "execute_result"
    }
   ],
   "source": [
    "housing_features_df[\"LotConfig\"].unique()"
   ]
  },
  {
   "cell_type": "markdown",
   "id": "38708222",
   "metadata": {},
   "source": [
    "From what I can tell, the LotConfig feature seems to be **categorical nominal** since it seems to be just different configurations. However, someone with more experience could probably determine if it was ordinal or not. The following values are used for LotConfig: Inside lot, corner lot, cul-de-sac, frontage on 2 sides of property, and frontage on 3 sides of property. "
   ]
  },
  {
   "cell_type": "code",
   "execution_count": 13,
   "id": "7c6dc838",
   "metadata": {},
   "outputs": [
    {
     "data": {
      "text/plain": [
       "array(['CollgCr', 'Veenker', 'Crawfor', 'NoRidge', 'Mitchel', 'Somerst',\n",
       "       'NWAmes', 'OldTown', 'BrkSide', 'Sawyer', 'NridgHt', 'NAmes',\n",
       "       'SawyerW', 'IDOTRR', 'MeadowV', 'Edwards', 'Timber', 'Gilbert',\n",
       "       'StoneBr', 'ClearCr', 'NPkVill', 'Blmngtn', 'BrDale', 'SWISU',\n",
       "       'Blueste'], dtype=object)"
      ]
     },
     "execution_count": 13,
     "metadata": {},
     "output_type": "execute_result"
    }
   ],
   "source": [
    "housing_features_df[\"Neighborhood\"].unique()"
   ]
  },
  {
   "cell_type": "markdown",
   "id": "ad2b69af",
   "metadata": {},
   "source": [
    "The Neighborhood feature is **categorical nominal** since its just the names of neighborhoods which don't have any order/hierarchy. "
   ]
  },
  {
   "cell_type": "code",
   "execution_count": 14,
   "id": "e0f1f672",
   "metadata": {},
   "outputs": [
    {
     "data": {
      "text/plain": [
       "array([ 7,  6,  8,  5,  9,  4, 10,  3,  1,  2])"
      ]
     },
     "execution_count": 14,
     "metadata": {},
     "output_type": "execute_result"
    }
   ],
   "source": [
    "housing_features_df[\"OverallQual\"].unique()"
   ]
  },
  {
   "cell_type": "markdown",
   "id": "d1c7344b",
   "metadata": {},
   "source": [
    "The OverallQual feature stands for overall quality, the numerical rating of the overall material and finish of the house. Even though the values are numerical, its a **categorical ordinal** since its on a scale from 1 to 10 with 1 being \"Very Poor\" and 10 being \"Very Excellent\".  "
   ]
  },
  {
   "cell_type": "code",
   "execution_count": 15,
   "id": "3412e827",
   "metadata": {},
   "outputs": [
    {
     "data": {
      "text/plain": [
       "array([5, 8, 6, 7, 4, 2, 3, 9, 1])"
      ]
     },
     "execution_count": 15,
     "metadata": {},
     "output_type": "execute_result"
    }
   ],
   "source": [
    "housing_features_df[\"OverallCond\"].unique()"
   ]
  },
  {
   "cell_type": "markdown",
   "id": "6c8ab0d7",
   "metadata": {},
   "source": [
    "Exactly like OverallQual, OverallCond feature stands for overall condition, the numerical rating of the overall condition of the house. Even though the values are numerical, its a **categorical ordinal** since its on a scale from 1 to 10 with 1 being \"Very Poor\" and 10 being \"Very Excellent\".  "
   ]
  },
  {
   "cell_type": "code",
   "execution_count": 16,
   "id": "0ee23703",
   "metadata": {},
   "outputs": [
    {
     "data": {
      "text/plain": [
       "array([2003, 1976, 2002, 1970, 2000, 1995, 2005, 1973, 1950, 1965, 2006,\n",
       "       1962, 2007, 1960, 2001, 1967, 2004, 2008, 1997, 1959, 1990, 1955,\n",
       "       1983, 1980, 1966, 1963, 1987, 1964, 1972, 1996, 1998, 1989, 1953,\n",
       "       1956, 1968, 1981, 1992, 2009, 1982, 1961, 1993, 1999, 1985, 1979,\n",
       "       1977, 1969, 1958, 1991, 1971, 1952, 1975, 2010, 1984, 1986, 1994,\n",
       "       1988, 1954, 1957, 1951, 1978, 1974])"
      ]
     },
     "execution_count": 16,
     "metadata": {},
     "output_type": "execute_result"
    }
   ],
   "source": [
    "housing_features_df[\"YearRemodAdd\"].unique()"
   ]
  },
  {
   "cell_type": "markdown",
   "id": "7604d2cb",
   "metadata": {},
   "source": [
    "The YearRemodAdd feature stands for the year of the date that the house was remodeled or the original construction date. It seems to be a **numerical value**. "
   ]
  },
  {
   "cell_type": "code",
   "execution_count": 17,
   "id": "bb05f22b",
   "metadata": {},
   "outputs": [
    {
     "data": {
      "text/plain": [
       "array([1710, 1262, 1786, 1717, 2198, 1362, 1694, 2090, 1774, 1077, 1040,\n",
       "       2324,  912, 1494, 1253,  854, 1004, 1296, 1114, 1339, 2376, 1108,\n",
       "       1795, 1060, 1600,  900, 1704,  520, 1317, 1228, 1234, 1700, 1561,\n",
       "       2452, 1097, 1297, 1057, 1152, 1324, 1328,  884,  938, 1150, 1752,\n",
       "       2149, 1656, 1452,  955, 1470, 1176,  816, 1842, 1360, 1425, 1739,\n",
       "       1720, 2945,  780, 1158, 1111, 1370, 2034, 2473, 2207, 1479,  747,\n",
       "       2287, 2223,  845, 1718, 1086, 1605,  988,  952, 1285, 1768, 1230,\n",
       "       2142, 1337, 1563, 1065, 1474, 2417, 1560, 1224, 1526,  990, 1235,\n",
       "        964, 2291, 1588,  960,  835, 1225, 1610, 1732, 1535, 1226, 1818,\n",
       "       1992, 1047,  789, 1517, 1844, 1855, 1430, 2696, 2259, 2320, 1458,\n",
       "       1092, 1125, 3222, 1456, 1123, 1080, 1199, 1586,  754,  958,  840,\n",
       "       1348, 1053, 2157, 2054, 1327, 1721, 1682, 1214, 1959, 1852, 1764,\n",
       "        864, 1734, 1385, 1501, 1728, 1709,  875, 2035, 1344,  969, 1993,\n",
       "       1252, 1200, 1096, 1968, 1947, 2462, 1232, 2668, 1541,  882, 1616,\n",
       "       1355, 1867, 2161, 1707, 1382, 1767, 1651, 2158, 2060, 1920, 2234,\n",
       "        968, 1525, 1802, 1340, 2082, 3608, 1217, 1593, 2727, 1431, 1726,\n",
       "       3112, 2229, 1713, 1121, 1279, 1310,  848, 1284, 1442, 1696, 1100,\n",
       "       2062, 1212, 1392, 1236, 1436, 1954, 1248, 1498, 2267, 1552, 2392,\n",
       "       1302, 2520,  987, 1555, 1194, 2794,  894, 1960, 1414, 1744, 1487,\n",
       "       1566,  866, 1440, 2110, 1872, 1928, 1375, 1668, 2144, 1306, 1625,\n",
       "       1640, 1314, 1604, 1792, 2574, 1316,  764, 1422, 1511, 2192,  778,\n",
       "       1113, 1939, 1363, 2270, 1632, 1548, 2121, 2022, 1982, 1468, 1575,\n",
       "       1250,  858, 1396, 1919, 1716, 2263, 1644, 1003, 1558, 1950, 1743,\n",
       "       1336, 3493, 2000, 2243, 1406,  861, 1944,  972, 1118, 2036, 1641,\n",
       "       1432, 2353, 2646, 1472, 2596, 2468, 2730, 1163, 2978,  803, 1719,\n",
       "       1383, 2134, 1192, 1056, 1629, 1358, 1638, 1922, 1536, 1621, 1215,\n",
       "       1908,  841, 1684, 1112, 1577, 1478, 1626, 2728, 1869, 1453,  720,\n",
       "       1595, 1167, 1142, 1352, 1924, 1505, 1574, 1394, 1268, 1287, 1664,\n",
       "        752, 1319,  904,  914, 2466, 1856, 1800, 1691, 1301, 1797,  784,\n",
       "       1953, 1269, 1184, 2332, 1367, 1961,  788, 1034, 1144, 1812, 1550,\n",
       "       1288,  672, 1572, 1620, 1639, 1680, 2172, 2078, 1276, 1028, 2097,\n",
       "       1400, 2624, 1134, 1602, 2630, 1196, 1389,  907, 1208, 1412, 1198,\n",
       "       1365,  630, 1661,  694, 2402, 1573, 1258, 1689, 1888, 1886, 1376,\n",
       "       1183,  813, 1533, 1756, 1590, 1242, 1663, 1666, 1203, 1935, 1135,\n",
       "       1660, 1277, 1634, 1502, 1969, 1072, 1976, 1652,  970, 1493, 2643,\n",
       "       1131, 1850, 1826, 1216,  999, 1073, 1484, 2414, 1304, 1578,  886,\n",
       "       3228, 1820,  899, 1218, 1801, 1322, 1911, 1378, 1041, 1368, 2020,\n",
       "       2119, 2344, 1796, 2080, 1294, 1244, 4676, 2398, 1266,  928, 2713,\n",
       "        605, 2515, 1509,  827,  334, 1347, 1724, 1159, 1601, 1838, 2285,\n",
       "        767, 1496, 2183, 1635,  768,  825, 2094, 1069, 1126, 2046, 1048,\n",
       "       1446, 1557,  996, 1674, 2295, 1647, 2504, 2132,  943, 1692, 1109,\n",
       "       1477, 1320, 1429, 2042, 2775, 2028,  838,  860, 1473,  935, 1582,\n",
       "       2296,  924, 1402, 1556, 1904, 1915, 1986, 2008, 3194, 1029, 2153,\n",
       "       1032, 1120, 1054,  832, 1828, 2262, 2614,  980, 1512, 1790, 1116,\n",
       "       1520, 1350, 1750, 1554, 1411, 3395,  800, 1387,  796, 1567, 1518,\n",
       "       1929, 2704, 1766,  981, 1094, 1839, 1665, 1510, 1469, 2113, 1486,\n",
       "       2448, 1181, 1936, 2380, 1679, 1437, 1180, 1476, 1369, 1136, 1441,\n",
       "        792,  923, 1291, 1761, 1102, 1419, 4316, 2519, 1539, 1137,  616,\n",
       "       1148, 1391, 1164, 2576, 1824,  729, 1178, 2554, 2418,  971, 1742,\n",
       "       1698, 1776, 1146, 2031,  948, 1349, 1464, 2715, 2256, 2640, 1529,\n",
       "       1140, 2098, 1026, 1471, 1386, 2531, 1547, 2365, 1506, 1714, 1836,\n",
       "       3279, 1220, 1117, 1973, 1204, 1614, 1603, 1110, 1342, 2084,  901,\n",
       "       2087, 1145, 1062, 2013, 1895, 1564,  773, 3140, 1688, 2822, 1128,\n",
       "       1428, 1576, 2138, 1309, 1044, 1008, 1052,  936, 1733, 1489, 1434,\n",
       "       2126, 1223, 1829, 1516, 1067, 1559, 1099, 1482, 1165, 1416, 1701,\n",
       "       1775, 2358, 1646, 1445, 1779, 1481, 2654, 1426, 1039, 1372, 1002,\n",
       "       1949,  910, 2610, 2224, 1155, 1090, 2230,  892, 1712, 1393, 2217,\n",
       "       1683, 1068,  951, 2240, 2364, 1670,  902, 1063, 1636, 2057, 2274,\n",
       "       1015, 2002,  480, 1229, 2127, 2200, 1617, 1686, 2374, 1978, 1788,\n",
       "       2236, 1466,  925, 1905, 1500, 2069, 1971, 1962, 2403, 1381,  965,\n",
       "       1958, 2872, 1894, 1308, 1098, 1095,  918, 2019,  869, 1241, 2612,\n",
       "       2290, 1940, 2030, 1851, 1050,  944,  691, 1504,  985, 1657, 1522,\n",
       "       1271, 1022, 1082, 1132, 2898, 1264, 3082, 1654,  954, 1803, 2329,\n",
       "       2524, 2868, 1771,  930, 1977, 1989, 1523, 1364, 2184, 1991, 1338,\n",
       "       2337, 1103, 1154, 2260, 1571, 1611, 2521,  893, 1240, 1740, 1459,\n",
       "       1251, 1247, 1088,  438,  950, 2622, 2021, 1690, 1658, 1964,  833,\n",
       "       1012,  698, 1005, 1530, 1981,  974, 2210,  986, 1020, 1868, 2828,\n",
       "       1006, 1298,  932, 1811, 1265, 1580, 1876, 1671, 2108, 3627, 1261,\n",
       "       3086, 2345, 1343, 1124, 2514, 4476, 1130, 1221, 1699, 1624, 1804,\n",
       "       1622, 1863, 1630, 1074, 2196, 1283, 1845, 1902, 1211, 1846, 2136,\n",
       "       1490, 1138, 1933, 1702, 1507, 2620, 1190, 1188, 1784, 1948, 1141,\n",
       "       1173, 2076, 1553, 2058, 1405,  874, 2167, 1987, 1166, 1675, 1889,\n",
       "       2018, 3447, 1524, 1357, 1395, 2447, 1659, 1970, 2372, 5642, 1246,\n",
       "       1983, 2526, 1708, 1122, 1274, 2810, 2599, 2112, 1787, 1923,  708,\n",
       "        774, 2792, 1334,  693, 1861,  872, 2169, 1913, 2156, 2634, 3238,\n",
       "       1865, 1078, 1980, 2601, 1738, 1475, 1374, 2633,  790, 2117, 1762,\n",
       "       2784, 1746, 1584, 1912, 2482, 1687, 1513, 1608, 2093, 1840, 1848,\n",
       "       1569, 2450, 2201,  804, 1537, 1932, 1725, 2555, 2007,  913, 1346,\n",
       "       2073, 2340, 1256])"
      ]
     },
     "execution_count": 17,
     "metadata": {},
     "output_type": "execute_result"
    }
   ],
   "source": [
    "housing_features_df[\"GrLivArea\"].unique()"
   ]
  },
  {
   "cell_type": "markdown",
   "id": "afd8a923",
   "metadata": {},
   "source": [
    "The GrLivArea feature stands for Above grade (ground) living area square feet. It's a **numerical value** since its based on square footage. "
   ]
  },
  {
   "cell_type": "code",
   "execution_count": 18,
   "id": "88fbfc6d",
   "metadata": {},
   "outputs": [
    {
     "data": {
      "text/plain": [
       "array([ 2,  5,  9, 12, 10,  8, 11,  4,  1,  7,  3,  6])"
      ]
     },
     "execution_count": 18,
     "metadata": {},
     "output_type": "execute_result"
    }
   ],
   "source": [
    "housing_features_df[\"MoSold\"].unique()"
   ]
  },
  {
   "cell_type": "markdown",
   "id": "e56d4f29",
   "metadata": {},
   "source": [
    "The MoSold feature stands for the month sold. It's a **categorical ordinal** value since months are ordered accordingly from 1 to 12 in a hierarchy."
   ]
  },
  {
   "cell_type": "markdown",
   "id": "a1b6ec24",
   "metadata": {},
   "source": [
    "In the dataframe, LotConfig and Neighborhood are features that are **categorical nominal** since they don't see to have any order or hierarchy. LotShape, OverallQual, OverallCond, and MoSold are all features that are **categorical ordinal** since they seem to be related in a hierarchial way. YearRemodAdd and GrLivArea are both features that are **numerical values**.  "
   ]
  },
  {
   "cell_type": "markdown",
   "id": "6d3a1eac",
   "metadata": {},
   "source": [
    "### (d) Feature Transformation"
   ]
  },
  {
   "cell_type": "markdown",
   "id": "7752fa8f",
   "metadata": {},
   "source": [
    "For this part, we should take all the **categorical nominal** features and turn them into **one-hot encodings** (I'm not sure if we should do all categorical features so I'll do both to see how it works). So we should start with features LotConfig and Neighborhood. "
   ]
  },
  {
   "cell_type": "code",
   "execution_count": 19,
   "id": "e1bddaf2",
   "metadata": {
    "scrolled": false
   },
   "outputs": [
    {
     "name": "stdout",
     "output_type": "stream",
     "text": [
      "['Inside', 'FR2', 'Inside', 'Corner', 'FR2', 'Inside', 'Inside', 'Corner', 'Inside', 'Corner', 'Inside', 'Inside', 'Inside', 'Inside', 'Corner', 'Corner', 'CulDSac', 'Inside', 'Inside', 'Inside', 'Corner', 'Inside', 'Inside', 'Inside', 'Inside', 'Corner', 'Corner', 'Inside', 'CulDSac', 'Inside', 'Inside', 'CulDSac', 'Corner', 'Inside', 'Inside', 'Inside', 'Corner', 'Inside', 'Inside', 'Inside', 'Inside', 'Inside', 'CulDSac', 'CulDSac', 'Inside', 'Inside', 'CulDSac', 'Inside', 'Inside', 'Inside', 'Corner', 'Inside', 'Corner', 'Inside', 'Inside', 'Inside', 'Inside', 'Corner', 'CulDSac', 'Inside', 'Inside', 'Inside', 'Inside', 'Inside', 'Inside', 'Inside', 'Inside', 'Inside', 'Corner', 'Corner', 'Inside', 'Corner', 'Corner', 'Inside', 'Corner', 'Inside', 'Inside', 'Inside', 'Inside', 'Corner', 'Corner', 'FR2', 'Inside', 'Inside', 'Inside', 'Corner', 'Inside', 'Corner', 'Corner', 'Inside', 'Inside', 'Inside', 'Inside', 'Corner', 'Inside', 'Corner', 'Inside', 'Inside', 'Corner', 'Inside', 'Inside', 'Inside', 'Inside', 'Corner', 'Corner', 'Inside', 'Inside', 'Inside', 'Corner', 'Inside', 'Inside', 'Inside', 'Inside', 'Corner', 'Inside', 'Corner', 'Inside', 'Corner', 'Corner', 'Inside', 'CulDSac', 'Inside', 'Corner', 'Inside', 'CulDSac', 'Inside', 'Inside', 'Inside', 'Inside', 'Inside', 'Corner', 'Corner', 'Corner', 'Inside', 'Inside', 'Inside', 'Corner', 'Inside', 'Inside', 'Inside', 'FR2', 'Inside', 'Corner', 'Inside', 'Inside', 'Inside', 'Corner', 'CulDSac', 'Inside', 'Inside', 'Corner', 'Inside', 'CulDSac', 'Inside', 'Corner', 'Corner', 'Inside', 'Corner', 'Corner', 'Corner', 'CulDSac', 'Inside', 'Corner', 'Inside', 'Corner', 'Inside', 'Inside', 'Inside', 'Inside', 'Corner', 'Inside', 'Corner', 'Inside', 'Inside', 'Inside', 'Corner', 'Corner', 'Inside', 'CulDSac', 'Inside', 'Inside', 'Inside', 'Inside', 'Inside', 'Inside', 'Inside', 'CulDSac', 'Inside', 'Inside', 'Inside', 'Inside', 'CulDSac', 'Inside', 'Inside', 'Inside', 'FR2', 'Inside', 'Corner', 'Corner', 'Inside', 'Corner', 'Inside', 'Corner', 'Inside', 'Inside', 'Corner', 'CulDSac', 'Inside', 'Inside', 'Inside', 'Inside', 'Corner', 'Inside', 'CulDSac', 'FR2', 'Inside', 'Inside', 'Inside', 'Corner', 'Inside', 'Inside', 'Inside', 'Inside', 'FR2', 'Inside', 'Inside', 'Inside', 'Inside', 'FR2', 'Inside', 'Inside', 'Inside', 'Inside', 'Corner', 'Inside', 'Inside', 'FR2', 'CulDSac', 'Inside', 'Inside', 'Inside', 'Inside', 'Corner', 'Corner', 'Inside', 'Inside', 'Inside', 'Inside', 'Inside', 'CulDSac', 'Inside', 'Inside', 'Inside', 'Inside', 'Inside', 'Inside', 'Inside', 'Inside', 'Inside', 'Inside', 'Corner', 'Inside', 'Corner', 'Corner', 'Inside', 'Inside', 'FR2', 'Inside', 'Inside', 'Corner', 'Inside', 'CulDSac', 'CulDSac', 'Inside', 'Corner', 'Inside', 'Inside', 'Corner', 'Inside', 'Inside', 'Inside', 'Inside', 'Inside', 'Inside', 'Inside', 'Inside', 'Inside', 'Corner', 'Inside', 'Inside', 'Inside', 'Inside', 'Inside', 'Corner', 'Inside', 'CulDSac', 'Inside', 'Inside', 'Inside', 'Inside', 'Corner', 'Inside', 'Corner', 'Corner', 'Inside', 'Inside', 'Inside', 'Inside', 'Inside', 'Inside', 'Inside', 'Inside', 'Inside', 'Inside', 'Inside', 'Inside', 'Corner', 'Inside', 'Inside', 'Inside', 'Corner', 'Inside', 'Inside', 'Inside', 'Corner', 'Inside', 'CulDSac', 'Inside', 'Inside', 'Corner', 'Inside', 'Inside', 'Inside', 'FR3', 'Inside', 'Corner', 'Corner', 'Inside', 'Corner', 'Inside', 'Inside', 'Inside', 'Inside', 'Inside', 'Inside', 'Inside', 'CulDSac', 'Inside', 'Inside', 'Inside', 'Inside', 'Inside', 'Inside', 'Inside', 'Inside', 'Inside', 'Inside', 'Inside', 'Inside', 'CulDSac', 'CulDSac', 'Inside', 'Corner', 'Inside', 'FR2', 'Inside', 'Inside', 'Corner', 'Inside', 'Corner', 'Inside', 'Inside', 'Inside', 'Inside', 'Inside', 'Inside', 'CulDSac', 'Corner', 'Corner', 'Inside', 'Inside', 'Inside', 'Inside', 'Corner', 'Corner', 'Inside', 'FR2', 'Inside', 'CulDSac', 'Inside', 'Inside', 'CulDSac', 'Inside', 'Corner', 'Inside', 'Inside', 'Inside', 'Inside', 'Corner', 'Inside', 'Inside', 'Inside', 'Inside', 'Corner', 'Inside', 'Corner', 'Inside', 'Inside', 'Corner', 'Inside', 'Inside', 'Inside', 'Inside', 'Inside', 'CulDSac', 'Inside', 'Inside', 'Inside', 'Inside', 'Inside', 'Inside', 'FR2', 'Inside', 'Inside', 'Inside', 'Inside', 'Inside', 'Inside', 'Inside', 'Corner', 'Inside', 'Inside', 'Inside', 'Corner', 'Inside', 'CulDSac', 'Inside', 'Inside', 'Inside', 'Corner', 'Inside', 'Inside', 'Inside', 'Inside', 'Inside', 'Corner', 'Corner', 'Corner', 'Inside', 'Inside', 'Inside', 'Inside', 'Corner', 'Inside', 'Inside', 'Inside', 'Inside', 'CulDSac', 'Inside', 'Corner', 'Inside', 'Inside', 'Inside', 'Inside', 'Inside', 'Inside', 'Inside', 'Inside', 'Inside', 'Corner', 'Corner', 'Inside', 'Inside', 'Inside', 'Inside', 'Corner', 'Inside', 'Inside', 'Inside', 'Inside', 'FR2', 'Inside', 'Corner', 'FR2', 'Corner', 'Inside', 'Inside', 'Inside', 'Corner', 'Inside', 'Inside', 'Inside', 'Corner', 'Inside', 'Inside', 'Inside', 'Inside', 'Inside', 'Inside', 'Inside', 'Inside', 'Inside', 'Corner', 'Inside', 'Inside', 'Inside', 'Inside', 'Inside', 'Inside', 'Corner', 'Inside', 'Inside', 'Corner', 'Corner', 'Inside', 'Inside', 'Corner', 'Inside', 'CulDSac', 'Inside', 'Inside', 'Corner', 'Corner', 'Inside', 'Inside', 'Inside', 'Inside', 'Inside', 'Inside', 'CulDSac', 'Inside', 'FR3', 'Inside', 'Inside', 'Inside', 'Inside', 'CulDSac', 'FR2', 'Inside', 'Inside', 'Inside', 'FR2', 'Inside', 'Inside', 'Inside', 'Corner', 'Inside', 'Inside', 'Inside', 'Inside', 'Inside', 'Inside', 'Inside', 'Inside', 'Inside', 'Inside', 'Inside', 'Inside', 'FR2', 'Inside', 'Inside', 'Inside', 'Inside', 'Inside', 'CulDSac', 'Corner', 'Inside', 'Inside', 'Inside', 'Corner', 'Inside', 'Inside', 'Corner', 'Inside', 'FR2', 'Inside', 'Inside', 'Inside', 'Corner', 'Inside', 'CulDSac', 'Inside', 'Inside', 'Inside', 'Inside', 'Inside', 'Inside', 'Inside', 'Inside', 'Inside', 'Inside', 'Corner', 'Inside', 'Inside', 'Inside', 'Inside', 'Inside', 'Inside', 'Inside', 'Inside', 'Inside', 'Inside', 'Inside', 'Inside', 'Inside', 'Inside', 'Corner', 'Inside', 'Inside', 'Inside', 'Inside', 'FR2', 'Inside', 'Inside', 'Inside', 'Inside', 'Inside', 'Corner', 'Inside', 'Inside', 'Inside', 'Inside', 'Inside', 'Inside', 'Inside', 'Corner', 'Inside', 'Inside', 'Inside', 'Corner', 'Corner', 'Inside', 'Inside', 'Corner', 'Inside', 'Inside', 'Inside', 'Inside', 'Inside', 'Inside', 'Inside', 'Inside', 'Inside', 'Inside', 'Inside', 'Corner', 'Inside', 'Inside', 'Inside', 'Inside', 'Inside', 'Inside', 'Inside', 'Inside', 'Inside', 'Inside', 'Inside', 'Inside', 'Inside', 'Corner', 'CulDSac', 'CulDSac', 'Corner', 'Inside', 'CulDSac', 'Corner', 'Inside', 'Inside', 'Corner', 'Inside', 'FR2', 'Inside', 'Inside', 'Inside', 'Inside', 'Inside', 'Inside', 'Inside', 'Inside', 'Inside', 'Inside', 'Inside', 'Inside', 'Corner', 'CulDSac', 'CulDSac', 'Inside', 'FR2', 'Inside', 'Corner', 'Inside', 'Corner', 'Inside', 'Corner', 'Corner', 'Inside', 'Inside', 'Inside', 'Inside', 'Inside', 'Inside', 'Inside', 'Inside', 'Inside', 'Inside', 'Inside', 'CulDSac', 'Inside', 'Inside', 'Inside', 'Inside', 'Inside', 'Inside', 'Inside', 'CulDSac', 'Inside', 'Inside', 'Inside', 'Inside', 'Inside', 'CulDSac', 'Inside', 'Inside', 'Inside', 'Inside', 'Inside', 'Corner', 'Inside', 'Corner', 'Inside', 'Inside', 'Corner', 'Inside', 'Corner', 'Corner', 'Inside', 'Inside', 'CulDSac', 'Inside', 'Inside', 'Inside', 'Inside', 'Inside', 'Inside', 'Inside', 'Inside', 'Inside', 'Corner', 'Inside', 'Inside', 'Corner', 'Inside', 'Inside', 'Inside', 'Inside', 'Inside', 'Inside', 'CulDSac', 'Inside', 'Inside', 'Inside', 'FR2', 'Inside', 'Inside', 'CulDSac', 'Inside', 'Inside', 'Inside', 'Inside', 'CulDSac', 'CulDSac', 'Inside', 'Inside', 'Inside', 'Corner', 'FR2', 'Inside', 'Inside', 'Inside', 'Inside', 'Inside', 'Inside', 'Inside', 'Corner', 'Inside', 'Inside', 'Inside', 'Inside', 'Corner', 'Inside', 'Inside', 'Corner', 'CulDSac', 'Inside', 'Corner', 'Inside', 'Inside', 'Inside', 'Inside', 'Corner', 'Inside', 'Inside', 'Inside', 'Inside', 'Inside', 'FR2', 'Inside', 'Inside', 'Inside', 'Corner', 'Inside', 'Inside', 'Inside', 'Inside', 'Inside', 'CulDSac', 'Corner', 'CulDSac', 'Inside', 'Inside', 'CulDSac', 'Inside', 'Corner', 'Inside', 'Inside', 'Inside', 'Inside', 'Inside', 'CulDSac', 'Inside', 'Corner', 'Inside', 'CulDSac', 'Inside', 'Inside', 'Inside', 'Inside', 'Inside', 'Inside', 'Inside', 'Inside', 'Inside', 'Inside', 'Corner', 'Inside', 'CulDSac', 'Inside', 'CulDSac', 'Inside', 'FR2', 'Inside', 'Inside', 'Inside', 'Corner', 'Inside', 'Corner', 'Inside', 'Inside', 'Inside', 'Corner', 'Corner', 'Inside', 'Corner', 'Inside', 'Inside', 'Inside', 'Inside', 'Corner', 'Corner', 'Inside', 'Inside', 'Inside', 'Corner', 'Inside', 'Inside', 'Inside', 'Inside', 'Inside', 'Inside', 'CulDSac', 'Inside', 'CulDSac', 'Corner', 'Inside', 'Inside', 'CulDSac', 'Corner', 'Inside', 'Inside', 'Inside', 'Corner', 'Inside', 'Inside', 'Inside', 'Inside', 'Inside', 'Inside', 'Inside', 'Inside', 'Inside', 'Inside', 'Inside', 'Inside', 'CulDSac', 'Inside', 'Inside', 'Corner', 'Inside', 'Inside', 'Inside', 'Corner', 'CulDSac', 'Inside', 'Inside', 'Inside', 'Inside', 'Inside', 'Inside', 'Corner', 'Corner', 'Inside', 'Inside', 'Inside', 'Inside', 'Inside', 'Corner', 'Inside', 'Inside', 'Inside', 'Corner', 'Inside', 'Inside', 'Corner', 'FR2', 'Inside', 'Inside', 'Inside', 'Inside', 'Inside', 'Inside', 'Inside', 'FR2', 'Inside', 'Inside', 'CulDSac', 'Corner', 'Inside', 'Inside', 'Inside', 'Inside', 'Inside', 'Corner', 'Inside', 'Inside', 'CulDSac', 'Inside', 'Inside', 'Inside', 'Inside', 'FR2', 'Inside', 'Corner', 'Corner', 'Corner', 'Corner', 'Inside', 'Inside', 'Inside', 'Inside', 'Inside', 'Inside', 'Inside', 'Inside', 'Corner', 'Corner', 'FR2', 'Inside', 'Inside', 'Inside', 'Corner', 'Corner', 'Corner', 'Inside', 'Corner', 'Inside', 'Inside', 'Corner', 'Inside', 'Inside', 'Inside', 'Inside', 'Corner', 'Inside', 'Inside', 'FR2', 'Inside', 'Inside', 'Inside', 'Inside', 'Inside', 'Corner', 'Corner', 'Inside', 'Corner', 'Inside', 'Inside', 'Inside', 'Inside', 'CulDSac', 'Inside', 'Inside', 'Inside', 'Inside', 'Inside', 'Inside', 'Inside', 'Inside', 'CulDSac', 'FR2', 'Inside', 'Inside', 'Inside', 'Inside', 'Inside', 'Corner', 'Corner', 'Inside', 'Inside', 'Inside', 'Inside', 'Inside', 'Corner', 'Corner', 'Inside', 'Inside', 'CulDSac', 'Inside', 'Inside', 'Inside', 'Inside', 'Corner', 'Inside', 'Inside', 'Inside', 'Inside', 'CulDSac', 'Inside', 'Inside', 'Inside', 'Inside', 'Inside', 'Corner', 'Corner', 'Inside', 'Corner', 'Inside', 'Inside', 'FR2', 'Inside', 'Corner', 'Inside', 'Inside', 'Inside', 'Inside', 'CulDSac', 'Inside', 'Inside', 'Inside', 'Inside', 'Inside', 'Inside', 'Inside', 'Inside', 'Corner', 'Inside', 'Inside', 'Inside', 'Corner', 'Inside', 'Inside', 'Inside', 'Corner', 'Inside', 'Inside', 'Corner', 'Inside', 'Inside', 'Inside', 'Inside', 'Inside', 'Corner', 'Inside', 'Inside', 'Corner', 'Inside', 'Inside', 'Inside', 'Inside', 'Inside', 'Inside', 'Inside', 'Inside', 'Inside', 'Corner', 'Inside', 'Corner', 'Corner', 'CulDSac', 'Inside', 'Inside', 'Inside', 'Inside', 'Corner', 'Inside', 'Inside', 'Inside', 'Inside', 'FR2', 'Inside', 'Inside', 'Inside', 'Inside', 'Corner', 'Inside', 'Inside', 'Inside', 'Inside', 'Corner', 'Inside', 'Inside', 'Inside', 'Inside', 'Inside', 'Inside', 'Inside', 'Corner', 'Inside', 'Inside', 'Inside', 'Inside', 'Corner', 'CulDSac', 'Inside', 'Inside', 'Inside', 'Inside', 'Inside', 'Inside', 'Inside', 'Inside', 'Inside', 'Inside', 'Inside', 'Corner', 'Inside', 'Corner', 'Inside', 'Inside', 'FR2', 'Inside', 'Inside', 'CulDSac', 'Inside', 'Inside', 'FR2', 'Inside', 'Corner', 'Inside', 'Corner', 'CulDSac', 'Inside', 'Inside', 'Inside', 'Inside', 'Inside', 'Inside', 'CulDSac', 'Inside', 'FR2', 'Corner', 'Corner', 'Inside', 'Corner', 'Inside', 'Inside', 'Inside', 'Corner', 'Corner', 'Inside', 'Inside', 'Inside', 'Inside', 'Inside', 'FR2', 'Corner', 'Inside', 'Inside', 'Corner', 'Inside', 'Inside', 'Inside', 'Corner', 'Corner', 'Inside', 'Inside', 'CulDSac', 'Inside', 'Inside', 'Inside', 'CulDSac', 'Inside', 'Inside', 'Inside', 'CulDSac', 'Inside', 'Inside', 'Inside', 'Inside', 'Inside', 'Inside', 'Inside', 'Inside', 'Inside', 'Inside', 'Inside', 'Inside', 'CulDSac', 'Corner', 'Corner', 'Inside', 'Inside', 'Inside', 'FR2', 'Inside', 'Inside', 'Inside', 'Inside', 'FR2', 'Inside', 'Inside', 'Inside', 'Inside', 'Inside', 'Inside', 'Corner', 'Inside', 'Inside', 'Inside', 'Inside', 'Inside', 'Corner', 'Corner', 'Inside', 'Inside', 'Inside', 'Inside', 'Corner', 'Corner', 'Inside', 'FR2', 'CulDSac', 'Inside', 'Inside', 'Inside', 'Inside', 'FR3', 'Inside', 'Inside', 'Inside', 'Inside', 'Inside', 'Inside', 'CulDSac', 'Corner', 'Corner', 'Corner', 'CulDSac', 'CulDSac', 'Inside', 'Inside', 'Inside', 'CulDSac', 'Inside', 'Corner', 'Inside', 'Inside', 'Inside', 'Inside', 'Inside', 'Inside', 'Corner', 'Inside', 'Corner', 'Inside', 'Inside', 'Inside', 'Inside', 'Inside', 'Corner', 'Inside', 'CulDSac', 'Inside', 'Inside', 'Inside', 'Inside', 'Corner', 'Inside', 'Inside', 'Inside', 'Inside', 'Inside', 'Inside', 'Inside', 'Corner', 'Inside', 'Inside', 'Inside', 'Corner', 'CulDSac', 'Inside', 'Inside', 'Corner', 'Inside', 'Inside', 'Inside', 'Inside', 'Inside', 'Inside', 'Corner', 'Inside', 'Inside', 'Inside', 'Inside', 'Corner', 'Inside', 'Inside', 'Inside', 'Corner', 'Corner', 'Corner', 'Inside', 'Inside', 'Inside', 'Inside', 'Corner', 'Inside', 'CulDSac', 'Corner', 'Inside', 'Inside', 'Inside', 'Inside', 'Inside', 'CulDSac', 'Inside', 'Inside', 'Corner', 'CulDSac', 'Inside', 'FR3', 'Inside', 'Inside', 'FR2', 'Inside', 'Inside', 'Inside', 'Inside', 'Inside', 'Inside', 'FR2', 'Corner', 'Inside', 'Corner', 'Inside', 'Inside', 'Inside', 'Inside', 'Inside', 'Inside', 'Inside', 'Inside', 'Corner', 'Corner', 'Inside', 'Inside', 'Inside', 'Inside', 'Inside', 'CulDSac', 'Inside', 'Inside', 'Inside', 'Inside', 'Inside', 'Inside', 'Inside', 'Inside', 'Inside', 'Inside', 'Inside', 'Corner', 'Inside', 'Inside', 'CulDSac', 'Corner', 'Inside', 'Corner', 'Corner', 'Inside', 'CulDSac', 'Inside', 'Inside', 'Inside', 'Corner', 'Inside', 'Inside', 'Inside', 'Inside', 'Inside', 'Inside', 'Corner', 'Inside', 'Inside', 'CulDSac', 'Inside', 'Inside', 'Inside', 'Inside', 'Corner', 'Corner', 'Inside', 'Inside', 'Inside', 'Inside', 'Inside', 'Inside', 'FR2', 'FR2', 'Inside', 'Inside', 'Inside', 'Inside', 'Inside', 'Inside', 'FR2', 'Inside', 'CulDSac', 'Inside', 'Inside', 'Inside', 'FR2', 'Inside', 'Inside', 'Inside', 'Inside', 'Inside', 'Inside', 'Inside', 'Inside', 'Inside']\n"
     ]
    }
   ],
   "source": [
    "lot_config_list = housing_features_df[\"LotConfig\"].to_list()\n",
    "print(lot_config_list)"
   ]
  },
  {
   "cell_type": "markdown",
   "id": "c9875371",
   "metadata": {},
   "source": [
    "Scikit responds to multiple features - list of lists (2D)"
   ]
  },
  {
   "cell_type": "code",
   "execution_count": 20,
   "id": "8668dc2c",
   "metadata": {},
   "outputs": [
    {
     "name": "stdout",
     "output_type": "stream",
     "text": [
      "[['Inside'], ['FR2'], ['Inside'], ['Corner'], ['FR2']]\n"
     ]
    }
   ],
   "source": [
    "lot_config_list_of_lists = []\n",
    "\n",
    "for i in lot_config_list: \n",
    "    lot_config_list_of_lists.append([i])\n",
    "\n",
    "print(lot_config_list_of_lists[:5])"
   ]
  },
  {
   "cell_type": "code",
   "execution_count": 21,
   "id": "1a4789b6",
   "metadata": {},
   "outputs": [
    {
     "name": "stdout",
     "output_type": "stream",
     "text": [
      "Unique vocabulary items 5\n",
      "\n",
      "[[0. 0. 0. 0. 1.]\n",
      " [0. 0. 1. 0. 0.]\n",
      " [0. 0. 0. 0. 1.]\n",
      " ...\n",
      " [0. 0. 0. 0. 1.]\n",
      " [0. 0. 0. 0. 1.]\n",
      " [0. 0. 0. 0. 1.]]\n"
     ]
    }
   ],
   "source": [
    "from sklearn.preprocessing import OneHotEncoder\n",
    "\n",
    "lot_config_encoder = OneHotEncoder()\n",
    "\n",
    "lot_config_encoder.fit(lot_config_list_of_lists)\n",
    "\n",
    "print(f\"Unique vocabulary items {len(lot_config_encoder.categories_[0])}\\n\")\n",
    "\n",
    "lot_config_transformed = lot_config_encoder.transform(lot_config_list_of_lists)\n",
    "\n",
    "lot_config_transformed = lot_config_transformed.toarray()\n",
    "\n",
    "print(lot_config_transformed)"
   ]
  },
  {
   "cell_type": "code",
   "execution_count": 22,
   "id": "62a8fcd1",
   "metadata": {},
   "outputs": [
    {
     "data": {
      "text/plain": [
       "0    Inside\n",
       "1       FR2\n",
       "2    Inside\n",
       "3    Corner\n",
       "4       FR2\n",
       "Name: LotConfig, dtype: object"
      ]
     },
     "execution_count": 22,
     "metadata": {},
     "output_type": "execute_result"
    }
   ],
   "source": [
    "housing_features_df[\"LotConfig\"].head()"
   ]
  },
  {
   "cell_type": "code",
   "execution_count": 23,
   "id": "afcf59dd",
   "metadata": {},
   "outputs": [
    {
     "data": {
      "text/plain": [
       "numpy.ndarray"
      ]
     },
     "execution_count": 23,
     "metadata": {},
     "output_type": "execute_result"
    }
   ],
   "source": [
    "type(lot_config_transformed)"
   ]
  },
  {
   "cell_type": "markdown",
   "id": "c757312e",
   "metadata": {},
   "source": [
    "We have the one hot encodings for lot configurations so we should proceed to concatenate them to the original dataset."
   ]
  },
  {
   "cell_type": "code",
   "execution_count": 24,
   "id": "2d3a9665",
   "metadata": {},
   "outputs": [
    {
     "data": {
      "text/html": [
       "<div>\n",
       "<style scoped>\n",
       "    .dataframe tbody tr th:only-of-type {\n",
       "        vertical-align: middle;\n",
       "    }\n",
       "\n",
       "    .dataframe tbody tr th {\n",
       "        vertical-align: top;\n",
       "    }\n",
       "\n",
       "    .dataframe thead th {\n",
       "        text-align: right;\n",
       "    }\n",
       "</style>\n",
       "<table border=\"1\" class=\"dataframe\">\n",
       "  <thead>\n",
       "    <tr style=\"text-align: right;\">\n",
       "      <th></th>\n",
       "      <th>0</th>\n",
       "      <th>1</th>\n",
       "      <th>2</th>\n",
       "      <th>3</th>\n",
       "      <th>4</th>\n",
       "    </tr>\n",
       "  </thead>\n",
       "  <tbody>\n",
       "    <tr>\n",
       "      <th>0</th>\n",
       "      <td>0.0</td>\n",
       "      <td>0.0</td>\n",
       "      <td>0.0</td>\n",
       "      <td>0.0</td>\n",
       "      <td>1.0</td>\n",
       "    </tr>\n",
       "    <tr>\n",
       "      <th>1</th>\n",
       "      <td>0.0</td>\n",
       "      <td>0.0</td>\n",
       "      <td>1.0</td>\n",
       "      <td>0.0</td>\n",
       "      <td>0.0</td>\n",
       "    </tr>\n",
       "    <tr>\n",
       "      <th>2</th>\n",
       "      <td>0.0</td>\n",
       "      <td>0.0</td>\n",
       "      <td>0.0</td>\n",
       "      <td>0.0</td>\n",
       "      <td>1.0</td>\n",
       "    </tr>\n",
       "    <tr>\n",
       "      <th>3</th>\n",
       "      <td>1.0</td>\n",
       "      <td>0.0</td>\n",
       "      <td>0.0</td>\n",
       "      <td>0.0</td>\n",
       "      <td>0.0</td>\n",
       "    </tr>\n",
       "    <tr>\n",
       "      <th>4</th>\n",
       "      <td>0.0</td>\n",
       "      <td>0.0</td>\n",
       "      <td>1.0</td>\n",
       "      <td>0.0</td>\n",
       "      <td>0.0</td>\n",
       "    </tr>\n",
       "  </tbody>\n",
       "</table>\n",
       "</div>"
      ],
      "text/plain": [
       "     0    1    2    3    4\n",
       "0  0.0  0.0  0.0  0.0  1.0\n",
       "1  0.0  0.0  1.0  0.0  0.0\n",
       "2  0.0  0.0  0.0  0.0  1.0\n",
       "3  1.0  0.0  0.0  0.0  0.0\n",
       "4  0.0  0.0  1.0  0.0  0.0"
      ]
     },
     "execution_count": 24,
     "metadata": {},
     "output_type": "execute_result"
    }
   ],
   "source": [
    "lot_config_transformed_df = pd.DataFrame(lot_config_transformed)\n",
    "lot_config_transformed_df.head()\n"
   ]
  },
  {
   "cell_type": "markdown",
   "id": "4b66a175",
   "metadata": {},
   "source": [
    "I'm not sure if we replaced the labels of 0, 1, 2, 3, and 4 in the top row from the lab but it seems like something that should be replaced."
   ]
  },
  {
   "cell_type": "code",
   "execution_count": 25,
   "id": "27a6fa0f",
   "metadata": {},
   "outputs": [
    {
     "name": "stdout",
     "output_type": "stream",
     "text": [
      "[0, 1, 2, 3, 4]\n"
     ]
    }
   ],
   "source": [
    "column_names = list(lot_config_transformed_df.columns.values)\n",
    "print(column_names)"
   ]
  },
  {
   "cell_type": "markdown",
   "id": "778939da",
   "metadata": {},
   "source": [
    "I originally wanted to match up the lot configurations but couldn't decide what column 1 and 3 were (either FR1 or Cul-de-sac)."
   ]
  },
  {
   "cell_type": "code",
   "execution_count": 26,
   "id": "34e5670e",
   "metadata": {},
   "outputs": [
    {
     "data": {
      "text/plain": [
       "16"
      ]
     },
     "execution_count": 26,
     "metadata": {},
     "output_type": "execute_result"
    }
   ],
   "source": [
    "temp = list(lot_config_transformed_df[1])\n",
    "temp.index(1.0)"
   ]
  },
  {
   "cell_type": "markdown",
   "id": "6b1543d0",
   "metadata": {},
   "source": [
    "This tells me the first occurence of that certain lot configuration which occurs at 16. We can find the actual configuration now. "
   ]
  },
  {
   "cell_type": "code",
   "execution_count": 27,
   "id": "8b9c58c3",
   "metadata": {},
   "outputs": [
    {
     "data": {
      "text/html": [
       "<div>\n",
       "<style scoped>\n",
       "    .dataframe tbody tr th:only-of-type {\n",
       "        vertical-align: middle;\n",
       "    }\n",
       "\n",
       "    .dataframe tbody tr th {\n",
       "        vertical-align: top;\n",
       "    }\n",
       "\n",
       "    .dataframe thead th {\n",
       "        text-align: right;\n",
       "    }\n",
       "</style>\n",
       "<table border=\"1\" class=\"dataframe\">\n",
       "  <thead>\n",
       "    <tr style=\"text-align: right;\">\n",
       "      <th></th>\n",
       "      <th>0</th>\n",
       "      <th>1</th>\n",
       "      <th>2</th>\n",
       "      <th>3</th>\n",
       "      <th>4</th>\n",
       "    </tr>\n",
       "  </thead>\n",
       "  <tbody>\n",
       "    <tr>\n",
       "      <th>15</th>\n",
       "      <td>1.0</td>\n",
       "      <td>0.0</td>\n",
       "      <td>0.0</td>\n",
       "      <td>0.0</td>\n",
       "      <td>0.0</td>\n",
       "    </tr>\n",
       "    <tr>\n",
       "      <th>16</th>\n",
       "      <td>0.0</td>\n",
       "      <td>1.0</td>\n",
       "      <td>0.0</td>\n",
       "      <td>0.0</td>\n",
       "      <td>0.0</td>\n",
       "    </tr>\n",
       "  </tbody>\n",
       "</table>\n",
       "</div>"
      ],
      "text/plain": [
       "      0    1    2    3    4\n",
       "15  1.0  0.0  0.0  0.0  0.0\n",
       "16  0.0  1.0  0.0  0.0  0.0"
      ]
     },
     "execution_count": 27,
     "metadata": {},
     "output_type": "execute_result"
    }
   ],
   "source": [
    "lot_config_transformed_df[15:17]"
   ]
  },
  {
   "cell_type": "code",
   "execution_count": 28,
   "id": "03bcd8d8",
   "metadata": {},
   "outputs": [
    {
     "data": {
      "text/plain": [
       "15     Corner\n",
       "16    CulDSac\n",
       "Name: LotConfig, dtype: object"
      ]
     },
     "execution_count": 28,
     "metadata": {},
     "output_type": "execute_result"
    }
   ],
   "source": [
    "housing_features_df[\"LotConfig\"][15:17]"
   ]
  },
  {
   "cell_type": "markdown",
   "id": "41d3d8ef",
   "metadata": {},
   "source": [
    "From here, we can determine that column 3 should be renamed to FR3 since thats the last option. "
   ]
  },
  {
   "cell_type": "code",
   "execution_count": 29,
   "id": "aede7b0a",
   "metadata": {},
   "outputs": [],
   "source": [
    "lot_config_transformed_df.rename(columns = {0:'Corner', 1:'CulDSac', 2:'FR2', 3:'FR3', 4: 'Inside'}, inplace = True)"
   ]
  },
  {
   "cell_type": "code",
   "execution_count": 30,
   "id": "dc077bbd",
   "metadata": {},
   "outputs": [
    {
     "data": {
      "text/html": [
       "<div>\n",
       "<style scoped>\n",
       "    .dataframe tbody tr th:only-of-type {\n",
       "        vertical-align: middle;\n",
       "    }\n",
       "\n",
       "    .dataframe tbody tr th {\n",
       "        vertical-align: top;\n",
       "    }\n",
       "\n",
       "    .dataframe thead th {\n",
       "        text-align: right;\n",
       "    }\n",
       "</style>\n",
       "<table border=\"1\" class=\"dataframe\">\n",
       "  <thead>\n",
       "    <tr style=\"text-align: right;\">\n",
       "      <th></th>\n",
       "      <th>Corner</th>\n",
       "      <th>CulDSac</th>\n",
       "      <th>FR2</th>\n",
       "      <th>FR3</th>\n",
       "      <th>Inside</th>\n",
       "    </tr>\n",
       "  </thead>\n",
       "  <tbody>\n",
       "    <tr>\n",
       "      <th>0</th>\n",
       "      <td>0.0</td>\n",
       "      <td>0.0</td>\n",
       "      <td>0.0</td>\n",
       "      <td>0.0</td>\n",
       "      <td>1.0</td>\n",
       "    </tr>\n",
       "    <tr>\n",
       "      <th>1</th>\n",
       "      <td>0.0</td>\n",
       "      <td>0.0</td>\n",
       "      <td>1.0</td>\n",
       "      <td>0.0</td>\n",
       "      <td>0.0</td>\n",
       "    </tr>\n",
       "    <tr>\n",
       "      <th>2</th>\n",
       "      <td>0.0</td>\n",
       "      <td>0.0</td>\n",
       "      <td>0.0</td>\n",
       "      <td>0.0</td>\n",
       "      <td>1.0</td>\n",
       "    </tr>\n",
       "    <tr>\n",
       "      <th>3</th>\n",
       "      <td>1.0</td>\n",
       "      <td>0.0</td>\n",
       "      <td>0.0</td>\n",
       "      <td>0.0</td>\n",
       "      <td>0.0</td>\n",
       "    </tr>\n",
       "    <tr>\n",
       "      <th>4</th>\n",
       "      <td>0.0</td>\n",
       "      <td>0.0</td>\n",
       "      <td>1.0</td>\n",
       "      <td>0.0</td>\n",
       "      <td>0.0</td>\n",
       "    </tr>\n",
       "  </tbody>\n",
       "</table>\n",
       "</div>"
      ],
      "text/plain": [
       "   Corner  CulDSac  FR2  FR3  Inside\n",
       "0     0.0      0.0  0.0  0.0     1.0\n",
       "1     0.0      0.0  1.0  0.0     0.0\n",
       "2     0.0      0.0  0.0  0.0     1.0\n",
       "3     1.0      0.0  0.0  0.0     0.0\n",
       "4     0.0      0.0  1.0  0.0     0.0"
      ]
     },
     "execution_count": 30,
     "metadata": {},
     "output_type": "execute_result"
    }
   ],
   "source": [
    "lot_config_transformed_df.head()"
   ]
  },
  {
   "cell_type": "markdown",
   "id": "ebf41c0a",
   "metadata": {},
   "source": [
    "Just to check if they align..."
   ]
  },
  {
   "cell_type": "code",
   "execution_count": 31,
   "id": "5b7a2962",
   "metadata": {},
   "outputs": [
    {
     "name": "stdout",
     "output_type": "stream",
     "text": [
      "(1460, 5)\n",
      "(1460, 8)\n"
     ]
    }
   ],
   "source": [
    "print(lot_config_transformed_df.shape)\n",
    "print(housing_features_df.shape)"
   ]
  },
  {
   "cell_type": "markdown",
   "id": "6794a3a4",
   "metadata": {},
   "source": [
    "We can see that lot_config_transformed_df dataframe has 5 columns correpsonding to the 5 different lot configurations while housing_features_df has 8 columns corresponding to the different features that we picked out including lot configurations. Both of them have 1460 rows so we can now proceed to concatenating them.  "
   ]
  },
  {
   "cell_type": "code",
   "execution_count": 32,
   "id": "4dfd3ef9",
   "metadata": {},
   "outputs": [
    {
     "data": {
      "text/plain": [
       "(1460, 13)"
      ]
     },
     "execution_count": 32,
     "metadata": {},
     "output_type": "execute_result"
    }
   ],
   "source": [
    "housing_features_df.reset_index(drop=True, inplace=True)\n",
    "lot_config_transformed_df.reset_index(drop=True, inplace=True)\n",
    "\n",
    "housing_features_transformed_df = pd.concat([housing_features_df, lot_config_transformed_df], axis=1)\n",
    "housing_features_transformed_df.shape"
   ]
  },
  {
   "cell_type": "code",
   "execution_count": 33,
   "id": "9b38a4a6",
   "metadata": {},
   "outputs": [
    {
     "data": {
      "text/html": [
       "<div>\n",
       "<style scoped>\n",
       "    .dataframe tbody tr th:only-of-type {\n",
       "        vertical-align: middle;\n",
       "    }\n",
       "\n",
       "    .dataframe tbody tr th {\n",
       "        vertical-align: top;\n",
       "    }\n",
       "\n",
       "    .dataframe thead th {\n",
       "        text-align: right;\n",
       "    }\n",
       "</style>\n",
       "<table border=\"1\" class=\"dataframe\">\n",
       "  <thead>\n",
       "    <tr style=\"text-align: right;\">\n",
       "      <th></th>\n",
       "      <th>LotShape</th>\n",
       "      <th>LotConfig</th>\n",
       "      <th>Neighborhood</th>\n",
       "      <th>OverallQual</th>\n",
       "      <th>OverallCond</th>\n",
       "      <th>YearRemodAdd</th>\n",
       "      <th>GrLivArea</th>\n",
       "      <th>MoSold</th>\n",
       "      <th>Corner</th>\n",
       "      <th>CulDSac</th>\n",
       "      <th>FR2</th>\n",
       "      <th>FR3</th>\n",
       "      <th>Inside</th>\n",
       "    </tr>\n",
       "  </thead>\n",
       "  <tbody>\n",
       "    <tr>\n",
       "      <th>0</th>\n",
       "      <td>Reg</td>\n",
       "      <td>Inside</td>\n",
       "      <td>CollgCr</td>\n",
       "      <td>7</td>\n",
       "      <td>5</td>\n",
       "      <td>2003</td>\n",
       "      <td>1710</td>\n",
       "      <td>2</td>\n",
       "      <td>0.0</td>\n",
       "      <td>0.0</td>\n",
       "      <td>0.0</td>\n",
       "      <td>0.0</td>\n",
       "      <td>1.0</td>\n",
       "    </tr>\n",
       "    <tr>\n",
       "      <th>1</th>\n",
       "      <td>Reg</td>\n",
       "      <td>FR2</td>\n",
       "      <td>Veenker</td>\n",
       "      <td>6</td>\n",
       "      <td>8</td>\n",
       "      <td>1976</td>\n",
       "      <td>1262</td>\n",
       "      <td>5</td>\n",
       "      <td>0.0</td>\n",
       "      <td>0.0</td>\n",
       "      <td>1.0</td>\n",
       "      <td>0.0</td>\n",
       "      <td>0.0</td>\n",
       "    </tr>\n",
       "    <tr>\n",
       "      <th>2</th>\n",
       "      <td>IR1</td>\n",
       "      <td>Inside</td>\n",
       "      <td>CollgCr</td>\n",
       "      <td>7</td>\n",
       "      <td>5</td>\n",
       "      <td>2002</td>\n",
       "      <td>1786</td>\n",
       "      <td>9</td>\n",
       "      <td>0.0</td>\n",
       "      <td>0.0</td>\n",
       "      <td>0.0</td>\n",
       "      <td>0.0</td>\n",
       "      <td>1.0</td>\n",
       "    </tr>\n",
       "    <tr>\n",
       "      <th>3</th>\n",
       "      <td>IR1</td>\n",
       "      <td>Corner</td>\n",
       "      <td>Crawfor</td>\n",
       "      <td>7</td>\n",
       "      <td>5</td>\n",
       "      <td>1970</td>\n",
       "      <td>1717</td>\n",
       "      <td>2</td>\n",
       "      <td>1.0</td>\n",
       "      <td>0.0</td>\n",
       "      <td>0.0</td>\n",
       "      <td>0.0</td>\n",
       "      <td>0.0</td>\n",
       "    </tr>\n",
       "    <tr>\n",
       "      <th>4</th>\n",
       "      <td>IR1</td>\n",
       "      <td>FR2</td>\n",
       "      <td>NoRidge</td>\n",
       "      <td>8</td>\n",
       "      <td>5</td>\n",
       "      <td>2000</td>\n",
       "      <td>2198</td>\n",
       "      <td>12</td>\n",
       "      <td>0.0</td>\n",
       "      <td>0.0</td>\n",
       "      <td>1.0</td>\n",
       "      <td>0.0</td>\n",
       "      <td>0.0</td>\n",
       "    </tr>\n",
       "  </tbody>\n",
       "</table>\n",
       "</div>"
      ],
      "text/plain": [
       "  LotShape LotConfig Neighborhood  OverallQual  OverallCond  YearRemodAdd  \\\n",
       "0      Reg    Inside      CollgCr            7            5          2003   \n",
       "1      Reg       FR2      Veenker            6            8          1976   \n",
       "2      IR1    Inside      CollgCr            7            5          2002   \n",
       "3      IR1    Corner      Crawfor            7            5          1970   \n",
       "4      IR1       FR2      NoRidge            8            5          2000   \n",
       "\n",
       "   GrLivArea  MoSold  Corner  CulDSac  FR2  FR3  Inside  \n",
       "0       1710       2     0.0      0.0  0.0  0.0     1.0  \n",
       "1       1262       5     0.0      0.0  1.0  0.0     0.0  \n",
       "2       1786       9     0.0      0.0  0.0  0.0     1.0  \n",
       "3       1717       2     1.0      0.0  0.0  0.0     0.0  \n",
       "4       2198      12     0.0      0.0  1.0  0.0     0.0  "
      ]
     },
     "execution_count": 33,
     "metadata": {},
     "output_type": "execute_result"
    }
   ],
   "source": [
    "housing_features_transformed_df.head()"
   ]
  },
  {
   "cell_type": "code",
   "execution_count": 34,
   "id": "8083309f",
   "metadata": {},
   "outputs": [
    {
     "data": {
      "text/plain": [
       "0       Inside\n",
       "1          FR2\n",
       "2       Inside\n",
       "3       Corner\n",
       "4          FR2\n",
       "         ...  \n",
       "1455    Inside\n",
       "1456    Inside\n",
       "1457    Inside\n",
       "1458    Inside\n",
       "1459    Inside\n",
       "Name: LotConfig, Length: 1460, dtype: object"
      ]
     },
     "execution_count": 34,
     "metadata": {},
     "output_type": "execute_result"
    }
   ],
   "source": [
    "housing_features_transformed_df.pop('LotConfig')"
   ]
  },
  {
   "cell_type": "code",
   "execution_count": 35,
   "id": "67a1836a",
   "metadata": {},
   "outputs": [
    {
     "data": {
      "text/html": [
       "<div>\n",
       "<style scoped>\n",
       "    .dataframe tbody tr th:only-of-type {\n",
       "        vertical-align: middle;\n",
       "    }\n",
       "\n",
       "    .dataframe tbody tr th {\n",
       "        vertical-align: top;\n",
       "    }\n",
       "\n",
       "    .dataframe thead th {\n",
       "        text-align: right;\n",
       "    }\n",
       "</style>\n",
       "<table border=\"1\" class=\"dataframe\">\n",
       "  <thead>\n",
       "    <tr style=\"text-align: right;\">\n",
       "      <th></th>\n",
       "      <th>LotShape</th>\n",
       "      <th>Neighborhood</th>\n",
       "      <th>OverallQual</th>\n",
       "      <th>OverallCond</th>\n",
       "      <th>YearRemodAdd</th>\n",
       "      <th>GrLivArea</th>\n",
       "      <th>MoSold</th>\n",
       "      <th>Corner</th>\n",
       "      <th>CulDSac</th>\n",
       "      <th>FR2</th>\n",
       "      <th>FR3</th>\n",
       "      <th>Inside</th>\n",
       "    </tr>\n",
       "  </thead>\n",
       "  <tbody>\n",
       "    <tr>\n",
       "      <th>0</th>\n",
       "      <td>Reg</td>\n",
       "      <td>CollgCr</td>\n",
       "      <td>7</td>\n",
       "      <td>5</td>\n",
       "      <td>2003</td>\n",
       "      <td>1710</td>\n",
       "      <td>2</td>\n",
       "      <td>0.0</td>\n",
       "      <td>0.0</td>\n",
       "      <td>0.0</td>\n",
       "      <td>0.0</td>\n",
       "      <td>1.0</td>\n",
       "    </tr>\n",
       "    <tr>\n",
       "      <th>1</th>\n",
       "      <td>Reg</td>\n",
       "      <td>Veenker</td>\n",
       "      <td>6</td>\n",
       "      <td>8</td>\n",
       "      <td>1976</td>\n",
       "      <td>1262</td>\n",
       "      <td>5</td>\n",
       "      <td>0.0</td>\n",
       "      <td>0.0</td>\n",
       "      <td>1.0</td>\n",
       "      <td>0.0</td>\n",
       "      <td>0.0</td>\n",
       "    </tr>\n",
       "    <tr>\n",
       "      <th>2</th>\n",
       "      <td>IR1</td>\n",
       "      <td>CollgCr</td>\n",
       "      <td>7</td>\n",
       "      <td>5</td>\n",
       "      <td>2002</td>\n",
       "      <td>1786</td>\n",
       "      <td>9</td>\n",
       "      <td>0.0</td>\n",
       "      <td>0.0</td>\n",
       "      <td>0.0</td>\n",
       "      <td>0.0</td>\n",
       "      <td>1.0</td>\n",
       "    </tr>\n",
       "    <tr>\n",
       "      <th>3</th>\n",
       "      <td>IR1</td>\n",
       "      <td>Crawfor</td>\n",
       "      <td>7</td>\n",
       "      <td>5</td>\n",
       "      <td>1970</td>\n",
       "      <td>1717</td>\n",
       "      <td>2</td>\n",
       "      <td>1.0</td>\n",
       "      <td>0.0</td>\n",
       "      <td>0.0</td>\n",
       "      <td>0.0</td>\n",
       "      <td>0.0</td>\n",
       "    </tr>\n",
       "    <tr>\n",
       "      <th>4</th>\n",
       "      <td>IR1</td>\n",
       "      <td>NoRidge</td>\n",
       "      <td>8</td>\n",
       "      <td>5</td>\n",
       "      <td>2000</td>\n",
       "      <td>2198</td>\n",
       "      <td>12</td>\n",
       "      <td>0.0</td>\n",
       "      <td>0.0</td>\n",
       "      <td>1.0</td>\n",
       "      <td>0.0</td>\n",
       "      <td>0.0</td>\n",
       "    </tr>\n",
       "  </tbody>\n",
       "</table>\n",
       "</div>"
      ],
      "text/plain": [
       "  LotShape Neighborhood  OverallQual  OverallCond  YearRemodAdd  GrLivArea  \\\n",
       "0      Reg      CollgCr            7            5          2003       1710   \n",
       "1      Reg      Veenker            6            8          1976       1262   \n",
       "2      IR1      CollgCr            7            5          2002       1786   \n",
       "3      IR1      Crawfor            7            5          1970       1717   \n",
       "4      IR1      NoRidge            8            5          2000       2198   \n",
       "\n",
       "   MoSold  Corner  CulDSac  FR2  FR3  Inside  \n",
       "0       2     0.0      0.0  0.0  0.0     1.0  \n",
       "1       5     0.0      0.0  1.0  0.0     0.0  \n",
       "2       9     0.0      0.0  0.0  0.0     1.0  \n",
       "3       2     1.0      0.0  0.0  0.0     0.0  \n",
       "4      12     0.0      0.0  1.0  0.0     0.0  "
      ]
     },
     "execution_count": 35,
     "metadata": {},
     "output_type": "execute_result"
    }
   ],
   "source": [
    "housing_features_transformed_df.head()"
   ]
  },
  {
   "cell_type": "markdown",
   "id": "b12e9245",
   "metadata": {},
   "source": [
    "We still have one more categorical-nominal feature left to transform to one-hot encodings, Neighborhood. "
   ]
  },
  {
   "cell_type": "markdown",
   "id": "d24fad28",
   "metadata": {},
   "source": [
    "### Same one-hot encoding process is replicated for the categorical-nominal feature Neighborhood"
   ]
  },
  {
   "cell_type": "code",
   "execution_count": 36,
   "id": "dd3b7ba2",
   "metadata": {
    "scrolled": true
   },
   "outputs": [
    {
     "data": {
      "text/plain": [
       "array(['CollgCr', 'Veenker', 'Crawfor', 'NoRidge', 'Mitchel', 'Somerst',\n",
       "       'NWAmes', 'OldTown', 'BrkSide', 'Sawyer', 'NridgHt', 'NAmes',\n",
       "       'SawyerW', 'IDOTRR', 'MeadowV', 'Edwards', 'Timber', 'Gilbert',\n",
       "       'StoneBr', 'ClearCr', 'NPkVill', 'Blmngtn', 'BrDale', 'SWISU',\n",
       "       'Blueste'], dtype=object)"
      ]
     },
     "execution_count": 36,
     "metadata": {},
     "output_type": "execute_result"
    }
   ],
   "source": [
    "housing_features_df[\"Neighborhood\"].unique()"
   ]
  },
  {
   "cell_type": "code",
   "execution_count": 37,
   "id": "6dd1b857",
   "metadata": {},
   "outputs": [
    {
     "name": "stdout",
     "output_type": "stream",
     "text": [
      "['CollgCr', 'Veenker', 'CollgCr', 'Crawfor', 'NoRidge', 'Mitchel', 'Somerst', 'NWAmes', 'OldTown', 'BrkSide', 'Sawyer', 'NridgHt', 'Sawyer', 'CollgCr', 'NAmes', 'BrkSide', 'NAmes', 'Sawyer', 'SawyerW', 'NAmes', 'NridgHt', 'IDOTRR', 'CollgCr', 'MeadowV', 'Sawyer', 'NridgHt', 'NAmes', 'NridgHt', 'NAmes', 'BrkSide', 'IDOTRR', 'Sawyer', 'CollgCr', 'NAmes', 'NridgHt', 'NridgHt', 'CollgCr', 'NAmes', 'NAmes', 'Edwards', 'NAmes', 'Timber', 'SawyerW', 'CollgCr', 'NAmes', 'NridgHt', 'Mitchel', 'Somerst', 'OldTown', 'Sawyer', 'Gilbert', 'BrkSide', 'IDOTRR', 'Veenker', 'NAmes', 'NAmes', 'Somerst', 'CollgCr', 'StoneBr', 'CollgCr', 'SawyerW', 'IDOTRR', 'NridgHt', 'OldTown', 'CollgCr', 'NridgHt', 'NAmes', 'CollgCr', 'OldTown', 'ClearCr', 'NAmes', 'Mitchel', 'Gilbert', 'NAmes', 'OldTown', 'MeadowV', 'NAmes', 'BrkSide', 'Sawyer', 'OldTown', 'NAmes', 'Mitchel', 'Somerst', 'NAmes', 'Gilbert', 'NoRidge', 'Gilbert', 'Somerst', 'IDOTRR', 'CollgCr', 'NAmes', 'NAmes', 'Crawfor', 'OldTown', 'CollgCr', 'Gilbert', 'CollgCr', 'Edwards', 'Edwards', 'NAmes', 'NWAmes', 'SawyerW', 'SawyerW', 'CollgCr', 'IDOTRR', 'Somerst', 'OldTown', 'OldTown', 'IDOTRR', 'NWAmes', 'Edwards', 'Gilbert', 'CollgCr', 'Crawfor', 'Crawfor', 'Somerst', 'Sawyer', 'Edwards', 'SawyerW', 'CollgCr', 'ClearCr', 'IDOTRR', 'NAmes', 'SawyerW', 'NWAmes', 'IDOTRR', 'NPkVill', 'OldTown', 'NAmes', 'NAmes', 'NAmes', 'Gilbert', 'NAmes', 'Timber', 'Sawyer', 'NWAmes', 'NAmes', 'Mitchel', 'CollgCr', 'CollgCr', 'NAmes', 'CollgCr', 'NAmes', 'CollgCr', 'Sawyer', 'Edwards', 'BrkSide', 'Gilbert', 'SawyerW', 'BrkSide', 'CollgCr', 'NridgHt', 'NWAmes', 'ClearCr', 'OldTown', 'Edwards', 'NAmes', 'Timber', 'Somerst', 'Gilbert', 'Veenker', 'NridgHt', 'NridgHt', 'OldTown', 'OldTown', 'Edwards', 'ClearCr', 'NridgHt', 'Gilbert', 'Timber', 'OldTown', 'NAmes', 'StoneBr', 'NAmes', 'Timber', 'Edwards', 'ClearCr', 'Sawyer', 'StoneBr', 'OldTown', 'Somerst', 'Crawfor', 'Edwards', 'OldTown', 'BrkSide', 'OldTown', 'Mitchel', 'OldTown', 'SawyerW', 'StoneBr', 'Crawfor', 'NAmes', 'CollgCr', 'Edwards', 'CollgCr', 'NPkVill', 'Somerst', 'NAmes', 'OldTown', 'NridgHt', 'Edwards', 'Mitchel', 'OldTown', 'CollgCr', 'OldTown', 'Gilbert', 'Sawyer', 'NAmes', 'SawyerW', 'NAmes', 'Edwards', 'Edwards', 'Somerst', 'CollgCr', 'CollgCr', 'NAmes', 'CollgCr', 'OldTown', 'Crawfor', 'Blmngtn', 'CollgCr', 'Gilbert', 'NWAmes', 'NAmes', 'NridgHt', 'BrDale', 'NoRidge', 'BrDale', 'Sawyer', 'Blmngtn', 'NAmes', 'NoRidge', 'BrDale', 'CollgCr', 'Gilbert', 'BrDale', 'CollgCr', 'SawyerW', 'NridgHt', 'Edwards', 'Somerst', 'OldTown', 'OldTown', 'SawyerW', 'SawyerW', 'NWAmes', 'OldTown', 'NAmes', 'CollgCr', 'ClearCr', 'BrkSide', 'Crawfor', 'SawyerW', 'NAmes', 'NAmes', 'Gilbert', 'Somerst', 'CollgCr', 'CollgCr', 'OldTown', 'NAmes', 'CollgCr', 'Sawyer', 'OldTown', 'OldTown', 'NWAmes', 'Gilbert', 'SWISU', 'IDOTRR', 'Edwards', 'Somerst', 'ClearCr', 'NoRidge', 'NAmes', 'Mitchel', 'BrkSide', 'Mitchel', 'Gilbert', 'NridgHt', 'ClearCr', 'SawyerW', 'Somerst', 'NridgHt', 'Somerst', 'SawyerW', 'Somerst', 'NAmes', 'NAmes', 'Sawyer', 'BrkSide', 'CollgCr', 'SWISU', 'Edwards', 'NWAmes', 'NAmes', 'Mitchel', 'IDOTRR', 'Somerst', 'NWAmes', 'Crawfor', 'Crawfor', 'CollgCr', 'CollgCr', 'CollgCr', 'OldTown', 'CollgCr', 'SawyerW', 'IDOTRR', 'Edwards', 'NridgHt', 'Gilbert', 'NAmes', 'OldTown', 'Timber', 'OldTown', 'Gilbert', 'NWAmes', 'Somerst', 'NoRidge', 'NWAmes', 'NridgHt', 'NridgHt', 'SawyerW', 'OldTown', 'NAmes', 'IDOTRR', 'Veenker', 'NAmes', 'BrkSide', 'IDOTRR', 'NAmes', 'NAmes', 'NridgHt', 'NridgHt', 'Gilbert', 'Timber', 'StoneBr', 'CollgCr', 'NWAmes', 'NAmes', 'Timber', 'SawyerW', 'NAmes', 'NridgHt', 'MeadowV', 'BrkSide', 'NAmes', 'NAmes', 'NridgHt', 'NridgHt', 'NridgHt', 'ClearCr', 'Edwards', 'OldTown', 'SWISU', 'CollgCr', 'Gilbert', 'MeadowV', 'ClearCr', 'NoRidge', 'Mitchel', 'BrkSide', 'Edwards', 'BrDale', 'NWAmes', 'IDOTRR', 'NAmes', 'NAmes', 'NAmes', 'NAmes', 'Gilbert', 'ClearCr', 'SawyerW', 'NAmes', 'CollgCr', 'Edwards', 'CollgCr', 'Somerst', 'StoneBr', 'Gilbert', 'SWISU', 'Somerst', 'CollgCr', 'SawyerW', 'ClearCr', 'Blmngtn', 'Edwards', 'Edwards', 'CollgCr', 'NridgHt', 'Edwards', 'Mitchel', 'NAmes', 'BrkSide', 'OldTown', 'Edwards', 'CollgCr', 'NAmes', 'IDOTRR', 'Somerst', 'Veenker', 'CollgCr', 'Sawyer', 'NoRidge', 'Gilbert', 'Sawyer', 'SWISU', 'Crawfor', 'NridgHt', 'Somerst', 'Edwards', 'Gilbert', 'Somerst', 'OldTown', 'SawyerW', 'Gilbert', 'Sawyer', 'Crawfor', 'Edwards', 'NAmes', 'Mitchel', 'NWAmes', 'Mitchel', 'NoRidge', 'NAmes', 'OldTown', 'SawyerW', 'NAmes', 'CollgCr', 'Timber', 'BrDale', 'OldTown', 'BrDale', 'Gilbert', 'MeadowV', 'CollgCr', 'OldTown', 'BrkSide', 'Crawfor', 'Edwards', 'NridgHt', 'Edwards', 'BrkSide', 'Blmngtn', 'CollgCr', 'Edwards', 'NAmes', 'Gilbert', 'IDOTRR', 'OldTown', 'OldTown', 'ClearCr', 'Timber', 'Somerst', 'Mitchel', 'NWAmes', 'OldTown', 'ClearCr', 'OldTown', 'BrkSide', 'Somerst', 'SWISU', 'Sawyer', 'Crawfor', 'CollgCr', 'Blmngtn', 'NAmes', 'NAmes', 'NridgHt', 'SawyerW', 'StoneBr', 'NWAmes', 'Edwards', 'NridgHt', 'StoneBr', 'Sawyer', 'CollgCr', 'NridgHt', 'CollgCr', 'OldTown', 'NridgHt', 'NridgHt', 'OldTown', 'Mitchel', 'Sawyer', 'NAmes', 'NAmes', 'NWAmes', 'OldTown', 'MeadowV', 'MeadowV', 'NAmes', 'Gilbert', 'NAmes', 'OldTown', 'IDOTRR', 'NoRidge', 'BrkSide', 'Sawyer', 'NAmes', 'BrDale', 'Somerst', 'Edwards', 'Crawfor', 'NPkVill', 'OldTown', 'SawyerW', 'Somerst', 'OldTown', 'NAmes', 'NAmes', 'NridgHt', 'NAmes', 'Mitchel', 'Crawfor', 'NridgHt', 'NWAmes', 'NoRidge', 'CollgCr', 'Crawfor', 'OldTown', 'NAmes', 'BrkSide', 'Edwards', 'NoRidge', 'Somerst', 'NAmes', 'NridgHt', 'Edwards', 'Crawfor', 'Timber', 'BrkSide', 'NAmes', 'BrkSide', 'Gilbert', 'Edwards', 'CollgCr', 'NAmes', 'Sawyer', 'CollgCr', 'Timber', 'NoRidge', 'NWAmes', 'NAmes', 'Gilbert', 'NWAmes', 'BrkSide', 'Mitchel', 'OldTown', 'Somerst', 'NPkVill', 'OldTown', 'NridgHt', 'Edwards', 'NridgHt', 'BrkSide', 'NAmes', 'IDOTRR', 'Gilbert', 'Blmngtn', 'Sawyer', 'Mitchel', 'Edwards', 'Edwards', 'NoRidge', 'SWISU', 'StoneBr', 'NridgHt', 'SawyerW', 'NAmes', 'NAmes', 'NAmes', 'Timber', 'Gilbert', 'NAmes', 'NAmes', 'SWISU', 'Sawyer', 'Somerst', 'OldTown', 'NAmes', 'NridgHt', 'Edwards', 'OldTown', 'BrkSide', 'Timber', 'BrkSide', 'Sawyer', 'ClearCr', 'BrkSide', 'CollgCr', 'NridgHt', 'Mitchel', 'CollgCr', 'CollgCr', 'StoneBr', 'OldTown', 'Blmngtn', 'Crawfor', 'Blueste', 'NridgHt', 'IDOTRR', 'SawyerW', 'Somerst', 'CollgCr', 'NAmes', 'CollgCr', 'Edwards', 'Crawfor', 'Sawyer', 'CollgCr', 'NWAmes', 'CollgCr', 'Mitchel', 'MeadowV', 'NAmes', 'Gilbert', 'NAmes', 'NridgHt', 'Timber', 'Edwards', 'NWAmes', 'Sawyer', 'Somerst', 'NWAmes', 'NAmes', 'NAmes', 'NAmes', 'NAmes', 'NAmes', 'OldTown', 'NridgHt', 'NWAmes', 'NAmes', 'OldTown', 'SWISU', 'BrkSide', 'OldTown', 'Edwards', 'Blmngtn', 'NridgHt', 'Somerst', 'NAmes', 'NWAmes', 'Somerst', 'NAmes', 'NAmes', 'Edwards', 'NAmes', 'MeadowV', 'Somerst', 'Edwards', 'CollgCr', 'IDOTRR', 'NoRidge', 'BrDale', 'NAmes', 'Crawfor', 'NAmes', 'Edwards', 'NWAmes', 'NoRidge', 'NAmes', 'Edwards', 'Somerst', 'Gilbert', 'NAmes', 'SawyerW', 'Sawyer', 'Crawfor', 'CollgCr', 'Edwards', 'Veenker', 'Crawfor', 'NAmes', 'NPkVill', 'OldTown', 'OldTown', 'StoneBr', 'Sawyer', 'SawyerW', 'SWISU', 'ClearCr', 'CollgCr', 'NoRidge', 'StoneBr', 'Somerst', 'Somerst', 'StoneBr', 'NridgHt', 'CollgCr', 'NoRidge', 'Timber', 'OldTown', 'BrkSide', 'Timber', 'BrkSide', 'Edwards', 'Sawyer', 'Somerst', 'Timber', 'NWAmes', 'StoneBr', 'OldTown', 'CollgCr', 'IDOTRR', 'ClearCr', 'NridgHt', 'Gilbert', 'Sawyer', 'BrkSide', 'IDOTRR', 'StoneBr', 'BrkSide', 'Sawyer', 'NWAmes', 'OldTown', 'NWAmes', 'NoRidge', 'CollgCr', 'StoneBr', 'CollgCr', 'NAmes', 'Edwards', 'Edwards', 'NAmes', 'Crawfor', 'CollgCr', 'NAmes', 'IDOTRR', 'StoneBr', 'Timber', 'CollgCr', 'Sawyer', 'Sawyer', 'OldTown', 'NAmes', 'Gilbert', 'Edwards', 'CollgCr', 'OldTown', 'Sawyer', 'SawyerW', 'Sawyer', 'StoneBr', 'NWAmes', 'Gilbert', 'OldTown', 'NoRidge', 'Edwards', 'OldTown', 'Gilbert', 'CollgCr', 'NridgHt', 'NAmes', 'Somerst', 'CollgCr', 'Sawyer', 'Somerst', 'NoRidge', 'NAmes', 'BrkSide', 'Somerst', 'NoRidge', 'Veenker', 'Somerst', 'NWAmes', 'Mitchel', 'CollgCr', 'StoneBr', 'Sawyer', 'Edwards', 'Edwards', 'NAmes', 'NridgHt', 'Mitchel', 'CollgCr', 'Sawyer', 'SawyerW', 'Mitchel', 'Gilbert', 'SawyerW', 'CollgCr', 'Mitchel', 'OldTown', 'NWAmes', 'OldTown', 'SawyerW', 'OldTown', 'ClearCr', 'Blmngtn', 'Mitchel', 'NoRidge', 'Somerst', 'Gilbert', 'SawyerW', 'Sawyer', 'NAmes', 'NridgHt', 'SWISU', 'ClearCr', 'IDOTRR', 'CollgCr', 'NridgHt', 'NAmes', 'Somerst', 'NAmes', 'BrkSide', 'NAmes', 'OldTown', 'NWAmes', 'CollgCr', 'IDOTRR', 'NAmes', 'Edwards', 'CollgCr', 'NAmes', 'Mitchel', 'ClearCr', 'NridgHt', 'CollgCr', 'OldTown', 'Gilbert', 'SWISU', 'Somerst', 'NridgHt', 'BrkSide', 'SawyerW', 'ClearCr', 'Somerst', 'NAmes', 'Somerst', 'CollgCr', 'NAmes', 'NAmes', 'Sawyer', 'OldTown', 'BrDale', 'CollgCr', 'Edwards', 'SWISU', 'OldTown', 'NAmes', 'NAmes', 'OldTown', 'Sawyer', 'SawyerW', 'CollgCr', 'ClearCr', 'Veenker', 'CollgCr', 'Blmngtn', 'Crawfor', 'NAmes', 'Sawyer', 'Sawyer', 'CollgCr', 'Gilbert', 'NWAmes', 'NWAmes', 'Crawfor', 'Sawyer', 'SawyerW', 'NAmes', 'Somerst', 'NAmes', 'Timber', 'Sawyer', 'Gilbert', 'SawyerW', 'NAmes', 'CollgCr', 'NAmes', 'NAmes', 'OldTown', 'Somerst', 'Mitchel', 'NridgHt', 'Sawyer', 'CollgCr', 'Edwards', 'Timber', 'Gilbert', 'SWISU', 'NAmes', 'Somerst', 'NAmes', 'Edwards', 'NAmes', 'NAmes', 'NAmes', 'Sawyer', 'Sawyer', 'Sawyer', 'SawyerW', 'NAmes', 'IDOTRR', 'SawyerW', 'NridgHt', 'Sawyer', 'NAmes', 'NAmes', 'Gilbert', 'Gilbert', 'Sawyer', 'NAmes', 'Somerst', 'Crawfor', 'Mitchel', 'Gilbert', 'NAmes', 'CollgCr', 'BrkSide', 'Crawfor', 'Somerst', 'MeadowV', 'IDOTRR', 'Edwards', 'SawyerW', 'NAmes', 'SawyerW', 'Edwards', 'Gilbert', 'SawyerW', 'NWAmes', 'NWAmes', 'NridgHt', 'NWAmes', 'CollgCr', 'Gilbert', 'Timber', 'NAmes', 'Somerst', 'CollgCr', 'NAmes', 'BrkSide', 'SawyerW', 'Somerst', 'CollgCr', 'ClearCr', 'Mitchel', 'Gilbert', 'Edwards', 'Mitchel', 'Timber', 'OldTown', 'NAmes', 'Timber', 'CollgCr', 'NWAmes', 'NAmes', 'SawyerW', 'CollgCr', 'Mitchel', 'Edwards', 'Crawfor', 'Blueste', 'Sawyer', 'CollgCr', 'Somerst', 'BrkSide', 'NWAmes', 'NPkVill', 'CollgCr', 'Timber', 'Gilbert', 'Crawfor', 'NAmes', 'OldTown', 'NAmes', 'NAmes', 'NridgHt', 'SawyerW', 'Somerst', 'BrkSide', 'Somerst', 'BrkSide', 'Somerst', 'Edwards', 'Sawyer', 'NAmes', 'NoRidge', 'Blmngtn', 'CollgCr', 'Mitchel', 'Edwards', 'OldTown', 'NridgHt', 'NWAmes', 'Somerst', 'NoRidge', 'OldTown', 'NAmes', 'CollgCr', 'NridgHt', 'BrkSide', 'NAmes', 'NWAmes', 'IDOTRR', 'CollgCr', 'Edwards', 'OldTown', 'Somerst', 'NWAmes', 'Blmngtn', 'CollgCr', 'NAmes', 'MeadowV', 'Mitchel', 'SWISU', 'Sawyer', 'Edwards', 'Crawfor', 'OldTown', 'NAmes', 'NWAmes', 'CollgCr', 'StoneBr', 'Gilbert', 'Blmngtn', 'Edwards', 'CollgCr', 'OldTown', 'Blmngtn', 'Timber', 'CollgCr', 'NAmes', 'Timber', 'NAmes', 'BrDale', 'SWISU', 'SWISU', 'NoRidge', 'CollgCr', 'Crawfor', 'Edwards', 'Timber', 'CollgCr', 'MeadowV', 'MeadowV', 'Sawyer', 'NWAmes', 'NridgHt', 'SawyerW', 'NWAmes', 'Edwards', 'StoneBr', 'CollgCr', 'Mitchel', 'Edwards', 'Gilbert', 'CollgCr', 'NAmes', 'Edwards', 'CollgCr', 'NWAmes', 'NridgHt', 'NoRidge', 'NridgHt', 'Crawfor', 'StoneBr', 'IDOTRR', 'OldTown', 'OldTown', 'NAmes', 'ClearCr', 'Gilbert', 'NAmes', 'MeadowV', 'NAmes', 'NAmes', 'NWAmes', 'Edwards', 'Edwards', 'CollgCr', 'Crawfor', 'OldTown', 'NAmes', 'CollgCr', 'CollgCr', 'NWAmes', 'Sawyer', 'CollgCr', 'NAmes', 'Gilbert', 'SawyerW', 'MeadowV', 'Somerst', 'Edwards', 'Somerst', 'NAmes', 'Somerst', 'SWISU', 'NAmes', 'NAmes', 'CollgCr', 'IDOTRR', 'StoneBr', 'BrkSide', 'NWAmes', 'SWISU', 'NAmes', 'NAmes', 'NAmes', 'BrDale', 'NoRidge', 'SawyerW', 'Gilbert', 'Gilbert', 'NridgHt', 'Gilbert', 'NWAmes', 'NAmes', 'NAmes', 'OldTown', 'NridgHt', 'Gilbert', 'Sawyer', 'Sawyer', 'NAmes', 'IDOTRR', 'CollgCr', 'Edwards', 'Edwards', 'Gilbert', 'NAmes', 'Blmngtn', 'Gilbert', 'Gilbert', 'OldTown', 'SWISU', 'Mitchel', 'OldTown', 'SawyerW', 'Gilbert', 'BrkSide', 'NAmes', 'Sawyer', 'Mitchel', 'BrkSide', 'NAmes', 'NWAmes', 'CollgCr', 'Sawyer', 'Edwards', 'BrkSide', 'SawyerW', 'Crawfor', 'OldTown', 'OldTown', 'NAmes', 'Edwards', 'Crawfor', 'IDOTRR', 'NAmes', 'Veenker', 'NAmes', 'NridgHt', 'Somerst', 'NWAmes', 'NPkVill', 'Crawfor', 'Sawyer', 'Sawyer', 'Veenker', 'NridgHt', 'CollgCr', 'Gilbert', 'Edwards', 'NoRidge', 'Mitchel', 'NAmes', 'Somerst', 'ClearCr', 'Crawfor', 'NoRidge', 'Mitchel', 'OldTown', 'Crawfor', 'Edwards', 'Timber', 'Crawfor', 'NoRidge', 'OldTown', 'Timber', 'Edwards', 'OldTown', 'NoRidge', 'CollgCr', 'Gilbert', 'Mitchel', 'Somerst', 'OldTown', 'Mitchel', 'Sawyer', 'Gilbert', 'Gilbert', 'OldTown', 'CollgCr', 'Sawyer', 'NAmes', 'CollgCr', 'BrkSide', 'CollgCr', 'NWAmes', 'SawyerW', 'SawyerW', 'CollgCr', 'NAmes', 'Somerst', 'SawyerW', 'Gilbert', 'Edwards', 'Sawyer', 'NAmes', 'Sawyer', 'Sawyer', 'Somerst', 'BrkSide', 'BrDale', 'NAmes', 'Sawyer', 'NAmes', 'NAmes', 'Gilbert', 'NAmes', 'Somerst', 'NAmes', 'NridgHt', 'NAmes', 'Sawyer', 'NAmes', 'NAmes', 'NAmes', 'SWISU', 'Crawfor', 'NridgHt', 'CollgCr', 'SawyerW', 'Timber', 'CollgCr', 'Somerst', 'NWAmes', 'NridgHt', 'Crawfor', 'NWAmes', 'Somerst', 'Mitchel', 'OldTown', 'NAmes', 'NAmes', 'NridgHt', 'Mitchel', 'Veenker', 'Edwards', 'BrkSide', 'NoRidge', 'Edwards', 'Gilbert', 'NAmes', 'Gilbert', 'NAmes', 'ClearCr', 'BrkSide', 'NAmes', 'Somerst', 'OldTown', 'Timber', 'Crawfor', 'NAmes', 'ClearCr', 'NWAmes', 'Sawyer', 'Edwards', 'Crawfor', 'NAmes', 'NWAmes', 'NWAmes', 'CollgCr', 'IDOTRR', 'CollgCr', 'Timber', 'CollgCr', 'Mitchel', 'SWISU', 'BrkSide', 'NWAmes', 'ClearCr', 'StoneBr', 'NridgHt', 'NAmes', 'BrDale', 'OldTown', 'NWAmes', 'Edwards', 'NAmes', 'NAmes', 'Edwards', 'Edwards', 'NAmes', 'Gilbert', 'Crawfor', 'NoRidge', 'Somerst', 'Edwards', 'NridgHt', 'NridgHt', 'CollgCr', 'OldTown', 'SawyerW', 'Crawfor', 'CollgCr', 'NoRidge', 'NoRidge', 'Edwards', 'NAmes', 'CollgCr', 'Somerst', 'CollgCr', 'Edwards', 'NAmes', 'BrkSide', 'NoRidge', 'BrkSide', 'Somerst', 'IDOTRR', 'Edwards', 'Mitchel', 'OldTown', 'Gilbert', 'Somerst', 'CollgCr', 'Edwards', 'IDOTRR', 'BrDale', 'NWAmes', 'NWAmes', 'OldTown', 'CollgCr', 'CollgCr', 'NAmes', 'SawyerW', 'CollgCr', 'Crawfor', 'CollgCr', 'OldTown', 'NWAmes', 'Timber', 'SawyerW', 'OldTown', 'NAmes', 'NAmes', 'BrkSide', 'NoRidge', 'CollgCr', 'NWAmes', 'NAmes', 'NAmes', 'Somerst', 'NridgHt', 'SWISU', 'StoneBr', 'NAmes', 'Gilbert', 'Somerst', 'Somerst', 'CollgCr', 'MeadowV', 'CollgCr', 'CollgCr', 'OldTown', 'NAmes', 'CollgCr', 'NoRidge', 'Somerst', 'Timber', 'SWISU', 'Edwards', 'BrDale', 'Timber', 'Edwards', 'NAmes', 'OldTown', 'Sawyer', 'Edwards', 'IDOTRR', 'NWAmes', 'OldTown', 'Gilbert', 'BrkSide', 'CollgCr', 'NAmes', 'NAmes', 'OldTown', 'Blmngtn', 'Timber', 'Timber', 'BrkSide', 'NAmes', 'SWISU', 'BrkSide', 'Gilbert', 'CollgCr', 'Somerst', 'OldTown', 'Crawfor', 'CollgCr', 'Mitchel', 'OldTown', 'NWAmes', 'CollgCr', 'NAmes', 'NAmes', 'SawyerW', 'BrkSide', 'Blmngtn', 'OldTown', 'NoRidge', 'NAmes', 'Crawfor', 'NWAmes', 'NPkVill', 'CollgCr', 'Edwards', 'NAmes', 'NAmes', 'NoRidge', 'NAmes', 'OldTown', 'NWAmes', 'Gilbert', 'NPkVill', 'OldTown', 'Gilbert', 'Mitchel', 'NAmes', 'NAmes', 'NridgHt', 'OldTown', 'NWAmes', 'Crawfor', 'CollgCr', 'Somerst', 'BrkSide', 'CollgCr', 'Sawyer', 'Mitchel', 'CollgCr', 'Edwards', 'MeadowV', 'NAmes', 'Somerst', 'Edwards', 'Mitchel', 'Somerst', 'Gilbert', 'NWAmes', 'Crawfor', 'NAmes', 'Edwards']\n"
     ]
    }
   ],
   "source": [
    "neighborhood_list = housing_features_df[\"Neighborhood\"].to_list()\n",
    "print(neighborhood_list)"
   ]
  },
  {
   "cell_type": "code",
   "execution_count": 38,
   "id": "1ad59f42",
   "metadata": {},
   "outputs": [
    {
     "name": "stdout",
     "output_type": "stream",
     "text": [
      "[['CollgCr'], ['Veenker'], ['CollgCr'], ['Crawfor'], ['NoRidge']]\n"
     ]
    }
   ],
   "source": [
    "neighborhood_list_of_lists = []\n",
    "\n",
    "for i in neighborhood_list: \n",
    "    neighborhood_list_of_lists.append([i])\n",
    "\n",
    "print(neighborhood_list_of_lists[:5])"
   ]
  },
  {
   "cell_type": "code",
   "execution_count": 39,
   "id": "615dd632",
   "metadata": {},
   "outputs": [
    {
     "name": "stdout",
     "output_type": "stream",
     "text": [
      "Unique vocabulary items 25\n",
      "\n",
      "[[0. 0. 0. ... 0. 0. 0.]\n",
      " [0. 0. 0. ... 0. 0. 1.]\n",
      " [0. 0. 0. ... 0. 0. 0.]\n",
      " ...\n",
      " [0. 0. 0. ... 0. 0. 0.]\n",
      " [0. 0. 0. ... 0. 0. 0.]\n",
      " [0. 0. 0. ... 0. 0. 0.]]\n"
     ]
    }
   ],
   "source": [
    "neighborhood_encoder = OneHotEncoder()\n",
    "\n",
    "neighborhood_encoder.fit(neighborhood_list_of_lists)\n",
    "\n",
    "print(f\"Unique vocabulary items {len(neighborhood_encoder.categories_[0])}\\n\")\n",
    "\n",
    "neighborhood_transformed = neighborhood_encoder.transform(neighborhood_list_of_lists)\n",
    "\n",
    "neighborhood_transformed = neighborhood_transformed.toarray()\n",
    "\n",
    "print(neighborhood_transformed)"
   ]
  },
  {
   "cell_type": "code",
   "execution_count": 40,
   "id": "4f8ddbbb",
   "metadata": {},
   "outputs": [
    {
     "data": {
      "text/html": [
       "<div>\n",
       "<style scoped>\n",
       "    .dataframe tbody tr th:only-of-type {\n",
       "        vertical-align: middle;\n",
       "    }\n",
       "\n",
       "    .dataframe tbody tr th {\n",
       "        vertical-align: top;\n",
       "    }\n",
       "\n",
       "    .dataframe thead th {\n",
       "        text-align: right;\n",
       "    }\n",
       "</style>\n",
       "<table border=\"1\" class=\"dataframe\">\n",
       "  <thead>\n",
       "    <tr style=\"text-align: right;\">\n",
       "      <th></th>\n",
       "      <th>0</th>\n",
       "      <th>1</th>\n",
       "      <th>2</th>\n",
       "      <th>3</th>\n",
       "      <th>4</th>\n",
       "      <th>5</th>\n",
       "      <th>6</th>\n",
       "      <th>7</th>\n",
       "      <th>8</th>\n",
       "      <th>9</th>\n",
       "      <th>...</th>\n",
       "      <th>15</th>\n",
       "      <th>16</th>\n",
       "      <th>17</th>\n",
       "      <th>18</th>\n",
       "      <th>19</th>\n",
       "      <th>20</th>\n",
       "      <th>21</th>\n",
       "      <th>22</th>\n",
       "      <th>23</th>\n",
       "      <th>24</th>\n",
       "    </tr>\n",
       "  </thead>\n",
       "  <tbody>\n",
       "    <tr>\n",
       "      <th>0</th>\n",
       "      <td>0.0</td>\n",
       "      <td>0.0</td>\n",
       "      <td>0.0</td>\n",
       "      <td>0.0</td>\n",
       "      <td>0.0</td>\n",
       "      <td>1.0</td>\n",
       "      <td>0.0</td>\n",
       "      <td>0.0</td>\n",
       "      <td>0.0</td>\n",
       "      <td>0.0</td>\n",
       "      <td>...</td>\n",
       "      <td>0.0</td>\n",
       "      <td>0.0</td>\n",
       "      <td>0.0</td>\n",
       "      <td>0.0</td>\n",
       "      <td>0.0</td>\n",
       "      <td>0.0</td>\n",
       "      <td>0.0</td>\n",
       "      <td>0.0</td>\n",
       "      <td>0.0</td>\n",
       "      <td>0.0</td>\n",
       "    </tr>\n",
       "    <tr>\n",
       "      <th>1</th>\n",
       "      <td>0.0</td>\n",
       "      <td>0.0</td>\n",
       "      <td>0.0</td>\n",
       "      <td>0.0</td>\n",
       "      <td>0.0</td>\n",
       "      <td>0.0</td>\n",
       "      <td>0.0</td>\n",
       "      <td>0.0</td>\n",
       "      <td>0.0</td>\n",
       "      <td>0.0</td>\n",
       "      <td>...</td>\n",
       "      <td>0.0</td>\n",
       "      <td>0.0</td>\n",
       "      <td>0.0</td>\n",
       "      <td>0.0</td>\n",
       "      <td>0.0</td>\n",
       "      <td>0.0</td>\n",
       "      <td>0.0</td>\n",
       "      <td>0.0</td>\n",
       "      <td>0.0</td>\n",
       "      <td>1.0</td>\n",
       "    </tr>\n",
       "    <tr>\n",
       "      <th>2</th>\n",
       "      <td>0.0</td>\n",
       "      <td>0.0</td>\n",
       "      <td>0.0</td>\n",
       "      <td>0.0</td>\n",
       "      <td>0.0</td>\n",
       "      <td>1.0</td>\n",
       "      <td>0.0</td>\n",
       "      <td>0.0</td>\n",
       "      <td>0.0</td>\n",
       "      <td>0.0</td>\n",
       "      <td>...</td>\n",
       "      <td>0.0</td>\n",
       "      <td>0.0</td>\n",
       "      <td>0.0</td>\n",
       "      <td>0.0</td>\n",
       "      <td>0.0</td>\n",
       "      <td>0.0</td>\n",
       "      <td>0.0</td>\n",
       "      <td>0.0</td>\n",
       "      <td>0.0</td>\n",
       "      <td>0.0</td>\n",
       "    </tr>\n",
       "    <tr>\n",
       "      <th>3</th>\n",
       "      <td>0.0</td>\n",
       "      <td>0.0</td>\n",
       "      <td>0.0</td>\n",
       "      <td>0.0</td>\n",
       "      <td>0.0</td>\n",
       "      <td>0.0</td>\n",
       "      <td>1.0</td>\n",
       "      <td>0.0</td>\n",
       "      <td>0.0</td>\n",
       "      <td>0.0</td>\n",
       "      <td>...</td>\n",
       "      <td>0.0</td>\n",
       "      <td>0.0</td>\n",
       "      <td>0.0</td>\n",
       "      <td>0.0</td>\n",
       "      <td>0.0</td>\n",
       "      <td>0.0</td>\n",
       "      <td>0.0</td>\n",
       "      <td>0.0</td>\n",
       "      <td>0.0</td>\n",
       "      <td>0.0</td>\n",
       "    </tr>\n",
       "    <tr>\n",
       "      <th>4</th>\n",
       "      <td>0.0</td>\n",
       "      <td>0.0</td>\n",
       "      <td>0.0</td>\n",
       "      <td>0.0</td>\n",
       "      <td>0.0</td>\n",
       "      <td>0.0</td>\n",
       "      <td>0.0</td>\n",
       "      <td>0.0</td>\n",
       "      <td>0.0</td>\n",
       "      <td>0.0</td>\n",
       "      <td>...</td>\n",
       "      <td>1.0</td>\n",
       "      <td>0.0</td>\n",
       "      <td>0.0</td>\n",
       "      <td>0.0</td>\n",
       "      <td>0.0</td>\n",
       "      <td>0.0</td>\n",
       "      <td>0.0</td>\n",
       "      <td>0.0</td>\n",
       "      <td>0.0</td>\n",
       "      <td>0.0</td>\n",
       "    </tr>\n",
       "  </tbody>\n",
       "</table>\n",
       "<p>5 rows × 25 columns</p>\n",
       "</div>"
      ],
      "text/plain": [
       "    0    1    2    3    4    5    6    7    8    9   ...   15   16   17   18  \\\n",
       "0  0.0  0.0  0.0  0.0  0.0  1.0  0.0  0.0  0.0  0.0  ...  0.0  0.0  0.0  0.0   \n",
       "1  0.0  0.0  0.0  0.0  0.0  0.0  0.0  0.0  0.0  0.0  ...  0.0  0.0  0.0  0.0   \n",
       "2  0.0  0.0  0.0  0.0  0.0  1.0  0.0  0.0  0.0  0.0  ...  0.0  0.0  0.0  0.0   \n",
       "3  0.0  0.0  0.0  0.0  0.0  0.0  1.0  0.0  0.0  0.0  ...  0.0  0.0  0.0  0.0   \n",
       "4  0.0  0.0  0.0  0.0  0.0  0.0  0.0  0.0  0.0  0.0  ...  1.0  0.0  0.0  0.0   \n",
       "\n",
       "    19   20   21   22   23   24  \n",
       "0  0.0  0.0  0.0  0.0  0.0  0.0  \n",
       "1  0.0  0.0  0.0  0.0  0.0  1.0  \n",
       "2  0.0  0.0  0.0  0.0  0.0  0.0  \n",
       "3  0.0  0.0  0.0  0.0  0.0  0.0  \n",
       "4  0.0  0.0  0.0  0.0  0.0  0.0  \n",
       "\n",
       "[5 rows x 25 columns]"
      ]
     },
     "execution_count": 40,
     "metadata": {},
     "output_type": "execute_result"
    }
   ],
   "source": [
    "neighborhood_transformed_df = pd.DataFrame(neighborhood_transformed)\n",
    "neighborhood_transformed_df.head()"
   ]
  },
  {
   "cell_type": "markdown",
   "id": "37129c79",
   "metadata": {},
   "source": [
    "There is probably a better way to rename the columns from one-hot encoding but this is the method thats available to me as of now. "
   ]
  },
  {
   "cell_type": "code",
   "execution_count": 41,
   "id": "3000a845",
   "metadata": {},
   "outputs": [
    {
     "data": {
      "text/plain": [
       "219"
      ]
     },
     "execution_count": 41,
     "metadata": {},
     "output_type": "execute_result"
    }
   ],
   "source": [
    "temp = list(neighborhood_transformed_df[0])\n",
    "temp.index(1.0)"
   ]
  },
  {
   "cell_type": "code",
   "execution_count": 42,
   "id": "fb6d1a59",
   "metadata": {},
   "outputs": [
    {
     "data": {
      "text/plain": [
       "219    Blmngtn\n",
       "Name: Neighborhood, dtype: object"
      ]
     },
     "execution_count": 42,
     "metadata": {},
     "output_type": "execute_result"
    }
   ],
   "source": [
    "housing_features_df[\"Neighborhood\"][219:220]"
   ]
  },
  {
   "cell_type": "code",
   "execution_count": 43,
   "id": "9ac3c4e9",
   "metadata": {},
   "outputs": [
    {
     "data": {
      "text/plain": [
       "599"
      ]
     },
     "execution_count": 43,
     "metadata": {},
     "output_type": "execute_result"
    }
   ],
   "source": [
    "temp = list(neighborhood_transformed_df[1])\n",
    "temp.index(1.0)"
   ]
  },
  {
   "cell_type": "code",
   "execution_count": 44,
   "id": "b4c4481b",
   "metadata": {},
   "outputs": [
    {
     "data": {
      "text/plain": [
       "'Blueste'"
      ]
     },
     "execution_count": 44,
     "metadata": {},
     "output_type": "execute_result"
    }
   ],
   "source": [
    "housing_features_df[\"Neighborhood\"][599]"
   ]
  },
  {
   "cell_type": "code",
   "execution_count": 45,
   "id": "d1d50772",
   "metadata": {},
   "outputs": [],
   "source": [
    "temp_list = []\n",
    "for i in range(len(neighborhood_transformed_df.columns)):\n",
    "    temp = list(neighborhood_transformed_df[i])\n",
    "    temp_list.append(temp.index(1.0))"
   ]
  },
  {
   "cell_type": "code",
   "execution_count": 46,
   "id": "ab5dc4c7",
   "metadata": {},
   "outputs": [
    {
     "data": {
      "text/plain": [
       "0    CollgCr\n",
       "1    Veenker\n",
       "2    CollgCr\n",
       "3    Crawfor\n",
       "4    NoRidge\n",
       "Name: Neighborhood, dtype: object"
      ]
     },
     "execution_count": 46,
     "metadata": {},
     "output_type": "execute_result"
    }
   ],
   "source": [
    "housing_features_df[\"Neighborhood\"].head()"
   ]
  },
  {
   "cell_type": "code",
   "execution_count": 47,
   "id": "319e5fc4",
   "metadata": {},
   "outputs": [
    {
     "name": "stdout",
     "output_type": "stream",
     "text": [
      "['Blmngtn', 'Blueste', 'BrDale', 'BrkSide', 'ClearCr', 'CollgCr', 'Crawfor', 'Edwards', 'Gilbert', 'IDOTRR', 'MeadowV', 'Mitchel', 'NAmes', 'NPkVill', 'NWAmes', 'NoRidge', 'NridgHt', 'OldTown', 'SWISU', 'Sawyer', 'SawyerW', 'Somerst', 'StoneBr', 'Timber', 'Veenker']\n"
     ]
    }
   ],
   "source": [
    "neighborhood_name_list = []\n",
    "for i in temp_list:\n",
    "    neighborhood_name_list.append(housing_features_df[\"Neighborhood\"][i])\n",
    "print(neighborhood_name_list)"
   ]
  },
  {
   "cell_type": "code",
   "execution_count": 48,
   "id": "cc2b17c1",
   "metadata": {},
   "outputs": [],
   "source": [
    "neighborhood_transformed_df.columns = neighborhood_name_list"
   ]
  },
  {
   "cell_type": "code",
   "execution_count": 49,
   "id": "455f8a8b",
   "metadata": {},
   "outputs": [
    {
     "data": {
      "text/html": [
       "<div>\n",
       "<style scoped>\n",
       "    .dataframe tbody tr th:only-of-type {\n",
       "        vertical-align: middle;\n",
       "    }\n",
       "\n",
       "    .dataframe tbody tr th {\n",
       "        vertical-align: top;\n",
       "    }\n",
       "\n",
       "    .dataframe thead th {\n",
       "        text-align: right;\n",
       "    }\n",
       "</style>\n",
       "<table border=\"1\" class=\"dataframe\">\n",
       "  <thead>\n",
       "    <tr style=\"text-align: right;\">\n",
       "      <th></th>\n",
       "      <th>Blmngtn</th>\n",
       "      <th>Blueste</th>\n",
       "      <th>BrDale</th>\n",
       "      <th>BrkSide</th>\n",
       "      <th>ClearCr</th>\n",
       "      <th>CollgCr</th>\n",
       "      <th>Crawfor</th>\n",
       "      <th>Edwards</th>\n",
       "      <th>Gilbert</th>\n",
       "      <th>IDOTRR</th>\n",
       "      <th>...</th>\n",
       "      <th>NoRidge</th>\n",
       "      <th>NridgHt</th>\n",
       "      <th>OldTown</th>\n",
       "      <th>SWISU</th>\n",
       "      <th>Sawyer</th>\n",
       "      <th>SawyerW</th>\n",
       "      <th>Somerst</th>\n",
       "      <th>StoneBr</th>\n",
       "      <th>Timber</th>\n",
       "      <th>Veenker</th>\n",
       "    </tr>\n",
       "  </thead>\n",
       "  <tbody>\n",
       "    <tr>\n",
       "      <th>0</th>\n",
       "      <td>0.0</td>\n",
       "      <td>0.0</td>\n",
       "      <td>0.0</td>\n",
       "      <td>0.0</td>\n",
       "      <td>0.0</td>\n",
       "      <td>1.0</td>\n",
       "      <td>0.0</td>\n",
       "      <td>0.0</td>\n",
       "      <td>0.0</td>\n",
       "      <td>0.0</td>\n",
       "      <td>...</td>\n",
       "      <td>0.0</td>\n",
       "      <td>0.0</td>\n",
       "      <td>0.0</td>\n",
       "      <td>0.0</td>\n",
       "      <td>0.0</td>\n",
       "      <td>0.0</td>\n",
       "      <td>0.0</td>\n",
       "      <td>0.0</td>\n",
       "      <td>0.0</td>\n",
       "      <td>0.0</td>\n",
       "    </tr>\n",
       "    <tr>\n",
       "      <th>1</th>\n",
       "      <td>0.0</td>\n",
       "      <td>0.0</td>\n",
       "      <td>0.0</td>\n",
       "      <td>0.0</td>\n",
       "      <td>0.0</td>\n",
       "      <td>0.0</td>\n",
       "      <td>0.0</td>\n",
       "      <td>0.0</td>\n",
       "      <td>0.0</td>\n",
       "      <td>0.0</td>\n",
       "      <td>...</td>\n",
       "      <td>0.0</td>\n",
       "      <td>0.0</td>\n",
       "      <td>0.0</td>\n",
       "      <td>0.0</td>\n",
       "      <td>0.0</td>\n",
       "      <td>0.0</td>\n",
       "      <td>0.0</td>\n",
       "      <td>0.0</td>\n",
       "      <td>0.0</td>\n",
       "      <td>1.0</td>\n",
       "    </tr>\n",
       "    <tr>\n",
       "      <th>2</th>\n",
       "      <td>0.0</td>\n",
       "      <td>0.0</td>\n",
       "      <td>0.0</td>\n",
       "      <td>0.0</td>\n",
       "      <td>0.0</td>\n",
       "      <td>1.0</td>\n",
       "      <td>0.0</td>\n",
       "      <td>0.0</td>\n",
       "      <td>0.0</td>\n",
       "      <td>0.0</td>\n",
       "      <td>...</td>\n",
       "      <td>0.0</td>\n",
       "      <td>0.0</td>\n",
       "      <td>0.0</td>\n",
       "      <td>0.0</td>\n",
       "      <td>0.0</td>\n",
       "      <td>0.0</td>\n",
       "      <td>0.0</td>\n",
       "      <td>0.0</td>\n",
       "      <td>0.0</td>\n",
       "      <td>0.0</td>\n",
       "    </tr>\n",
       "    <tr>\n",
       "      <th>3</th>\n",
       "      <td>0.0</td>\n",
       "      <td>0.0</td>\n",
       "      <td>0.0</td>\n",
       "      <td>0.0</td>\n",
       "      <td>0.0</td>\n",
       "      <td>0.0</td>\n",
       "      <td>1.0</td>\n",
       "      <td>0.0</td>\n",
       "      <td>0.0</td>\n",
       "      <td>0.0</td>\n",
       "      <td>...</td>\n",
       "      <td>0.0</td>\n",
       "      <td>0.0</td>\n",
       "      <td>0.0</td>\n",
       "      <td>0.0</td>\n",
       "      <td>0.0</td>\n",
       "      <td>0.0</td>\n",
       "      <td>0.0</td>\n",
       "      <td>0.0</td>\n",
       "      <td>0.0</td>\n",
       "      <td>0.0</td>\n",
       "    </tr>\n",
       "    <tr>\n",
       "      <th>4</th>\n",
       "      <td>0.0</td>\n",
       "      <td>0.0</td>\n",
       "      <td>0.0</td>\n",
       "      <td>0.0</td>\n",
       "      <td>0.0</td>\n",
       "      <td>0.0</td>\n",
       "      <td>0.0</td>\n",
       "      <td>0.0</td>\n",
       "      <td>0.0</td>\n",
       "      <td>0.0</td>\n",
       "      <td>...</td>\n",
       "      <td>1.0</td>\n",
       "      <td>0.0</td>\n",
       "      <td>0.0</td>\n",
       "      <td>0.0</td>\n",
       "      <td>0.0</td>\n",
       "      <td>0.0</td>\n",
       "      <td>0.0</td>\n",
       "      <td>0.0</td>\n",
       "      <td>0.0</td>\n",
       "      <td>0.0</td>\n",
       "    </tr>\n",
       "  </tbody>\n",
       "</table>\n",
       "<p>5 rows × 25 columns</p>\n",
       "</div>"
      ],
      "text/plain": [
       "   Blmngtn  Blueste  BrDale  BrkSide  ClearCr  CollgCr  Crawfor  Edwards  \\\n",
       "0      0.0      0.0     0.0      0.0      0.0      1.0      0.0      0.0   \n",
       "1      0.0      0.0     0.0      0.0      0.0      0.0      0.0      0.0   \n",
       "2      0.0      0.0     0.0      0.0      0.0      1.0      0.0      0.0   \n",
       "3      0.0      0.0     0.0      0.0      0.0      0.0      1.0      0.0   \n",
       "4      0.0      0.0     0.0      0.0      0.0      0.0      0.0      0.0   \n",
       "\n",
       "   Gilbert  IDOTRR  ...  NoRidge  NridgHt  OldTown  SWISU  Sawyer  SawyerW  \\\n",
       "0      0.0     0.0  ...      0.0      0.0      0.0    0.0     0.0      0.0   \n",
       "1      0.0     0.0  ...      0.0      0.0      0.0    0.0     0.0      0.0   \n",
       "2      0.0     0.0  ...      0.0      0.0      0.0    0.0     0.0      0.0   \n",
       "3      0.0     0.0  ...      0.0      0.0      0.0    0.0     0.0      0.0   \n",
       "4      0.0     0.0  ...      1.0      0.0      0.0    0.0     0.0      0.0   \n",
       "\n",
       "   Somerst  StoneBr  Timber  Veenker  \n",
       "0      0.0      0.0     0.0      0.0  \n",
       "1      0.0      0.0     0.0      1.0  \n",
       "2      0.0      0.0     0.0      0.0  \n",
       "3      0.0      0.0     0.0      0.0  \n",
       "4      0.0      0.0     0.0      0.0  \n",
       "\n",
       "[5 rows x 25 columns]"
      ]
     },
     "execution_count": 49,
     "metadata": {},
     "output_type": "execute_result"
    }
   ],
   "source": [
    "neighborhood_transformed_df.head()"
   ]
  },
  {
   "cell_type": "markdown",
   "id": "e57df83d",
   "metadata": {},
   "source": [
    "After labeling the columns with the correct neighborhood names, I can now concatenate this with the housing_features_transformed_df. To check..."
   ]
  },
  {
   "cell_type": "code",
   "execution_count": 50,
   "id": "2e5ceca8",
   "metadata": {},
   "outputs": [
    {
     "name": "stdout",
     "output_type": "stream",
     "text": [
      "(1460, 25)\n",
      "(1460, 12)\n"
     ]
    }
   ],
   "source": [
    "print(neighborhood_transformed_df.shape)\n",
    "print(housing_features_transformed_df.shape)"
   ]
  },
  {
   "cell_type": "markdown",
   "id": "9130acbd",
   "metadata": {},
   "source": [
    "Since the rows align, we should be able to concatenate the one-hot encodings to the dataframe. "
   ]
  },
  {
   "cell_type": "code",
   "execution_count": 51,
   "id": "b13ca6fb",
   "metadata": {},
   "outputs": [
    {
     "data": {
      "text/plain": [
       "(1460, 37)"
      ]
     },
     "execution_count": 51,
     "metadata": {},
     "output_type": "execute_result"
    }
   ],
   "source": [
    "housing_features_transformed_df.reset_index(drop=True, inplace=True)\n",
    "neighborhood_transformed_df.reset_index(drop=True, inplace=True)\n",
    "\n",
    "housing_features_final_df = pd.concat([housing_features_transformed_df, neighborhood_transformed_df], axis=1)\n",
    "housing_features_final_df.shape"
   ]
  },
  {
   "cell_type": "code",
   "execution_count": 52,
   "id": "cf2e8f81",
   "metadata": {},
   "outputs": [
    {
     "data": {
      "text/html": [
       "<div>\n",
       "<style scoped>\n",
       "    .dataframe tbody tr th:only-of-type {\n",
       "        vertical-align: middle;\n",
       "    }\n",
       "\n",
       "    .dataframe tbody tr th {\n",
       "        vertical-align: top;\n",
       "    }\n",
       "\n",
       "    .dataframe thead th {\n",
       "        text-align: right;\n",
       "    }\n",
       "</style>\n",
       "<table border=\"1\" class=\"dataframe\">\n",
       "  <thead>\n",
       "    <tr style=\"text-align: right;\">\n",
       "      <th></th>\n",
       "      <th>LotShape</th>\n",
       "      <th>Neighborhood</th>\n",
       "      <th>OverallQual</th>\n",
       "      <th>OverallCond</th>\n",
       "      <th>YearRemodAdd</th>\n",
       "      <th>GrLivArea</th>\n",
       "      <th>MoSold</th>\n",
       "      <th>Corner</th>\n",
       "      <th>CulDSac</th>\n",
       "      <th>FR2</th>\n",
       "      <th>...</th>\n",
       "      <th>NoRidge</th>\n",
       "      <th>NridgHt</th>\n",
       "      <th>OldTown</th>\n",
       "      <th>SWISU</th>\n",
       "      <th>Sawyer</th>\n",
       "      <th>SawyerW</th>\n",
       "      <th>Somerst</th>\n",
       "      <th>StoneBr</th>\n",
       "      <th>Timber</th>\n",
       "      <th>Veenker</th>\n",
       "    </tr>\n",
       "  </thead>\n",
       "  <tbody>\n",
       "    <tr>\n",
       "      <th>0</th>\n",
       "      <td>Reg</td>\n",
       "      <td>CollgCr</td>\n",
       "      <td>7</td>\n",
       "      <td>5</td>\n",
       "      <td>2003</td>\n",
       "      <td>1710</td>\n",
       "      <td>2</td>\n",
       "      <td>0.0</td>\n",
       "      <td>0.0</td>\n",
       "      <td>0.0</td>\n",
       "      <td>...</td>\n",
       "      <td>0.0</td>\n",
       "      <td>0.0</td>\n",
       "      <td>0.0</td>\n",
       "      <td>0.0</td>\n",
       "      <td>0.0</td>\n",
       "      <td>0.0</td>\n",
       "      <td>0.0</td>\n",
       "      <td>0.0</td>\n",
       "      <td>0.0</td>\n",
       "      <td>0.0</td>\n",
       "    </tr>\n",
       "    <tr>\n",
       "      <th>1</th>\n",
       "      <td>Reg</td>\n",
       "      <td>Veenker</td>\n",
       "      <td>6</td>\n",
       "      <td>8</td>\n",
       "      <td>1976</td>\n",
       "      <td>1262</td>\n",
       "      <td>5</td>\n",
       "      <td>0.0</td>\n",
       "      <td>0.0</td>\n",
       "      <td>1.0</td>\n",
       "      <td>...</td>\n",
       "      <td>0.0</td>\n",
       "      <td>0.0</td>\n",
       "      <td>0.0</td>\n",
       "      <td>0.0</td>\n",
       "      <td>0.0</td>\n",
       "      <td>0.0</td>\n",
       "      <td>0.0</td>\n",
       "      <td>0.0</td>\n",
       "      <td>0.0</td>\n",
       "      <td>1.0</td>\n",
       "    </tr>\n",
       "    <tr>\n",
       "      <th>2</th>\n",
       "      <td>IR1</td>\n",
       "      <td>CollgCr</td>\n",
       "      <td>7</td>\n",
       "      <td>5</td>\n",
       "      <td>2002</td>\n",
       "      <td>1786</td>\n",
       "      <td>9</td>\n",
       "      <td>0.0</td>\n",
       "      <td>0.0</td>\n",
       "      <td>0.0</td>\n",
       "      <td>...</td>\n",
       "      <td>0.0</td>\n",
       "      <td>0.0</td>\n",
       "      <td>0.0</td>\n",
       "      <td>0.0</td>\n",
       "      <td>0.0</td>\n",
       "      <td>0.0</td>\n",
       "      <td>0.0</td>\n",
       "      <td>0.0</td>\n",
       "      <td>0.0</td>\n",
       "      <td>0.0</td>\n",
       "    </tr>\n",
       "    <tr>\n",
       "      <th>3</th>\n",
       "      <td>IR1</td>\n",
       "      <td>Crawfor</td>\n",
       "      <td>7</td>\n",
       "      <td>5</td>\n",
       "      <td>1970</td>\n",
       "      <td>1717</td>\n",
       "      <td>2</td>\n",
       "      <td>1.0</td>\n",
       "      <td>0.0</td>\n",
       "      <td>0.0</td>\n",
       "      <td>...</td>\n",
       "      <td>0.0</td>\n",
       "      <td>0.0</td>\n",
       "      <td>0.0</td>\n",
       "      <td>0.0</td>\n",
       "      <td>0.0</td>\n",
       "      <td>0.0</td>\n",
       "      <td>0.0</td>\n",
       "      <td>0.0</td>\n",
       "      <td>0.0</td>\n",
       "      <td>0.0</td>\n",
       "    </tr>\n",
       "    <tr>\n",
       "      <th>4</th>\n",
       "      <td>IR1</td>\n",
       "      <td>NoRidge</td>\n",
       "      <td>8</td>\n",
       "      <td>5</td>\n",
       "      <td>2000</td>\n",
       "      <td>2198</td>\n",
       "      <td>12</td>\n",
       "      <td>0.0</td>\n",
       "      <td>0.0</td>\n",
       "      <td>1.0</td>\n",
       "      <td>...</td>\n",
       "      <td>1.0</td>\n",
       "      <td>0.0</td>\n",
       "      <td>0.0</td>\n",
       "      <td>0.0</td>\n",
       "      <td>0.0</td>\n",
       "      <td>0.0</td>\n",
       "      <td>0.0</td>\n",
       "      <td>0.0</td>\n",
       "      <td>0.0</td>\n",
       "      <td>0.0</td>\n",
       "    </tr>\n",
       "  </tbody>\n",
       "</table>\n",
       "<p>5 rows × 37 columns</p>\n",
       "</div>"
      ],
      "text/plain": [
       "  LotShape Neighborhood  OverallQual  OverallCond  YearRemodAdd  GrLivArea  \\\n",
       "0      Reg      CollgCr            7            5          2003       1710   \n",
       "1      Reg      Veenker            6            8          1976       1262   \n",
       "2      IR1      CollgCr            7            5          2002       1786   \n",
       "3      IR1      Crawfor            7            5          1970       1717   \n",
       "4      IR1      NoRidge            8            5          2000       2198   \n",
       "\n",
       "   MoSold  Corner  CulDSac  FR2  ...  NoRidge  NridgHt  OldTown  SWISU  \\\n",
       "0       2     0.0      0.0  0.0  ...      0.0      0.0      0.0    0.0   \n",
       "1       5     0.0      0.0  1.0  ...      0.0      0.0      0.0    0.0   \n",
       "2       9     0.0      0.0  0.0  ...      0.0      0.0      0.0    0.0   \n",
       "3       2     1.0      0.0  0.0  ...      0.0      0.0      0.0    0.0   \n",
       "4      12     0.0      0.0  1.0  ...      1.0      0.0      0.0    0.0   \n",
       "\n",
       "   Sawyer  SawyerW  Somerst  StoneBr  Timber  Veenker  \n",
       "0     0.0      0.0      0.0      0.0     0.0      0.0  \n",
       "1     0.0      0.0      0.0      0.0     0.0      1.0  \n",
       "2     0.0      0.0      0.0      0.0     0.0      0.0  \n",
       "3     0.0      0.0      0.0      0.0     0.0      0.0  \n",
       "4     0.0      0.0      0.0      0.0     0.0      0.0  \n",
       "\n",
       "[5 rows x 37 columns]"
      ]
     },
     "execution_count": 52,
     "metadata": {},
     "output_type": "execute_result"
    }
   ],
   "source": [
    "housing_features_final_df.head()"
   ]
  },
  {
   "cell_type": "code",
   "execution_count": 53,
   "id": "357fe8d9",
   "metadata": {},
   "outputs": [
    {
     "data": {
      "text/plain": [
       "0       CollgCr\n",
       "1       Veenker\n",
       "2       CollgCr\n",
       "3       Crawfor\n",
       "4       NoRidge\n",
       "         ...   \n",
       "1455    Gilbert\n",
       "1456     NWAmes\n",
       "1457    Crawfor\n",
       "1458      NAmes\n",
       "1459    Edwards\n",
       "Name: Neighborhood, Length: 1460, dtype: object"
      ]
     },
     "execution_count": 53,
     "metadata": {},
     "output_type": "execute_result"
    }
   ],
   "source": [
    "housing_features_final_df.pop(\"Neighborhood\")"
   ]
  },
  {
   "cell_type": "code",
   "execution_count": 54,
   "id": "8e679645",
   "metadata": {},
   "outputs": [
    {
     "data": {
      "text/html": [
       "<div>\n",
       "<style scoped>\n",
       "    .dataframe tbody tr th:only-of-type {\n",
       "        vertical-align: middle;\n",
       "    }\n",
       "\n",
       "    .dataframe tbody tr th {\n",
       "        vertical-align: top;\n",
       "    }\n",
       "\n",
       "    .dataframe thead th {\n",
       "        text-align: right;\n",
       "    }\n",
       "</style>\n",
       "<table border=\"1\" class=\"dataframe\">\n",
       "  <thead>\n",
       "    <tr style=\"text-align: right;\">\n",
       "      <th></th>\n",
       "      <th>LotShape</th>\n",
       "      <th>OverallQual</th>\n",
       "      <th>OverallCond</th>\n",
       "      <th>YearRemodAdd</th>\n",
       "      <th>GrLivArea</th>\n",
       "      <th>MoSold</th>\n",
       "      <th>Corner</th>\n",
       "      <th>CulDSac</th>\n",
       "      <th>FR2</th>\n",
       "      <th>FR3</th>\n",
       "      <th>...</th>\n",
       "      <th>NoRidge</th>\n",
       "      <th>NridgHt</th>\n",
       "      <th>OldTown</th>\n",
       "      <th>SWISU</th>\n",
       "      <th>Sawyer</th>\n",
       "      <th>SawyerW</th>\n",
       "      <th>Somerst</th>\n",
       "      <th>StoneBr</th>\n",
       "      <th>Timber</th>\n",
       "      <th>Veenker</th>\n",
       "    </tr>\n",
       "  </thead>\n",
       "  <tbody>\n",
       "    <tr>\n",
       "      <th>0</th>\n",
       "      <td>Reg</td>\n",
       "      <td>7</td>\n",
       "      <td>5</td>\n",
       "      <td>2003</td>\n",
       "      <td>1710</td>\n",
       "      <td>2</td>\n",
       "      <td>0.0</td>\n",
       "      <td>0.0</td>\n",
       "      <td>0.0</td>\n",
       "      <td>0.0</td>\n",
       "      <td>...</td>\n",
       "      <td>0.0</td>\n",
       "      <td>0.0</td>\n",
       "      <td>0.0</td>\n",
       "      <td>0.0</td>\n",
       "      <td>0.0</td>\n",
       "      <td>0.0</td>\n",
       "      <td>0.0</td>\n",
       "      <td>0.0</td>\n",
       "      <td>0.0</td>\n",
       "      <td>0.0</td>\n",
       "    </tr>\n",
       "    <tr>\n",
       "      <th>1</th>\n",
       "      <td>Reg</td>\n",
       "      <td>6</td>\n",
       "      <td>8</td>\n",
       "      <td>1976</td>\n",
       "      <td>1262</td>\n",
       "      <td>5</td>\n",
       "      <td>0.0</td>\n",
       "      <td>0.0</td>\n",
       "      <td>1.0</td>\n",
       "      <td>0.0</td>\n",
       "      <td>...</td>\n",
       "      <td>0.0</td>\n",
       "      <td>0.0</td>\n",
       "      <td>0.0</td>\n",
       "      <td>0.0</td>\n",
       "      <td>0.0</td>\n",
       "      <td>0.0</td>\n",
       "      <td>0.0</td>\n",
       "      <td>0.0</td>\n",
       "      <td>0.0</td>\n",
       "      <td>1.0</td>\n",
       "    </tr>\n",
       "    <tr>\n",
       "      <th>2</th>\n",
       "      <td>IR1</td>\n",
       "      <td>7</td>\n",
       "      <td>5</td>\n",
       "      <td>2002</td>\n",
       "      <td>1786</td>\n",
       "      <td>9</td>\n",
       "      <td>0.0</td>\n",
       "      <td>0.0</td>\n",
       "      <td>0.0</td>\n",
       "      <td>0.0</td>\n",
       "      <td>...</td>\n",
       "      <td>0.0</td>\n",
       "      <td>0.0</td>\n",
       "      <td>0.0</td>\n",
       "      <td>0.0</td>\n",
       "      <td>0.0</td>\n",
       "      <td>0.0</td>\n",
       "      <td>0.0</td>\n",
       "      <td>0.0</td>\n",
       "      <td>0.0</td>\n",
       "      <td>0.0</td>\n",
       "    </tr>\n",
       "    <tr>\n",
       "      <th>3</th>\n",
       "      <td>IR1</td>\n",
       "      <td>7</td>\n",
       "      <td>5</td>\n",
       "      <td>1970</td>\n",
       "      <td>1717</td>\n",
       "      <td>2</td>\n",
       "      <td>1.0</td>\n",
       "      <td>0.0</td>\n",
       "      <td>0.0</td>\n",
       "      <td>0.0</td>\n",
       "      <td>...</td>\n",
       "      <td>0.0</td>\n",
       "      <td>0.0</td>\n",
       "      <td>0.0</td>\n",
       "      <td>0.0</td>\n",
       "      <td>0.0</td>\n",
       "      <td>0.0</td>\n",
       "      <td>0.0</td>\n",
       "      <td>0.0</td>\n",
       "      <td>0.0</td>\n",
       "      <td>0.0</td>\n",
       "    </tr>\n",
       "    <tr>\n",
       "      <th>4</th>\n",
       "      <td>IR1</td>\n",
       "      <td>8</td>\n",
       "      <td>5</td>\n",
       "      <td>2000</td>\n",
       "      <td>2198</td>\n",
       "      <td>12</td>\n",
       "      <td>0.0</td>\n",
       "      <td>0.0</td>\n",
       "      <td>1.0</td>\n",
       "      <td>0.0</td>\n",
       "      <td>...</td>\n",
       "      <td>1.0</td>\n",
       "      <td>0.0</td>\n",
       "      <td>0.0</td>\n",
       "      <td>0.0</td>\n",
       "      <td>0.0</td>\n",
       "      <td>0.0</td>\n",
       "      <td>0.0</td>\n",
       "      <td>0.0</td>\n",
       "      <td>0.0</td>\n",
       "      <td>0.0</td>\n",
       "    </tr>\n",
       "  </tbody>\n",
       "</table>\n",
       "<p>5 rows × 36 columns</p>\n",
       "</div>"
      ],
      "text/plain": [
       "  LotShape  OverallQual  OverallCond  YearRemodAdd  GrLivArea  MoSold  Corner  \\\n",
       "0      Reg            7            5          2003       1710       2     0.0   \n",
       "1      Reg            6            8          1976       1262       5     0.0   \n",
       "2      IR1            7            5          2002       1786       9     0.0   \n",
       "3      IR1            7            5          1970       1717       2     1.0   \n",
       "4      IR1            8            5          2000       2198      12     0.0   \n",
       "\n",
       "   CulDSac  FR2  FR3  ...  NoRidge  NridgHt  OldTown  SWISU  Sawyer  SawyerW  \\\n",
       "0      0.0  0.0  0.0  ...      0.0      0.0      0.0    0.0     0.0      0.0   \n",
       "1      0.0  1.0  0.0  ...      0.0      0.0      0.0    0.0     0.0      0.0   \n",
       "2      0.0  0.0  0.0  ...      0.0      0.0      0.0    0.0     0.0      0.0   \n",
       "3      0.0  0.0  0.0  ...      0.0      0.0      0.0    0.0     0.0      0.0   \n",
       "4      0.0  1.0  0.0  ...      1.0      0.0      0.0    0.0     0.0      0.0   \n",
       "\n",
       "   Somerst  StoneBr  Timber  Veenker  \n",
       "0      0.0      0.0     0.0      0.0  \n",
       "1      0.0      0.0     0.0      1.0  \n",
       "2      0.0      0.0     0.0      0.0  \n",
       "3      0.0      0.0     0.0      0.0  \n",
       "4      0.0      0.0     0.0      0.0  \n",
       "\n",
       "[5 rows x 36 columns]"
      ]
     },
     "execution_count": 54,
     "metadata": {},
     "output_type": "execute_result"
    }
   ],
   "source": [
    "housing_features_final_df.head()"
   ]
  },
  {
   "cell_type": "markdown",
   "id": "08056ec3",
   "metadata": {},
   "source": [
    "This is the final dataframe that we are left with. The categorical-nominal features, **LotConfig and Neighborhood**, are both transformed into one-hot encodings. LotConfig (5) and Neighborhood (25) leaving 6 of the original columns unchanged. "
   ]
  },
  {
   "cell_type": "markdown",
   "id": "7f406959",
   "metadata": {},
   "source": [
    "### e) [Extra Credit] Feature Scaling"
   ]
  },
  {
   "cell_type": "markdown",
   "id": "34776338",
   "metadata": {},
   "source": [
    "This part asks us to scale the numerical features of **housing_features_final_df** using MinMax Scaler from sklearn.preprocessing. The numerical features of this dataframe would be **YearRemodAdd and GrLivArea**. "
   ]
  },
  {
   "cell_type": "code",
   "execution_count": 57,
   "id": "fe40ea10",
   "metadata": {},
   "outputs": [
    {
     "data": {
      "text/html": [
       "<div>\n",
       "<style scoped>\n",
       "    .dataframe tbody tr th:only-of-type {\n",
       "        vertical-align: middle;\n",
       "    }\n",
       "\n",
       "    .dataframe tbody tr th {\n",
       "        vertical-align: top;\n",
       "    }\n",
       "\n",
       "    .dataframe thead th {\n",
       "        text-align: right;\n",
       "    }\n",
       "</style>\n",
       "<table border=\"1\" class=\"dataframe\">\n",
       "  <thead>\n",
       "    <tr style=\"text-align: right;\">\n",
       "      <th></th>\n",
       "      <th>LotShape</th>\n",
       "      <th>OverallQual</th>\n",
       "      <th>OverallCond</th>\n",
       "      <th>YearRemodAdd</th>\n",
       "      <th>GrLivArea</th>\n",
       "      <th>MoSold</th>\n",
       "      <th>Corner</th>\n",
       "      <th>CulDSac</th>\n",
       "      <th>FR2</th>\n",
       "      <th>FR3</th>\n",
       "      <th>...</th>\n",
       "      <th>NoRidge</th>\n",
       "      <th>NridgHt</th>\n",
       "      <th>OldTown</th>\n",
       "      <th>SWISU</th>\n",
       "      <th>Sawyer</th>\n",
       "      <th>SawyerW</th>\n",
       "      <th>Somerst</th>\n",
       "      <th>StoneBr</th>\n",
       "      <th>Timber</th>\n",
       "      <th>Veenker</th>\n",
       "    </tr>\n",
       "  </thead>\n",
       "  <tbody>\n",
       "    <tr>\n",
       "      <th>0</th>\n",
       "      <td>Reg</td>\n",
       "      <td>7</td>\n",
       "      <td>5</td>\n",
       "      <td>0.883333</td>\n",
       "      <td>0.259231</td>\n",
       "      <td>2</td>\n",
       "      <td>0.0</td>\n",
       "      <td>0.0</td>\n",
       "      <td>0.0</td>\n",
       "      <td>0.0</td>\n",
       "      <td>...</td>\n",
       "      <td>0.0</td>\n",
       "      <td>0.0</td>\n",
       "      <td>0.0</td>\n",
       "      <td>0.0</td>\n",
       "      <td>0.0</td>\n",
       "      <td>0.0</td>\n",
       "      <td>0.0</td>\n",
       "      <td>0.0</td>\n",
       "      <td>0.0</td>\n",
       "      <td>0.0</td>\n",
       "    </tr>\n",
       "    <tr>\n",
       "      <th>1</th>\n",
       "      <td>Reg</td>\n",
       "      <td>6</td>\n",
       "      <td>8</td>\n",
       "      <td>0.433333</td>\n",
       "      <td>0.174830</td>\n",
       "      <td>5</td>\n",
       "      <td>0.0</td>\n",
       "      <td>0.0</td>\n",
       "      <td>1.0</td>\n",
       "      <td>0.0</td>\n",
       "      <td>...</td>\n",
       "      <td>0.0</td>\n",
       "      <td>0.0</td>\n",
       "      <td>0.0</td>\n",
       "      <td>0.0</td>\n",
       "      <td>0.0</td>\n",
       "      <td>0.0</td>\n",
       "      <td>0.0</td>\n",
       "      <td>0.0</td>\n",
       "      <td>0.0</td>\n",
       "      <td>1.0</td>\n",
       "    </tr>\n",
       "    <tr>\n",
       "      <th>2</th>\n",
       "      <td>IR1</td>\n",
       "      <td>7</td>\n",
       "      <td>5</td>\n",
       "      <td>0.866667</td>\n",
       "      <td>0.273549</td>\n",
       "      <td>9</td>\n",
       "      <td>0.0</td>\n",
       "      <td>0.0</td>\n",
       "      <td>0.0</td>\n",
       "      <td>0.0</td>\n",
       "      <td>...</td>\n",
       "      <td>0.0</td>\n",
       "      <td>0.0</td>\n",
       "      <td>0.0</td>\n",
       "      <td>0.0</td>\n",
       "      <td>0.0</td>\n",
       "      <td>0.0</td>\n",
       "      <td>0.0</td>\n",
       "      <td>0.0</td>\n",
       "      <td>0.0</td>\n",
       "      <td>0.0</td>\n",
       "    </tr>\n",
       "    <tr>\n",
       "      <th>3</th>\n",
       "      <td>IR1</td>\n",
       "      <td>7</td>\n",
       "      <td>5</td>\n",
       "      <td>0.333333</td>\n",
       "      <td>0.260550</td>\n",
       "      <td>2</td>\n",
       "      <td>1.0</td>\n",
       "      <td>0.0</td>\n",
       "      <td>0.0</td>\n",
       "      <td>0.0</td>\n",
       "      <td>...</td>\n",
       "      <td>0.0</td>\n",
       "      <td>0.0</td>\n",
       "      <td>0.0</td>\n",
       "      <td>0.0</td>\n",
       "      <td>0.0</td>\n",
       "      <td>0.0</td>\n",
       "      <td>0.0</td>\n",
       "      <td>0.0</td>\n",
       "      <td>0.0</td>\n",
       "      <td>0.0</td>\n",
       "    </tr>\n",
       "    <tr>\n",
       "      <th>4</th>\n",
       "      <td>IR1</td>\n",
       "      <td>8</td>\n",
       "      <td>5</td>\n",
       "      <td>0.833333</td>\n",
       "      <td>0.351168</td>\n",
       "      <td>12</td>\n",
       "      <td>0.0</td>\n",
       "      <td>0.0</td>\n",
       "      <td>1.0</td>\n",
       "      <td>0.0</td>\n",
       "      <td>...</td>\n",
       "      <td>1.0</td>\n",
       "      <td>0.0</td>\n",
       "      <td>0.0</td>\n",
       "      <td>0.0</td>\n",
       "      <td>0.0</td>\n",
       "      <td>0.0</td>\n",
       "      <td>0.0</td>\n",
       "      <td>0.0</td>\n",
       "      <td>0.0</td>\n",
       "      <td>0.0</td>\n",
       "    </tr>\n",
       "  </tbody>\n",
       "</table>\n",
       "<p>5 rows × 36 columns</p>\n",
       "</div>"
      ],
      "text/plain": [
       "  LotShape  OverallQual  OverallCond  YearRemodAdd  GrLivArea  MoSold  Corner  \\\n",
       "0      Reg            7            5      0.883333   0.259231       2     0.0   \n",
       "1      Reg            6            8      0.433333   0.174830       5     0.0   \n",
       "2      IR1            7            5      0.866667   0.273549       9     0.0   \n",
       "3      IR1            7            5      0.333333   0.260550       2     1.0   \n",
       "4      IR1            8            5      0.833333   0.351168      12     0.0   \n",
       "\n",
       "   CulDSac  FR2  FR3  ...  NoRidge  NridgHt  OldTown  SWISU  Sawyer  SawyerW  \\\n",
       "0      0.0  0.0  0.0  ...      0.0      0.0      0.0    0.0     0.0      0.0   \n",
       "1      0.0  1.0  0.0  ...      0.0      0.0      0.0    0.0     0.0      0.0   \n",
       "2      0.0  0.0  0.0  ...      0.0      0.0      0.0    0.0     0.0      0.0   \n",
       "3      0.0  0.0  0.0  ...      0.0      0.0      0.0    0.0     0.0      0.0   \n",
       "4      0.0  1.0  0.0  ...      1.0      0.0      0.0    0.0     0.0      0.0   \n",
       "\n",
       "   Somerst  StoneBr  Timber  Veenker  \n",
       "0      0.0      0.0     0.0      0.0  \n",
       "1      0.0      0.0     0.0      1.0  \n",
       "2      0.0      0.0     0.0      0.0  \n",
       "3      0.0      0.0     0.0      0.0  \n",
       "4      0.0      0.0     0.0      0.0  \n",
       "\n",
       "[5 rows x 36 columns]"
      ]
     },
     "execution_count": 57,
     "metadata": {},
     "output_type": "execute_result"
    }
   ],
   "source": [
    "from sklearn.preprocessing import MinMaxScaler\n",
    "scaler = MinMaxScaler()\n",
    "housing_features_final_df[[\"YearRemodAdd\", \"GrLivArea\"]] = scaler.fit_transform(housing_features_final_df[[\"YearRemodAdd\", \"GrLivArea\"]])\n",
    "housing_features_final_df.head()"
   ]
  },
  {
   "cell_type": "markdown",
   "id": "39f65733",
   "metadata": {},
   "source": [
    "### Edits to the Original Assignment - LotShape is considered a categorical-nominal variable now"
   ]
  },
  {
   "cell_type": "code",
   "execution_count": 58,
   "id": "28e533f8",
   "metadata": {},
   "outputs": [
    {
     "data": {
      "text/plain": [
       "array(['Reg', 'IR1', 'IR2', 'IR3'], dtype=object)"
      ]
     },
     "execution_count": 58,
     "metadata": {},
     "output_type": "execute_result"
    }
   ],
   "source": [
    "housing_features_final_df['LotShape'].unique()"
   ]
  },
  {
   "cell_type": "code",
   "execution_count": 60,
   "id": "6b1db493",
   "metadata": {},
   "outputs": [
    {
     "name": "stdout",
     "output_type": "stream",
     "text": [
      "['Reg', 'Reg', 'IR1', 'IR1', 'IR1', 'IR1', 'Reg', 'IR1', 'Reg', 'Reg', 'Reg', 'IR1', 'IR2', 'IR1', 'IR1', 'Reg', 'IR1', 'Reg', 'Reg', 'Reg', 'IR1', 'Reg', 'Reg', 'Reg', 'IR1', 'Reg', 'Reg', 'Reg', 'IR1', 'IR1', 'Reg', 'IR1', 'Reg', 'IR1', 'Reg', 'Reg', 'Reg', 'Reg', 'Reg', 'Reg', 'Reg', 'Reg', 'IR1', 'IR1', 'Reg', 'Reg', 'IR1', 'Reg', 'Reg', 'Reg', 'IR2', 'Reg', 'IR2', 'IR1', 'Reg', 'IR1', 'Reg', 'IR1', 'IR2', 'Reg', 'Reg', 'Reg', 'IR1', 'IR1', 'Reg', 'Reg', 'Reg', 'IR1', 'Reg', 'Reg', 'IR1', 'Reg', 'IR1', 'Reg', 'Reg', 'Reg', 'IR1', 'Reg', 'Reg', 'Reg', 'Reg', 'Reg', 'Reg', 'IR1', 'IR1', 'Reg', 'IR2', 'Reg', 'IR1', 'Reg', 'Reg', 'Reg', 'IR1', 'Reg', 'IR1', 'IR2', 'IR1', 'Reg', 'Reg', 'IR1', 'IR1', 'Reg', 'Reg', 'IR1', 'Reg', 'Reg', 'Reg', 'Reg', 'Reg', 'IR1', 'Reg', 'IR1', 'Reg', 'Reg', 'IR1', 'Reg', 'Reg', 'Reg', 'Reg', 'Reg', 'IR1', 'Reg', 'Reg', 'Reg', 'IR1', 'Reg', 'IR1', 'IR1', 'Reg', 'Reg', 'Reg', 'IR1', 'Reg', 'IR1', 'IR1', 'Reg', 'IR1', 'Reg', 'IR1', 'IR1', 'Reg', 'Reg', 'Reg', 'IR1', 'Reg', 'Reg', 'Reg', 'IR1', 'Reg', 'Reg', 'Reg', 'Reg', 'IR1', 'Reg', 'Reg', 'Reg', 'Reg', 'Reg', 'Reg', 'IR1', 'IR1', 'IR1', 'Reg', 'Reg', 'Reg', 'Reg', 'IR1', 'Reg', 'IR1', 'IR1', 'IR1', 'IR1', 'IR1', 'IR1', 'IR1', 'Reg', 'IR1', 'Reg', 'IR1', 'Reg', 'Reg', 'Reg', 'Reg', 'Reg', 'IR1', 'IR2', 'IR1', 'Reg', 'Reg', 'Reg', 'Reg', 'IR1', 'IR1', 'Reg', 'IR1', 'Reg', 'Reg', 'Reg', 'Reg', 'Reg', 'Reg', 'Reg', 'Reg', 'Reg', 'Reg', 'Reg', 'IR1', 'IR1', 'IR1', 'Reg', 'Reg', 'Reg', 'Reg', 'IR2', 'IR1', 'IR1', 'Reg', 'Reg', 'IR1', 'Reg', 'IR1', 'IR1', 'Reg', 'Reg', 'Reg', 'Reg', 'IR1', 'Reg', 'Reg', 'Reg', 'Reg', 'IR1', 'Reg', 'Reg', 'Reg', 'Reg', 'Reg', 'IR1', 'Reg', 'Reg', 'Reg', 'Reg', 'Reg', 'Reg', 'IR1', 'Reg', 'Reg', 'Reg', 'Reg', 'IR2', 'IR1', 'IR1', 'IR1', 'Reg', 'Reg', 'IR1', 'IR1', 'Reg', 'Reg', 'Reg', 'Reg', 'IR1', 'IR1', 'Reg', 'IR3', 'IR1', 'IR1', 'Reg', 'Reg', 'IR1', 'Reg', 'IR1', 'IR1', 'Reg', 'Reg', 'Reg', 'IR1', 'Reg', 'Reg', 'Reg', 'Reg', 'Reg', 'Reg', 'Reg', 'Reg', 'IR1', 'IR1', 'IR1', 'IR1', 'Reg', 'Reg', 'Reg', 'Reg', 'IR1', 'Reg', 'IR1', 'Reg', 'IR1', 'Reg', 'Reg', 'Reg', 'IR3', 'IR1', 'Reg', 'Reg', 'Reg', 'Reg', 'IR1', 'IR1', 'IR1', 'IR1', 'Reg', 'Reg', 'IR3', 'Reg', 'IR1', 'IR1', 'Reg', 'Reg', 'Reg', 'Reg', 'IR1', 'IR1', 'Reg', 'Reg', 'Reg', 'IR1', 'Reg', 'IR1', 'Reg', 'IR1', 'Reg', 'IR1', 'Reg', 'IR1', 'IR1', 'IR1', 'Reg', 'Reg', 'IR1', 'Reg', 'Reg', 'Reg', 'IR1', 'Reg', 'Reg', 'IR1', 'IR1', 'Reg', 'IR2', 'IR1', 'IR1', 'Reg', 'Reg', 'Reg', 'IR2', 'IR1', 'Reg', 'IR1', 'IR1', 'IR1', 'Reg', 'Reg', 'Reg', 'IR1', 'Reg', 'IR1', 'IR1', 'Reg', 'IR1', 'IR1', 'Reg', 'Reg', 'Reg', 'Reg', 'IR1', 'IR1', 'IR1', 'Reg', 'IR1', 'Reg', 'Reg', 'IR1', 'Reg', 'IR2', 'Reg', 'Reg', 'Reg', 'IR1', 'Reg', 'Reg', 'IR1', 'IR1', 'Reg', 'Reg', 'Reg', 'Reg', 'Reg', 'Reg', 'Reg', 'IR2', 'IR1', 'Reg', 'Reg', 'IR1', 'IR1', 'Reg', 'Reg', 'Reg', 'Reg', 'Reg', 'Reg', 'IR2', 'Reg', 'IR2', 'IR1', 'Reg', 'IR1', 'Reg', 'Reg', 'Reg', 'IR1', 'Reg', 'Reg', 'Reg', 'Reg', 'Reg', 'IR1', 'Reg', 'IR1', 'Reg', 'IR1', 'Reg', 'IR1', 'Reg', 'IR2', 'Reg', 'Reg', 'Reg', 'Reg', 'Reg', 'Reg', 'Reg', 'Reg', 'Reg', 'Reg', 'IR1', 'IR1', 'Reg', 'Reg', 'Reg', 'IR1', 'IR1', 'Reg', 'Reg', 'Reg', 'Reg', 'IR1', 'Reg', 'IR1', 'IR1', 'Reg', 'IR1', 'IR1', 'Reg', 'Reg', 'Reg', 'Reg', 'IR1', 'IR1', 'IR1', 'Reg', 'Reg', 'IR1', 'Reg', 'Reg', 'Reg', 'Reg', 'Reg', 'Reg', 'IR1', 'IR1', 'Reg', 'Reg', 'IR1', 'Reg', 'Reg', 'IR1', 'Reg', 'Reg', 'Reg', 'Reg', 'IR1', 'Reg', 'Reg', 'Reg', 'IR1', 'Reg', 'Reg', 'IR1', 'Reg', 'Reg', 'Reg', 'IR1', 'Reg', 'Reg', 'IR1', 'IR1', 'Reg', 'Reg', 'Reg', 'IR1', 'Reg', 'Reg', 'Reg', 'Reg', 'IR1', 'IR1', 'IR1', 'Reg', 'Reg', 'IR1', 'Reg', 'IR1', 'IR1', 'Reg', 'Reg', 'IR1', 'IR1', 'IR1', 'Reg', 'IR1', 'Reg', 'Reg', 'IR1', 'Reg', 'IR1', 'IR1', 'IR1', 'Reg', 'Reg', 'Reg', 'Reg', 'Reg', 'IR1', 'IR1', 'IR1', 'Reg', 'IR1', 'Reg', 'Reg', 'Reg', 'IR1', 'Reg', 'Reg', 'Reg', 'IR1', 'Reg', 'IR2', 'Reg', 'IR1', 'Reg', 'Reg', 'Reg', 'IR1', 'Reg', 'IR1', 'IR1', 'IR1', 'IR1', 'IR1', 'Reg', 'IR1', 'IR1', 'Reg', 'Reg', 'Reg', 'IR1', 'Reg', 'Reg', 'IR1', 'Reg', 'Reg', 'Reg', 'Reg', 'Reg', 'Reg', 'IR1', 'IR1', 'Reg', 'Reg', 'IR1', 'Reg', 'Reg', 'IR1', 'IR1', 'Reg', 'Reg', 'Reg', 'Reg', 'Reg', 'Reg', 'IR1', 'Reg', 'IR1', 'Reg', 'IR2', 'Reg', 'Reg', 'Reg', 'Reg', 'IR1', 'Reg', 'Reg', 'Reg', 'Reg', 'IR1', 'Reg', 'Reg', 'Reg', 'Reg', 'Reg', 'Reg', 'Reg', 'Reg', 'IR1', 'IR1', 'Reg', 'IR1', 'Reg', 'Reg', 'Reg', 'Reg', 'Reg', 'Reg', 'Reg', 'Reg', 'Reg', 'Reg', 'Reg', 'IR1', 'Reg', 'Reg', 'Reg', 'Reg', 'IR1', 'Reg', 'IR1', 'Reg', 'Reg', 'Reg', 'Reg', 'Reg', 'Reg', 'IR1', 'Reg', 'IR1', 'Reg', 'Reg', 'Reg', 'Reg', 'IR2', 'Reg', 'Reg', 'IR2', 'IR1', 'IR1', 'Reg', 'Reg', 'Reg', 'Reg', 'Reg', 'IR1', 'Reg', 'Reg', 'Reg', 'Reg', 'Reg', 'IR1', 'IR1', 'Reg', 'IR2', 'Reg', 'IR1', 'IR2', 'IR1', 'Reg', 'IR2', 'Reg', 'IR1', 'Reg', 'IR1', 'IR1', 'Reg', 'Reg', 'IR1', 'Reg', 'IR1', 'Reg', 'IR2', 'Reg', 'Reg', 'IR1', 'Reg', 'Reg', 'Reg', 'IR2', 'Reg', 'IR1', 'IR1', 'IR1', 'Reg', 'IR1', 'Reg', 'IR1', 'Reg', 'Reg', 'Reg', 'Reg', 'IR1', 'IR1', 'Reg', 'Reg', 'Reg', 'IR1', 'Reg', 'IR1', 'Reg', 'Reg', 'Reg', 'IR1', 'IR1', 'IR1', 'Reg', 'IR1', 'Reg', 'Reg', 'IR1', 'Reg', 'IR1', 'Reg', 'IR1', 'Reg', 'IR1', 'IR1', 'IR1', 'IR1', 'IR1', 'IR1', 'Reg', 'Reg', 'Reg', 'IR1', 'Reg', 'Reg', 'Reg', 'IR1', 'IR1', 'Reg', 'IR1', 'Reg', 'Reg', 'Reg', 'Reg', 'IR1', 'IR1', 'Reg', 'IR1', 'Reg', 'IR2', 'IR1', 'Reg', 'Reg', 'Reg', 'Reg', 'Reg', 'IR1', 'IR1', 'Reg', 'Reg', 'Reg', 'Reg', 'IR2', 'IR1', 'Reg', 'Reg', 'Reg', 'IR1', 'Reg', 'IR1', 'Reg', 'IR1', 'IR1', 'Reg', 'IR1', 'Reg', 'Reg', 'Reg', 'Reg', 'Reg', 'IR1', 'Reg', 'Reg', 'Reg', 'Reg', 'IR1', 'Reg', 'Reg', 'Reg', 'Reg', 'Reg', 'Reg', 'Reg', 'Reg', 'Reg', 'IR2', 'IR1', 'IR1', 'Reg', 'IR1', 'IR1', 'Reg', 'IR1', 'Reg', 'Reg', 'Reg', 'Reg', 'IR1', 'IR2', 'Reg', 'IR1', 'Reg', 'IR1', 'Reg', 'Reg', 'Reg', 'Reg', 'Reg', 'Reg', 'Reg', 'IR1', 'Reg', 'Reg', 'Reg', 'IR1', 'IR1', 'Reg', 'IR1', 'IR2', 'Reg', 'Reg', 'Reg', 'Reg', 'IR1', 'Reg', 'IR1', 'IR1', 'Reg', 'Reg', 'IR1', 'Reg', 'Reg', 'Reg', 'Reg', 'Reg', 'IR1', 'IR1', 'Reg', 'IR2', 'Reg', 'Reg', 'Reg', 'Reg', 'Reg', 'Reg', 'Reg', 'Reg', 'Reg', 'IR1', 'IR1', 'Reg', 'IR1', 'IR1', 'Reg', 'Reg', 'IR1', 'Reg', 'IR1', 'IR1', 'Reg', 'Reg', 'Reg', 'Reg', 'Reg', 'Reg', 'Reg', 'Reg', 'Reg', 'IR1', 'Reg', 'IR1', 'IR1', 'Reg', 'IR1', 'IR1', 'Reg', 'IR1', 'IR1', 'IR1', 'IR2', 'Reg', 'IR1', 'Reg', 'Reg', 'Reg', 'Reg', 'Reg', 'Reg', 'IR1', 'IR1', 'IR1', 'Reg', 'Reg', 'Reg', 'Reg', 'IR1', 'Reg', 'Reg', 'Reg', 'IR1', 'IR1', 'Reg', 'IR1', 'Reg', 'IR2', 'IR1', 'Reg', 'Reg', 'Reg', 'Reg', 'IR1', 'IR1', 'IR1', 'Reg', 'IR1', 'Reg', 'Reg', 'Reg', 'IR1', 'Reg', 'Reg', 'Reg', 'Reg', 'IR1', 'IR1', 'IR1', 'Reg', 'Reg', 'Reg', 'Reg', 'IR1', 'IR1', 'Reg', 'IR1', 'Reg', 'Reg', 'IR1', 'IR1', 'Reg', 'Reg', 'Reg', 'Reg', 'Reg', 'Reg', 'IR1', 'Reg', 'IR1', 'IR1', 'Reg', 'Reg', 'IR1', 'IR1', 'Reg', 'Reg', 'Reg', 'Reg', 'Reg', 'IR1', 'IR1', 'Reg', 'Reg', 'Reg', 'Reg', 'Reg', 'Reg', 'IR1', 'IR1', 'IR1', 'Reg', 'Reg', 'Reg', 'Reg', 'IR1', 'IR1', 'Reg', 'Reg', 'IR3', 'Reg', 'IR1', 'Reg', 'Reg', 'Reg', 'Reg', 'Reg', 'Reg', 'Reg', 'Reg', 'IR1', 'IR1', 'Reg', 'Reg', 'Reg', 'Reg', 'Reg', 'IR1', 'Reg', 'Reg', 'IR1', 'Reg', 'Reg', 'Reg', 'Reg', 'IR1', 'Reg', 'Reg', 'IR1', 'IR1', 'Reg', 'Reg', 'Reg', 'Reg', 'Reg', 'IR1', 'Reg', 'Reg', 'IR1', 'IR1', 'IR2', 'Reg', 'Reg', 'IR1', 'IR1', 'Reg', 'Reg', 'Reg', 'Reg', 'IR1', 'IR2', 'IR1', 'IR1', 'Reg', 'Reg', 'Reg', 'Reg', 'IR1', 'Reg', 'IR1', 'Reg', 'Reg', 'Reg', 'Reg', 'Reg', 'Reg', 'IR1', 'Reg', 'Reg', 'Reg', 'IR1', 'Reg', 'Reg', 'Reg', 'Reg', 'Reg', 'Reg', 'IR2', 'Reg', 'Reg', 'Reg', 'Reg', 'IR1', 'Reg', 'Reg', 'Reg', 'Reg', 'Reg', 'IR1', 'Reg', 'Reg', 'Reg', 'IR1', 'Reg', 'IR1', 'Reg', 'Reg', 'Reg', 'IR1', 'IR1', 'IR3', 'Reg', 'IR1', 'Reg', 'Reg', 'IR1', 'Reg', 'Reg', 'Reg', 'Reg', 'IR1', 'Reg', 'Reg', 'Reg', 'Reg', 'IR1', 'Reg', 'IR1', 'Reg', 'Reg', 'IR3', 'IR1', 'Reg', 'Reg', 'Reg', 'Reg', 'IR1', 'IR1', 'Reg', 'Reg', 'Reg', 'IR1', 'IR1', 'Reg', 'IR1', 'Reg', 'Reg', 'Reg', 'Reg', 'Reg', 'Reg', 'Reg', 'Reg', 'IR1', 'Reg', 'IR1', 'Reg', 'IR1', 'IR1', 'Reg', 'IR1', 'Reg', 'Reg', 'Reg', 'IR1', 'Reg', 'Reg', 'IR1', 'IR1', 'IR1', 'IR1', 'Reg', 'IR1', 'Reg', 'Reg', 'IR1', 'IR1', 'IR1', 'Reg', 'IR1', 'Reg', 'IR1', 'Reg', 'IR2', 'IR1', 'IR1', 'Reg', 'Reg', 'Reg', 'IR1', 'Reg', 'IR1', 'Reg', 'Reg', 'Reg', 'Reg', 'Reg', 'Reg', 'IR1', 'IR1', 'IR1', 'Reg', 'Reg', 'Reg', 'Reg', 'Reg', 'Reg', 'Reg', 'IR1', 'Reg', 'Reg', 'Reg', 'IR1', 'Reg', 'IR1', 'Reg', 'IR1', 'IR1', 'IR1', 'Reg', 'Reg', 'Reg', 'Reg', 'IR1', 'Reg', 'Reg', 'Reg', 'IR1', 'Reg', 'IR1', 'Reg', 'Reg', 'Reg', 'IR1', 'Reg', 'Reg', 'IR1', 'Reg', 'Reg', 'Reg', 'IR2', 'Reg', 'IR1', 'Reg', 'Reg', 'Reg', 'Reg', 'IR1', 'Reg', 'Reg', 'IR1', 'Reg', 'Reg', 'Reg', 'IR1', 'Reg', 'IR1', 'Reg', 'Reg', 'IR1', 'Reg', 'IR1', 'Reg', 'IR3', 'Reg', 'Reg', 'Reg', 'Reg', 'Reg', 'IR1', 'IR1', 'IR1', 'Reg', 'Reg', 'IR1', 'IR1', 'IR1', 'Reg', 'Reg', 'IR1', 'IR1', 'Reg', 'Reg', 'IR1', 'IR1', 'IR1', 'Reg', 'Reg', 'Reg', 'Reg', 'IR1', 'IR1', 'IR1', 'IR1', 'Reg', 'Reg', 'Reg', 'Reg', 'Reg', 'Reg', 'Reg', 'IR3', 'Reg', 'IR1', 'IR1', 'Reg', 'Reg', 'Reg', 'IR1', 'IR1', 'Reg', 'Reg', 'Reg', 'Reg', 'Reg', 'IR1', 'IR1', 'Reg', 'Reg', 'IR1', 'Reg', 'IR2', 'Reg', 'Reg', 'IR1', 'IR1', 'Reg', 'Reg', 'Reg', 'Reg', 'Reg', 'Reg', 'IR1', 'Reg', 'IR1', 'Reg', 'Reg', 'Reg', 'Reg', 'IR1', 'IR1', 'IR1', 'IR1', 'Reg', 'Reg', 'Reg', 'Reg', 'IR1', 'Reg', 'IR2', 'IR1', 'IR3', 'Reg', 'Reg', 'IR1', 'Reg', 'IR1', 'IR1', 'IR1', 'Reg', 'IR1', 'Reg', 'Reg', 'Reg', 'IR1', 'IR1', 'IR1', 'Reg', 'Reg', 'IR1', 'Reg', 'Reg', 'IR2', 'Reg', 'Reg', 'Reg', 'Reg', 'Reg', 'IR1', 'Reg', 'Reg', 'Reg', 'Reg', 'Reg', 'IR1', 'Reg', 'Reg', 'Reg', 'Reg', 'IR1', 'Reg', 'IR1', 'Reg', 'Reg', 'Reg', 'Reg', 'Reg', 'Reg', 'IR1', 'IR1', 'Reg', 'Reg', 'Reg', 'Reg', 'IR1', 'Reg', 'IR1', 'Reg', 'IR1', 'Reg', 'IR1', 'Reg', 'IR1', 'Reg', 'Reg', 'Reg', 'IR1', 'Reg', 'Reg', 'Reg', 'IR1', 'Reg', 'IR1', 'Reg', 'Reg', 'Reg', 'IR1', 'Reg', 'IR1', 'IR1', 'Reg', 'Reg', 'IR1', 'IR3', 'IR1', 'Reg', 'IR1', 'Reg', 'Reg', 'Reg', 'Reg', 'Reg', 'Reg', 'IR1', 'Reg', 'Reg', 'Reg', 'Reg', 'Reg', 'IR1', 'Reg', 'Reg', 'Reg', 'Reg', 'Reg', 'Reg', 'Reg', 'Reg', 'Reg', 'Reg', 'Reg', 'Reg', 'Reg']\n"
     ]
    }
   ],
   "source": [
    "lot_shape_list = housing_features_final_df['LotShape'].tolist()\n",
    "print(lot_shape_list)"
   ]
  },
  {
   "cell_type": "code",
   "execution_count": 62,
   "id": "1fd5ab77",
   "metadata": {},
   "outputs": [
    {
     "name": "stdout",
     "output_type": "stream",
     "text": [
      "[['Reg'], ['Reg'], ['IR1'], ['IR1'], ['IR1']]\n"
     ]
    }
   ],
   "source": [
    "lot_shape_list_of_lists = []\n",
    "\n",
    "for i in lot_shape_list: \n",
    "    lot_shape_list_of_lists.append([i])\n",
    "\n",
    "print(lot_shape_list_of_lists[:5])  "
   ]
  },
  {
   "cell_type": "code",
   "execution_count": 63,
   "id": "1c4cf31b",
   "metadata": {},
   "outputs": [
    {
     "name": "stdout",
     "output_type": "stream",
     "text": [
      "Unique vocabulary items 4\n",
      "\n",
      "[[0. 0. 0. 1.]\n",
      " [0. 0. 0. 1.]\n",
      " [1. 0. 0. 0.]\n",
      " ...\n",
      " [0. 0. 0. 1.]\n",
      " [0. 0. 0. 1.]\n",
      " [0. 0. 0. 1.]]\n"
     ]
    }
   ],
   "source": [
    "shape_encoder = OneHotEncoder()\n",
    "\n",
    "shape_encoder.fit(lot_shape_list_of_lists)\n",
    "\n",
    "print(f\"Unique vocabulary items {len(shape_encoder.categories_[0])}\\n\")\n",
    "\n",
    "shape_transformed = shape_encoder.transform(lot_shape_list_of_lists)\n",
    "\n",
    "shape_transformed = shape_transformed.toarray()\n",
    "\n",
    "print(shape_transformed)"
   ]
  },
  {
   "cell_type": "code",
   "execution_count": 66,
   "id": "25920de4",
   "metadata": {},
   "outputs": [
    {
     "name": "stdout",
     "output_type": "stream",
     "text": [
      "        0    1    2    3\n",
      "0     0.0  0.0  0.0  1.0\n",
      "1     0.0  0.0  0.0  1.0\n",
      "2     1.0  0.0  0.0  0.0\n",
      "3     1.0  0.0  0.0  0.0\n",
      "4     1.0  0.0  0.0  0.0\n",
      "...   ...  ...  ...  ...\n",
      "1455  0.0  0.0  0.0  1.0\n",
      "1456  0.0  0.0  0.0  1.0\n",
      "1457  0.0  0.0  0.0  1.0\n",
      "1458  0.0  0.0  0.0  1.0\n",
      "1459  0.0  0.0  0.0  1.0\n",
      "\n",
      "[1460 rows x 4 columns]\n"
     ]
    }
   ],
   "source": [
    "shape_transformed_df = pd.DataFrame(shape_transformed)\n",
    "print(shape_transformed_df)"
   ]
  },
  {
   "cell_type": "code",
   "execution_count": 70,
   "id": "875e93c9",
   "metadata": {},
   "outputs": [
    {
     "data": {
      "text/plain": [
       "12"
      ]
     },
     "execution_count": 70,
     "metadata": {},
     "output_type": "execute_result"
    }
   ],
   "source": [
    "temp = list(shape_transformed_df[1])\n",
    "temp.index(1.0)"
   ]
  },
  {
   "cell_type": "code",
   "execution_count": 71,
   "id": "687f0d09",
   "metadata": {},
   "outputs": [
    {
     "data": {
      "text/html": [
       "<div>\n",
       "<style scoped>\n",
       "    .dataframe tbody tr th:only-of-type {\n",
       "        vertical-align: middle;\n",
       "    }\n",
       "\n",
       "    .dataframe tbody tr th {\n",
       "        vertical-align: top;\n",
       "    }\n",
       "\n",
       "    .dataframe thead th {\n",
       "        text-align: right;\n",
       "    }\n",
       "</style>\n",
       "<table border=\"1\" class=\"dataframe\">\n",
       "  <thead>\n",
       "    <tr style=\"text-align: right;\">\n",
       "      <th></th>\n",
       "      <th>LotShape</th>\n",
       "      <th>OverallQual</th>\n",
       "      <th>OverallCond</th>\n",
       "      <th>YearRemodAdd</th>\n",
       "      <th>GrLivArea</th>\n",
       "      <th>MoSold</th>\n",
       "      <th>Corner</th>\n",
       "      <th>CulDSac</th>\n",
       "      <th>FR2</th>\n",
       "      <th>FR3</th>\n",
       "      <th>...</th>\n",
       "      <th>NoRidge</th>\n",
       "      <th>NridgHt</th>\n",
       "      <th>OldTown</th>\n",
       "      <th>SWISU</th>\n",
       "      <th>Sawyer</th>\n",
       "      <th>SawyerW</th>\n",
       "      <th>Somerst</th>\n",
       "      <th>StoneBr</th>\n",
       "      <th>Timber</th>\n",
       "      <th>Veenker</th>\n",
       "    </tr>\n",
       "  </thead>\n",
       "  <tbody>\n",
       "    <tr>\n",
       "      <th>12</th>\n",
       "      <td>IR2</td>\n",
       "      <td>5</td>\n",
       "      <td>6</td>\n",
       "      <td>0.2</td>\n",
       "      <td>0.108892</td>\n",
       "      <td>9</td>\n",
       "      <td>0.0</td>\n",
       "      <td>0.0</td>\n",
       "      <td>0.0</td>\n",
       "      <td>0.0</td>\n",
       "      <td>...</td>\n",
       "      <td>0.0</td>\n",
       "      <td>0.0</td>\n",
       "      <td>0.0</td>\n",
       "      <td>0.0</td>\n",
       "      <td>1.0</td>\n",
       "      <td>0.0</td>\n",
       "      <td>0.0</td>\n",
       "      <td>0.0</td>\n",
       "      <td>0.0</td>\n",
       "      <td>0.0</td>\n",
       "    </tr>\n",
       "  </tbody>\n",
       "</table>\n",
       "<p>1 rows × 36 columns</p>\n",
       "</div>"
      ],
      "text/plain": [
       "   LotShape  OverallQual  OverallCond  YearRemodAdd  GrLivArea  MoSold  \\\n",
       "12      IR2            5            6           0.2   0.108892       9   \n",
       "\n",
       "    Corner  CulDSac  FR2  FR3  ...  NoRidge  NridgHt  OldTown  SWISU  Sawyer  \\\n",
       "12     0.0      0.0  0.0  0.0  ...      0.0      0.0      0.0    0.0     1.0   \n",
       "\n",
       "    SawyerW  Somerst  StoneBr  Timber  Veenker  \n",
       "12      0.0      0.0      0.0     0.0      0.0  \n",
       "\n",
       "[1 rows x 36 columns]"
      ]
     },
     "execution_count": 71,
     "metadata": {},
     "output_type": "execute_result"
    }
   ],
   "source": [
    "housing_features_final_df[12:13]"
   ]
  },
  {
   "cell_type": "code",
   "execution_count": 72,
   "id": "372cc7cc",
   "metadata": {},
   "outputs": [],
   "source": [
    "shape_transformed_df.rename(columns = {0:'IR1', 1:'IR2', 2:'IR3', 3:'Reg'}, inplace = True)"
   ]
  },
  {
   "cell_type": "code",
   "execution_count": 73,
   "id": "03488549",
   "metadata": {},
   "outputs": [
    {
     "data": {
      "text/html": [
       "<div>\n",
       "<style scoped>\n",
       "    .dataframe tbody tr th:only-of-type {\n",
       "        vertical-align: middle;\n",
       "    }\n",
       "\n",
       "    .dataframe tbody tr th {\n",
       "        vertical-align: top;\n",
       "    }\n",
       "\n",
       "    .dataframe thead th {\n",
       "        text-align: right;\n",
       "    }\n",
       "</style>\n",
       "<table border=\"1\" class=\"dataframe\">\n",
       "  <thead>\n",
       "    <tr style=\"text-align: right;\">\n",
       "      <th></th>\n",
       "      <th>IR1</th>\n",
       "      <th>IR2</th>\n",
       "      <th>IR3</th>\n",
       "      <th>Reg</th>\n",
       "    </tr>\n",
       "  </thead>\n",
       "  <tbody>\n",
       "    <tr>\n",
       "      <th>0</th>\n",
       "      <td>0.0</td>\n",
       "      <td>0.0</td>\n",
       "      <td>0.0</td>\n",
       "      <td>1.0</td>\n",
       "    </tr>\n",
       "    <tr>\n",
       "      <th>1</th>\n",
       "      <td>0.0</td>\n",
       "      <td>0.0</td>\n",
       "      <td>0.0</td>\n",
       "      <td>1.0</td>\n",
       "    </tr>\n",
       "    <tr>\n",
       "      <th>2</th>\n",
       "      <td>1.0</td>\n",
       "      <td>0.0</td>\n",
       "      <td>0.0</td>\n",
       "      <td>0.0</td>\n",
       "    </tr>\n",
       "    <tr>\n",
       "      <th>3</th>\n",
       "      <td>1.0</td>\n",
       "      <td>0.0</td>\n",
       "      <td>0.0</td>\n",
       "      <td>0.0</td>\n",
       "    </tr>\n",
       "    <tr>\n",
       "      <th>4</th>\n",
       "      <td>1.0</td>\n",
       "      <td>0.0</td>\n",
       "      <td>0.0</td>\n",
       "      <td>0.0</td>\n",
       "    </tr>\n",
       "  </tbody>\n",
       "</table>\n",
       "</div>"
      ],
      "text/plain": [
       "   IR1  IR2  IR3  Reg\n",
       "0  0.0  0.0  0.0  1.0\n",
       "1  0.0  0.0  0.0  1.0\n",
       "2  1.0  0.0  0.0  0.0\n",
       "3  1.0  0.0  0.0  0.0\n",
       "4  1.0  0.0  0.0  0.0"
      ]
     },
     "execution_count": 73,
     "metadata": {},
     "output_type": "execute_result"
    }
   ],
   "source": [
    "shape_transformed_df.head()"
   ]
  },
  {
   "cell_type": "code",
   "execution_count": 77,
   "id": "af7ad9a4",
   "metadata": {},
   "outputs": [
    {
     "name": "stdout",
     "output_type": "stream",
     "text": [
      "(1460, 4)\n",
      "(1460, 36)\n"
     ]
    }
   ],
   "source": [
    "print(shape_transformed_df.shape)\n",
    "print(housing_features_final_df.shape)"
   ]
  },
  {
   "cell_type": "code",
   "execution_count": 78,
   "id": "90c41e09",
   "metadata": {},
   "outputs": [
    {
     "data": {
      "text/plain": [
       "(1460, 40)"
      ]
     },
     "execution_count": 78,
     "metadata": {},
     "output_type": "execute_result"
    }
   ],
   "source": [
    "housing_features_final_df.reset_index(drop=True, inplace=True)\n",
    "shape_transformed_df.reset_index(drop=True, inplace=True)\n",
    "\n",
    "official_features_df = pd.concat([housing_features_final_df, shape_transformed_df], axis=1)\n",
    "official_features_df.shape"
   ]
  },
  {
   "cell_type": "code",
   "execution_count": 79,
   "id": "7beb847f",
   "metadata": {},
   "outputs": [
    {
     "data": {
      "text/html": [
       "<div>\n",
       "<style scoped>\n",
       "    .dataframe tbody tr th:only-of-type {\n",
       "        vertical-align: middle;\n",
       "    }\n",
       "\n",
       "    .dataframe tbody tr th {\n",
       "        vertical-align: top;\n",
       "    }\n",
       "\n",
       "    .dataframe thead th {\n",
       "        text-align: right;\n",
       "    }\n",
       "</style>\n",
       "<table border=\"1\" class=\"dataframe\">\n",
       "  <thead>\n",
       "    <tr style=\"text-align: right;\">\n",
       "      <th></th>\n",
       "      <th>LotShape</th>\n",
       "      <th>OverallQual</th>\n",
       "      <th>OverallCond</th>\n",
       "      <th>YearRemodAdd</th>\n",
       "      <th>GrLivArea</th>\n",
       "      <th>MoSold</th>\n",
       "      <th>Corner</th>\n",
       "      <th>CulDSac</th>\n",
       "      <th>FR2</th>\n",
       "      <th>FR3</th>\n",
       "      <th>...</th>\n",
       "      <th>Sawyer</th>\n",
       "      <th>SawyerW</th>\n",
       "      <th>Somerst</th>\n",
       "      <th>StoneBr</th>\n",
       "      <th>Timber</th>\n",
       "      <th>Veenker</th>\n",
       "      <th>IR1</th>\n",
       "      <th>IR2</th>\n",
       "      <th>IR3</th>\n",
       "      <th>Reg</th>\n",
       "    </tr>\n",
       "  </thead>\n",
       "  <tbody>\n",
       "    <tr>\n",
       "      <th>0</th>\n",
       "      <td>Reg</td>\n",
       "      <td>7</td>\n",
       "      <td>5</td>\n",
       "      <td>0.883333</td>\n",
       "      <td>0.259231</td>\n",
       "      <td>2</td>\n",
       "      <td>0.0</td>\n",
       "      <td>0.0</td>\n",
       "      <td>0.0</td>\n",
       "      <td>0.0</td>\n",
       "      <td>...</td>\n",
       "      <td>0.0</td>\n",
       "      <td>0.0</td>\n",
       "      <td>0.0</td>\n",
       "      <td>0.0</td>\n",
       "      <td>0.0</td>\n",
       "      <td>0.0</td>\n",
       "      <td>0.0</td>\n",
       "      <td>0.0</td>\n",
       "      <td>0.0</td>\n",
       "      <td>1.0</td>\n",
       "    </tr>\n",
       "    <tr>\n",
       "      <th>1</th>\n",
       "      <td>Reg</td>\n",
       "      <td>6</td>\n",
       "      <td>8</td>\n",
       "      <td>0.433333</td>\n",
       "      <td>0.174830</td>\n",
       "      <td>5</td>\n",
       "      <td>0.0</td>\n",
       "      <td>0.0</td>\n",
       "      <td>1.0</td>\n",
       "      <td>0.0</td>\n",
       "      <td>...</td>\n",
       "      <td>0.0</td>\n",
       "      <td>0.0</td>\n",
       "      <td>0.0</td>\n",
       "      <td>0.0</td>\n",
       "      <td>0.0</td>\n",
       "      <td>1.0</td>\n",
       "      <td>0.0</td>\n",
       "      <td>0.0</td>\n",
       "      <td>0.0</td>\n",
       "      <td>1.0</td>\n",
       "    </tr>\n",
       "    <tr>\n",
       "      <th>2</th>\n",
       "      <td>IR1</td>\n",
       "      <td>7</td>\n",
       "      <td>5</td>\n",
       "      <td>0.866667</td>\n",
       "      <td>0.273549</td>\n",
       "      <td>9</td>\n",
       "      <td>0.0</td>\n",
       "      <td>0.0</td>\n",
       "      <td>0.0</td>\n",
       "      <td>0.0</td>\n",
       "      <td>...</td>\n",
       "      <td>0.0</td>\n",
       "      <td>0.0</td>\n",
       "      <td>0.0</td>\n",
       "      <td>0.0</td>\n",
       "      <td>0.0</td>\n",
       "      <td>0.0</td>\n",
       "      <td>1.0</td>\n",
       "      <td>0.0</td>\n",
       "      <td>0.0</td>\n",
       "      <td>0.0</td>\n",
       "    </tr>\n",
       "    <tr>\n",
       "      <th>3</th>\n",
       "      <td>IR1</td>\n",
       "      <td>7</td>\n",
       "      <td>5</td>\n",
       "      <td>0.333333</td>\n",
       "      <td>0.260550</td>\n",
       "      <td>2</td>\n",
       "      <td>1.0</td>\n",
       "      <td>0.0</td>\n",
       "      <td>0.0</td>\n",
       "      <td>0.0</td>\n",
       "      <td>...</td>\n",
       "      <td>0.0</td>\n",
       "      <td>0.0</td>\n",
       "      <td>0.0</td>\n",
       "      <td>0.0</td>\n",
       "      <td>0.0</td>\n",
       "      <td>0.0</td>\n",
       "      <td>1.0</td>\n",
       "      <td>0.0</td>\n",
       "      <td>0.0</td>\n",
       "      <td>0.0</td>\n",
       "    </tr>\n",
       "    <tr>\n",
       "      <th>4</th>\n",
       "      <td>IR1</td>\n",
       "      <td>8</td>\n",
       "      <td>5</td>\n",
       "      <td>0.833333</td>\n",
       "      <td>0.351168</td>\n",
       "      <td>12</td>\n",
       "      <td>0.0</td>\n",
       "      <td>0.0</td>\n",
       "      <td>1.0</td>\n",
       "      <td>0.0</td>\n",
       "      <td>...</td>\n",
       "      <td>0.0</td>\n",
       "      <td>0.0</td>\n",
       "      <td>0.0</td>\n",
       "      <td>0.0</td>\n",
       "      <td>0.0</td>\n",
       "      <td>0.0</td>\n",
       "      <td>1.0</td>\n",
       "      <td>0.0</td>\n",
       "      <td>0.0</td>\n",
       "      <td>0.0</td>\n",
       "    </tr>\n",
       "  </tbody>\n",
       "</table>\n",
       "<p>5 rows × 40 columns</p>\n",
       "</div>"
      ],
      "text/plain": [
       "  LotShape  OverallQual  OverallCond  YearRemodAdd  GrLivArea  MoSold  Corner  \\\n",
       "0      Reg            7            5      0.883333   0.259231       2     0.0   \n",
       "1      Reg            6            8      0.433333   0.174830       5     0.0   \n",
       "2      IR1            7            5      0.866667   0.273549       9     0.0   \n",
       "3      IR1            7            5      0.333333   0.260550       2     1.0   \n",
       "4      IR1            8            5      0.833333   0.351168      12     0.0   \n",
       "\n",
       "   CulDSac  FR2  FR3  ...  Sawyer  SawyerW  Somerst  StoneBr  Timber  Veenker  \\\n",
       "0      0.0  0.0  0.0  ...     0.0      0.0      0.0      0.0     0.0      0.0   \n",
       "1      0.0  1.0  0.0  ...     0.0      0.0      0.0      0.0     0.0      1.0   \n",
       "2      0.0  0.0  0.0  ...     0.0      0.0      0.0      0.0     0.0      0.0   \n",
       "3      0.0  0.0  0.0  ...     0.0      0.0      0.0      0.0     0.0      0.0   \n",
       "4      0.0  1.0  0.0  ...     0.0      0.0      0.0      0.0     0.0      0.0   \n",
       "\n",
       "   IR1  IR2  IR3  Reg  \n",
       "0  0.0  0.0  0.0  1.0  \n",
       "1  0.0  0.0  0.0  1.0  \n",
       "2  1.0  0.0  0.0  0.0  \n",
       "3  1.0  0.0  0.0  0.0  \n",
       "4  1.0  0.0  0.0  0.0  \n",
       "\n",
       "[5 rows x 40 columns]"
      ]
     },
     "execution_count": 79,
     "metadata": {},
     "output_type": "execute_result"
    }
   ],
   "source": [
    "official_features_df.head()"
   ]
  },
  {
   "cell_type": "code",
   "execution_count": 80,
   "id": "d559ecd3",
   "metadata": {},
   "outputs": [
    {
     "data": {
      "text/plain": [
       "0       Reg\n",
       "1       Reg\n",
       "2       IR1\n",
       "3       IR1\n",
       "4       IR1\n",
       "       ... \n",
       "1455    Reg\n",
       "1456    Reg\n",
       "1457    Reg\n",
       "1458    Reg\n",
       "1459    Reg\n",
       "Name: LotShape, Length: 1460, dtype: object"
      ]
     },
     "execution_count": 80,
     "metadata": {},
     "output_type": "execute_result"
    }
   ],
   "source": [
    "official_features_df.pop('LotShape')"
   ]
  },
  {
   "cell_type": "code",
   "execution_count": 81,
   "id": "35ba81ca",
   "metadata": {},
   "outputs": [
    {
     "data": {
      "text/html": [
       "<div>\n",
       "<style scoped>\n",
       "    .dataframe tbody tr th:only-of-type {\n",
       "        vertical-align: middle;\n",
       "    }\n",
       "\n",
       "    .dataframe tbody tr th {\n",
       "        vertical-align: top;\n",
       "    }\n",
       "\n",
       "    .dataframe thead th {\n",
       "        text-align: right;\n",
       "    }\n",
       "</style>\n",
       "<table border=\"1\" class=\"dataframe\">\n",
       "  <thead>\n",
       "    <tr style=\"text-align: right;\">\n",
       "      <th></th>\n",
       "      <th>OverallQual</th>\n",
       "      <th>OverallCond</th>\n",
       "      <th>YearRemodAdd</th>\n",
       "      <th>GrLivArea</th>\n",
       "      <th>MoSold</th>\n",
       "      <th>Corner</th>\n",
       "      <th>CulDSac</th>\n",
       "      <th>FR2</th>\n",
       "      <th>FR3</th>\n",
       "      <th>Inside</th>\n",
       "      <th>...</th>\n",
       "      <th>Sawyer</th>\n",
       "      <th>SawyerW</th>\n",
       "      <th>Somerst</th>\n",
       "      <th>StoneBr</th>\n",
       "      <th>Timber</th>\n",
       "      <th>Veenker</th>\n",
       "      <th>IR1</th>\n",
       "      <th>IR2</th>\n",
       "      <th>IR3</th>\n",
       "      <th>Reg</th>\n",
       "    </tr>\n",
       "  </thead>\n",
       "  <tbody>\n",
       "    <tr>\n",
       "      <th>0</th>\n",
       "      <td>7</td>\n",
       "      <td>5</td>\n",
       "      <td>0.883333</td>\n",
       "      <td>0.259231</td>\n",
       "      <td>2</td>\n",
       "      <td>0.0</td>\n",
       "      <td>0.0</td>\n",
       "      <td>0.0</td>\n",
       "      <td>0.0</td>\n",
       "      <td>1.0</td>\n",
       "      <td>...</td>\n",
       "      <td>0.0</td>\n",
       "      <td>0.0</td>\n",
       "      <td>0.0</td>\n",
       "      <td>0.0</td>\n",
       "      <td>0.0</td>\n",
       "      <td>0.0</td>\n",
       "      <td>0.0</td>\n",
       "      <td>0.0</td>\n",
       "      <td>0.0</td>\n",
       "      <td>1.0</td>\n",
       "    </tr>\n",
       "    <tr>\n",
       "      <th>1</th>\n",
       "      <td>6</td>\n",
       "      <td>8</td>\n",
       "      <td>0.433333</td>\n",
       "      <td>0.174830</td>\n",
       "      <td>5</td>\n",
       "      <td>0.0</td>\n",
       "      <td>0.0</td>\n",
       "      <td>1.0</td>\n",
       "      <td>0.0</td>\n",
       "      <td>0.0</td>\n",
       "      <td>...</td>\n",
       "      <td>0.0</td>\n",
       "      <td>0.0</td>\n",
       "      <td>0.0</td>\n",
       "      <td>0.0</td>\n",
       "      <td>0.0</td>\n",
       "      <td>1.0</td>\n",
       "      <td>0.0</td>\n",
       "      <td>0.0</td>\n",
       "      <td>0.0</td>\n",
       "      <td>1.0</td>\n",
       "    </tr>\n",
       "    <tr>\n",
       "      <th>2</th>\n",
       "      <td>7</td>\n",
       "      <td>5</td>\n",
       "      <td>0.866667</td>\n",
       "      <td>0.273549</td>\n",
       "      <td>9</td>\n",
       "      <td>0.0</td>\n",
       "      <td>0.0</td>\n",
       "      <td>0.0</td>\n",
       "      <td>0.0</td>\n",
       "      <td>1.0</td>\n",
       "      <td>...</td>\n",
       "      <td>0.0</td>\n",
       "      <td>0.0</td>\n",
       "      <td>0.0</td>\n",
       "      <td>0.0</td>\n",
       "      <td>0.0</td>\n",
       "      <td>0.0</td>\n",
       "      <td>1.0</td>\n",
       "      <td>0.0</td>\n",
       "      <td>0.0</td>\n",
       "      <td>0.0</td>\n",
       "    </tr>\n",
       "    <tr>\n",
       "      <th>3</th>\n",
       "      <td>7</td>\n",
       "      <td>5</td>\n",
       "      <td>0.333333</td>\n",
       "      <td>0.260550</td>\n",
       "      <td>2</td>\n",
       "      <td>1.0</td>\n",
       "      <td>0.0</td>\n",
       "      <td>0.0</td>\n",
       "      <td>0.0</td>\n",
       "      <td>0.0</td>\n",
       "      <td>...</td>\n",
       "      <td>0.0</td>\n",
       "      <td>0.0</td>\n",
       "      <td>0.0</td>\n",
       "      <td>0.0</td>\n",
       "      <td>0.0</td>\n",
       "      <td>0.0</td>\n",
       "      <td>1.0</td>\n",
       "      <td>0.0</td>\n",
       "      <td>0.0</td>\n",
       "      <td>0.0</td>\n",
       "    </tr>\n",
       "    <tr>\n",
       "      <th>4</th>\n",
       "      <td>8</td>\n",
       "      <td>5</td>\n",
       "      <td>0.833333</td>\n",
       "      <td>0.351168</td>\n",
       "      <td>12</td>\n",
       "      <td>0.0</td>\n",
       "      <td>0.0</td>\n",
       "      <td>1.0</td>\n",
       "      <td>0.0</td>\n",
       "      <td>0.0</td>\n",
       "      <td>...</td>\n",
       "      <td>0.0</td>\n",
       "      <td>0.0</td>\n",
       "      <td>0.0</td>\n",
       "      <td>0.0</td>\n",
       "      <td>0.0</td>\n",
       "      <td>0.0</td>\n",
       "      <td>1.0</td>\n",
       "      <td>0.0</td>\n",
       "      <td>0.0</td>\n",
       "      <td>0.0</td>\n",
       "    </tr>\n",
       "  </tbody>\n",
       "</table>\n",
       "<p>5 rows × 39 columns</p>\n",
       "</div>"
      ],
      "text/plain": [
       "   OverallQual  OverallCond  YearRemodAdd  GrLivArea  MoSold  Corner  CulDSac  \\\n",
       "0            7            5      0.883333   0.259231       2     0.0      0.0   \n",
       "1            6            8      0.433333   0.174830       5     0.0      0.0   \n",
       "2            7            5      0.866667   0.273549       9     0.0      0.0   \n",
       "3            7            5      0.333333   0.260550       2     1.0      0.0   \n",
       "4            8            5      0.833333   0.351168      12     0.0      0.0   \n",
       "\n",
       "   FR2  FR3  Inside  ...  Sawyer  SawyerW  Somerst  StoneBr  Timber  Veenker  \\\n",
       "0  0.0  0.0     1.0  ...     0.0      0.0      0.0      0.0     0.0      0.0   \n",
       "1  1.0  0.0     0.0  ...     0.0      0.0      0.0      0.0     0.0      1.0   \n",
       "2  0.0  0.0     1.0  ...     0.0      0.0      0.0      0.0     0.0      0.0   \n",
       "3  0.0  0.0     0.0  ...     0.0      0.0      0.0      0.0     0.0      0.0   \n",
       "4  1.0  0.0     0.0  ...     0.0      0.0      0.0      0.0     0.0      0.0   \n",
       "\n",
       "   IR1  IR2  IR3  Reg  \n",
       "0  0.0  0.0  0.0  1.0  \n",
       "1  0.0  0.0  0.0  1.0  \n",
       "2  1.0  0.0  0.0  0.0  \n",
       "3  1.0  0.0  0.0  0.0  \n",
       "4  1.0  0.0  0.0  0.0  \n",
       "\n",
       "[5 rows x 39 columns]"
      ]
     },
     "execution_count": 81,
     "metadata": {},
     "output_type": "execute_result"
    }
   ],
   "source": [
    "official_features_df.head()"
   ]
  },
  {
   "cell_type": "code",
   "execution_count": null,
   "id": "cec3bd18",
   "metadata": {},
   "outputs": [],
   "source": []
  }
 ],
 "metadata": {
  "kernelspec": {
   "display_name": "Python 3 (ipykernel)",
   "language": "python",
   "name": "python3"
  },
  "language_info": {
   "codemirror_mode": {
    "name": "ipython",
    "version": 3
   },
   "file_extension": ".py",
   "mimetype": "text/x-python",
   "name": "python",
   "nbconvert_exporter": "python",
   "pygments_lexer": "ipython3",
   "version": "3.9.12"
  }
 },
 "nbformat": 4,
 "nbformat_minor": 5
}
