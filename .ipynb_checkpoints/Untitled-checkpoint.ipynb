{
 "cells": [
  {
   "cell_type": "markdown",
   "id": "cb3e110f",
   "metadata": {},
   "source": [
    "# Assignment 4: Decision Trees and Ensemble Methods"
   ]
  },
  {
   "cell_type": "markdown",
   "id": "647b74a5",
   "metadata": {},
   "source": [
    "<mark> Ethan Wen - Professor Mishra - 02/27/2022 </mark>"
   ]
  },
  {
   "cell_type": "code",
   "execution_count": null,
   "id": "41090141",
   "metadata": {},
   "outputs": [],
   "source": []
  }
 ],
 "metadata": {
  "kernelspec": {
   "display_name": "Python 3 (ipykernel)",
   "language": "python",
   "name": "python3"
  },
  "language_info": {
   "codemirror_mode": {
    "name": "ipython",
    "version": 3
   },
   "file_extension": ".py",
   "mimetype": "text/x-python",
   "name": "python",
   "nbconvert_exporter": "python",
   "pygments_lexer": "ipython3",
   "version": "3.9.12"
  }
 },
 "nbformat": 4,
 "nbformat_minor": 5
}
