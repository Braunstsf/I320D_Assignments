{
 "cells": [
  {
   "cell_type": "markdown",
   "id": "9744c29d",
   "metadata": {},
   "source": [
    "# Assignment 2: Linear Regression"
   ]
  },
  {
   "cell_type": "markdown",
   "id": "20a46af2",
   "metadata": {},
   "source": [
    "<mark> Ethan Wen - 2/06/2022 - Professor Mishra </mark>"
   ]
  },
  {
   "cell_type": "markdown",
   "id": "0bfaf23f",
   "metadata": {},
   "source": [
    "From Kaggle, we will be using the same dataset that we used in **Assignment 1: Feature Engineering**. We will be using linear regression to predict SalesPrice from a set of features. "
   ]
  },
  {
   "cell_type": "markdown",
   "id": "7a5304ba",
   "metadata": {},
   "source": [
    "We can find the dataset located here (training split of the original dataset): [Click Here](https://www.kaggle.com/competitions/house-prices-advanced-regression-techniques/data?select=train.csv)"
   ]
  },
  {
   "cell_type": "markdown",
   "id": "063efc14",
   "metadata": {},
   "source": [
    "We can find the descriptions of the columns right [here](https://www.kaggle.com/competitions/house-prices-advanced-regression-techniques/data?select=data_description.txt)"
   ]
  },
  {
   "cell_type": "markdown",
   "id": "8890d76d",
   "metadata": {},
   "source": [
    "The training dataset and the descriptions of the column are named train.csv and data_description.txt respectively. "
   ]
  },
  {
   "cell_type": "markdown",
   "id": "d9f15a70",
   "metadata": {},
   "source": [
    "***Changes from Assignment 1**, LotShape is considered a categorical nominal variable since its hard to predict whether the features of being regular or irregular can affect the sales price. "
   ]
  },
  {
   "cell_type": "markdown",
   "id": "d69d8ecc",
   "metadata": {},
   "source": [
    "For the assignment, we will be using the following features: LotShape, LotConfig, Neighborhood, OverallQual, OverallCond, YearRemodAdd, GrLivArea, and MoSold. "
   ]
  },
  {
   "cell_type": "markdown",
   "id": "6cb08a68",
   "metadata": {},
   "source": [
    "The label column will be SalesPrice - we will be predicting this. We already have the original feature - SalePrice - the actual sale price of the houses. "
   ]
  },
  {
   "cell_type": "markdown",
   "id": "955395a0",
   "metadata": {},
   "source": [
    "### 1. Feature Engineering (*I will be transferring the code used in Assignment 1 for the first part.)"
   ]
  },
  {
   "cell_type": "code",
   "execution_count": 1,
   "id": "69a7fefb",
   "metadata": {},
   "outputs": [],
   "source": [
    "import pandas as pd\n",
    "house_predict_df = pd.read_csv(\"train.csv\")"
   ]
  },
  {
   "cell_type": "code",
   "execution_count": 2,
   "id": "8dfbaa3a",
   "metadata": {},
   "outputs": [
    {
     "name": "stdout",
     "output_type": "stream",
     "text": [
      "        Id  MSSubClass MSZoning  LotFrontage  LotArea Street Alley LotShape  \\\n",
      "0        1          60       RL         65.0     8450   Pave   NaN      Reg   \n",
      "1        2          20       RL         80.0     9600   Pave   NaN      Reg   \n",
      "2        3          60       RL         68.0    11250   Pave   NaN      IR1   \n",
      "3        4          70       RL         60.0     9550   Pave   NaN      IR1   \n",
      "4        5          60       RL         84.0    14260   Pave   NaN      IR1   \n",
      "...    ...         ...      ...          ...      ...    ...   ...      ...   \n",
      "1455  1456          60       RL         62.0     7917   Pave   NaN      Reg   \n",
      "1456  1457          20       RL         85.0    13175   Pave   NaN      Reg   \n",
      "1457  1458          70       RL         66.0     9042   Pave   NaN      Reg   \n",
      "1458  1459          20       RL         68.0     9717   Pave   NaN      Reg   \n",
      "1459  1460          20       RL         75.0     9937   Pave   NaN      Reg   \n",
      "\n",
      "     LandContour Utilities  ... PoolArea PoolQC  Fence MiscFeature MiscVal  \\\n",
      "0            Lvl    AllPub  ...        0    NaN    NaN         NaN       0   \n",
      "1            Lvl    AllPub  ...        0    NaN    NaN         NaN       0   \n",
      "2            Lvl    AllPub  ...        0    NaN    NaN         NaN       0   \n",
      "3            Lvl    AllPub  ...        0    NaN    NaN         NaN       0   \n",
      "4            Lvl    AllPub  ...        0    NaN    NaN         NaN       0   \n",
      "...          ...       ...  ...      ...    ...    ...         ...     ...   \n",
      "1455         Lvl    AllPub  ...        0    NaN    NaN         NaN       0   \n",
      "1456         Lvl    AllPub  ...        0    NaN  MnPrv         NaN       0   \n",
      "1457         Lvl    AllPub  ...        0    NaN  GdPrv        Shed    2500   \n",
      "1458         Lvl    AllPub  ...        0    NaN    NaN         NaN       0   \n",
      "1459         Lvl    AllPub  ...        0    NaN    NaN         NaN       0   \n",
      "\n",
      "     MoSold YrSold  SaleType  SaleCondition  SalePrice  \n",
      "0         2   2008        WD         Normal     208500  \n",
      "1         5   2007        WD         Normal     181500  \n",
      "2         9   2008        WD         Normal     223500  \n",
      "3         2   2006        WD        Abnorml     140000  \n",
      "4        12   2008        WD         Normal     250000  \n",
      "...     ...    ...       ...            ...        ...  \n",
      "1455      8   2007        WD         Normal     175000  \n",
      "1456      2   2010        WD         Normal     210000  \n",
      "1457      5   2010        WD         Normal     266500  \n",
      "1458      4   2010        WD         Normal     142125  \n",
      "1459      6   2008        WD         Normal     147500  \n",
      "\n",
      "[1460 rows x 81 columns]\n"
     ]
    }
   ],
   "source": [
    "print(house_predict_df)"
   ]
  },
  {
   "cell_type": "code",
   "execution_count": 3,
   "id": "f3d49650",
   "metadata": {},
   "outputs": [
    {
     "data": {
      "text/plain": [
       "0"
      ]
     },
     "execution_count": 3,
     "metadata": {},
     "output_type": "execute_result"
    }
   ],
   "source": [
    "house_predict_df.duplicated().sum()"
   ]
  },
  {
   "cell_type": "code",
   "execution_count": 4,
   "id": "233a10bb",
   "metadata": {},
   "outputs": [],
   "source": [
    "temp = house_predict_df[[\"LotShape\",\"LotConfig\",\"Neighborhood\",\"OverallQual\", \"OverallCond\", \"YearRemodAdd\", \"GrLivArea\", \"MoSold\", \"SalePrice\"]] "
   ]
  },
  {
   "cell_type": "code",
   "execution_count": 5,
   "id": "6928d597",
   "metadata": {},
   "outputs": [
    {
     "name": "stdout",
     "output_type": "stream",
     "text": [
      "<class 'pandas.core.frame.DataFrame'>\n",
      "RangeIndex: 1460 entries, 0 to 1459\n",
      "Data columns (total 9 columns):\n",
      " #   Column        Non-Null Count  Dtype \n",
      "---  ------        --------------  ----- \n",
      " 0   LotShape      1460 non-null   object\n",
      " 1   LotConfig     1460 non-null   object\n",
      " 2   Neighborhood  1460 non-null   object\n",
      " 3   OverallQual   1460 non-null   int64 \n",
      " 4   OverallCond   1460 non-null   int64 \n",
      " 5   YearRemodAdd  1460 non-null   int64 \n",
      " 6   GrLivArea     1460 non-null   int64 \n",
      " 7   MoSold        1460 non-null   int64 \n",
      " 8   SalePrice     1460 non-null   int64 \n",
      "dtypes: int64(6), object(3)\n",
      "memory usage: 102.8+ KB\n"
     ]
    }
   ],
   "source": [
    "temp.info()"
   ]
  },
  {
   "cell_type": "code",
   "execution_count": 6,
   "id": "ed04fc65",
   "metadata": {},
   "outputs": [
    {
     "name": "stdout",
     "output_type": "stream",
     "text": [
      "<class 'pandas.core.frame.DataFrame'>\n",
      "RangeIndex: 1460 entries, 0 to 1459\n",
      "Data columns (total 9 columns):\n",
      " #   Column        Non-Null Count  Dtype \n",
      "---  ------        --------------  ----- \n",
      " 0   LotShape      1460 non-null   object\n",
      " 1   LotConfig     1460 non-null   object\n",
      " 2   Neighborhood  1460 non-null   object\n",
      " 3   OverallQual   1460 non-null   int64 \n",
      " 4   OverallCond   1460 non-null   int64 \n",
      " 5   YearRemodAdd  1460 non-null   int64 \n",
      " 6   GrLivArea     1460 non-null   int64 \n",
      " 7   MoSold        1460 non-null   int64 \n",
      " 8   SalePrice     1460 non-null   int64 \n",
      "dtypes: int64(6), object(3)\n",
      "memory usage: 102.8+ KB\n"
     ]
    }
   ],
   "source": [
    "temp = temp.dropna()\n",
    "temp.info()"
   ]
  },
  {
   "cell_type": "code",
   "execution_count": 7,
   "id": "3fc753c4",
   "metadata": {},
   "outputs": [
    {
     "data": {
      "text/plain": [
       "0    208500\n",
       "1    181500\n",
       "2    223500\n",
       "3    140000\n",
       "4    250000\n",
       "Name: SalePrice, dtype: int64"
      ]
     },
     "execution_count": 7,
     "metadata": {},
     "output_type": "execute_result"
    }
   ],
   "source": [
    "sales_price_df = temp.pop('SalePrice')\n",
    "sales_price_df.head()"
   ]
  },
  {
   "cell_type": "code",
   "execution_count": 8,
   "id": "e5a6be0b",
   "metadata": {},
   "outputs": [
    {
     "data": {
      "text/html": [
       "<div>\n",
       "<style scoped>\n",
       "    .dataframe tbody tr th:only-of-type {\n",
       "        vertical-align: middle;\n",
       "    }\n",
       "\n",
       "    .dataframe tbody tr th {\n",
       "        vertical-align: top;\n",
       "    }\n",
       "\n",
       "    .dataframe thead th {\n",
       "        text-align: right;\n",
       "    }\n",
       "</style>\n",
       "<table border=\"1\" class=\"dataframe\">\n",
       "  <thead>\n",
       "    <tr style=\"text-align: right;\">\n",
       "      <th></th>\n",
       "      <th>LotShape</th>\n",
       "      <th>LotConfig</th>\n",
       "      <th>Neighborhood</th>\n",
       "      <th>OverallQual</th>\n",
       "      <th>OverallCond</th>\n",
       "      <th>YearRemodAdd</th>\n",
       "      <th>GrLivArea</th>\n",
       "      <th>MoSold</th>\n",
       "    </tr>\n",
       "  </thead>\n",
       "  <tbody>\n",
       "    <tr>\n",
       "      <th>0</th>\n",
       "      <td>Reg</td>\n",
       "      <td>Inside</td>\n",
       "      <td>CollgCr</td>\n",
       "      <td>7</td>\n",
       "      <td>5</td>\n",
       "      <td>2003</td>\n",
       "      <td>1710</td>\n",
       "      <td>2</td>\n",
       "    </tr>\n",
       "    <tr>\n",
       "      <th>1</th>\n",
       "      <td>Reg</td>\n",
       "      <td>FR2</td>\n",
       "      <td>Veenker</td>\n",
       "      <td>6</td>\n",
       "      <td>8</td>\n",
       "      <td>1976</td>\n",
       "      <td>1262</td>\n",
       "      <td>5</td>\n",
       "    </tr>\n",
       "    <tr>\n",
       "      <th>2</th>\n",
       "      <td>IR1</td>\n",
       "      <td>Inside</td>\n",
       "      <td>CollgCr</td>\n",
       "      <td>7</td>\n",
       "      <td>5</td>\n",
       "      <td>2002</td>\n",
       "      <td>1786</td>\n",
       "      <td>9</td>\n",
       "    </tr>\n",
       "    <tr>\n",
       "      <th>3</th>\n",
       "      <td>IR1</td>\n",
       "      <td>Corner</td>\n",
       "      <td>Crawfor</td>\n",
       "      <td>7</td>\n",
       "      <td>5</td>\n",
       "      <td>1970</td>\n",
       "      <td>1717</td>\n",
       "      <td>2</td>\n",
       "    </tr>\n",
       "    <tr>\n",
       "      <th>4</th>\n",
       "      <td>IR1</td>\n",
       "      <td>FR2</td>\n",
       "      <td>NoRidge</td>\n",
       "      <td>8</td>\n",
       "      <td>5</td>\n",
       "      <td>2000</td>\n",
       "      <td>2198</td>\n",
       "      <td>12</td>\n",
       "    </tr>\n",
       "  </tbody>\n",
       "</table>\n",
       "</div>"
      ],
      "text/plain": [
       "  LotShape LotConfig Neighborhood  OverallQual  OverallCond  YearRemodAdd  \\\n",
       "0      Reg    Inside      CollgCr            7            5          2003   \n",
       "1      Reg       FR2      Veenker            6            8          1976   \n",
       "2      IR1    Inside      CollgCr            7            5          2002   \n",
       "3      IR1    Corner      Crawfor            7            5          1970   \n",
       "4      IR1       FR2      NoRidge            8            5          2000   \n",
       "\n",
       "   GrLivArea  MoSold  \n",
       "0       1710       2  \n",
       "1       1262       5  \n",
       "2       1786       9  \n",
       "3       1717       2  \n",
       "4       2198      12  "
      ]
     },
     "execution_count": 8,
     "metadata": {},
     "output_type": "execute_result"
    }
   ],
   "source": [
    "housing_features_df = temp\n",
    "housing_features_df = housing_features_df.dropna()\n",
    "housing_features_df.head()"
   ]
  },
  {
   "cell_type": "markdown",
   "id": "74ce6fc1",
   "metadata": {},
   "source": [
    "From the first assignment, we found out that LotShape, LotConfig, and Neighborhood are features that are **categorical nominal** since they don't see to have any order or hierarchy. OverallQual, OverallCond, and MoSold are all features that are **categorical ordinal** since they seem to be related in a hierarchial way. YearRemodAdd and GrLivArea are both features that are **numerical values**.  "
   ]
  },
  {
   "cell_type": "code",
   "execution_count": 9,
   "id": "d9491c9b",
   "metadata": {},
   "outputs": [
    {
     "name": "stdout",
     "output_type": "stream",
     "text": [
      "['Inside', 'FR2', 'Inside', 'Corner', 'FR2', 'Inside', 'Inside', 'Corner', 'Inside', 'Corner', 'Inside', 'Inside', 'Inside', 'Inside', 'Corner', 'Corner', 'CulDSac', 'Inside', 'Inside', 'Inside', 'Corner', 'Inside', 'Inside', 'Inside', 'Inside', 'Corner', 'Corner', 'Inside', 'CulDSac', 'Inside', 'Inside', 'CulDSac', 'Corner', 'Inside', 'Inside', 'Inside', 'Corner', 'Inside', 'Inside', 'Inside', 'Inside', 'Inside', 'CulDSac', 'CulDSac', 'Inside', 'Inside', 'CulDSac', 'Inside', 'Inside', 'Inside', 'Corner', 'Inside', 'Corner', 'Inside', 'Inside', 'Inside', 'Inside', 'Corner', 'CulDSac', 'Inside', 'Inside', 'Inside', 'Inside', 'Inside', 'Inside', 'Inside', 'Inside', 'Inside', 'Corner', 'Corner', 'Inside', 'Corner', 'Corner', 'Inside', 'Corner', 'Inside', 'Inside', 'Inside', 'Inside', 'Corner', 'Corner', 'FR2', 'Inside', 'Inside', 'Inside', 'Corner', 'Inside', 'Corner', 'Corner', 'Inside', 'Inside', 'Inside', 'Inside', 'Corner', 'Inside', 'Corner', 'Inside', 'Inside', 'Corner', 'Inside', 'Inside', 'Inside', 'Inside', 'Corner', 'Corner', 'Inside', 'Inside', 'Inside', 'Corner', 'Inside', 'Inside', 'Inside', 'Inside', 'Corner', 'Inside', 'Corner', 'Inside', 'Corner', 'Corner', 'Inside', 'CulDSac', 'Inside', 'Corner', 'Inside', 'CulDSac', 'Inside', 'Inside', 'Inside', 'Inside', 'Inside', 'Corner', 'Corner', 'Corner', 'Inside', 'Inside', 'Inside', 'Corner', 'Inside', 'Inside', 'Inside', 'FR2', 'Inside', 'Corner', 'Inside', 'Inside', 'Inside', 'Corner', 'CulDSac', 'Inside', 'Inside', 'Corner', 'Inside', 'CulDSac', 'Inside', 'Corner', 'Corner', 'Inside', 'Corner', 'Corner', 'Corner', 'CulDSac', 'Inside', 'Corner', 'Inside', 'Corner', 'Inside', 'Inside', 'Inside', 'Inside', 'Corner', 'Inside', 'Corner', 'Inside', 'Inside', 'Inside', 'Corner', 'Corner', 'Inside', 'CulDSac', 'Inside', 'Inside', 'Inside', 'Inside', 'Inside', 'Inside', 'Inside', 'CulDSac', 'Inside', 'Inside', 'Inside', 'Inside', 'CulDSac', 'Inside', 'Inside', 'Inside', 'FR2', 'Inside', 'Corner', 'Corner', 'Inside', 'Corner', 'Inside', 'Corner', 'Inside', 'Inside', 'Corner', 'CulDSac', 'Inside', 'Inside', 'Inside', 'Inside', 'Corner', 'Inside', 'CulDSac', 'FR2', 'Inside', 'Inside', 'Inside', 'Corner', 'Inside', 'Inside', 'Inside', 'Inside', 'FR2', 'Inside', 'Inside', 'Inside', 'Inside', 'FR2', 'Inside', 'Inside', 'Inside', 'Inside', 'Corner', 'Inside', 'Inside', 'FR2', 'CulDSac', 'Inside', 'Inside', 'Inside', 'Inside', 'Corner', 'Corner', 'Inside', 'Inside', 'Inside', 'Inside', 'Inside', 'CulDSac', 'Inside', 'Inside', 'Inside', 'Inside', 'Inside', 'Inside', 'Inside', 'Inside', 'Inside', 'Inside', 'Corner', 'Inside', 'Corner', 'Corner', 'Inside', 'Inside', 'FR2', 'Inside', 'Inside', 'Corner', 'Inside', 'CulDSac', 'CulDSac', 'Inside', 'Corner', 'Inside', 'Inside', 'Corner', 'Inside', 'Inside', 'Inside', 'Inside', 'Inside', 'Inside', 'Inside', 'Inside', 'Inside', 'Corner', 'Inside', 'Inside', 'Inside', 'Inside', 'Inside', 'Corner', 'Inside', 'CulDSac', 'Inside', 'Inside', 'Inside', 'Inside', 'Corner', 'Inside', 'Corner', 'Corner', 'Inside', 'Inside', 'Inside', 'Inside', 'Inside', 'Inside', 'Inside', 'Inside', 'Inside', 'Inside', 'Inside', 'Inside', 'Corner', 'Inside', 'Inside', 'Inside', 'Corner', 'Inside', 'Inside', 'Inside', 'Corner', 'Inside', 'CulDSac', 'Inside', 'Inside', 'Corner', 'Inside', 'Inside', 'Inside', 'FR3', 'Inside', 'Corner', 'Corner', 'Inside', 'Corner', 'Inside', 'Inside', 'Inside', 'Inside', 'Inside', 'Inside', 'Inside', 'CulDSac', 'Inside', 'Inside', 'Inside', 'Inside', 'Inside', 'Inside', 'Inside', 'Inside', 'Inside', 'Inside', 'Inside', 'Inside', 'CulDSac', 'CulDSac', 'Inside', 'Corner', 'Inside', 'FR2', 'Inside', 'Inside', 'Corner', 'Inside', 'Corner', 'Inside', 'Inside', 'Inside', 'Inside', 'Inside', 'Inside', 'CulDSac', 'Corner', 'Corner', 'Inside', 'Inside', 'Inside', 'Inside', 'Corner', 'Corner', 'Inside', 'FR2', 'Inside', 'CulDSac', 'Inside', 'Inside', 'CulDSac', 'Inside', 'Corner', 'Inside', 'Inside', 'Inside', 'Inside', 'Corner', 'Inside', 'Inside', 'Inside', 'Inside', 'Corner', 'Inside', 'Corner', 'Inside', 'Inside', 'Corner', 'Inside', 'Inside', 'Inside', 'Inside', 'Inside', 'CulDSac', 'Inside', 'Inside', 'Inside', 'Inside', 'Inside', 'Inside', 'FR2', 'Inside', 'Inside', 'Inside', 'Inside', 'Inside', 'Inside', 'Inside', 'Corner', 'Inside', 'Inside', 'Inside', 'Corner', 'Inside', 'CulDSac', 'Inside', 'Inside', 'Inside', 'Corner', 'Inside', 'Inside', 'Inside', 'Inside', 'Inside', 'Corner', 'Corner', 'Corner', 'Inside', 'Inside', 'Inside', 'Inside', 'Corner', 'Inside', 'Inside', 'Inside', 'Inside', 'CulDSac', 'Inside', 'Corner', 'Inside', 'Inside', 'Inside', 'Inside', 'Inside', 'Inside', 'Inside', 'Inside', 'Inside', 'Corner', 'Corner', 'Inside', 'Inside', 'Inside', 'Inside', 'Corner', 'Inside', 'Inside', 'Inside', 'Inside', 'FR2', 'Inside', 'Corner', 'FR2', 'Corner', 'Inside', 'Inside', 'Inside', 'Corner', 'Inside', 'Inside', 'Inside', 'Corner', 'Inside', 'Inside', 'Inside', 'Inside', 'Inside', 'Inside', 'Inside', 'Inside', 'Inside', 'Corner', 'Inside', 'Inside', 'Inside', 'Inside', 'Inside', 'Inside', 'Corner', 'Inside', 'Inside', 'Corner', 'Corner', 'Inside', 'Inside', 'Corner', 'Inside', 'CulDSac', 'Inside', 'Inside', 'Corner', 'Corner', 'Inside', 'Inside', 'Inside', 'Inside', 'Inside', 'Inside', 'CulDSac', 'Inside', 'FR3', 'Inside', 'Inside', 'Inside', 'Inside', 'CulDSac', 'FR2', 'Inside', 'Inside', 'Inside', 'FR2', 'Inside', 'Inside', 'Inside', 'Corner', 'Inside', 'Inside', 'Inside', 'Inside', 'Inside', 'Inside', 'Inside', 'Inside', 'Inside', 'Inside', 'Inside', 'Inside', 'FR2', 'Inside', 'Inside', 'Inside', 'Inside', 'Inside', 'CulDSac', 'Corner', 'Inside', 'Inside', 'Inside', 'Corner', 'Inside', 'Inside', 'Corner', 'Inside', 'FR2', 'Inside', 'Inside', 'Inside', 'Corner', 'Inside', 'CulDSac', 'Inside', 'Inside', 'Inside', 'Inside', 'Inside', 'Inside', 'Inside', 'Inside', 'Inside', 'Inside', 'Corner', 'Inside', 'Inside', 'Inside', 'Inside', 'Inside', 'Inside', 'Inside', 'Inside', 'Inside', 'Inside', 'Inside', 'Inside', 'Inside', 'Inside', 'Corner', 'Inside', 'Inside', 'Inside', 'Inside', 'FR2', 'Inside', 'Inside', 'Inside', 'Inside', 'Inside', 'Corner', 'Inside', 'Inside', 'Inside', 'Inside', 'Inside', 'Inside', 'Inside', 'Corner', 'Inside', 'Inside', 'Inside', 'Corner', 'Corner', 'Inside', 'Inside', 'Corner', 'Inside', 'Inside', 'Inside', 'Inside', 'Inside', 'Inside', 'Inside', 'Inside', 'Inside', 'Inside', 'Inside', 'Corner', 'Inside', 'Inside', 'Inside', 'Inside', 'Inside', 'Inside', 'Inside', 'Inside', 'Inside', 'Inside', 'Inside', 'Inside', 'Inside', 'Corner', 'CulDSac', 'CulDSac', 'Corner', 'Inside', 'CulDSac', 'Corner', 'Inside', 'Inside', 'Corner', 'Inside', 'FR2', 'Inside', 'Inside', 'Inside', 'Inside', 'Inside', 'Inside', 'Inside', 'Inside', 'Inside', 'Inside', 'Inside', 'Inside', 'Corner', 'CulDSac', 'CulDSac', 'Inside', 'FR2', 'Inside', 'Corner', 'Inside', 'Corner', 'Inside', 'Corner', 'Corner', 'Inside', 'Inside', 'Inside', 'Inside', 'Inside', 'Inside', 'Inside', 'Inside', 'Inside', 'Inside', 'Inside', 'CulDSac', 'Inside', 'Inside', 'Inside', 'Inside', 'Inside', 'Inside', 'Inside', 'CulDSac', 'Inside', 'Inside', 'Inside', 'Inside', 'Inside', 'CulDSac', 'Inside', 'Inside', 'Inside', 'Inside', 'Inside', 'Corner', 'Inside', 'Corner', 'Inside', 'Inside', 'Corner', 'Inside', 'Corner', 'Corner', 'Inside', 'Inside', 'CulDSac', 'Inside', 'Inside', 'Inside', 'Inside', 'Inside', 'Inside', 'Inside', 'Inside', 'Inside', 'Corner', 'Inside', 'Inside', 'Corner', 'Inside', 'Inside', 'Inside', 'Inside', 'Inside', 'Inside', 'CulDSac', 'Inside', 'Inside', 'Inside', 'FR2', 'Inside', 'Inside', 'CulDSac', 'Inside', 'Inside', 'Inside', 'Inside', 'CulDSac', 'CulDSac', 'Inside', 'Inside', 'Inside', 'Corner', 'FR2', 'Inside', 'Inside', 'Inside', 'Inside', 'Inside', 'Inside', 'Inside', 'Corner', 'Inside', 'Inside', 'Inside', 'Inside', 'Corner', 'Inside', 'Inside', 'Corner', 'CulDSac', 'Inside', 'Corner', 'Inside', 'Inside', 'Inside', 'Inside', 'Corner', 'Inside', 'Inside', 'Inside', 'Inside', 'Inside', 'FR2', 'Inside', 'Inside', 'Inside', 'Corner', 'Inside', 'Inside', 'Inside', 'Inside', 'Inside', 'CulDSac', 'Corner', 'CulDSac', 'Inside', 'Inside', 'CulDSac', 'Inside', 'Corner', 'Inside', 'Inside', 'Inside', 'Inside', 'Inside', 'CulDSac', 'Inside', 'Corner', 'Inside', 'CulDSac', 'Inside', 'Inside', 'Inside', 'Inside', 'Inside', 'Inside', 'Inside', 'Inside', 'Inside', 'Inside', 'Corner', 'Inside', 'CulDSac', 'Inside', 'CulDSac', 'Inside', 'FR2', 'Inside', 'Inside', 'Inside', 'Corner', 'Inside', 'Corner', 'Inside', 'Inside', 'Inside', 'Corner', 'Corner', 'Inside', 'Corner', 'Inside', 'Inside', 'Inside', 'Inside', 'Corner', 'Corner', 'Inside', 'Inside', 'Inside', 'Corner', 'Inside', 'Inside', 'Inside', 'Inside', 'Inside', 'Inside', 'CulDSac', 'Inside', 'CulDSac', 'Corner', 'Inside', 'Inside', 'CulDSac', 'Corner', 'Inside', 'Inside', 'Inside', 'Corner', 'Inside', 'Inside', 'Inside', 'Inside', 'Inside', 'Inside', 'Inside', 'Inside', 'Inside', 'Inside', 'Inside', 'Inside', 'CulDSac', 'Inside', 'Inside', 'Corner', 'Inside', 'Inside', 'Inside', 'Corner', 'CulDSac', 'Inside', 'Inside', 'Inside', 'Inside', 'Inside', 'Inside', 'Corner', 'Corner', 'Inside', 'Inside', 'Inside', 'Inside', 'Inside', 'Corner', 'Inside', 'Inside', 'Inside', 'Corner', 'Inside', 'Inside', 'Corner', 'FR2', 'Inside', 'Inside', 'Inside', 'Inside', 'Inside', 'Inside', 'Inside', 'FR2', 'Inside', 'Inside', 'CulDSac', 'Corner', 'Inside', 'Inside', 'Inside', 'Inside', 'Inside', 'Corner', 'Inside', 'Inside', 'CulDSac', 'Inside', 'Inside', 'Inside', 'Inside', 'FR2', 'Inside', 'Corner', 'Corner', 'Corner', 'Corner', 'Inside', 'Inside', 'Inside', 'Inside', 'Inside', 'Inside', 'Inside', 'Inside', 'Corner', 'Corner', 'FR2', 'Inside', 'Inside', 'Inside', 'Corner', 'Corner', 'Corner', 'Inside', 'Corner', 'Inside', 'Inside', 'Corner', 'Inside', 'Inside', 'Inside', 'Inside', 'Corner', 'Inside', 'Inside', 'FR2', 'Inside', 'Inside', 'Inside', 'Inside', 'Inside', 'Corner', 'Corner', 'Inside', 'Corner', 'Inside', 'Inside', 'Inside', 'Inside', 'CulDSac', 'Inside', 'Inside', 'Inside', 'Inside', 'Inside', 'Inside', 'Inside', 'Inside', 'CulDSac', 'FR2', 'Inside', 'Inside', 'Inside', 'Inside', 'Inside', 'Corner', 'Corner', 'Inside', 'Inside', 'Inside', 'Inside', 'Inside', 'Corner', 'Corner', 'Inside', 'Inside', 'CulDSac', 'Inside', 'Inside', 'Inside', 'Inside', 'Corner', 'Inside', 'Inside', 'Inside', 'Inside', 'CulDSac', 'Inside', 'Inside', 'Inside', 'Inside', 'Inside', 'Corner', 'Corner', 'Inside', 'Corner', 'Inside', 'Inside', 'FR2', 'Inside', 'Corner', 'Inside', 'Inside', 'Inside', 'Inside', 'CulDSac', 'Inside', 'Inside', 'Inside', 'Inside', 'Inside', 'Inside', 'Inside', 'Inside', 'Corner', 'Inside', 'Inside', 'Inside', 'Corner', 'Inside', 'Inside', 'Inside', 'Corner', 'Inside', 'Inside', 'Corner', 'Inside', 'Inside', 'Inside', 'Inside', 'Inside', 'Corner', 'Inside', 'Inside', 'Corner', 'Inside', 'Inside', 'Inside', 'Inside', 'Inside', 'Inside', 'Inside', 'Inside', 'Inside', 'Corner', 'Inside', 'Corner', 'Corner', 'CulDSac', 'Inside', 'Inside', 'Inside', 'Inside', 'Corner', 'Inside', 'Inside', 'Inside', 'Inside', 'FR2', 'Inside', 'Inside', 'Inside', 'Inside', 'Corner', 'Inside', 'Inside', 'Inside', 'Inside', 'Corner', 'Inside', 'Inside', 'Inside', 'Inside', 'Inside', 'Inside', 'Inside', 'Corner', 'Inside', 'Inside', 'Inside', 'Inside', 'Corner', 'CulDSac', 'Inside', 'Inside', 'Inside', 'Inside', 'Inside', 'Inside', 'Inside', 'Inside', 'Inside', 'Inside', 'Inside', 'Corner', 'Inside', 'Corner', 'Inside', 'Inside', 'FR2', 'Inside', 'Inside', 'CulDSac', 'Inside', 'Inside', 'FR2', 'Inside', 'Corner', 'Inside', 'Corner', 'CulDSac', 'Inside', 'Inside', 'Inside', 'Inside', 'Inside', 'Inside', 'CulDSac', 'Inside', 'FR2', 'Corner', 'Corner', 'Inside', 'Corner', 'Inside', 'Inside', 'Inside', 'Corner', 'Corner', 'Inside', 'Inside', 'Inside', 'Inside', 'Inside', 'FR2', 'Corner', 'Inside', 'Inside', 'Corner', 'Inside', 'Inside', 'Inside', 'Corner', 'Corner', 'Inside', 'Inside', 'CulDSac', 'Inside', 'Inside', 'Inside', 'CulDSac', 'Inside', 'Inside', 'Inside', 'CulDSac', 'Inside', 'Inside', 'Inside', 'Inside', 'Inside', 'Inside', 'Inside', 'Inside', 'Inside', 'Inside', 'Inside', 'Inside', 'CulDSac', 'Corner', 'Corner', 'Inside', 'Inside', 'Inside', 'FR2', 'Inside', 'Inside', 'Inside', 'Inside', 'FR2', 'Inside', 'Inside', 'Inside', 'Inside', 'Inside', 'Inside', 'Corner', 'Inside', 'Inside', 'Inside', 'Inside', 'Inside', 'Corner', 'Corner', 'Inside', 'Inside', 'Inside', 'Inside', 'Corner', 'Corner', 'Inside', 'FR2', 'CulDSac', 'Inside', 'Inside', 'Inside', 'Inside', 'FR3', 'Inside', 'Inside', 'Inside', 'Inside', 'Inside', 'Inside', 'CulDSac', 'Corner', 'Corner', 'Corner', 'CulDSac', 'CulDSac', 'Inside', 'Inside', 'Inside', 'CulDSac', 'Inside', 'Corner', 'Inside', 'Inside', 'Inside', 'Inside', 'Inside', 'Inside', 'Corner', 'Inside', 'Corner', 'Inside', 'Inside', 'Inside', 'Inside', 'Inside', 'Corner', 'Inside', 'CulDSac', 'Inside', 'Inside', 'Inside', 'Inside', 'Corner', 'Inside', 'Inside', 'Inside', 'Inside', 'Inside', 'Inside', 'Inside', 'Corner', 'Inside', 'Inside', 'Inside', 'Corner', 'CulDSac', 'Inside', 'Inside', 'Corner', 'Inside', 'Inside', 'Inside', 'Inside', 'Inside', 'Inside', 'Corner', 'Inside', 'Inside', 'Inside', 'Inside', 'Corner', 'Inside', 'Inside', 'Inside', 'Corner', 'Corner', 'Corner', 'Inside', 'Inside', 'Inside', 'Inside', 'Corner', 'Inside', 'CulDSac', 'Corner', 'Inside', 'Inside', 'Inside', 'Inside', 'Inside', 'CulDSac', 'Inside', 'Inside', 'Corner', 'CulDSac', 'Inside', 'FR3', 'Inside', 'Inside', 'FR2', 'Inside', 'Inside', 'Inside', 'Inside', 'Inside', 'Inside', 'FR2', 'Corner', 'Inside', 'Corner', 'Inside', 'Inside', 'Inside', 'Inside', 'Inside', 'Inside', 'Inside', 'Inside', 'Corner', 'Corner', 'Inside', 'Inside', 'Inside', 'Inside', 'Inside', 'CulDSac', 'Inside', 'Inside', 'Inside', 'Inside', 'Inside', 'Inside', 'Inside', 'Inside', 'Inside', 'Inside', 'Inside', 'Corner', 'Inside', 'Inside', 'CulDSac', 'Corner', 'Inside', 'Corner', 'Corner', 'Inside', 'CulDSac', 'Inside', 'Inside', 'Inside', 'Corner', 'Inside', 'Inside', 'Inside', 'Inside', 'Inside', 'Inside', 'Corner', 'Inside', 'Inside', 'CulDSac', 'Inside', 'Inside', 'Inside', 'Inside', 'Corner', 'Corner', 'Inside', 'Inside', 'Inside', 'Inside', 'Inside', 'Inside', 'FR2', 'FR2', 'Inside', 'Inside', 'Inside', 'Inside', 'Inside', 'Inside', 'FR2', 'Inside', 'CulDSac', 'Inside', 'Inside', 'Inside', 'FR2', 'Inside', 'Inside', 'Inside', 'Inside', 'Inside', 'Inside', 'Inside', 'Inside', 'Inside']\n"
     ]
    }
   ],
   "source": [
    "lot_config_list = housing_features_df[\"LotConfig\"].to_list()\n",
    "print(lot_config_list)"
   ]
  },
  {
   "cell_type": "code",
   "execution_count": 10,
   "id": "558e0b68",
   "metadata": {},
   "outputs": [
    {
     "name": "stdout",
     "output_type": "stream",
     "text": [
      "[['Inside'], ['FR2'], ['Inside'], ['Corner'], ['FR2']]\n"
     ]
    }
   ],
   "source": [
    "lot_config_list_of_lists = []\n",
    "\n",
    "for i in lot_config_list: \n",
    "    lot_config_list_of_lists.append([i])\n",
    "\n",
    "print(lot_config_list_of_lists[:5])"
   ]
  },
  {
   "cell_type": "code",
   "execution_count": 11,
   "id": "8a457a4f",
   "metadata": {},
   "outputs": [
    {
     "name": "stdout",
     "output_type": "stream",
     "text": [
      "Unique vocabulary items 5\n",
      "\n",
      "[[0. 0. 0. 0. 1.]\n",
      " [0. 0. 1. 0. 0.]\n",
      " [0. 0. 0. 0. 1.]\n",
      " ...\n",
      " [0. 0. 0. 0. 1.]\n",
      " [0. 0. 0. 0. 1.]\n",
      " [0. 0. 0. 0. 1.]]\n"
     ]
    }
   ],
   "source": [
    "from sklearn.preprocessing import OneHotEncoder\n",
    "\n",
    "lot_config_encoder = OneHotEncoder()\n",
    "\n",
    "lot_config_encoder.fit(lot_config_list_of_lists)\n",
    "\n",
    "print(f\"Unique vocabulary items {len(lot_config_encoder.categories_[0])}\\n\")\n",
    "\n",
    "lot_config_transformed = lot_config_encoder.transform(lot_config_list_of_lists)\n",
    "\n",
    "lot_config_transformed = lot_config_transformed.toarray()\n",
    "\n",
    "print(lot_config_transformed)"
   ]
  },
  {
   "cell_type": "code",
   "execution_count": 12,
   "id": "3c596e10",
   "metadata": {},
   "outputs": [
    {
     "data": {
      "text/plain": [
       "0    Inside\n",
       "1       FR2\n",
       "2    Inside\n",
       "3    Corner\n",
       "4       FR2\n",
       "Name: LotConfig, dtype: object"
      ]
     },
     "execution_count": 12,
     "metadata": {},
     "output_type": "execute_result"
    }
   ],
   "source": [
    "housing_features_df[\"LotConfig\"].head()"
   ]
  },
  {
   "cell_type": "code",
   "execution_count": 13,
   "id": "3445ac4b",
   "metadata": {},
   "outputs": [
    {
     "data": {
      "text/html": [
       "<div>\n",
       "<style scoped>\n",
       "    .dataframe tbody tr th:only-of-type {\n",
       "        vertical-align: middle;\n",
       "    }\n",
       "\n",
       "    .dataframe tbody tr th {\n",
       "        vertical-align: top;\n",
       "    }\n",
       "\n",
       "    .dataframe thead th {\n",
       "        text-align: right;\n",
       "    }\n",
       "</style>\n",
       "<table border=\"1\" class=\"dataframe\">\n",
       "  <thead>\n",
       "    <tr style=\"text-align: right;\">\n",
       "      <th></th>\n",
       "      <th>0</th>\n",
       "      <th>1</th>\n",
       "      <th>2</th>\n",
       "      <th>3</th>\n",
       "      <th>4</th>\n",
       "    </tr>\n",
       "  </thead>\n",
       "  <tbody>\n",
       "    <tr>\n",
       "      <th>0</th>\n",
       "      <td>0.0</td>\n",
       "      <td>0.0</td>\n",
       "      <td>0.0</td>\n",
       "      <td>0.0</td>\n",
       "      <td>1.0</td>\n",
       "    </tr>\n",
       "    <tr>\n",
       "      <th>1</th>\n",
       "      <td>0.0</td>\n",
       "      <td>0.0</td>\n",
       "      <td>1.0</td>\n",
       "      <td>0.0</td>\n",
       "      <td>0.0</td>\n",
       "    </tr>\n",
       "    <tr>\n",
       "      <th>2</th>\n",
       "      <td>0.0</td>\n",
       "      <td>0.0</td>\n",
       "      <td>0.0</td>\n",
       "      <td>0.0</td>\n",
       "      <td>1.0</td>\n",
       "    </tr>\n",
       "    <tr>\n",
       "      <th>3</th>\n",
       "      <td>1.0</td>\n",
       "      <td>0.0</td>\n",
       "      <td>0.0</td>\n",
       "      <td>0.0</td>\n",
       "      <td>0.0</td>\n",
       "    </tr>\n",
       "    <tr>\n",
       "      <th>4</th>\n",
       "      <td>0.0</td>\n",
       "      <td>0.0</td>\n",
       "      <td>1.0</td>\n",
       "      <td>0.0</td>\n",
       "      <td>0.0</td>\n",
       "    </tr>\n",
       "  </tbody>\n",
       "</table>\n",
       "</div>"
      ],
      "text/plain": [
       "     0    1    2    3    4\n",
       "0  0.0  0.0  0.0  0.0  1.0\n",
       "1  0.0  0.0  1.0  0.0  0.0\n",
       "2  0.0  0.0  0.0  0.0  1.0\n",
       "3  1.0  0.0  0.0  0.0  0.0\n",
       "4  0.0  0.0  1.0  0.0  0.0"
      ]
     },
     "execution_count": 13,
     "metadata": {},
     "output_type": "execute_result"
    }
   ],
   "source": [
    "lot_config_transformed_df = pd.DataFrame(lot_config_transformed)\n",
    "lot_config_transformed_df.head()"
   ]
  },
  {
   "cell_type": "code",
   "execution_count": 14,
   "id": "5f43376e",
   "metadata": {},
   "outputs": [
    {
     "name": "stdout",
     "output_type": "stream",
     "text": [
      "[0, 1, 2, 3, 4]\n"
     ]
    }
   ],
   "source": [
    "column_names = list(lot_config_transformed_df.columns.values)\n",
    "print(column_names)"
   ]
  },
  {
   "cell_type": "code",
   "execution_count": 15,
   "id": "af7da962",
   "metadata": {},
   "outputs": [],
   "source": [
    "lot_config_transformed_df.rename(columns = {0:'Corner', 1:'CulDSac', 2:'FR2', 3:'FR3', 4: 'Inside'}, inplace = True)"
   ]
  },
  {
   "cell_type": "code",
   "execution_count": 16,
   "id": "900b5fb6",
   "metadata": {},
   "outputs": [
    {
     "data": {
      "text/html": [
       "<div>\n",
       "<style scoped>\n",
       "    .dataframe tbody tr th:only-of-type {\n",
       "        vertical-align: middle;\n",
       "    }\n",
       "\n",
       "    .dataframe tbody tr th {\n",
       "        vertical-align: top;\n",
       "    }\n",
       "\n",
       "    .dataframe thead th {\n",
       "        text-align: right;\n",
       "    }\n",
       "</style>\n",
       "<table border=\"1\" class=\"dataframe\">\n",
       "  <thead>\n",
       "    <tr style=\"text-align: right;\">\n",
       "      <th></th>\n",
       "      <th>Corner</th>\n",
       "      <th>CulDSac</th>\n",
       "      <th>FR2</th>\n",
       "      <th>FR3</th>\n",
       "      <th>Inside</th>\n",
       "    </tr>\n",
       "  </thead>\n",
       "  <tbody>\n",
       "    <tr>\n",
       "      <th>0</th>\n",
       "      <td>0.0</td>\n",
       "      <td>0.0</td>\n",
       "      <td>0.0</td>\n",
       "      <td>0.0</td>\n",
       "      <td>1.0</td>\n",
       "    </tr>\n",
       "    <tr>\n",
       "      <th>1</th>\n",
       "      <td>0.0</td>\n",
       "      <td>0.0</td>\n",
       "      <td>1.0</td>\n",
       "      <td>0.0</td>\n",
       "      <td>0.0</td>\n",
       "    </tr>\n",
       "    <tr>\n",
       "      <th>2</th>\n",
       "      <td>0.0</td>\n",
       "      <td>0.0</td>\n",
       "      <td>0.0</td>\n",
       "      <td>0.0</td>\n",
       "      <td>1.0</td>\n",
       "    </tr>\n",
       "    <tr>\n",
       "      <th>3</th>\n",
       "      <td>1.0</td>\n",
       "      <td>0.0</td>\n",
       "      <td>0.0</td>\n",
       "      <td>0.0</td>\n",
       "      <td>0.0</td>\n",
       "    </tr>\n",
       "    <tr>\n",
       "      <th>4</th>\n",
       "      <td>0.0</td>\n",
       "      <td>0.0</td>\n",
       "      <td>1.0</td>\n",
       "      <td>0.0</td>\n",
       "      <td>0.0</td>\n",
       "    </tr>\n",
       "  </tbody>\n",
       "</table>\n",
       "</div>"
      ],
      "text/plain": [
       "   Corner  CulDSac  FR2  FR3  Inside\n",
       "0     0.0      0.0  0.0  0.0     1.0\n",
       "1     0.0      0.0  1.0  0.0     0.0\n",
       "2     0.0      0.0  0.0  0.0     1.0\n",
       "3     1.0      0.0  0.0  0.0     0.0\n",
       "4     0.0      0.0  1.0  0.0     0.0"
      ]
     },
     "execution_count": 16,
     "metadata": {},
     "output_type": "execute_result"
    }
   ],
   "source": [
    "lot_config_transformed_df.head()"
   ]
  },
  {
   "cell_type": "code",
   "execution_count": 17,
   "id": "95c70f4e",
   "metadata": {},
   "outputs": [
    {
     "name": "stdout",
     "output_type": "stream",
     "text": [
      "(1460, 5)\n",
      "(1460, 8)\n"
     ]
    }
   ],
   "source": [
    "print(lot_config_transformed_df.shape)\n",
    "print(housing_features_df.shape)"
   ]
  },
  {
   "cell_type": "code",
   "execution_count": 18,
   "id": "2fe79b6a",
   "metadata": {},
   "outputs": [
    {
     "data": {
      "text/plain": [
       "(1460, 13)"
      ]
     },
     "execution_count": 18,
     "metadata": {},
     "output_type": "execute_result"
    }
   ],
   "source": [
    "housing_features_df.reset_index(drop=True, inplace=True)\n",
    "lot_config_transformed_df.reset_index(drop=True, inplace=True)\n",
    "\n",
    "housing_features_transformed_df = pd.concat([housing_features_df, lot_config_transformed_df], axis=1)\n",
    "housing_features_transformed_df.shape"
   ]
  },
  {
   "cell_type": "code",
   "execution_count": 19,
   "id": "b970ebc2",
   "metadata": {},
   "outputs": [
    {
     "data": {
      "text/html": [
       "<div>\n",
       "<style scoped>\n",
       "    .dataframe tbody tr th:only-of-type {\n",
       "        vertical-align: middle;\n",
       "    }\n",
       "\n",
       "    .dataframe tbody tr th {\n",
       "        vertical-align: top;\n",
       "    }\n",
       "\n",
       "    .dataframe thead th {\n",
       "        text-align: right;\n",
       "    }\n",
       "</style>\n",
       "<table border=\"1\" class=\"dataframe\">\n",
       "  <thead>\n",
       "    <tr style=\"text-align: right;\">\n",
       "      <th></th>\n",
       "      <th>LotShape</th>\n",
       "      <th>LotConfig</th>\n",
       "      <th>Neighborhood</th>\n",
       "      <th>OverallQual</th>\n",
       "      <th>OverallCond</th>\n",
       "      <th>YearRemodAdd</th>\n",
       "      <th>GrLivArea</th>\n",
       "      <th>MoSold</th>\n",
       "      <th>Corner</th>\n",
       "      <th>CulDSac</th>\n",
       "      <th>FR2</th>\n",
       "      <th>FR3</th>\n",
       "      <th>Inside</th>\n",
       "    </tr>\n",
       "  </thead>\n",
       "  <tbody>\n",
       "    <tr>\n",
       "      <th>0</th>\n",
       "      <td>Reg</td>\n",
       "      <td>Inside</td>\n",
       "      <td>CollgCr</td>\n",
       "      <td>7</td>\n",
       "      <td>5</td>\n",
       "      <td>2003</td>\n",
       "      <td>1710</td>\n",
       "      <td>2</td>\n",
       "      <td>0.0</td>\n",
       "      <td>0.0</td>\n",
       "      <td>0.0</td>\n",
       "      <td>0.0</td>\n",
       "      <td>1.0</td>\n",
       "    </tr>\n",
       "    <tr>\n",
       "      <th>1</th>\n",
       "      <td>Reg</td>\n",
       "      <td>FR2</td>\n",
       "      <td>Veenker</td>\n",
       "      <td>6</td>\n",
       "      <td>8</td>\n",
       "      <td>1976</td>\n",
       "      <td>1262</td>\n",
       "      <td>5</td>\n",
       "      <td>0.0</td>\n",
       "      <td>0.0</td>\n",
       "      <td>1.0</td>\n",
       "      <td>0.0</td>\n",
       "      <td>0.0</td>\n",
       "    </tr>\n",
       "    <tr>\n",
       "      <th>2</th>\n",
       "      <td>IR1</td>\n",
       "      <td>Inside</td>\n",
       "      <td>CollgCr</td>\n",
       "      <td>7</td>\n",
       "      <td>5</td>\n",
       "      <td>2002</td>\n",
       "      <td>1786</td>\n",
       "      <td>9</td>\n",
       "      <td>0.0</td>\n",
       "      <td>0.0</td>\n",
       "      <td>0.0</td>\n",
       "      <td>0.0</td>\n",
       "      <td>1.0</td>\n",
       "    </tr>\n",
       "    <tr>\n",
       "      <th>3</th>\n",
       "      <td>IR1</td>\n",
       "      <td>Corner</td>\n",
       "      <td>Crawfor</td>\n",
       "      <td>7</td>\n",
       "      <td>5</td>\n",
       "      <td>1970</td>\n",
       "      <td>1717</td>\n",
       "      <td>2</td>\n",
       "      <td>1.0</td>\n",
       "      <td>0.0</td>\n",
       "      <td>0.0</td>\n",
       "      <td>0.0</td>\n",
       "      <td>0.0</td>\n",
       "    </tr>\n",
       "    <tr>\n",
       "      <th>4</th>\n",
       "      <td>IR1</td>\n",
       "      <td>FR2</td>\n",
       "      <td>NoRidge</td>\n",
       "      <td>8</td>\n",
       "      <td>5</td>\n",
       "      <td>2000</td>\n",
       "      <td>2198</td>\n",
       "      <td>12</td>\n",
       "      <td>0.0</td>\n",
       "      <td>0.0</td>\n",
       "      <td>1.0</td>\n",
       "      <td>0.0</td>\n",
       "      <td>0.0</td>\n",
       "    </tr>\n",
       "  </tbody>\n",
       "</table>\n",
       "</div>"
      ],
      "text/plain": [
       "  LotShape LotConfig Neighborhood  OverallQual  OverallCond  YearRemodAdd  \\\n",
       "0      Reg    Inside      CollgCr            7            5          2003   \n",
       "1      Reg       FR2      Veenker            6            8          1976   \n",
       "2      IR1    Inside      CollgCr            7            5          2002   \n",
       "3      IR1    Corner      Crawfor            7            5          1970   \n",
       "4      IR1       FR2      NoRidge            8            5          2000   \n",
       "\n",
       "   GrLivArea  MoSold  Corner  CulDSac  FR2  FR3  Inside  \n",
       "0       1710       2     0.0      0.0  0.0  0.0     1.0  \n",
       "1       1262       5     0.0      0.0  1.0  0.0     0.0  \n",
       "2       1786       9     0.0      0.0  0.0  0.0     1.0  \n",
       "3       1717       2     1.0      0.0  0.0  0.0     0.0  \n",
       "4       2198      12     0.0      0.0  1.0  0.0     0.0  "
      ]
     },
     "execution_count": 19,
     "metadata": {},
     "output_type": "execute_result"
    }
   ],
   "source": [
    "housing_features_transformed_df.head()"
   ]
  },
  {
   "cell_type": "code",
   "execution_count": 20,
   "id": "d56f05a3",
   "metadata": {},
   "outputs": [
    {
     "data": {
      "text/plain": [
       "0       Inside\n",
       "1          FR2\n",
       "2       Inside\n",
       "3       Corner\n",
       "4          FR2\n",
       "         ...  \n",
       "1455    Inside\n",
       "1456    Inside\n",
       "1457    Inside\n",
       "1458    Inside\n",
       "1459    Inside\n",
       "Name: LotConfig, Length: 1460, dtype: object"
      ]
     },
     "execution_count": 20,
     "metadata": {},
     "output_type": "execute_result"
    }
   ],
   "source": [
    "housing_features_transformed_df.pop('LotConfig')"
   ]
  },
  {
   "cell_type": "code",
   "execution_count": 21,
   "id": "b85bf9f4",
   "metadata": {},
   "outputs": [
    {
     "data": {
      "text/plain": [
       "array(['CollgCr', 'Veenker', 'Crawfor', 'NoRidge', 'Mitchel', 'Somerst',\n",
       "       'NWAmes', 'OldTown', 'BrkSide', 'Sawyer', 'NridgHt', 'NAmes',\n",
       "       'SawyerW', 'IDOTRR', 'MeadowV', 'Edwards', 'Timber', 'Gilbert',\n",
       "       'StoneBr', 'ClearCr', 'NPkVill', 'Blmngtn', 'BrDale', 'SWISU',\n",
       "       'Blueste'], dtype=object)"
      ]
     },
     "execution_count": 21,
     "metadata": {},
     "output_type": "execute_result"
    }
   ],
   "source": [
    "housing_features_df[\"Neighborhood\"].unique()"
   ]
  },
  {
   "cell_type": "code",
   "execution_count": 22,
   "id": "30e96f69",
   "metadata": {},
   "outputs": [
    {
     "name": "stdout",
     "output_type": "stream",
     "text": [
      "['CollgCr', 'Veenker', 'CollgCr', 'Crawfor', 'NoRidge', 'Mitchel', 'Somerst', 'NWAmes', 'OldTown', 'BrkSide', 'Sawyer', 'NridgHt', 'Sawyer', 'CollgCr', 'NAmes', 'BrkSide', 'NAmes', 'Sawyer', 'SawyerW', 'NAmes', 'NridgHt', 'IDOTRR', 'CollgCr', 'MeadowV', 'Sawyer', 'NridgHt', 'NAmes', 'NridgHt', 'NAmes', 'BrkSide', 'IDOTRR', 'Sawyer', 'CollgCr', 'NAmes', 'NridgHt', 'NridgHt', 'CollgCr', 'NAmes', 'NAmes', 'Edwards', 'NAmes', 'Timber', 'SawyerW', 'CollgCr', 'NAmes', 'NridgHt', 'Mitchel', 'Somerst', 'OldTown', 'Sawyer', 'Gilbert', 'BrkSide', 'IDOTRR', 'Veenker', 'NAmes', 'NAmes', 'Somerst', 'CollgCr', 'StoneBr', 'CollgCr', 'SawyerW', 'IDOTRR', 'NridgHt', 'OldTown', 'CollgCr', 'NridgHt', 'NAmes', 'CollgCr', 'OldTown', 'ClearCr', 'NAmes', 'Mitchel', 'Gilbert', 'NAmes', 'OldTown', 'MeadowV', 'NAmes', 'BrkSide', 'Sawyer', 'OldTown', 'NAmes', 'Mitchel', 'Somerst', 'NAmes', 'Gilbert', 'NoRidge', 'Gilbert', 'Somerst', 'IDOTRR', 'CollgCr', 'NAmes', 'NAmes', 'Crawfor', 'OldTown', 'CollgCr', 'Gilbert', 'CollgCr', 'Edwards', 'Edwards', 'NAmes', 'NWAmes', 'SawyerW', 'SawyerW', 'CollgCr', 'IDOTRR', 'Somerst', 'OldTown', 'OldTown', 'IDOTRR', 'NWAmes', 'Edwards', 'Gilbert', 'CollgCr', 'Crawfor', 'Crawfor', 'Somerst', 'Sawyer', 'Edwards', 'SawyerW', 'CollgCr', 'ClearCr', 'IDOTRR', 'NAmes', 'SawyerW', 'NWAmes', 'IDOTRR', 'NPkVill', 'OldTown', 'NAmes', 'NAmes', 'NAmes', 'Gilbert', 'NAmes', 'Timber', 'Sawyer', 'NWAmes', 'NAmes', 'Mitchel', 'CollgCr', 'CollgCr', 'NAmes', 'CollgCr', 'NAmes', 'CollgCr', 'Sawyer', 'Edwards', 'BrkSide', 'Gilbert', 'SawyerW', 'BrkSide', 'CollgCr', 'NridgHt', 'NWAmes', 'ClearCr', 'OldTown', 'Edwards', 'NAmes', 'Timber', 'Somerst', 'Gilbert', 'Veenker', 'NridgHt', 'NridgHt', 'OldTown', 'OldTown', 'Edwards', 'ClearCr', 'NridgHt', 'Gilbert', 'Timber', 'OldTown', 'NAmes', 'StoneBr', 'NAmes', 'Timber', 'Edwards', 'ClearCr', 'Sawyer', 'StoneBr', 'OldTown', 'Somerst', 'Crawfor', 'Edwards', 'OldTown', 'BrkSide', 'OldTown', 'Mitchel', 'OldTown', 'SawyerW', 'StoneBr', 'Crawfor', 'NAmes', 'CollgCr', 'Edwards', 'CollgCr', 'NPkVill', 'Somerst', 'NAmes', 'OldTown', 'NridgHt', 'Edwards', 'Mitchel', 'OldTown', 'CollgCr', 'OldTown', 'Gilbert', 'Sawyer', 'NAmes', 'SawyerW', 'NAmes', 'Edwards', 'Edwards', 'Somerst', 'CollgCr', 'CollgCr', 'NAmes', 'CollgCr', 'OldTown', 'Crawfor', 'Blmngtn', 'CollgCr', 'Gilbert', 'NWAmes', 'NAmes', 'NridgHt', 'BrDale', 'NoRidge', 'BrDale', 'Sawyer', 'Blmngtn', 'NAmes', 'NoRidge', 'BrDale', 'CollgCr', 'Gilbert', 'BrDale', 'CollgCr', 'SawyerW', 'NridgHt', 'Edwards', 'Somerst', 'OldTown', 'OldTown', 'SawyerW', 'SawyerW', 'NWAmes', 'OldTown', 'NAmes', 'CollgCr', 'ClearCr', 'BrkSide', 'Crawfor', 'SawyerW', 'NAmes', 'NAmes', 'Gilbert', 'Somerst', 'CollgCr', 'CollgCr', 'OldTown', 'NAmes', 'CollgCr', 'Sawyer', 'OldTown', 'OldTown', 'NWAmes', 'Gilbert', 'SWISU', 'IDOTRR', 'Edwards', 'Somerst', 'ClearCr', 'NoRidge', 'NAmes', 'Mitchel', 'BrkSide', 'Mitchel', 'Gilbert', 'NridgHt', 'ClearCr', 'SawyerW', 'Somerst', 'NridgHt', 'Somerst', 'SawyerW', 'Somerst', 'NAmes', 'NAmes', 'Sawyer', 'BrkSide', 'CollgCr', 'SWISU', 'Edwards', 'NWAmes', 'NAmes', 'Mitchel', 'IDOTRR', 'Somerst', 'NWAmes', 'Crawfor', 'Crawfor', 'CollgCr', 'CollgCr', 'CollgCr', 'OldTown', 'CollgCr', 'SawyerW', 'IDOTRR', 'Edwards', 'NridgHt', 'Gilbert', 'NAmes', 'OldTown', 'Timber', 'OldTown', 'Gilbert', 'NWAmes', 'Somerst', 'NoRidge', 'NWAmes', 'NridgHt', 'NridgHt', 'SawyerW', 'OldTown', 'NAmes', 'IDOTRR', 'Veenker', 'NAmes', 'BrkSide', 'IDOTRR', 'NAmes', 'NAmes', 'NridgHt', 'NridgHt', 'Gilbert', 'Timber', 'StoneBr', 'CollgCr', 'NWAmes', 'NAmes', 'Timber', 'SawyerW', 'NAmes', 'NridgHt', 'MeadowV', 'BrkSide', 'NAmes', 'NAmes', 'NridgHt', 'NridgHt', 'NridgHt', 'ClearCr', 'Edwards', 'OldTown', 'SWISU', 'CollgCr', 'Gilbert', 'MeadowV', 'ClearCr', 'NoRidge', 'Mitchel', 'BrkSide', 'Edwards', 'BrDale', 'NWAmes', 'IDOTRR', 'NAmes', 'NAmes', 'NAmes', 'NAmes', 'Gilbert', 'ClearCr', 'SawyerW', 'NAmes', 'CollgCr', 'Edwards', 'CollgCr', 'Somerst', 'StoneBr', 'Gilbert', 'SWISU', 'Somerst', 'CollgCr', 'SawyerW', 'ClearCr', 'Blmngtn', 'Edwards', 'Edwards', 'CollgCr', 'NridgHt', 'Edwards', 'Mitchel', 'NAmes', 'BrkSide', 'OldTown', 'Edwards', 'CollgCr', 'NAmes', 'IDOTRR', 'Somerst', 'Veenker', 'CollgCr', 'Sawyer', 'NoRidge', 'Gilbert', 'Sawyer', 'SWISU', 'Crawfor', 'NridgHt', 'Somerst', 'Edwards', 'Gilbert', 'Somerst', 'OldTown', 'SawyerW', 'Gilbert', 'Sawyer', 'Crawfor', 'Edwards', 'NAmes', 'Mitchel', 'NWAmes', 'Mitchel', 'NoRidge', 'NAmes', 'OldTown', 'SawyerW', 'NAmes', 'CollgCr', 'Timber', 'BrDale', 'OldTown', 'BrDale', 'Gilbert', 'MeadowV', 'CollgCr', 'OldTown', 'BrkSide', 'Crawfor', 'Edwards', 'NridgHt', 'Edwards', 'BrkSide', 'Blmngtn', 'CollgCr', 'Edwards', 'NAmes', 'Gilbert', 'IDOTRR', 'OldTown', 'OldTown', 'ClearCr', 'Timber', 'Somerst', 'Mitchel', 'NWAmes', 'OldTown', 'ClearCr', 'OldTown', 'BrkSide', 'Somerst', 'SWISU', 'Sawyer', 'Crawfor', 'CollgCr', 'Blmngtn', 'NAmes', 'NAmes', 'NridgHt', 'SawyerW', 'StoneBr', 'NWAmes', 'Edwards', 'NridgHt', 'StoneBr', 'Sawyer', 'CollgCr', 'NridgHt', 'CollgCr', 'OldTown', 'NridgHt', 'NridgHt', 'OldTown', 'Mitchel', 'Sawyer', 'NAmes', 'NAmes', 'NWAmes', 'OldTown', 'MeadowV', 'MeadowV', 'NAmes', 'Gilbert', 'NAmes', 'OldTown', 'IDOTRR', 'NoRidge', 'BrkSide', 'Sawyer', 'NAmes', 'BrDale', 'Somerst', 'Edwards', 'Crawfor', 'NPkVill', 'OldTown', 'SawyerW', 'Somerst', 'OldTown', 'NAmes', 'NAmes', 'NridgHt', 'NAmes', 'Mitchel', 'Crawfor', 'NridgHt', 'NWAmes', 'NoRidge', 'CollgCr', 'Crawfor', 'OldTown', 'NAmes', 'BrkSide', 'Edwards', 'NoRidge', 'Somerst', 'NAmes', 'NridgHt', 'Edwards', 'Crawfor', 'Timber', 'BrkSide', 'NAmes', 'BrkSide', 'Gilbert', 'Edwards', 'CollgCr', 'NAmes', 'Sawyer', 'CollgCr', 'Timber', 'NoRidge', 'NWAmes', 'NAmes', 'Gilbert', 'NWAmes', 'BrkSide', 'Mitchel', 'OldTown', 'Somerst', 'NPkVill', 'OldTown', 'NridgHt', 'Edwards', 'NridgHt', 'BrkSide', 'NAmes', 'IDOTRR', 'Gilbert', 'Blmngtn', 'Sawyer', 'Mitchel', 'Edwards', 'Edwards', 'NoRidge', 'SWISU', 'StoneBr', 'NridgHt', 'SawyerW', 'NAmes', 'NAmes', 'NAmes', 'Timber', 'Gilbert', 'NAmes', 'NAmes', 'SWISU', 'Sawyer', 'Somerst', 'OldTown', 'NAmes', 'NridgHt', 'Edwards', 'OldTown', 'BrkSide', 'Timber', 'BrkSide', 'Sawyer', 'ClearCr', 'BrkSide', 'CollgCr', 'NridgHt', 'Mitchel', 'CollgCr', 'CollgCr', 'StoneBr', 'OldTown', 'Blmngtn', 'Crawfor', 'Blueste', 'NridgHt', 'IDOTRR', 'SawyerW', 'Somerst', 'CollgCr', 'NAmes', 'CollgCr', 'Edwards', 'Crawfor', 'Sawyer', 'CollgCr', 'NWAmes', 'CollgCr', 'Mitchel', 'MeadowV', 'NAmes', 'Gilbert', 'NAmes', 'NridgHt', 'Timber', 'Edwards', 'NWAmes', 'Sawyer', 'Somerst', 'NWAmes', 'NAmes', 'NAmes', 'NAmes', 'NAmes', 'NAmes', 'OldTown', 'NridgHt', 'NWAmes', 'NAmes', 'OldTown', 'SWISU', 'BrkSide', 'OldTown', 'Edwards', 'Blmngtn', 'NridgHt', 'Somerst', 'NAmes', 'NWAmes', 'Somerst', 'NAmes', 'NAmes', 'Edwards', 'NAmes', 'MeadowV', 'Somerst', 'Edwards', 'CollgCr', 'IDOTRR', 'NoRidge', 'BrDale', 'NAmes', 'Crawfor', 'NAmes', 'Edwards', 'NWAmes', 'NoRidge', 'NAmes', 'Edwards', 'Somerst', 'Gilbert', 'NAmes', 'SawyerW', 'Sawyer', 'Crawfor', 'CollgCr', 'Edwards', 'Veenker', 'Crawfor', 'NAmes', 'NPkVill', 'OldTown', 'OldTown', 'StoneBr', 'Sawyer', 'SawyerW', 'SWISU', 'ClearCr', 'CollgCr', 'NoRidge', 'StoneBr', 'Somerst', 'Somerst', 'StoneBr', 'NridgHt', 'CollgCr', 'NoRidge', 'Timber', 'OldTown', 'BrkSide', 'Timber', 'BrkSide', 'Edwards', 'Sawyer', 'Somerst', 'Timber', 'NWAmes', 'StoneBr', 'OldTown', 'CollgCr', 'IDOTRR', 'ClearCr', 'NridgHt', 'Gilbert', 'Sawyer', 'BrkSide', 'IDOTRR', 'StoneBr', 'BrkSide', 'Sawyer', 'NWAmes', 'OldTown', 'NWAmes', 'NoRidge', 'CollgCr', 'StoneBr', 'CollgCr', 'NAmes', 'Edwards', 'Edwards', 'NAmes', 'Crawfor', 'CollgCr', 'NAmes', 'IDOTRR', 'StoneBr', 'Timber', 'CollgCr', 'Sawyer', 'Sawyer', 'OldTown', 'NAmes', 'Gilbert', 'Edwards', 'CollgCr', 'OldTown', 'Sawyer', 'SawyerW', 'Sawyer', 'StoneBr', 'NWAmes', 'Gilbert', 'OldTown', 'NoRidge', 'Edwards', 'OldTown', 'Gilbert', 'CollgCr', 'NridgHt', 'NAmes', 'Somerst', 'CollgCr', 'Sawyer', 'Somerst', 'NoRidge', 'NAmes', 'BrkSide', 'Somerst', 'NoRidge', 'Veenker', 'Somerst', 'NWAmes', 'Mitchel', 'CollgCr', 'StoneBr', 'Sawyer', 'Edwards', 'Edwards', 'NAmes', 'NridgHt', 'Mitchel', 'CollgCr', 'Sawyer', 'SawyerW', 'Mitchel', 'Gilbert', 'SawyerW', 'CollgCr', 'Mitchel', 'OldTown', 'NWAmes', 'OldTown', 'SawyerW', 'OldTown', 'ClearCr', 'Blmngtn', 'Mitchel', 'NoRidge', 'Somerst', 'Gilbert', 'SawyerW', 'Sawyer', 'NAmes', 'NridgHt', 'SWISU', 'ClearCr', 'IDOTRR', 'CollgCr', 'NridgHt', 'NAmes', 'Somerst', 'NAmes', 'BrkSide', 'NAmes', 'OldTown', 'NWAmes', 'CollgCr', 'IDOTRR', 'NAmes', 'Edwards', 'CollgCr', 'NAmes', 'Mitchel', 'ClearCr', 'NridgHt', 'CollgCr', 'OldTown', 'Gilbert', 'SWISU', 'Somerst', 'NridgHt', 'BrkSide', 'SawyerW', 'ClearCr', 'Somerst', 'NAmes', 'Somerst', 'CollgCr', 'NAmes', 'NAmes', 'Sawyer', 'OldTown', 'BrDale', 'CollgCr', 'Edwards', 'SWISU', 'OldTown', 'NAmes', 'NAmes', 'OldTown', 'Sawyer', 'SawyerW', 'CollgCr', 'ClearCr', 'Veenker', 'CollgCr', 'Blmngtn', 'Crawfor', 'NAmes', 'Sawyer', 'Sawyer', 'CollgCr', 'Gilbert', 'NWAmes', 'NWAmes', 'Crawfor', 'Sawyer', 'SawyerW', 'NAmes', 'Somerst', 'NAmes', 'Timber', 'Sawyer', 'Gilbert', 'SawyerW', 'NAmes', 'CollgCr', 'NAmes', 'NAmes', 'OldTown', 'Somerst', 'Mitchel', 'NridgHt', 'Sawyer', 'CollgCr', 'Edwards', 'Timber', 'Gilbert', 'SWISU', 'NAmes', 'Somerst', 'NAmes', 'Edwards', 'NAmes', 'NAmes', 'NAmes', 'Sawyer', 'Sawyer', 'Sawyer', 'SawyerW', 'NAmes', 'IDOTRR', 'SawyerW', 'NridgHt', 'Sawyer', 'NAmes', 'NAmes', 'Gilbert', 'Gilbert', 'Sawyer', 'NAmes', 'Somerst', 'Crawfor', 'Mitchel', 'Gilbert', 'NAmes', 'CollgCr', 'BrkSide', 'Crawfor', 'Somerst', 'MeadowV', 'IDOTRR', 'Edwards', 'SawyerW', 'NAmes', 'SawyerW', 'Edwards', 'Gilbert', 'SawyerW', 'NWAmes', 'NWAmes', 'NridgHt', 'NWAmes', 'CollgCr', 'Gilbert', 'Timber', 'NAmes', 'Somerst', 'CollgCr', 'NAmes', 'BrkSide', 'SawyerW', 'Somerst', 'CollgCr', 'ClearCr', 'Mitchel', 'Gilbert', 'Edwards', 'Mitchel', 'Timber', 'OldTown', 'NAmes', 'Timber', 'CollgCr', 'NWAmes', 'NAmes', 'SawyerW', 'CollgCr', 'Mitchel', 'Edwards', 'Crawfor', 'Blueste', 'Sawyer', 'CollgCr', 'Somerst', 'BrkSide', 'NWAmes', 'NPkVill', 'CollgCr', 'Timber', 'Gilbert', 'Crawfor', 'NAmes', 'OldTown', 'NAmes', 'NAmes', 'NridgHt', 'SawyerW', 'Somerst', 'BrkSide', 'Somerst', 'BrkSide', 'Somerst', 'Edwards', 'Sawyer', 'NAmes', 'NoRidge', 'Blmngtn', 'CollgCr', 'Mitchel', 'Edwards', 'OldTown', 'NridgHt', 'NWAmes', 'Somerst', 'NoRidge', 'OldTown', 'NAmes', 'CollgCr', 'NridgHt', 'BrkSide', 'NAmes', 'NWAmes', 'IDOTRR', 'CollgCr', 'Edwards', 'OldTown', 'Somerst', 'NWAmes', 'Blmngtn', 'CollgCr', 'NAmes', 'MeadowV', 'Mitchel', 'SWISU', 'Sawyer', 'Edwards', 'Crawfor', 'OldTown', 'NAmes', 'NWAmes', 'CollgCr', 'StoneBr', 'Gilbert', 'Blmngtn', 'Edwards', 'CollgCr', 'OldTown', 'Blmngtn', 'Timber', 'CollgCr', 'NAmes', 'Timber', 'NAmes', 'BrDale', 'SWISU', 'SWISU', 'NoRidge', 'CollgCr', 'Crawfor', 'Edwards', 'Timber', 'CollgCr', 'MeadowV', 'MeadowV', 'Sawyer', 'NWAmes', 'NridgHt', 'SawyerW', 'NWAmes', 'Edwards', 'StoneBr', 'CollgCr', 'Mitchel', 'Edwards', 'Gilbert', 'CollgCr', 'NAmes', 'Edwards', 'CollgCr', 'NWAmes', 'NridgHt', 'NoRidge', 'NridgHt', 'Crawfor', 'StoneBr', 'IDOTRR', 'OldTown', 'OldTown', 'NAmes', 'ClearCr', 'Gilbert', 'NAmes', 'MeadowV', 'NAmes', 'NAmes', 'NWAmes', 'Edwards', 'Edwards', 'CollgCr', 'Crawfor', 'OldTown', 'NAmes', 'CollgCr', 'CollgCr', 'NWAmes', 'Sawyer', 'CollgCr', 'NAmes', 'Gilbert', 'SawyerW', 'MeadowV', 'Somerst', 'Edwards', 'Somerst', 'NAmes', 'Somerst', 'SWISU', 'NAmes', 'NAmes', 'CollgCr', 'IDOTRR', 'StoneBr', 'BrkSide', 'NWAmes', 'SWISU', 'NAmes', 'NAmes', 'NAmes', 'BrDale', 'NoRidge', 'SawyerW', 'Gilbert', 'Gilbert', 'NridgHt', 'Gilbert', 'NWAmes', 'NAmes', 'NAmes', 'OldTown', 'NridgHt', 'Gilbert', 'Sawyer', 'Sawyer', 'NAmes', 'IDOTRR', 'CollgCr', 'Edwards', 'Edwards', 'Gilbert', 'NAmes', 'Blmngtn', 'Gilbert', 'Gilbert', 'OldTown', 'SWISU', 'Mitchel', 'OldTown', 'SawyerW', 'Gilbert', 'BrkSide', 'NAmes', 'Sawyer', 'Mitchel', 'BrkSide', 'NAmes', 'NWAmes', 'CollgCr', 'Sawyer', 'Edwards', 'BrkSide', 'SawyerW', 'Crawfor', 'OldTown', 'OldTown', 'NAmes', 'Edwards', 'Crawfor', 'IDOTRR', 'NAmes', 'Veenker', 'NAmes', 'NridgHt', 'Somerst', 'NWAmes', 'NPkVill', 'Crawfor', 'Sawyer', 'Sawyer', 'Veenker', 'NridgHt', 'CollgCr', 'Gilbert', 'Edwards', 'NoRidge', 'Mitchel', 'NAmes', 'Somerst', 'ClearCr', 'Crawfor', 'NoRidge', 'Mitchel', 'OldTown', 'Crawfor', 'Edwards', 'Timber', 'Crawfor', 'NoRidge', 'OldTown', 'Timber', 'Edwards', 'OldTown', 'NoRidge', 'CollgCr', 'Gilbert', 'Mitchel', 'Somerst', 'OldTown', 'Mitchel', 'Sawyer', 'Gilbert', 'Gilbert', 'OldTown', 'CollgCr', 'Sawyer', 'NAmes', 'CollgCr', 'BrkSide', 'CollgCr', 'NWAmes', 'SawyerW', 'SawyerW', 'CollgCr', 'NAmes', 'Somerst', 'SawyerW', 'Gilbert', 'Edwards', 'Sawyer', 'NAmes', 'Sawyer', 'Sawyer', 'Somerst', 'BrkSide', 'BrDale', 'NAmes', 'Sawyer', 'NAmes', 'NAmes', 'Gilbert', 'NAmes', 'Somerst', 'NAmes', 'NridgHt', 'NAmes', 'Sawyer', 'NAmes', 'NAmes', 'NAmes', 'SWISU', 'Crawfor', 'NridgHt', 'CollgCr', 'SawyerW', 'Timber', 'CollgCr', 'Somerst', 'NWAmes', 'NridgHt', 'Crawfor', 'NWAmes', 'Somerst', 'Mitchel', 'OldTown', 'NAmes', 'NAmes', 'NridgHt', 'Mitchel', 'Veenker', 'Edwards', 'BrkSide', 'NoRidge', 'Edwards', 'Gilbert', 'NAmes', 'Gilbert', 'NAmes', 'ClearCr', 'BrkSide', 'NAmes', 'Somerst', 'OldTown', 'Timber', 'Crawfor', 'NAmes', 'ClearCr', 'NWAmes', 'Sawyer', 'Edwards', 'Crawfor', 'NAmes', 'NWAmes', 'NWAmes', 'CollgCr', 'IDOTRR', 'CollgCr', 'Timber', 'CollgCr', 'Mitchel', 'SWISU', 'BrkSide', 'NWAmes', 'ClearCr', 'StoneBr', 'NridgHt', 'NAmes', 'BrDale', 'OldTown', 'NWAmes', 'Edwards', 'NAmes', 'NAmes', 'Edwards', 'Edwards', 'NAmes', 'Gilbert', 'Crawfor', 'NoRidge', 'Somerst', 'Edwards', 'NridgHt', 'NridgHt', 'CollgCr', 'OldTown', 'SawyerW', 'Crawfor', 'CollgCr', 'NoRidge', 'NoRidge', 'Edwards', 'NAmes', 'CollgCr', 'Somerst', 'CollgCr', 'Edwards', 'NAmes', 'BrkSide', 'NoRidge', 'BrkSide', 'Somerst', 'IDOTRR', 'Edwards', 'Mitchel', 'OldTown', 'Gilbert', 'Somerst', 'CollgCr', 'Edwards', 'IDOTRR', 'BrDale', 'NWAmes', 'NWAmes', 'OldTown', 'CollgCr', 'CollgCr', 'NAmes', 'SawyerW', 'CollgCr', 'Crawfor', 'CollgCr', 'OldTown', 'NWAmes', 'Timber', 'SawyerW', 'OldTown', 'NAmes', 'NAmes', 'BrkSide', 'NoRidge', 'CollgCr', 'NWAmes', 'NAmes', 'NAmes', 'Somerst', 'NridgHt', 'SWISU', 'StoneBr', 'NAmes', 'Gilbert', 'Somerst', 'Somerst', 'CollgCr', 'MeadowV', 'CollgCr', 'CollgCr', 'OldTown', 'NAmes', 'CollgCr', 'NoRidge', 'Somerst', 'Timber', 'SWISU', 'Edwards', 'BrDale', 'Timber', 'Edwards', 'NAmes', 'OldTown', 'Sawyer', 'Edwards', 'IDOTRR', 'NWAmes', 'OldTown', 'Gilbert', 'BrkSide', 'CollgCr', 'NAmes', 'NAmes', 'OldTown', 'Blmngtn', 'Timber', 'Timber', 'BrkSide', 'NAmes', 'SWISU', 'BrkSide', 'Gilbert', 'CollgCr', 'Somerst', 'OldTown', 'Crawfor', 'CollgCr', 'Mitchel', 'OldTown', 'NWAmes', 'CollgCr', 'NAmes', 'NAmes', 'SawyerW', 'BrkSide', 'Blmngtn', 'OldTown', 'NoRidge', 'NAmes', 'Crawfor', 'NWAmes', 'NPkVill', 'CollgCr', 'Edwards', 'NAmes', 'NAmes', 'NoRidge', 'NAmes', 'OldTown', 'NWAmes', 'Gilbert', 'NPkVill', 'OldTown', 'Gilbert', 'Mitchel', 'NAmes', 'NAmes', 'NridgHt', 'OldTown', 'NWAmes', 'Crawfor', 'CollgCr', 'Somerst', 'BrkSide', 'CollgCr', 'Sawyer', 'Mitchel', 'CollgCr', 'Edwards', 'MeadowV', 'NAmes', 'Somerst', 'Edwards', 'Mitchel', 'Somerst', 'Gilbert', 'NWAmes', 'Crawfor', 'NAmes', 'Edwards']\n"
     ]
    }
   ],
   "source": [
    "neighborhood_list = housing_features_df[\"Neighborhood\"].to_list()\n",
    "print(neighborhood_list)"
   ]
  },
  {
   "cell_type": "code",
   "execution_count": 23,
   "id": "a2f17744",
   "metadata": {},
   "outputs": [
    {
     "name": "stdout",
     "output_type": "stream",
     "text": [
      "[['CollgCr'], ['Veenker'], ['CollgCr'], ['Crawfor'], ['NoRidge']]\n"
     ]
    }
   ],
   "source": [
    "neighborhood_list_of_lists = []\n",
    "\n",
    "for i in neighborhood_list: \n",
    "    neighborhood_list_of_lists.append([i])\n",
    "\n",
    "print(neighborhood_list_of_lists[:5])"
   ]
  },
  {
   "cell_type": "code",
   "execution_count": 24,
   "id": "57830fe4",
   "metadata": {},
   "outputs": [
    {
     "name": "stdout",
     "output_type": "stream",
     "text": [
      "Unique vocabulary items 25\n",
      "\n",
      "[[0. 0. 0. ... 0. 0. 0.]\n",
      " [0. 0. 0. ... 0. 0. 1.]\n",
      " [0. 0. 0. ... 0. 0. 0.]\n",
      " ...\n",
      " [0. 0. 0. ... 0. 0. 0.]\n",
      " [0. 0. 0. ... 0. 0. 0.]\n",
      " [0. 0. 0. ... 0. 0. 0.]]\n"
     ]
    }
   ],
   "source": [
    "neighborhood_encoder = OneHotEncoder()\n",
    "\n",
    "neighborhood_encoder.fit(neighborhood_list_of_lists)\n",
    "\n",
    "print(f\"Unique vocabulary items {len(neighborhood_encoder.categories_[0])}\\n\")\n",
    "\n",
    "neighborhood_transformed = neighborhood_encoder.transform(neighborhood_list_of_lists)\n",
    "\n",
    "neighborhood_transformed = neighborhood_transformed.toarray()\n",
    "\n",
    "print(neighborhood_transformed)"
   ]
  },
  {
   "cell_type": "code",
   "execution_count": 25,
   "id": "5bcaafdd",
   "metadata": {},
   "outputs": [
    {
     "data": {
      "text/html": [
       "<div>\n",
       "<style scoped>\n",
       "    .dataframe tbody tr th:only-of-type {\n",
       "        vertical-align: middle;\n",
       "    }\n",
       "\n",
       "    .dataframe tbody tr th {\n",
       "        vertical-align: top;\n",
       "    }\n",
       "\n",
       "    .dataframe thead th {\n",
       "        text-align: right;\n",
       "    }\n",
       "</style>\n",
       "<table border=\"1\" class=\"dataframe\">\n",
       "  <thead>\n",
       "    <tr style=\"text-align: right;\">\n",
       "      <th></th>\n",
       "      <th>0</th>\n",
       "      <th>1</th>\n",
       "      <th>2</th>\n",
       "      <th>3</th>\n",
       "      <th>4</th>\n",
       "      <th>5</th>\n",
       "      <th>6</th>\n",
       "      <th>7</th>\n",
       "      <th>8</th>\n",
       "      <th>9</th>\n",
       "      <th>...</th>\n",
       "      <th>15</th>\n",
       "      <th>16</th>\n",
       "      <th>17</th>\n",
       "      <th>18</th>\n",
       "      <th>19</th>\n",
       "      <th>20</th>\n",
       "      <th>21</th>\n",
       "      <th>22</th>\n",
       "      <th>23</th>\n",
       "      <th>24</th>\n",
       "    </tr>\n",
       "  </thead>\n",
       "  <tbody>\n",
       "    <tr>\n",
       "      <th>0</th>\n",
       "      <td>0.0</td>\n",
       "      <td>0.0</td>\n",
       "      <td>0.0</td>\n",
       "      <td>0.0</td>\n",
       "      <td>0.0</td>\n",
       "      <td>1.0</td>\n",
       "      <td>0.0</td>\n",
       "      <td>0.0</td>\n",
       "      <td>0.0</td>\n",
       "      <td>0.0</td>\n",
       "      <td>...</td>\n",
       "      <td>0.0</td>\n",
       "      <td>0.0</td>\n",
       "      <td>0.0</td>\n",
       "      <td>0.0</td>\n",
       "      <td>0.0</td>\n",
       "      <td>0.0</td>\n",
       "      <td>0.0</td>\n",
       "      <td>0.0</td>\n",
       "      <td>0.0</td>\n",
       "      <td>0.0</td>\n",
       "    </tr>\n",
       "    <tr>\n",
       "      <th>1</th>\n",
       "      <td>0.0</td>\n",
       "      <td>0.0</td>\n",
       "      <td>0.0</td>\n",
       "      <td>0.0</td>\n",
       "      <td>0.0</td>\n",
       "      <td>0.0</td>\n",
       "      <td>0.0</td>\n",
       "      <td>0.0</td>\n",
       "      <td>0.0</td>\n",
       "      <td>0.0</td>\n",
       "      <td>...</td>\n",
       "      <td>0.0</td>\n",
       "      <td>0.0</td>\n",
       "      <td>0.0</td>\n",
       "      <td>0.0</td>\n",
       "      <td>0.0</td>\n",
       "      <td>0.0</td>\n",
       "      <td>0.0</td>\n",
       "      <td>0.0</td>\n",
       "      <td>0.0</td>\n",
       "      <td>1.0</td>\n",
       "    </tr>\n",
       "    <tr>\n",
       "      <th>2</th>\n",
       "      <td>0.0</td>\n",
       "      <td>0.0</td>\n",
       "      <td>0.0</td>\n",
       "      <td>0.0</td>\n",
       "      <td>0.0</td>\n",
       "      <td>1.0</td>\n",
       "      <td>0.0</td>\n",
       "      <td>0.0</td>\n",
       "      <td>0.0</td>\n",
       "      <td>0.0</td>\n",
       "      <td>...</td>\n",
       "      <td>0.0</td>\n",
       "      <td>0.0</td>\n",
       "      <td>0.0</td>\n",
       "      <td>0.0</td>\n",
       "      <td>0.0</td>\n",
       "      <td>0.0</td>\n",
       "      <td>0.0</td>\n",
       "      <td>0.0</td>\n",
       "      <td>0.0</td>\n",
       "      <td>0.0</td>\n",
       "    </tr>\n",
       "    <tr>\n",
       "      <th>3</th>\n",
       "      <td>0.0</td>\n",
       "      <td>0.0</td>\n",
       "      <td>0.0</td>\n",
       "      <td>0.0</td>\n",
       "      <td>0.0</td>\n",
       "      <td>0.0</td>\n",
       "      <td>1.0</td>\n",
       "      <td>0.0</td>\n",
       "      <td>0.0</td>\n",
       "      <td>0.0</td>\n",
       "      <td>...</td>\n",
       "      <td>0.0</td>\n",
       "      <td>0.0</td>\n",
       "      <td>0.0</td>\n",
       "      <td>0.0</td>\n",
       "      <td>0.0</td>\n",
       "      <td>0.0</td>\n",
       "      <td>0.0</td>\n",
       "      <td>0.0</td>\n",
       "      <td>0.0</td>\n",
       "      <td>0.0</td>\n",
       "    </tr>\n",
       "    <tr>\n",
       "      <th>4</th>\n",
       "      <td>0.0</td>\n",
       "      <td>0.0</td>\n",
       "      <td>0.0</td>\n",
       "      <td>0.0</td>\n",
       "      <td>0.0</td>\n",
       "      <td>0.0</td>\n",
       "      <td>0.0</td>\n",
       "      <td>0.0</td>\n",
       "      <td>0.0</td>\n",
       "      <td>0.0</td>\n",
       "      <td>...</td>\n",
       "      <td>1.0</td>\n",
       "      <td>0.0</td>\n",
       "      <td>0.0</td>\n",
       "      <td>0.0</td>\n",
       "      <td>0.0</td>\n",
       "      <td>0.0</td>\n",
       "      <td>0.0</td>\n",
       "      <td>0.0</td>\n",
       "      <td>0.0</td>\n",
       "      <td>0.0</td>\n",
       "    </tr>\n",
       "  </tbody>\n",
       "</table>\n",
       "<p>5 rows × 25 columns</p>\n",
       "</div>"
      ],
      "text/plain": [
       "    0    1    2    3    4    5    6    7    8    9   ...   15   16   17   18  \\\n",
       "0  0.0  0.0  0.0  0.0  0.0  1.0  0.0  0.0  0.0  0.0  ...  0.0  0.0  0.0  0.0   \n",
       "1  0.0  0.0  0.0  0.0  0.0  0.0  0.0  0.0  0.0  0.0  ...  0.0  0.0  0.0  0.0   \n",
       "2  0.0  0.0  0.0  0.0  0.0  1.0  0.0  0.0  0.0  0.0  ...  0.0  0.0  0.0  0.0   \n",
       "3  0.0  0.0  0.0  0.0  0.0  0.0  1.0  0.0  0.0  0.0  ...  0.0  0.0  0.0  0.0   \n",
       "4  0.0  0.0  0.0  0.0  0.0  0.0  0.0  0.0  0.0  0.0  ...  1.0  0.0  0.0  0.0   \n",
       "\n",
       "    19   20   21   22   23   24  \n",
       "0  0.0  0.0  0.0  0.0  0.0  0.0  \n",
       "1  0.0  0.0  0.0  0.0  0.0  1.0  \n",
       "2  0.0  0.0  0.0  0.0  0.0  0.0  \n",
       "3  0.0  0.0  0.0  0.0  0.0  0.0  \n",
       "4  0.0  0.0  0.0  0.0  0.0  0.0  \n",
       "\n",
       "[5 rows x 25 columns]"
      ]
     },
     "execution_count": 25,
     "metadata": {},
     "output_type": "execute_result"
    }
   ],
   "source": [
    "neighborhood_transformed_df = pd.DataFrame(neighborhood_transformed)\n",
    "neighborhood_transformed_df.head()"
   ]
  },
  {
   "cell_type": "code",
   "execution_count": 26,
   "id": "e58f2764",
   "metadata": {},
   "outputs": [],
   "source": [
    "temp_list = []\n",
    "for i in range(len(neighborhood_transformed_df.columns)):\n",
    "    temp = list(neighborhood_transformed_df[i])\n",
    "    temp_list.append(temp.index(1.0))"
   ]
  },
  {
   "cell_type": "code",
   "execution_count": 27,
   "id": "690865a4",
   "metadata": {},
   "outputs": [
    {
     "data": {
      "text/plain": [
       "0    CollgCr\n",
       "1    Veenker\n",
       "2    CollgCr\n",
       "3    Crawfor\n",
       "4    NoRidge\n",
       "Name: Neighborhood, dtype: object"
      ]
     },
     "execution_count": 27,
     "metadata": {},
     "output_type": "execute_result"
    }
   ],
   "source": [
    "housing_features_df[\"Neighborhood\"].head()"
   ]
  },
  {
   "cell_type": "code",
   "execution_count": 28,
   "id": "9676a370",
   "metadata": {},
   "outputs": [
    {
     "name": "stdout",
     "output_type": "stream",
     "text": [
      "['Blmngtn', 'Blueste', 'BrDale', 'BrkSide', 'ClearCr', 'CollgCr', 'Crawfor', 'Edwards', 'Gilbert', 'IDOTRR', 'MeadowV', 'Mitchel', 'NAmes', 'NPkVill', 'NWAmes', 'NoRidge', 'NridgHt', 'OldTown', 'SWISU', 'Sawyer', 'SawyerW', 'Somerst', 'StoneBr', 'Timber', 'Veenker']\n"
     ]
    }
   ],
   "source": [
    "neighborhood_name_list = []\n",
    "for i in temp_list:\n",
    "    neighborhood_name_list.append(housing_features_df[\"Neighborhood\"][i])\n",
    "print(neighborhood_name_list)"
   ]
  },
  {
   "cell_type": "code",
   "execution_count": 29,
   "id": "47d784a3",
   "metadata": {},
   "outputs": [],
   "source": [
    "neighborhood_transformed_df.columns = neighborhood_name_list"
   ]
  },
  {
   "cell_type": "code",
   "execution_count": 30,
   "id": "0d6f371b",
   "metadata": {},
   "outputs": [
    {
     "data": {
      "text/html": [
       "<div>\n",
       "<style scoped>\n",
       "    .dataframe tbody tr th:only-of-type {\n",
       "        vertical-align: middle;\n",
       "    }\n",
       "\n",
       "    .dataframe tbody tr th {\n",
       "        vertical-align: top;\n",
       "    }\n",
       "\n",
       "    .dataframe thead th {\n",
       "        text-align: right;\n",
       "    }\n",
       "</style>\n",
       "<table border=\"1\" class=\"dataframe\">\n",
       "  <thead>\n",
       "    <tr style=\"text-align: right;\">\n",
       "      <th></th>\n",
       "      <th>Blmngtn</th>\n",
       "      <th>Blueste</th>\n",
       "      <th>BrDale</th>\n",
       "      <th>BrkSide</th>\n",
       "      <th>ClearCr</th>\n",
       "      <th>CollgCr</th>\n",
       "      <th>Crawfor</th>\n",
       "      <th>Edwards</th>\n",
       "      <th>Gilbert</th>\n",
       "      <th>IDOTRR</th>\n",
       "      <th>...</th>\n",
       "      <th>NoRidge</th>\n",
       "      <th>NridgHt</th>\n",
       "      <th>OldTown</th>\n",
       "      <th>SWISU</th>\n",
       "      <th>Sawyer</th>\n",
       "      <th>SawyerW</th>\n",
       "      <th>Somerst</th>\n",
       "      <th>StoneBr</th>\n",
       "      <th>Timber</th>\n",
       "      <th>Veenker</th>\n",
       "    </tr>\n",
       "  </thead>\n",
       "  <tbody>\n",
       "    <tr>\n",
       "      <th>0</th>\n",
       "      <td>0.0</td>\n",
       "      <td>0.0</td>\n",
       "      <td>0.0</td>\n",
       "      <td>0.0</td>\n",
       "      <td>0.0</td>\n",
       "      <td>1.0</td>\n",
       "      <td>0.0</td>\n",
       "      <td>0.0</td>\n",
       "      <td>0.0</td>\n",
       "      <td>0.0</td>\n",
       "      <td>...</td>\n",
       "      <td>0.0</td>\n",
       "      <td>0.0</td>\n",
       "      <td>0.0</td>\n",
       "      <td>0.0</td>\n",
       "      <td>0.0</td>\n",
       "      <td>0.0</td>\n",
       "      <td>0.0</td>\n",
       "      <td>0.0</td>\n",
       "      <td>0.0</td>\n",
       "      <td>0.0</td>\n",
       "    </tr>\n",
       "    <tr>\n",
       "      <th>1</th>\n",
       "      <td>0.0</td>\n",
       "      <td>0.0</td>\n",
       "      <td>0.0</td>\n",
       "      <td>0.0</td>\n",
       "      <td>0.0</td>\n",
       "      <td>0.0</td>\n",
       "      <td>0.0</td>\n",
       "      <td>0.0</td>\n",
       "      <td>0.0</td>\n",
       "      <td>0.0</td>\n",
       "      <td>...</td>\n",
       "      <td>0.0</td>\n",
       "      <td>0.0</td>\n",
       "      <td>0.0</td>\n",
       "      <td>0.0</td>\n",
       "      <td>0.0</td>\n",
       "      <td>0.0</td>\n",
       "      <td>0.0</td>\n",
       "      <td>0.0</td>\n",
       "      <td>0.0</td>\n",
       "      <td>1.0</td>\n",
       "    </tr>\n",
       "    <tr>\n",
       "      <th>2</th>\n",
       "      <td>0.0</td>\n",
       "      <td>0.0</td>\n",
       "      <td>0.0</td>\n",
       "      <td>0.0</td>\n",
       "      <td>0.0</td>\n",
       "      <td>1.0</td>\n",
       "      <td>0.0</td>\n",
       "      <td>0.0</td>\n",
       "      <td>0.0</td>\n",
       "      <td>0.0</td>\n",
       "      <td>...</td>\n",
       "      <td>0.0</td>\n",
       "      <td>0.0</td>\n",
       "      <td>0.0</td>\n",
       "      <td>0.0</td>\n",
       "      <td>0.0</td>\n",
       "      <td>0.0</td>\n",
       "      <td>0.0</td>\n",
       "      <td>0.0</td>\n",
       "      <td>0.0</td>\n",
       "      <td>0.0</td>\n",
       "    </tr>\n",
       "    <tr>\n",
       "      <th>3</th>\n",
       "      <td>0.0</td>\n",
       "      <td>0.0</td>\n",
       "      <td>0.0</td>\n",
       "      <td>0.0</td>\n",
       "      <td>0.0</td>\n",
       "      <td>0.0</td>\n",
       "      <td>1.0</td>\n",
       "      <td>0.0</td>\n",
       "      <td>0.0</td>\n",
       "      <td>0.0</td>\n",
       "      <td>...</td>\n",
       "      <td>0.0</td>\n",
       "      <td>0.0</td>\n",
       "      <td>0.0</td>\n",
       "      <td>0.0</td>\n",
       "      <td>0.0</td>\n",
       "      <td>0.0</td>\n",
       "      <td>0.0</td>\n",
       "      <td>0.0</td>\n",
       "      <td>0.0</td>\n",
       "      <td>0.0</td>\n",
       "    </tr>\n",
       "    <tr>\n",
       "      <th>4</th>\n",
       "      <td>0.0</td>\n",
       "      <td>0.0</td>\n",
       "      <td>0.0</td>\n",
       "      <td>0.0</td>\n",
       "      <td>0.0</td>\n",
       "      <td>0.0</td>\n",
       "      <td>0.0</td>\n",
       "      <td>0.0</td>\n",
       "      <td>0.0</td>\n",
       "      <td>0.0</td>\n",
       "      <td>...</td>\n",
       "      <td>1.0</td>\n",
       "      <td>0.0</td>\n",
       "      <td>0.0</td>\n",
       "      <td>0.0</td>\n",
       "      <td>0.0</td>\n",
       "      <td>0.0</td>\n",
       "      <td>0.0</td>\n",
       "      <td>0.0</td>\n",
       "      <td>0.0</td>\n",
       "      <td>0.0</td>\n",
       "    </tr>\n",
       "  </tbody>\n",
       "</table>\n",
       "<p>5 rows × 25 columns</p>\n",
       "</div>"
      ],
      "text/plain": [
       "   Blmngtn  Blueste  BrDale  BrkSide  ClearCr  CollgCr  Crawfor  Edwards  \\\n",
       "0      0.0      0.0     0.0      0.0      0.0      1.0      0.0      0.0   \n",
       "1      0.0      0.0     0.0      0.0      0.0      0.0      0.0      0.0   \n",
       "2      0.0      0.0     0.0      0.0      0.0      1.0      0.0      0.0   \n",
       "3      0.0      0.0     0.0      0.0      0.0      0.0      1.0      0.0   \n",
       "4      0.0      0.0     0.0      0.0      0.0      0.0      0.0      0.0   \n",
       "\n",
       "   Gilbert  IDOTRR  ...  NoRidge  NridgHt  OldTown  SWISU  Sawyer  SawyerW  \\\n",
       "0      0.0     0.0  ...      0.0      0.0      0.0    0.0     0.0      0.0   \n",
       "1      0.0     0.0  ...      0.0      0.0      0.0    0.0     0.0      0.0   \n",
       "2      0.0     0.0  ...      0.0      0.0      0.0    0.0     0.0      0.0   \n",
       "3      0.0     0.0  ...      0.0      0.0      0.0    0.0     0.0      0.0   \n",
       "4      0.0     0.0  ...      1.0      0.0      0.0    0.0     0.0      0.0   \n",
       "\n",
       "   Somerst  StoneBr  Timber  Veenker  \n",
       "0      0.0      0.0     0.0      0.0  \n",
       "1      0.0      0.0     0.0      1.0  \n",
       "2      0.0      0.0     0.0      0.0  \n",
       "3      0.0      0.0     0.0      0.0  \n",
       "4      0.0      0.0     0.0      0.0  \n",
       "\n",
       "[5 rows x 25 columns]"
      ]
     },
     "execution_count": 30,
     "metadata": {},
     "output_type": "execute_result"
    }
   ],
   "source": [
    "neighborhood_transformed_df.head()"
   ]
  },
  {
   "cell_type": "code",
   "execution_count": 31,
   "id": "ad79cfd4",
   "metadata": {},
   "outputs": [
    {
     "name": "stdout",
     "output_type": "stream",
     "text": [
      "(1460, 25)\n",
      "(1460, 12)\n"
     ]
    }
   ],
   "source": [
    "print(neighborhood_transformed_df.shape)\n",
    "print(housing_features_transformed_df.shape)"
   ]
  },
  {
   "cell_type": "code",
   "execution_count": 32,
   "id": "b24efc68",
   "metadata": {},
   "outputs": [
    {
     "data": {
      "text/plain": [
       "(1460, 37)"
      ]
     },
     "execution_count": 32,
     "metadata": {},
     "output_type": "execute_result"
    }
   ],
   "source": [
    "housing_features_transformed_df.reset_index(drop=True, inplace=True)\n",
    "neighborhood_transformed_df.reset_index(drop=True, inplace=True)\n",
    "\n",
    "housing_features_final_df = pd.concat([housing_features_transformed_df, neighborhood_transformed_df], axis=1)\n",
    "housing_features_final_df.shape"
   ]
  },
  {
   "cell_type": "code",
   "execution_count": 33,
   "id": "91879ce0",
   "metadata": {
    "scrolled": true
   },
   "outputs": [
    {
     "data": {
      "text/plain": [
       "0       CollgCr\n",
       "1       Veenker\n",
       "2       CollgCr\n",
       "3       Crawfor\n",
       "4       NoRidge\n",
       "         ...   \n",
       "1455    Gilbert\n",
       "1456     NWAmes\n",
       "1457    Crawfor\n",
       "1458      NAmes\n",
       "1459    Edwards\n",
       "Name: Neighborhood, Length: 1460, dtype: object"
      ]
     },
     "execution_count": 33,
     "metadata": {},
     "output_type": "execute_result"
    }
   ],
   "source": [
    "housing_features_final_df.pop(\"Neighborhood\")"
   ]
  },
  {
   "cell_type": "code",
   "execution_count": 34,
   "id": "28c9d70b",
   "metadata": {},
   "outputs": [
    {
     "data": {
      "text/html": [
       "<div>\n",
       "<style scoped>\n",
       "    .dataframe tbody tr th:only-of-type {\n",
       "        vertical-align: middle;\n",
       "    }\n",
       "\n",
       "    .dataframe tbody tr th {\n",
       "        vertical-align: top;\n",
       "    }\n",
       "\n",
       "    .dataframe thead th {\n",
       "        text-align: right;\n",
       "    }\n",
       "</style>\n",
       "<table border=\"1\" class=\"dataframe\">\n",
       "  <thead>\n",
       "    <tr style=\"text-align: right;\">\n",
       "      <th></th>\n",
       "      <th>LotShape</th>\n",
       "      <th>OverallQual</th>\n",
       "      <th>OverallCond</th>\n",
       "      <th>YearRemodAdd</th>\n",
       "      <th>GrLivArea</th>\n",
       "      <th>MoSold</th>\n",
       "      <th>Corner</th>\n",
       "      <th>CulDSac</th>\n",
       "      <th>FR2</th>\n",
       "      <th>FR3</th>\n",
       "      <th>...</th>\n",
       "      <th>NoRidge</th>\n",
       "      <th>NridgHt</th>\n",
       "      <th>OldTown</th>\n",
       "      <th>SWISU</th>\n",
       "      <th>Sawyer</th>\n",
       "      <th>SawyerW</th>\n",
       "      <th>Somerst</th>\n",
       "      <th>StoneBr</th>\n",
       "      <th>Timber</th>\n",
       "      <th>Veenker</th>\n",
       "    </tr>\n",
       "  </thead>\n",
       "  <tbody>\n",
       "    <tr>\n",
       "      <th>0</th>\n",
       "      <td>Reg</td>\n",
       "      <td>7</td>\n",
       "      <td>5</td>\n",
       "      <td>2003</td>\n",
       "      <td>1710</td>\n",
       "      <td>2</td>\n",
       "      <td>0.0</td>\n",
       "      <td>0.0</td>\n",
       "      <td>0.0</td>\n",
       "      <td>0.0</td>\n",
       "      <td>...</td>\n",
       "      <td>0.0</td>\n",
       "      <td>0.0</td>\n",
       "      <td>0.0</td>\n",
       "      <td>0.0</td>\n",
       "      <td>0.0</td>\n",
       "      <td>0.0</td>\n",
       "      <td>0.0</td>\n",
       "      <td>0.0</td>\n",
       "      <td>0.0</td>\n",
       "      <td>0.0</td>\n",
       "    </tr>\n",
       "    <tr>\n",
       "      <th>1</th>\n",
       "      <td>Reg</td>\n",
       "      <td>6</td>\n",
       "      <td>8</td>\n",
       "      <td>1976</td>\n",
       "      <td>1262</td>\n",
       "      <td>5</td>\n",
       "      <td>0.0</td>\n",
       "      <td>0.0</td>\n",
       "      <td>1.0</td>\n",
       "      <td>0.0</td>\n",
       "      <td>...</td>\n",
       "      <td>0.0</td>\n",
       "      <td>0.0</td>\n",
       "      <td>0.0</td>\n",
       "      <td>0.0</td>\n",
       "      <td>0.0</td>\n",
       "      <td>0.0</td>\n",
       "      <td>0.0</td>\n",
       "      <td>0.0</td>\n",
       "      <td>0.0</td>\n",
       "      <td>1.0</td>\n",
       "    </tr>\n",
       "    <tr>\n",
       "      <th>2</th>\n",
       "      <td>IR1</td>\n",
       "      <td>7</td>\n",
       "      <td>5</td>\n",
       "      <td>2002</td>\n",
       "      <td>1786</td>\n",
       "      <td>9</td>\n",
       "      <td>0.0</td>\n",
       "      <td>0.0</td>\n",
       "      <td>0.0</td>\n",
       "      <td>0.0</td>\n",
       "      <td>...</td>\n",
       "      <td>0.0</td>\n",
       "      <td>0.0</td>\n",
       "      <td>0.0</td>\n",
       "      <td>0.0</td>\n",
       "      <td>0.0</td>\n",
       "      <td>0.0</td>\n",
       "      <td>0.0</td>\n",
       "      <td>0.0</td>\n",
       "      <td>0.0</td>\n",
       "      <td>0.0</td>\n",
       "    </tr>\n",
       "    <tr>\n",
       "      <th>3</th>\n",
       "      <td>IR1</td>\n",
       "      <td>7</td>\n",
       "      <td>5</td>\n",
       "      <td>1970</td>\n",
       "      <td>1717</td>\n",
       "      <td>2</td>\n",
       "      <td>1.0</td>\n",
       "      <td>0.0</td>\n",
       "      <td>0.0</td>\n",
       "      <td>0.0</td>\n",
       "      <td>...</td>\n",
       "      <td>0.0</td>\n",
       "      <td>0.0</td>\n",
       "      <td>0.0</td>\n",
       "      <td>0.0</td>\n",
       "      <td>0.0</td>\n",
       "      <td>0.0</td>\n",
       "      <td>0.0</td>\n",
       "      <td>0.0</td>\n",
       "      <td>0.0</td>\n",
       "      <td>0.0</td>\n",
       "    </tr>\n",
       "    <tr>\n",
       "      <th>4</th>\n",
       "      <td>IR1</td>\n",
       "      <td>8</td>\n",
       "      <td>5</td>\n",
       "      <td>2000</td>\n",
       "      <td>2198</td>\n",
       "      <td>12</td>\n",
       "      <td>0.0</td>\n",
       "      <td>0.0</td>\n",
       "      <td>1.0</td>\n",
       "      <td>0.0</td>\n",
       "      <td>...</td>\n",
       "      <td>1.0</td>\n",
       "      <td>0.0</td>\n",
       "      <td>0.0</td>\n",
       "      <td>0.0</td>\n",
       "      <td>0.0</td>\n",
       "      <td>0.0</td>\n",
       "      <td>0.0</td>\n",
       "      <td>0.0</td>\n",
       "      <td>0.0</td>\n",
       "      <td>0.0</td>\n",
       "    </tr>\n",
       "  </tbody>\n",
       "</table>\n",
       "<p>5 rows × 36 columns</p>\n",
       "</div>"
      ],
      "text/plain": [
       "  LotShape  OverallQual  OverallCond  YearRemodAdd  GrLivArea  MoSold  Corner  \\\n",
       "0      Reg            7            5          2003       1710       2     0.0   \n",
       "1      Reg            6            8          1976       1262       5     0.0   \n",
       "2      IR1            7            5          2002       1786       9     0.0   \n",
       "3      IR1            7            5          1970       1717       2     1.0   \n",
       "4      IR1            8            5          2000       2198      12     0.0   \n",
       "\n",
       "   CulDSac  FR2  FR3  ...  NoRidge  NridgHt  OldTown  SWISU  Sawyer  SawyerW  \\\n",
       "0      0.0  0.0  0.0  ...      0.0      0.0      0.0    0.0     0.0      0.0   \n",
       "1      0.0  1.0  0.0  ...      0.0      0.0      0.0    0.0     0.0      0.0   \n",
       "2      0.0  0.0  0.0  ...      0.0      0.0      0.0    0.0     0.0      0.0   \n",
       "3      0.0  0.0  0.0  ...      0.0      0.0      0.0    0.0     0.0      0.0   \n",
       "4      0.0  1.0  0.0  ...      1.0      0.0      0.0    0.0     0.0      0.0   \n",
       "\n",
       "   Somerst  StoneBr  Timber  Veenker  \n",
       "0      0.0      0.0     0.0      0.0  \n",
       "1      0.0      0.0     0.0      1.0  \n",
       "2      0.0      0.0     0.0      0.0  \n",
       "3      0.0      0.0     0.0      0.0  \n",
       "4      0.0      0.0     0.0      0.0  \n",
       "\n",
       "[5 rows x 36 columns]"
      ]
     },
     "execution_count": 34,
     "metadata": {},
     "output_type": "execute_result"
    }
   ],
   "source": [
    "housing_features_final_df.head()"
   ]
  },
  {
   "cell_type": "markdown",
   "id": "1aad3393",
   "metadata": {},
   "source": [
    "**a. The following code is used to transform LotShape into one-hot encoding features which is something that I didn't do before.**"
   ]
  },
  {
   "cell_type": "code",
   "execution_count": 35,
   "id": "9352fa3e",
   "metadata": {},
   "outputs": [
    {
     "data": {
      "text/plain": [
       "array(['Reg', 'IR1', 'IR2', 'IR3'], dtype=object)"
      ]
     },
     "execution_count": 35,
     "metadata": {},
     "output_type": "execute_result"
    }
   ],
   "source": [
    "housing_features_df[\"LotShape\"].unique()"
   ]
  },
  {
   "cell_type": "code",
   "execution_count": 36,
   "id": "62a96243",
   "metadata": {},
   "outputs": [
    {
     "name": "stdout",
     "output_type": "stream",
     "text": [
      "['Reg', 'Reg', 'IR1', 'IR1', 'IR1', 'IR1', 'Reg', 'IR1', 'Reg', 'Reg', 'Reg', 'IR1', 'IR2', 'IR1', 'IR1', 'Reg', 'IR1', 'Reg', 'Reg', 'Reg', 'IR1', 'Reg', 'Reg', 'Reg', 'IR1', 'Reg', 'Reg', 'Reg', 'IR1', 'IR1', 'Reg', 'IR1', 'Reg', 'IR1', 'Reg', 'Reg', 'Reg', 'Reg', 'Reg', 'Reg', 'Reg', 'Reg', 'IR1', 'IR1', 'Reg', 'Reg', 'IR1', 'Reg', 'Reg', 'Reg', 'IR2', 'Reg', 'IR2', 'IR1', 'Reg', 'IR1', 'Reg', 'IR1', 'IR2', 'Reg', 'Reg', 'Reg', 'IR1', 'IR1', 'Reg', 'Reg', 'Reg', 'IR1', 'Reg', 'Reg', 'IR1', 'Reg', 'IR1', 'Reg', 'Reg', 'Reg', 'IR1', 'Reg', 'Reg', 'Reg', 'Reg', 'Reg', 'Reg', 'IR1', 'IR1', 'Reg', 'IR2', 'Reg', 'IR1', 'Reg', 'Reg', 'Reg', 'IR1', 'Reg', 'IR1', 'IR2', 'IR1', 'Reg', 'Reg', 'IR1', 'IR1', 'Reg', 'Reg', 'IR1', 'Reg', 'Reg', 'Reg', 'Reg', 'Reg', 'IR1', 'Reg', 'IR1', 'Reg', 'Reg', 'IR1', 'Reg', 'Reg', 'Reg', 'Reg', 'Reg', 'IR1', 'Reg', 'Reg', 'Reg', 'IR1', 'Reg', 'IR1', 'IR1', 'Reg', 'Reg', 'Reg', 'IR1', 'Reg', 'IR1', 'IR1', 'Reg', 'IR1', 'Reg', 'IR1', 'IR1', 'Reg', 'Reg', 'Reg', 'IR1', 'Reg', 'Reg', 'Reg', 'IR1', 'Reg', 'Reg', 'Reg', 'Reg', 'IR1', 'Reg', 'Reg', 'Reg', 'Reg', 'Reg', 'Reg', 'IR1', 'IR1', 'IR1', 'Reg', 'Reg', 'Reg', 'Reg', 'IR1', 'Reg', 'IR1', 'IR1', 'IR1', 'IR1', 'IR1', 'IR1', 'IR1', 'Reg', 'IR1', 'Reg', 'IR1', 'Reg', 'Reg', 'Reg', 'Reg', 'Reg', 'IR1', 'IR2', 'IR1', 'Reg', 'Reg', 'Reg', 'Reg', 'IR1', 'IR1', 'Reg', 'IR1', 'Reg', 'Reg', 'Reg', 'Reg', 'Reg', 'Reg', 'Reg', 'Reg', 'Reg', 'Reg', 'Reg', 'IR1', 'IR1', 'IR1', 'Reg', 'Reg', 'Reg', 'Reg', 'IR2', 'IR1', 'IR1', 'Reg', 'Reg', 'IR1', 'Reg', 'IR1', 'IR1', 'Reg', 'Reg', 'Reg', 'Reg', 'IR1', 'Reg', 'Reg', 'Reg', 'Reg', 'IR1', 'Reg', 'Reg', 'Reg', 'Reg', 'Reg', 'IR1', 'Reg', 'Reg', 'Reg', 'Reg', 'Reg', 'Reg', 'IR1', 'Reg', 'Reg', 'Reg', 'Reg', 'IR2', 'IR1', 'IR1', 'IR1', 'Reg', 'Reg', 'IR1', 'IR1', 'Reg', 'Reg', 'Reg', 'Reg', 'IR1', 'IR1', 'Reg', 'IR3', 'IR1', 'IR1', 'Reg', 'Reg', 'IR1', 'Reg', 'IR1', 'IR1', 'Reg', 'Reg', 'Reg', 'IR1', 'Reg', 'Reg', 'Reg', 'Reg', 'Reg', 'Reg', 'Reg', 'Reg', 'IR1', 'IR1', 'IR1', 'IR1', 'Reg', 'Reg', 'Reg', 'Reg', 'IR1', 'Reg', 'IR1', 'Reg', 'IR1', 'Reg', 'Reg', 'Reg', 'IR3', 'IR1', 'Reg', 'Reg', 'Reg', 'Reg', 'IR1', 'IR1', 'IR1', 'IR1', 'Reg', 'Reg', 'IR3', 'Reg', 'IR1', 'IR1', 'Reg', 'Reg', 'Reg', 'Reg', 'IR1', 'IR1', 'Reg', 'Reg', 'Reg', 'IR1', 'Reg', 'IR1', 'Reg', 'IR1', 'Reg', 'IR1', 'Reg', 'IR1', 'IR1', 'IR1', 'Reg', 'Reg', 'IR1', 'Reg', 'Reg', 'Reg', 'IR1', 'Reg', 'Reg', 'IR1', 'IR1', 'Reg', 'IR2', 'IR1', 'IR1', 'Reg', 'Reg', 'Reg', 'IR2', 'IR1', 'Reg', 'IR1', 'IR1', 'IR1', 'Reg', 'Reg', 'Reg', 'IR1', 'Reg', 'IR1', 'IR1', 'Reg', 'IR1', 'IR1', 'Reg', 'Reg', 'Reg', 'Reg', 'IR1', 'IR1', 'IR1', 'Reg', 'IR1', 'Reg', 'Reg', 'IR1', 'Reg', 'IR2', 'Reg', 'Reg', 'Reg', 'IR1', 'Reg', 'Reg', 'IR1', 'IR1', 'Reg', 'Reg', 'Reg', 'Reg', 'Reg', 'Reg', 'Reg', 'IR2', 'IR1', 'Reg', 'Reg', 'IR1', 'IR1', 'Reg', 'Reg', 'Reg', 'Reg', 'Reg', 'Reg', 'IR2', 'Reg', 'IR2', 'IR1', 'Reg', 'IR1', 'Reg', 'Reg', 'Reg', 'IR1', 'Reg', 'Reg', 'Reg', 'Reg', 'Reg', 'IR1', 'Reg', 'IR1', 'Reg', 'IR1', 'Reg', 'IR1', 'Reg', 'IR2', 'Reg', 'Reg', 'Reg', 'Reg', 'Reg', 'Reg', 'Reg', 'Reg', 'Reg', 'Reg', 'IR1', 'IR1', 'Reg', 'Reg', 'Reg', 'IR1', 'IR1', 'Reg', 'Reg', 'Reg', 'Reg', 'IR1', 'Reg', 'IR1', 'IR1', 'Reg', 'IR1', 'IR1', 'Reg', 'Reg', 'Reg', 'Reg', 'IR1', 'IR1', 'IR1', 'Reg', 'Reg', 'IR1', 'Reg', 'Reg', 'Reg', 'Reg', 'Reg', 'Reg', 'IR1', 'IR1', 'Reg', 'Reg', 'IR1', 'Reg', 'Reg', 'IR1', 'Reg', 'Reg', 'Reg', 'Reg', 'IR1', 'Reg', 'Reg', 'Reg', 'IR1', 'Reg', 'Reg', 'IR1', 'Reg', 'Reg', 'Reg', 'IR1', 'Reg', 'Reg', 'IR1', 'IR1', 'Reg', 'Reg', 'Reg', 'IR1', 'Reg', 'Reg', 'Reg', 'Reg', 'IR1', 'IR1', 'IR1', 'Reg', 'Reg', 'IR1', 'Reg', 'IR1', 'IR1', 'Reg', 'Reg', 'IR1', 'IR1', 'IR1', 'Reg', 'IR1', 'Reg', 'Reg', 'IR1', 'Reg', 'IR1', 'IR1', 'IR1', 'Reg', 'Reg', 'Reg', 'Reg', 'Reg', 'IR1', 'IR1', 'IR1', 'Reg', 'IR1', 'Reg', 'Reg', 'Reg', 'IR1', 'Reg', 'Reg', 'Reg', 'IR1', 'Reg', 'IR2', 'Reg', 'IR1', 'Reg', 'Reg', 'Reg', 'IR1', 'Reg', 'IR1', 'IR1', 'IR1', 'IR1', 'IR1', 'Reg', 'IR1', 'IR1', 'Reg', 'Reg', 'Reg', 'IR1', 'Reg', 'Reg', 'IR1', 'Reg', 'Reg', 'Reg', 'Reg', 'Reg', 'Reg', 'IR1', 'IR1', 'Reg', 'Reg', 'IR1', 'Reg', 'Reg', 'IR1', 'IR1', 'Reg', 'Reg', 'Reg', 'Reg', 'Reg', 'Reg', 'IR1', 'Reg', 'IR1', 'Reg', 'IR2', 'Reg', 'Reg', 'Reg', 'Reg', 'IR1', 'Reg', 'Reg', 'Reg', 'Reg', 'IR1', 'Reg', 'Reg', 'Reg', 'Reg', 'Reg', 'Reg', 'Reg', 'Reg', 'IR1', 'IR1', 'Reg', 'IR1', 'Reg', 'Reg', 'Reg', 'Reg', 'Reg', 'Reg', 'Reg', 'Reg', 'Reg', 'Reg', 'Reg', 'IR1', 'Reg', 'Reg', 'Reg', 'Reg', 'IR1', 'Reg', 'IR1', 'Reg', 'Reg', 'Reg', 'Reg', 'Reg', 'Reg', 'IR1', 'Reg', 'IR1', 'Reg', 'Reg', 'Reg', 'Reg', 'IR2', 'Reg', 'Reg', 'IR2', 'IR1', 'IR1', 'Reg', 'Reg', 'Reg', 'Reg', 'Reg', 'IR1', 'Reg', 'Reg', 'Reg', 'Reg', 'Reg', 'IR1', 'IR1', 'Reg', 'IR2', 'Reg', 'IR1', 'IR2', 'IR1', 'Reg', 'IR2', 'Reg', 'IR1', 'Reg', 'IR1', 'IR1', 'Reg', 'Reg', 'IR1', 'Reg', 'IR1', 'Reg', 'IR2', 'Reg', 'Reg', 'IR1', 'Reg', 'Reg', 'Reg', 'IR2', 'Reg', 'IR1', 'IR1', 'IR1', 'Reg', 'IR1', 'Reg', 'IR1', 'Reg', 'Reg', 'Reg', 'Reg', 'IR1', 'IR1', 'Reg', 'Reg', 'Reg', 'IR1', 'Reg', 'IR1', 'Reg', 'Reg', 'Reg', 'IR1', 'IR1', 'IR1', 'Reg', 'IR1', 'Reg', 'Reg', 'IR1', 'Reg', 'IR1', 'Reg', 'IR1', 'Reg', 'IR1', 'IR1', 'IR1', 'IR1', 'IR1', 'IR1', 'Reg', 'Reg', 'Reg', 'IR1', 'Reg', 'Reg', 'Reg', 'IR1', 'IR1', 'Reg', 'IR1', 'Reg', 'Reg', 'Reg', 'Reg', 'IR1', 'IR1', 'Reg', 'IR1', 'Reg', 'IR2', 'IR1', 'Reg', 'Reg', 'Reg', 'Reg', 'Reg', 'IR1', 'IR1', 'Reg', 'Reg', 'Reg', 'Reg', 'IR2', 'IR1', 'Reg', 'Reg', 'Reg', 'IR1', 'Reg', 'IR1', 'Reg', 'IR1', 'IR1', 'Reg', 'IR1', 'Reg', 'Reg', 'Reg', 'Reg', 'Reg', 'IR1', 'Reg', 'Reg', 'Reg', 'Reg', 'IR1', 'Reg', 'Reg', 'Reg', 'Reg', 'Reg', 'Reg', 'Reg', 'Reg', 'Reg', 'IR2', 'IR1', 'IR1', 'Reg', 'IR1', 'IR1', 'Reg', 'IR1', 'Reg', 'Reg', 'Reg', 'Reg', 'IR1', 'IR2', 'Reg', 'IR1', 'Reg', 'IR1', 'Reg', 'Reg', 'Reg', 'Reg', 'Reg', 'Reg', 'Reg', 'IR1', 'Reg', 'Reg', 'Reg', 'IR1', 'IR1', 'Reg', 'IR1', 'IR2', 'Reg', 'Reg', 'Reg', 'Reg', 'IR1', 'Reg', 'IR1', 'IR1', 'Reg', 'Reg', 'IR1', 'Reg', 'Reg', 'Reg', 'Reg', 'Reg', 'IR1', 'IR1', 'Reg', 'IR2', 'Reg', 'Reg', 'Reg', 'Reg', 'Reg', 'Reg', 'Reg', 'Reg', 'Reg', 'IR1', 'IR1', 'Reg', 'IR1', 'IR1', 'Reg', 'Reg', 'IR1', 'Reg', 'IR1', 'IR1', 'Reg', 'Reg', 'Reg', 'Reg', 'Reg', 'Reg', 'Reg', 'Reg', 'Reg', 'IR1', 'Reg', 'IR1', 'IR1', 'Reg', 'IR1', 'IR1', 'Reg', 'IR1', 'IR1', 'IR1', 'IR2', 'Reg', 'IR1', 'Reg', 'Reg', 'Reg', 'Reg', 'Reg', 'Reg', 'IR1', 'IR1', 'IR1', 'Reg', 'Reg', 'Reg', 'Reg', 'IR1', 'Reg', 'Reg', 'Reg', 'IR1', 'IR1', 'Reg', 'IR1', 'Reg', 'IR2', 'IR1', 'Reg', 'Reg', 'Reg', 'Reg', 'IR1', 'IR1', 'IR1', 'Reg', 'IR1', 'Reg', 'Reg', 'Reg', 'IR1', 'Reg', 'Reg', 'Reg', 'Reg', 'IR1', 'IR1', 'IR1', 'Reg', 'Reg', 'Reg', 'Reg', 'IR1', 'IR1', 'Reg', 'IR1', 'Reg', 'Reg', 'IR1', 'IR1', 'Reg', 'Reg', 'Reg', 'Reg', 'Reg', 'Reg', 'IR1', 'Reg', 'IR1', 'IR1', 'Reg', 'Reg', 'IR1', 'IR1', 'Reg', 'Reg', 'Reg', 'Reg', 'Reg', 'IR1', 'IR1', 'Reg', 'Reg', 'Reg', 'Reg', 'Reg', 'Reg', 'IR1', 'IR1', 'IR1', 'Reg', 'Reg', 'Reg', 'Reg', 'IR1', 'IR1', 'Reg', 'Reg', 'IR3', 'Reg', 'IR1', 'Reg', 'Reg', 'Reg', 'Reg', 'Reg', 'Reg', 'Reg', 'Reg', 'IR1', 'IR1', 'Reg', 'Reg', 'Reg', 'Reg', 'Reg', 'IR1', 'Reg', 'Reg', 'IR1', 'Reg', 'Reg', 'Reg', 'Reg', 'IR1', 'Reg', 'Reg', 'IR1', 'IR1', 'Reg', 'Reg', 'Reg', 'Reg', 'Reg', 'IR1', 'Reg', 'Reg', 'IR1', 'IR1', 'IR2', 'Reg', 'Reg', 'IR1', 'IR1', 'Reg', 'Reg', 'Reg', 'Reg', 'IR1', 'IR2', 'IR1', 'IR1', 'Reg', 'Reg', 'Reg', 'Reg', 'IR1', 'Reg', 'IR1', 'Reg', 'Reg', 'Reg', 'Reg', 'Reg', 'Reg', 'IR1', 'Reg', 'Reg', 'Reg', 'IR1', 'Reg', 'Reg', 'Reg', 'Reg', 'Reg', 'Reg', 'IR2', 'Reg', 'Reg', 'Reg', 'Reg', 'IR1', 'Reg', 'Reg', 'Reg', 'Reg', 'Reg', 'IR1', 'Reg', 'Reg', 'Reg', 'IR1', 'Reg', 'IR1', 'Reg', 'Reg', 'Reg', 'IR1', 'IR1', 'IR3', 'Reg', 'IR1', 'Reg', 'Reg', 'IR1', 'Reg', 'Reg', 'Reg', 'Reg', 'IR1', 'Reg', 'Reg', 'Reg', 'Reg', 'IR1', 'Reg', 'IR1', 'Reg', 'Reg', 'IR3', 'IR1', 'Reg', 'Reg', 'Reg', 'Reg', 'IR1', 'IR1', 'Reg', 'Reg', 'Reg', 'IR1', 'IR1', 'Reg', 'IR1', 'Reg', 'Reg', 'Reg', 'Reg', 'Reg', 'Reg', 'Reg', 'Reg', 'IR1', 'Reg', 'IR1', 'Reg', 'IR1', 'IR1', 'Reg', 'IR1', 'Reg', 'Reg', 'Reg', 'IR1', 'Reg', 'Reg', 'IR1', 'IR1', 'IR1', 'IR1', 'Reg', 'IR1', 'Reg', 'Reg', 'IR1', 'IR1', 'IR1', 'Reg', 'IR1', 'Reg', 'IR1', 'Reg', 'IR2', 'IR1', 'IR1', 'Reg', 'Reg', 'Reg', 'IR1', 'Reg', 'IR1', 'Reg', 'Reg', 'Reg', 'Reg', 'Reg', 'Reg', 'IR1', 'IR1', 'IR1', 'Reg', 'Reg', 'Reg', 'Reg', 'Reg', 'Reg', 'Reg', 'IR1', 'Reg', 'Reg', 'Reg', 'IR1', 'Reg', 'IR1', 'Reg', 'IR1', 'IR1', 'IR1', 'Reg', 'Reg', 'Reg', 'Reg', 'IR1', 'Reg', 'Reg', 'Reg', 'IR1', 'Reg', 'IR1', 'Reg', 'Reg', 'Reg', 'IR1', 'Reg', 'Reg', 'IR1', 'Reg', 'Reg', 'Reg', 'IR2', 'Reg', 'IR1', 'Reg', 'Reg', 'Reg', 'Reg', 'IR1', 'Reg', 'Reg', 'IR1', 'Reg', 'Reg', 'Reg', 'IR1', 'Reg', 'IR1', 'Reg', 'Reg', 'IR1', 'Reg', 'IR1', 'Reg', 'IR3', 'Reg', 'Reg', 'Reg', 'Reg', 'Reg', 'IR1', 'IR1', 'IR1', 'Reg', 'Reg', 'IR1', 'IR1', 'IR1', 'Reg', 'Reg', 'IR1', 'IR1', 'Reg', 'Reg', 'IR1', 'IR1', 'IR1', 'Reg', 'Reg', 'Reg', 'Reg', 'IR1', 'IR1', 'IR1', 'IR1', 'Reg', 'Reg', 'Reg', 'Reg', 'Reg', 'Reg', 'Reg', 'IR3', 'Reg', 'IR1', 'IR1', 'Reg', 'Reg', 'Reg', 'IR1', 'IR1', 'Reg', 'Reg', 'Reg', 'Reg', 'Reg', 'IR1', 'IR1', 'Reg', 'Reg', 'IR1', 'Reg', 'IR2', 'Reg', 'Reg', 'IR1', 'IR1', 'Reg', 'Reg', 'Reg', 'Reg', 'Reg', 'Reg', 'IR1', 'Reg', 'IR1', 'Reg', 'Reg', 'Reg', 'Reg', 'IR1', 'IR1', 'IR1', 'IR1', 'Reg', 'Reg', 'Reg', 'Reg', 'IR1', 'Reg', 'IR2', 'IR1', 'IR3', 'Reg', 'Reg', 'IR1', 'Reg', 'IR1', 'IR1', 'IR1', 'Reg', 'IR1', 'Reg', 'Reg', 'Reg', 'IR1', 'IR1', 'IR1', 'Reg', 'Reg', 'IR1', 'Reg', 'Reg', 'IR2', 'Reg', 'Reg', 'Reg', 'Reg', 'Reg', 'IR1', 'Reg', 'Reg', 'Reg', 'Reg', 'Reg', 'IR1', 'Reg', 'Reg', 'Reg', 'Reg', 'IR1', 'Reg', 'IR1', 'Reg', 'Reg', 'Reg', 'Reg', 'Reg', 'Reg', 'IR1', 'IR1', 'Reg', 'Reg', 'Reg', 'Reg', 'IR1', 'Reg', 'IR1', 'Reg', 'IR1', 'Reg', 'IR1', 'Reg', 'IR1', 'Reg', 'Reg', 'Reg', 'IR1', 'Reg', 'Reg', 'Reg', 'IR1', 'Reg', 'IR1', 'Reg', 'Reg', 'Reg', 'IR1', 'Reg', 'IR1', 'IR1', 'Reg', 'Reg', 'IR1', 'IR3', 'IR1', 'Reg', 'IR1', 'Reg', 'Reg', 'Reg', 'Reg', 'Reg', 'Reg', 'IR1', 'Reg', 'Reg', 'Reg', 'Reg', 'Reg', 'IR1', 'Reg', 'Reg', 'Reg', 'Reg', 'Reg', 'Reg', 'Reg', 'Reg', 'Reg', 'Reg', 'Reg', 'Reg', 'Reg']\n"
     ]
    }
   ],
   "source": [
    "shape_list = housing_features_df[\"LotShape\"].to_list()\n",
    "print(shape_list)"
   ]
  },
  {
   "cell_type": "code",
   "execution_count": 37,
   "id": "b3430522",
   "metadata": {},
   "outputs": [
    {
     "name": "stdout",
     "output_type": "stream",
     "text": [
      "[['Reg'], ['Reg'], ['IR1'], ['IR1'], ['IR1']]\n"
     ]
    }
   ],
   "source": [
    "shape_list_of_lists = []\n",
    "\n",
    "for i in shape_list: \n",
    "    shape_list_of_lists.append([i])\n",
    "\n",
    "print(shape_list_of_lists[:5])"
   ]
  },
  {
   "cell_type": "code",
   "execution_count": 38,
   "id": "cecf7368",
   "metadata": {},
   "outputs": [
    {
     "name": "stdout",
     "output_type": "stream",
     "text": [
      "Unique vocabulary items 4\n",
      "\n",
      "[[0. 0. 0. 1.]\n",
      " [0. 0. 0. 1.]\n",
      " [1. 0. 0. 0.]\n",
      " ...\n",
      " [0. 0. 0. 1.]\n",
      " [0. 0. 0. 1.]\n",
      " [0. 0. 0. 1.]]\n"
     ]
    }
   ],
   "source": [
    "shape_encoder = OneHotEncoder()\n",
    "\n",
    "shape_encoder.fit(shape_list_of_lists)\n",
    "\n",
    "print(f\"Unique vocabulary items {len(shape_encoder.categories_[0])}\\n\")\n",
    "\n",
    "shape_transformed = shape_encoder.transform(shape_list_of_lists)\n",
    "\n",
    "shape_transformed = shape_transformed.toarray()\n",
    "\n",
    "print(shape_transformed)"
   ]
  },
  {
   "cell_type": "code",
   "execution_count": 39,
   "id": "01398b35",
   "metadata": {},
   "outputs": [
    {
     "data": {
      "text/html": [
       "<div>\n",
       "<style scoped>\n",
       "    .dataframe tbody tr th:only-of-type {\n",
       "        vertical-align: middle;\n",
       "    }\n",
       "\n",
       "    .dataframe tbody tr th {\n",
       "        vertical-align: top;\n",
       "    }\n",
       "\n",
       "    .dataframe thead th {\n",
       "        text-align: right;\n",
       "    }\n",
       "</style>\n",
       "<table border=\"1\" class=\"dataframe\">\n",
       "  <thead>\n",
       "    <tr style=\"text-align: right;\">\n",
       "      <th></th>\n",
       "      <th>0</th>\n",
       "      <th>1</th>\n",
       "      <th>2</th>\n",
       "      <th>3</th>\n",
       "    </tr>\n",
       "  </thead>\n",
       "  <tbody>\n",
       "    <tr>\n",
       "      <th>0</th>\n",
       "      <td>0.0</td>\n",
       "      <td>0.0</td>\n",
       "      <td>0.0</td>\n",
       "      <td>1.0</td>\n",
       "    </tr>\n",
       "    <tr>\n",
       "      <th>1</th>\n",
       "      <td>0.0</td>\n",
       "      <td>0.0</td>\n",
       "      <td>0.0</td>\n",
       "      <td>1.0</td>\n",
       "    </tr>\n",
       "    <tr>\n",
       "      <th>2</th>\n",
       "      <td>1.0</td>\n",
       "      <td>0.0</td>\n",
       "      <td>0.0</td>\n",
       "      <td>0.0</td>\n",
       "    </tr>\n",
       "    <tr>\n",
       "      <th>3</th>\n",
       "      <td>1.0</td>\n",
       "      <td>0.0</td>\n",
       "      <td>0.0</td>\n",
       "      <td>0.0</td>\n",
       "    </tr>\n",
       "    <tr>\n",
       "      <th>4</th>\n",
       "      <td>1.0</td>\n",
       "      <td>0.0</td>\n",
       "      <td>0.0</td>\n",
       "      <td>0.0</td>\n",
       "    </tr>\n",
       "  </tbody>\n",
       "</table>\n",
       "</div>"
      ],
      "text/plain": [
       "     0    1    2    3\n",
       "0  0.0  0.0  0.0  1.0\n",
       "1  0.0  0.0  0.0  1.0\n",
       "2  1.0  0.0  0.0  0.0\n",
       "3  1.0  0.0  0.0  0.0\n",
       "4  1.0  0.0  0.0  0.0"
      ]
     },
     "execution_count": 39,
     "metadata": {},
     "output_type": "execute_result"
    }
   ],
   "source": [
    "shape_transformed_df = pd.DataFrame(shape_transformed)\n",
    "shape_transformed_df.head()"
   ]
  },
  {
   "cell_type": "code",
   "execution_count": 41,
   "id": "f09ebe7b",
   "metadata": {},
   "outputs": [
    {
     "data": {
      "text/plain": [
       "0    Reg\n",
       "1    Reg\n",
       "2    IR1\n",
       "3    IR1\n",
       "4    IR1\n",
       "Name: LotShape, dtype: object"
      ]
     },
     "execution_count": 41,
     "metadata": {},
     "output_type": "execute_result"
    }
   ],
   "source": [
    "housing_features_df[\"LotShape\"].head()"
   ]
  },
  {
   "cell_type": "markdown",
   "id": "6b15c9b1",
   "metadata": {},
   "source": [
    "From this we know that '0' corresponds to **IR1** and '3' corresponds to **Reg**. "
   ]
  },
  {
   "cell_type": "code",
   "execution_count": 43,
   "id": "9798ab7a",
   "metadata": {},
   "outputs": [
    {
     "data": {
      "text/plain": [
       "12"
      ]
     },
     "execution_count": 43,
     "metadata": {},
     "output_type": "execute_result"
    }
   ],
   "source": [
    "temp = list(shape_transformed_df[1])\n",
    "temp.index(1.0)"
   ]
  },
  {
   "cell_type": "code",
   "execution_count": 44,
   "id": "ff087c51",
   "metadata": {},
   "outputs": [
    {
     "data": {
      "text/plain": [
       "12    IR2\n",
       "Name: LotShape, dtype: object"
      ]
     },
     "execution_count": 44,
     "metadata": {},
     "output_type": "execute_result"
    }
   ],
   "source": [
    "housing_features_df[\"LotShape\"][12:13]"
   ]
  },
  {
   "cell_type": "markdown",
   "id": "728f3172",
   "metadata": {},
   "source": [
    "From this we now know that '1' corresponds to **IR2** and '2' corresponds to **IR3**. "
   ]
  },
  {
   "cell_type": "code",
   "execution_count": 45,
   "id": "c898f1c0",
   "metadata": {},
   "outputs": [],
   "source": [
    "shape_transformed_df.rename(columns = {0:'IR1', 1:' IR2', 2:'IR3', 3:'Reg'}, inplace = True)"
   ]
  },
  {
   "cell_type": "code",
   "execution_count": 46,
   "id": "b7f9b1ae",
   "metadata": {},
   "outputs": [
    {
     "data": {
      "text/html": [
       "<div>\n",
       "<style scoped>\n",
       "    .dataframe tbody tr th:only-of-type {\n",
       "        vertical-align: middle;\n",
       "    }\n",
       "\n",
       "    .dataframe tbody tr th {\n",
       "        vertical-align: top;\n",
       "    }\n",
       "\n",
       "    .dataframe thead th {\n",
       "        text-align: right;\n",
       "    }\n",
       "</style>\n",
       "<table border=\"1\" class=\"dataframe\">\n",
       "  <thead>\n",
       "    <tr style=\"text-align: right;\">\n",
       "      <th></th>\n",
       "      <th>IR1</th>\n",
       "      <th>IR2</th>\n",
       "      <th>IR3</th>\n",
       "      <th>Reg</th>\n",
       "    </tr>\n",
       "  </thead>\n",
       "  <tbody>\n",
       "    <tr>\n",
       "      <th>0</th>\n",
       "      <td>0.0</td>\n",
       "      <td>0.0</td>\n",
       "      <td>0.0</td>\n",
       "      <td>1.0</td>\n",
       "    </tr>\n",
       "    <tr>\n",
       "      <th>1</th>\n",
       "      <td>0.0</td>\n",
       "      <td>0.0</td>\n",
       "      <td>0.0</td>\n",
       "      <td>1.0</td>\n",
       "    </tr>\n",
       "    <tr>\n",
       "      <th>2</th>\n",
       "      <td>1.0</td>\n",
       "      <td>0.0</td>\n",
       "      <td>0.0</td>\n",
       "      <td>0.0</td>\n",
       "    </tr>\n",
       "    <tr>\n",
       "      <th>3</th>\n",
       "      <td>1.0</td>\n",
       "      <td>0.0</td>\n",
       "      <td>0.0</td>\n",
       "      <td>0.0</td>\n",
       "    </tr>\n",
       "    <tr>\n",
       "      <th>4</th>\n",
       "      <td>1.0</td>\n",
       "      <td>0.0</td>\n",
       "      <td>0.0</td>\n",
       "      <td>0.0</td>\n",
       "    </tr>\n",
       "  </tbody>\n",
       "</table>\n",
       "</div>"
      ],
      "text/plain": [
       "   IR1   IR2  IR3  Reg\n",
       "0  0.0   0.0  0.0  1.0\n",
       "1  0.0   0.0  0.0  1.0\n",
       "2  1.0   0.0  0.0  0.0\n",
       "3  1.0   0.0  0.0  0.0\n",
       "4  1.0   0.0  0.0  0.0"
      ]
     },
     "execution_count": 46,
     "metadata": {},
     "output_type": "execute_result"
    }
   ],
   "source": [
    "shape_transformed_df.head()"
   ]
  },
  {
   "cell_type": "code",
   "execution_count": 48,
   "id": "fdec0546",
   "metadata": {},
   "outputs": [
    {
     "name": "stdout",
     "output_type": "stream",
     "text": [
      "(1460, 4)\n",
      "(1460, 36)\n"
     ]
    }
   ],
   "source": [
    "print(shape_transformed_df.shape)\n",
    "print(housing_features_final_df.shape)"
   ]
  },
  {
   "cell_type": "code",
   "execution_count": 49,
   "id": "75171281",
   "metadata": {},
   "outputs": [
    {
     "data": {
      "text/plain": [
       "(1460, 40)"
      ]
     },
     "execution_count": 49,
     "metadata": {},
     "output_type": "execute_result"
    }
   ],
   "source": [
    "housing_features_final_df.reset_index(drop=True, inplace=True)\n",
    "shape_transformed_df.reset_index(drop=True, inplace=True)\n",
    "\n",
    "features_official_df = pd.concat([housing_features_final_df, shape_transformed_df], axis=1)\n",
    "features_official_df.shape"
   ]
  },
  {
   "cell_type": "code",
   "execution_count": 50,
   "id": "9b5a4a78",
   "metadata": {},
   "outputs": [
    {
     "data": {
      "text/html": [
       "<div>\n",
       "<style scoped>\n",
       "    .dataframe tbody tr th:only-of-type {\n",
       "        vertical-align: middle;\n",
       "    }\n",
       "\n",
       "    .dataframe tbody tr th {\n",
       "        vertical-align: top;\n",
       "    }\n",
       "\n",
       "    .dataframe thead th {\n",
       "        text-align: right;\n",
       "    }\n",
       "</style>\n",
       "<table border=\"1\" class=\"dataframe\">\n",
       "  <thead>\n",
       "    <tr style=\"text-align: right;\">\n",
       "      <th></th>\n",
       "      <th>LotShape</th>\n",
       "      <th>OverallQual</th>\n",
       "      <th>OverallCond</th>\n",
       "      <th>YearRemodAdd</th>\n",
       "      <th>GrLivArea</th>\n",
       "      <th>MoSold</th>\n",
       "      <th>Corner</th>\n",
       "      <th>CulDSac</th>\n",
       "      <th>FR2</th>\n",
       "      <th>FR3</th>\n",
       "      <th>...</th>\n",
       "      <th>Sawyer</th>\n",
       "      <th>SawyerW</th>\n",
       "      <th>Somerst</th>\n",
       "      <th>StoneBr</th>\n",
       "      <th>Timber</th>\n",
       "      <th>Veenker</th>\n",
       "      <th>IR1</th>\n",
       "      <th>IR2</th>\n",
       "      <th>IR3</th>\n",
       "      <th>Reg</th>\n",
       "    </tr>\n",
       "  </thead>\n",
       "  <tbody>\n",
       "    <tr>\n",
       "      <th>0</th>\n",
       "      <td>Reg</td>\n",
       "      <td>7</td>\n",
       "      <td>5</td>\n",
       "      <td>2003</td>\n",
       "      <td>1710</td>\n",
       "      <td>2</td>\n",
       "      <td>0.0</td>\n",
       "      <td>0.0</td>\n",
       "      <td>0.0</td>\n",
       "      <td>0.0</td>\n",
       "      <td>...</td>\n",
       "      <td>0.0</td>\n",
       "      <td>0.0</td>\n",
       "      <td>0.0</td>\n",
       "      <td>0.0</td>\n",
       "      <td>0.0</td>\n",
       "      <td>0.0</td>\n",
       "      <td>0.0</td>\n",
       "      <td>0.0</td>\n",
       "      <td>0.0</td>\n",
       "      <td>1.0</td>\n",
       "    </tr>\n",
       "    <tr>\n",
       "      <th>1</th>\n",
       "      <td>Reg</td>\n",
       "      <td>6</td>\n",
       "      <td>8</td>\n",
       "      <td>1976</td>\n",
       "      <td>1262</td>\n",
       "      <td>5</td>\n",
       "      <td>0.0</td>\n",
       "      <td>0.0</td>\n",
       "      <td>1.0</td>\n",
       "      <td>0.0</td>\n",
       "      <td>...</td>\n",
       "      <td>0.0</td>\n",
       "      <td>0.0</td>\n",
       "      <td>0.0</td>\n",
       "      <td>0.0</td>\n",
       "      <td>0.0</td>\n",
       "      <td>1.0</td>\n",
       "      <td>0.0</td>\n",
       "      <td>0.0</td>\n",
       "      <td>0.0</td>\n",
       "      <td>1.0</td>\n",
       "    </tr>\n",
       "    <tr>\n",
       "      <th>2</th>\n",
       "      <td>IR1</td>\n",
       "      <td>7</td>\n",
       "      <td>5</td>\n",
       "      <td>2002</td>\n",
       "      <td>1786</td>\n",
       "      <td>9</td>\n",
       "      <td>0.0</td>\n",
       "      <td>0.0</td>\n",
       "      <td>0.0</td>\n",
       "      <td>0.0</td>\n",
       "      <td>...</td>\n",
       "      <td>0.0</td>\n",
       "      <td>0.0</td>\n",
       "      <td>0.0</td>\n",
       "      <td>0.0</td>\n",
       "      <td>0.0</td>\n",
       "      <td>0.0</td>\n",
       "      <td>1.0</td>\n",
       "      <td>0.0</td>\n",
       "      <td>0.0</td>\n",
       "      <td>0.0</td>\n",
       "    </tr>\n",
       "    <tr>\n",
       "      <th>3</th>\n",
       "      <td>IR1</td>\n",
       "      <td>7</td>\n",
       "      <td>5</td>\n",
       "      <td>1970</td>\n",
       "      <td>1717</td>\n",
       "      <td>2</td>\n",
       "      <td>1.0</td>\n",
       "      <td>0.0</td>\n",
       "      <td>0.0</td>\n",
       "      <td>0.0</td>\n",
       "      <td>...</td>\n",
       "      <td>0.0</td>\n",
       "      <td>0.0</td>\n",
       "      <td>0.0</td>\n",
       "      <td>0.0</td>\n",
       "      <td>0.0</td>\n",
       "      <td>0.0</td>\n",
       "      <td>1.0</td>\n",
       "      <td>0.0</td>\n",
       "      <td>0.0</td>\n",
       "      <td>0.0</td>\n",
       "    </tr>\n",
       "    <tr>\n",
       "      <th>4</th>\n",
       "      <td>IR1</td>\n",
       "      <td>8</td>\n",
       "      <td>5</td>\n",
       "      <td>2000</td>\n",
       "      <td>2198</td>\n",
       "      <td>12</td>\n",
       "      <td>0.0</td>\n",
       "      <td>0.0</td>\n",
       "      <td>1.0</td>\n",
       "      <td>0.0</td>\n",
       "      <td>...</td>\n",
       "      <td>0.0</td>\n",
       "      <td>0.0</td>\n",
       "      <td>0.0</td>\n",
       "      <td>0.0</td>\n",
       "      <td>0.0</td>\n",
       "      <td>0.0</td>\n",
       "      <td>1.0</td>\n",
       "      <td>0.0</td>\n",
       "      <td>0.0</td>\n",
       "      <td>0.0</td>\n",
       "    </tr>\n",
       "  </tbody>\n",
       "</table>\n",
       "<p>5 rows × 40 columns</p>\n",
       "</div>"
      ],
      "text/plain": [
       "  LotShape  OverallQual  OverallCond  YearRemodAdd  GrLivArea  MoSold  Corner  \\\n",
       "0      Reg            7            5          2003       1710       2     0.0   \n",
       "1      Reg            6            8          1976       1262       5     0.0   \n",
       "2      IR1            7            5          2002       1786       9     0.0   \n",
       "3      IR1            7            5          1970       1717       2     1.0   \n",
       "4      IR1            8            5          2000       2198      12     0.0   \n",
       "\n",
       "   CulDSac  FR2  FR3  ...  Sawyer  SawyerW  Somerst  StoneBr  Timber  Veenker  \\\n",
       "0      0.0  0.0  0.0  ...     0.0      0.0      0.0      0.0     0.0      0.0   \n",
       "1      0.0  1.0  0.0  ...     0.0      0.0      0.0      0.0     0.0      1.0   \n",
       "2      0.0  0.0  0.0  ...     0.0      0.0      0.0      0.0     0.0      0.0   \n",
       "3      0.0  0.0  0.0  ...     0.0      0.0      0.0      0.0     0.0      0.0   \n",
       "4      0.0  1.0  0.0  ...     0.0      0.0      0.0      0.0     0.0      0.0   \n",
       "\n",
       "   IR1   IR2  IR3  Reg  \n",
       "0  0.0   0.0  0.0  1.0  \n",
       "1  0.0   0.0  0.0  1.0  \n",
       "2  1.0   0.0  0.0  0.0  \n",
       "3  1.0   0.0  0.0  0.0  \n",
       "4  1.0   0.0  0.0  0.0  \n",
       "\n",
       "[5 rows x 40 columns]"
      ]
     },
     "execution_count": 50,
     "metadata": {},
     "output_type": "execute_result"
    }
   ],
   "source": [
    "features_official_df.head()"
   ]
  },
  {
   "cell_type": "code",
   "execution_count": 51,
   "id": "8df7510c",
   "metadata": {},
   "outputs": [
    {
     "data": {
      "text/plain": [
       "0       Reg\n",
       "1       Reg\n",
       "2       IR1\n",
       "3       IR1\n",
       "4       IR1\n",
       "       ... \n",
       "1455    Reg\n",
       "1456    Reg\n",
       "1457    Reg\n",
       "1458    Reg\n",
       "1459    Reg\n",
       "Name: LotShape, Length: 1460, dtype: object"
      ]
     },
     "execution_count": 51,
     "metadata": {},
     "output_type": "execute_result"
    }
   ],
   "source": [
    "features_official_df.pop('LotShape')"
   ]
  },
  {
   "cell_type": "code",
   "execution_count": 52,
   "id": "f6f95402",
   "metadata": {},
   "outputs": [
    {
     "data": {
      "text/html": [
       "<div>\n",
       "<style scoped>\n",
       "    .dataframe tbody tr th:only-of-type {\n",
       "        vertical-align: middle;\n",
       "    }\n",
       "\n",
       "    .dataframe tbody tr th {\n",
       "        vertical-align: top;\n",
       "    }\n",
       "\n",
       "    .dataframe thead th {\n",
       "        text-align: right;\n",
       "    }\n",
       "</style>\n",
       "<table border=\"1\" class=\"dataframe\">\n",
       "  <thead>\n",
       "    <tr style=\"text-align: right;\">\n",
       "      <th></th>\n",
       "      <th>OverallQual</th>\n",
       "      <th>OverallCond</th>\n",
       "      <th>YearRemodAdd</th>\n",
       "      <th>GrLivArea</th>\n",
       "      <th>MoSold</th>\n",
       "      <th>Corner</th>\n",
       "      <th>CulDSac</th>\n",
       "      <th>FR2</th>\n",
       "      <th>FR3</th>\n",
       "      <th>Inside</th>\n",
       "      <th>...</th>\n",
       "      <th>Sawyer</th>\n",
       "      <th>SawyerW</th>\n",
       "      <th>Somerst</th>\n",
       "      <th>StoneBr</th>\n",
       "      <th>Timber</th>\n",
       "      <th>Veenker</th>\n",
       "      <th>IR1</th>\n",
       "      <th>IR2</th>\n",
       "      <th>IR3</th>\n",
       "      <th>Reg</th>\n",
       "    </tr>\n",
       "  </thead>\n",
       "  <tbody>\n",
       "    <tr>\n",
       "      <th>0</th>\n",
       "      <td>7</td>\n",
       "      <td>5</td>\n",
       "      <td>2003</td>\n",
       "      <td>1710</td>\n",
       "      <td>2</td>\n",
       "      <td>0.0</td>\n",
       "      <td>0.0</td>\n",
       "      <td>0.0</td>\n",
       "      <td>0.0</td>\n",
       "      <td>1.0</td>\n",
       "      <td>...</td>\n",
       "      <td>0.0</td>\n",
       "      <td>0.0</td>\n",
       "      <td>0.0</td>\n",
       "      <td>0.0</td>\n",
       "      <td>0.0</td>\n",
       "      <td>0.0</td>\n",
       "      <td>0.0</td>\n",
       "      <td>0.0</td>\n",
       "      <td>0.0</td>\n",
       "      <td>1.0</td>\n",
       "    </tr>\n",
       "    <tr>\n",
       "      <th>1</th>\n",
       "      <td>6</td>\n",
       "      <td>8</td>\n",
       "      <td>1976</td>\n",
       "      <td>1262</td>\n",
       "      <td>5</td>\n",
       "      <td>0.0</td>\n",
       "      <td>0.0</td>\n",
       "      <td>1.0</td>\n",
       "      <td>0.0</td>\n",
       "      <td>0.0</td>\n",
       "      <td>...</td>\n",
       "      <td>0.0</td>\n",
       "      <td>0.0</td>\n",
       "      <td>0.0</td>\n",
       "      <td>0.0</td>\n",
       "      <td>0.0</td>\n",
       "      <td>1.0</td>\n",
       "      <td>0.0</td>\n",
       "      <td>0.0</td>\n",
       "      <td>0.0</td>\n",
       "      <td>1.0</td>\n",
       "    </tr>\n",
       "    <tr>\n",
       "      <th>2</th>\n",
       "      <td>7</td>\n",
       "      <td>5</td>\n",
       "      <td>2002</td>\n",
       "      <td>1786</td>\n",
       "      <td>9</td>\n",
       "      <td>0.0</td>\n",
       "      <td>0.0</td>\n",
       "      <td>0.0</td>\n",
       "      <td>0.0</td>\n",
       "      <td>1.0</td>\n",
       "      <td>...</td>\n",
       "      <td>0.0</td>\n",
       "      <td>0.0</td>\n",
       "      <td>0.0</td>\n",
       "      <td>0.0</td>\n",
       "      <td>0.0</td>\n",
       "      <td>0.0</td>\n",
       "      <td>1.0</td>\n",
       "      <td>0.0</td>\n",
       "      <td>0.0</td>\n",
       "      <td>0.0</td>\n",
       "    </tr>\n",
       "    <tr>\n",
       "      <th>3</th>\n",
       "      <td>7</td>\n",
       "      <td>5</td>\n",
       "      <td>1970</td>\n",
       "      <td>1717</td>\n",
       "      <td>2</td>\n",
       "      <td>1.0</td>\n",
       "      <td>0.0</td>\n",
       "      <td>0.0</td>\n",
       "      <td>0.0</td>\n",
       "      <td>0.0</td>\n",
       "      <td>...</td>\n",
       "      <td>0.0</td>\n",
       "      <td>0.0</td>\n",
       "      <td>0.0</td>\n",
       "      <td>0.0</td>\n",
       "      <td>0.0</td>\n",
       "      <td>0.0</td>\n",
       "      <td>1.0</td>\n",
       "      <td>0.0</td>\n",
       "      <td>0.0</td>\n",
       "      <td>0.0</td>\n",
       "    </tr>\n",
       "    <tr>\n",
       "      <th>4</th>\n",
       "      <td>8</td>\n",
       "      <td>5</td>\n",
       "      <td>2000</td>\n",
       "      <td>2198</td>\n",
       "      <td>12</td>\n",
       "      <td>0.0</td>\n",
       "      <td>0.0</td>\n",
       "      <td>1.0</td>\n",
       "      <td>0.0</td>\n",
       "      <td>0.0</td>\n",
       "      <td>...</td>\n",
       "      <td>0.0</td>\n",
       "      <td>0.0</td>\n",
       "      <td>0.0</td>\n",
       "      <td>0.0</td>\n",
       "      <td>0.0</td>\n",
       "      <td>0.0</td>\n",
       "      <td>1.0</td>\n",
       "      <td>0.0</td>\n",
       "      <td>0.0</td>\n",
       "      <td>0.0</td>\n",
       "    </tr>\n",
       "  </tbody>\n",
       "</table>\n",
       "<p>5 rows × 39 columns</p>\n",
       "</div>"
      ],
      "text/plain": [
       "   OverallQual  OverallCond  YearRemodAdd  GrLivArea  MoSold  Corner  CulDSac  \\\n",
       "0            7            5          2003       1710       2     0.0      0.0   \n",
       "1            6            8          1976       1262       5     0.0      0.0   \n",
       "2            7            5          2002       1786       9     0.0      0.0   \n",
       "3            7            5          1970       1717       2     1.0      0.0   \n",
       "4            8            5          2000       2198      12     0.0      0.0   \n",
       "\n",
       "   FR2  FR3  Inside  ...  Sawyer  SawyerW  Somerst  StoneBr  Timber  Veenker  \\\n",
       "0  0.0  0.0     1.0  ...     0.0      0.0      0.0      0.0     0.0      0.0   \n",
       "1  1.0  0.0     0.0  ...     0.0      0.0      0.0      0.0     0.0      1.0   \n",
       "2  0.0  0.0     1.0  ...     0.0      0.0      0.0      0.0     0.0      0.0   \n",
       "3  0.0  0.0     0.0  ...     0.0      0.0      0.0      0.0     0.0      0.0   \n",
       "4  1.0  0.0     0.0  ...     0.0      0.0      0.0      0.0     0.0      0.0   \n",
       "\n",
       "   IR1   IR2  IR3  Reg  \n",
       "0  0.0   0.0  0.0  1.0  \n",
       "1  0.0   0.0  0.0  1.0  \n",
       "2  1.0   0.0  0.0  0.0  \n",
       "3  1.0   0.0  0.0  0.0  \n",
       "4  1.0   0.0  0.0  0.0  \n",
       "\n",
       "[5 rows x 39 columns]"
      ]
     },
     "execution_count": 52,
     "metadata": {},
     "output_type": "execute_result"
    }
   ],
   "source": [
    "features_official_df.head()"
   ]
  },
  {
   "cell_type": "code",
   "execution_count": 53,
   "id": "760dfcc2",
   "metadata": {},
   "outputs": [
    {
     "data": {
      "text/html": [
       "<div>\n",
       "<style scoped>\n",
       "    .dataframe tbody tr th:only-of-type {\n",
       "        vertical-align: middle;\n",
       "    }\n",
       "\n",
       "    .dataframe tbody tr th {\n",
       "        vertical-align: top;\n",
       "    }\n",
       "\n",
       "    .dataframe thead th {\n",
       "        text-align: right;\n",
       "    }\n",
       "</style>\n",
       "<table border=\"1\" class=\"dataframe\">\n",
       "  <thead>\n",
       "    <tr style=\"text-align: right;\">\n",
       "      <th></th>\n",
       "      <th>OverallQual</th>\n",
       "      <th>OverallCond</th>\n",
       "      <th>YearRemodAdd</th>\n",
       "      <th>GrLivArea</th>\n",
       "      <th>MoSold</th>\n",
       "      <th>Corner</th>\n",
       "      <th>CulDSac</th>\n",
       "      <th>FR2</th>\n",
       "      <th>FR3</th>\n",
       "      <th>Inside</th>\n",
       "      <th>...</th>\n",
       "      <th>Sawyer</th>\n",
       "      <th>SawyerW</th>\n",
       "      <th>Somerst</th>\n",
       "      <th>StoneBr</th>\n",
       "      <th>Timber</th>\n",
       "      <th>Veenker</th>\n",
       "      <th>IR1</th>\n",
       "      <th>IR2</th>\n",
       "      <th>IR3</th>\n",
       "      <th>Reg</th>\n",
       "    </tr>\n",
       "  </thead>\n",
       "  <tbody>\n",
       "    <tr>\n",
       "      <th>0</th>\n",
       "      <td>7</td>\n",
       "      <td>5</td>\n",
       "      <td>0.883333</td>\n",
       "      <td>0.259231</td>\n",
       "      <td>2</td>\n",
       "      <td>0.0</td>\n",
       "      <td>0.0</td>\n",
       "      <td>0.0</td>\n",
       "      <td>0.0</td>\n",
       "      <td>1.0</td>\n",
       "      <td>...</td>\n",
       "      <td>0.0</td>\n",
       "      <td>0.0</td>\n",
       "      <td>0.0</td>\n",
       "      <td>0.0</td>\n",
       "      <td>0.0</td>\n",
       "      <td>0.0</td>\n",
       "      <td>0.0</td>\n",
       "      <td>0.0</td>\n",
       "      <td>0.0</td>\n",
       "      <td>1.0</td>\n",
       "    </tr>\n",
       "    <tr>\n",
       "      <th>1</th>\n",
       "      <td>6</td>\n",
       "      <td>8</td>\n",
       "      <td>0.433333</td>\n",
       "      <td>0.174830</td>\n",
       "      <td>5</td>\n",
       "      <td>0.0</td>\n",
       "      <td>0.0</td>\n",
       "      <td>1.0</td>\n",
       "      <td>0.0</td>\n",
       "      <td>0.0</td>\n",
       "      <td>...</td>\n",
       "      <td>0.0</td>\n",
       "      <td>0.0</td>\n",
       "      <td>0.0</td>\n",
       "      <td>0.0</td>\n",
       "      <td>0.0</td>\n",
       "      <td>1.0</td>\n",
       "      <td>0.0</td>\n",
       "      <td>0.0</td>\n",
       "      <td>0.0</td>\n",
       "      <td>1.0</td>\n",
       "    </tr>\n",
       "    <tr>\n",
       "      <th>2</th>\n",
       "      <td>7</td>\n",
       "      <td>5</td>\n",
       "      <td>0.866667</td>\n",
       "      <td>0.273549</td>\n",
       "      <td>9</td>\n",
       "      <td>0.0</td>\n",
       "      <td>0.0</td>\n",
       "      <td>0.0</td>\n",
       "      <td>0.0</td>\n",
       "      <td>1.0</td>\n",
       "      <td>...</td>\n",
       "      <td>0.0</td>\n",
       "      <td>0.0</td>\n",
       "      <td>0.0</td>\n",
       "      <td>0.0</td>\n",
       "      <td>0.0</td>\n",
       "      <td>0.0</td>\n",
       "      <td>1.0</td>\n",
       "      <td>0.0</td>\n",
       "      <td>0.0</td>\n",
       "      <td>0.0</td>\n",
       "    </tr>\n",
       "    <tr>\n",
       "      <th>3</th>\n",
       "      <td>7</td>\n",
       "      <td>5</td>\n",
       "      <td>0.333333</td>\n",
       "      <td>0.260550</td>\n",
       "      <td>2</td>\n",
       "      <td>1.0</td>\n",
       "      <td>0.0</td>\n",
       "      <td>0.0</td>\n",
       "      <td>0.0</td>\n",
       "      <td>0.0</td>\n",
       "      <td>...</td>\n",
       "      <td>0.0</td>\n",
       "      <td>0.0</td>\n",
       "      <td>0.0</td>\n",
       "      <td>0.0</td>\n",
       "      <td>0.0</td>\n",
       "      <td>0.0</td>\n",
       "      <td>1.0</td>\n",
       "      <td>0.0</td>\n",
       "      <td>0.0</td>\n",
       "      <td>0.0</td>\n",
       "    </tr>\n",
       "    <tr>\n",
       "      <th>4</th>\n",
       "      <td>8</td>\n",
       "      <td>5</td>\n",
       "      <td>0.833333</td>\n",
       "      <td>0.351168</td>\n",
       "      <td>12</td>\n",
       "      <td>0.0</td>\n",
       "      <td>0.0</td>\n",
       "      <td>1.0</td>\n",
       "      <td>0.0</td>\n",
       "      <td>0.0</td>\n",
       "      <td>...</td>\n",
       "      <td>0.0</td>\n",
       "      <td>0.0</td>\n",
       "      <td>0.0</td>\n",
       "      <td>0.0</td>\n",
       "      <td>0.0</td>\n",
       "      <td>0.0</td>\n",
       "      <td>1.0</td>\n",
       "      <td>0.0</td>\n",
       "      <td>0.0</td>\n",
       "      <td>0.0</td>\n",
       "    </tr>\n",
       "  </tbody>\n",
       "</table>\n",
       "<p>5 rows × 39 columns</p>\n",
       "</div>"
      ],
      "text/plain": [
       "   OverallQual  OverallCond  YearRemodAdd  GrLivArea  MoSold  Corner  CulDSac  \\\n",
       "0            7            5      0.883333   0.259231       2     0.0      0.0   \n",
       "1            6            8      0.433333   0.174830       5     0.0      0.0   \n",
       "2            7            5      0.866667   0.273549       9     0.0      0.0   \n",
       "3            7            5      0.333333   0.260550       2     1.0      0.0   \n",
       "4            8            5      0.833333   0.351168      12     0.0      0.0   \n",
       "\n",
       "   FR2  FR3  Inside  ...  Sawyer  SawyerW  Somerst  StoneBr  Timber  Veenker  \\\n",
       "0  0.0  0.0     1.0  ...     0.0      0.0      0.0      0.0     0.0      0.0   \n",
       "1  1.0  0.0     0.0  ...     0.0      0.0      0.0      0.0     0.0      1.0   \n",
       "2  0.0  0.0     1.0  ...     0.0      0.0      0.0      0.0     0.0      0.0   \n",
       "3  0.0  0.0     0.0  ...     0.0      0.0      0.0      0.0     0.0      0.0   \n",
       "4  1.0  0.0     0.0  ...     0.0      0.0      0.0      0.0     0.0      0.0   \n",
       "\n",
       "   IR1   IR2  IR3  Reg  \n",
       "0  0.0   0.0  0.0  1.0  \n",
       "1  0.0   0.0  0.0  1.0  \n",
       "2  1.0   0.0  0.0  0.0  \n",
       "3  1.0   0.0  0.0  0.0  \n",
       "4  1.0   0.0  0.0  0.0  \n",
       "\n",
       "[5 rows x 39 columns]"
      ]
     },
     "execution_count": 53,
     "metadata": {},
     "output_type": "execute_result"
    }
   ],
   "source": [
    "from sklearn.preprocessing import MinMaxScaler\n",
    "scaler = MinMaxScaler()\n",
    "features_official_df[[\"YearRemodAdd\", \"GrLivArea\"]] = scaler.fit_transform(features_official_df[[\"YearRemodAdd\", \"GrLivArea\"]])\n",
    "features_official_df.head()"
   ]
  },
  {
   "cell_type": "markdown",
   "id": "ff0cd1f1",
   "metadata": {},
   "source": [
    "### 2. Data Splitting"
   ]
  },
  {
   "cell_type": "code",
   "execution_count": 60,
   "id": "e955c2d6",
   "metadata": {},
   "outputs": [
    {
     "data": {
      "text/plain": [
       "pandas.core.frame.DataFrame"
      ]
     },
     "execution_count": 60,
     "metadata": {},
     "output_type": "execute_result"
    }
   ],
   "source": [
    "sales_price_df = pd.DataFrame(sales_price_df) \n",
    "type(sales_price_df)"
   ]
  },
  {
   "cell_type": "code",
   "execution_count": 61,
   "id": "26e9a52e",
   "metadata": {},
   "outputs": [
    {
     "name": "stdout",
     "output_type": "stream",
     "text": [
      "Features' shape [no. of examples * feature vector size] =  (1460, 39)\n",
      "Label's shape [no. of examples * 1] = (1460, 1)\n"
     ]
    }
   ],
   "source": [
    "from sklearn.model_selection import train_test_split\n",
    "\n",
    "features = features_official_df.to_numpy()\n",
    "labels = sales_price_df.to_numpy()\n",
    "\n",
    "print (f\"Features' shape [no. of examples * feature vector size] =  {features.shape}\")\n",
    "print (f\"Label's shape [no. of examples * 1] = {labels.shape}\")"
   ]
  },
  {
   "cell_type": "markdown",
   "id": "fc5b7ff7",
   "metadata": {},
   "source": [
    "The features' shape and label's shape do match with 1460 rows. "
   ]
  },
  {
   "cell_type": "code",
   "execution_count": 63,
   "id": "e5bcc211",
   "metadata": {},
   "outputs": [
    {
     "name": "stdout",
     "output_type": "stream",
     "text": [
      "Training: Features' shape [no. of examples * feature vector size] =  (1182, 39)\n",
      "Training: Label's shape [no. of examples * 1] = (1182, 1)\n",
      "Validation: Features' shape [no. of examples * feature vector size] =  (132, 39)\n",
      "Validation: Label's shape [no. of examples * 1] = (132, 1)\n",
      "Test: Features' shape [no. of examples * feature vector size] =  (146, 39)\n",
      "Test: Label's shape [no. of examples * 1] = (146, 1)\n"
     ]
    }
   ],
   "source": [
    "# First derive the test data\n",
    "x_, x_test, y_, y_test = train_test_split(features, labels, test_size=0.10, random_state=42)\n",
    "\n",
    "# Then create the validation data\n",
    "x_train, x_valid, y_train, y_valid = train_test_split(x_, y_, test_size=0.10, random_state=42)\n",
    "\n",
    "print (f\"Training: Features' shape [no. of examples * feature vector size] =  {x_train.shape}\")\n",
    "print (f\"Training: Label's shape [no. of examples * 1] = {y_train.shape}\")\n",
    "\n",
    "print (f\"Validation: Features' shape [no. of examples * feature vector size] =  {x_valid.shape}\")\n",
    "print (f\"Validation: Label's shape [no. of examples * 1] = {y_valid.shape}\")\n",
    "\n",
    "print (f\"Test: Features' shape [no. of examples * feature vector size] =  {x_test.shape}\")\n",
    "print (f\"Test: Label's shape [no. of examples * 1] = {y_test.shape}\")\n"
   ]
  },
  {
   "cell_type": "markdown",
   "id": "b4f7c3c5",
   "metadata": {},
   "source": [
    "Why are the two datasets for validation and test not equal/don't have a smaller margin between them?\\\n",
    "\\\n",
    "<mark> 1182/1460 = 0.8096 while 132/1460 = 0.0904 and 146/1360 = 0.1074 </mark>"
   ]
  },
  {
   "cell_type": "code",
   "execution_count": 67,
   "id": "efe7cc7f",
   "metadata": {},
   "outputs": [
    {
     "name": "stdout",
     "output_type": "stream",
     "text": [
      "[[5.         5.         0.85       ... 0.         0.         1.        ]\n",
      " [6.         6.         0.81666667 ... 0.         0.         1.        ]\n",
      " [6.         5.         0.93333333 ... 0.         0.         0.        ]\n",
      " ...\n",
      " [7.         5.         0.96666667 ... 0.         0.         0.        ]\n",
      " [7.         5.         0.98333333 ... 1.         0.         0.        ]\n",
      " [5.         4.         0.4        ... 0.         0.         1.        ]]\n"
     ]
    }
   ],
   "source": [
    "print(x_train)"
   ]
  },
  {
   "cell_type": "markdown",
   "id": "32c13220",
   "metadata": {},
   "source": [
    "x_train is shown as a numpy array above. "
   ]
  },
  {
   "cell_type": "markdown",
   "id": "36a16887",
   "metadata": {},
   "source": [
    "### 3. Training a Linear Regression Model"
   ]
  },
  {
   "cell_type": "code",
   "execution_count": 68,
   "id": "729014fb",
   "metadata": {},
   "outputs": [
    {
     "name": "stdout",
     "output_type": "stream",
     "text": [
      "Training complete\n"
     ]
    }
   ],
   "source": [
    "from sklearn.linear_model import LinearRegression\n",
    "import sklearn.metrics as metrics\n",
    "\n",
    "regression = LinearRegression(copy_X=True)\n",
    "y_train = y_train.flatten()\n",
    "\n",
    "# training \n",
    "regression = regression.fit(x_train, y_train)\n",
    "\n",
    "print (\"Training complete\")"
   ]
  },
  {
   "cell_type": "markdown",
   "id": "63935819",
   "metadata": {},
   "source": [
    "### 4. Evaluate the model"
   ]
  },
  {
   "cell_type": "code",
   "execution_count": 70,
   "id": "e1917d3b",
   "metadata": {},
   "outputs": [
    {
     "name": "stdout",
     "output_type": "stream",
     "text": [
      "Mean Squared Error on training data 1765743906.1438355\n",
      "Mean Absolute Error on training data 23376.664383561645\n",
      "Pearson correlation coefficient between actual and predicted values is (0.9069681587662884, 6.165634039022743e-56)\n"
     ]
    }
   ],
   "source": [
    "import sklearn.metrics as metrics\n",
    "from scipy.stats import pearsonr\n",
    "\n",
    "# perform prediction on test data\n",
    "y_test = y_test.flatten()\n",
    "y_test_predicted = regression.predict(x_test)\n",
    "\n",
    "mean_squared_error=metrics.mean_squared_error(y_test, y_test_predicted)\n",
    "mean_absolute_error=metrics.mean_absolute_error(y_test, y_test_predicted)\n",
    "correlation = pearsonr(y_test, y_test_predicted)\n",
    "\n",
    "print (f\"Mean Squared Error on training data {mean_squared_error}\")\n",
    "print (f\"Mean Absolute Error on training data {mean_absolute_error}\")\n",
    "print (f\"Pearson correlation coefficient between actual and predicted values is {correlation}\")"
   ]
  },
  {
   "cell_type": "markdown",
   "id": "d43af7eb",
   "metadata": {},
   "source": [
    "### 5. Interpreting your evaluation results"
   ]
  },
  {
   "cell_type": "code",
   "execution_count": 75,
   "id": "321929a7",
   "metadata": {},
   "outputs": [
    {
     "name": "stdout",
     "output_type": "stream",
     "text": [
      "[154500 325000 115000 159000 315500  75500 311500 146000  84500 135500\n",
      " 145000 130000  81000 214000 181000 134500 183500 135000 118400 226000\n",
      " 155000 210000 173500 129000 192000 153900 181134 141000 181000 208900\n",
      " 127000 284000 200500 135750 255000 140000 138000 219500 310000  97000\n",
      " 114500 205000 119500 253293 128500 117500 115000 127000 451950 144000\n",
      " 119000 196000 115000 287000 144500 260000 213000 175000 107000 107500\n",
      "  68500 154000 317000 264132 283463 243000 109000 305000  93500 176000\n",
      " 118858 134000 109008  93500 611657 173000 348000 341000 141000 124900\n",
      " 118000  67000 113000  91300 149500 133000 266000 190000 155900 155835\n",
      " 153500 152000 124500 301000 136500 169990 205000 183900 204900 260000\n",
      " 163500 224900 244000 132000 194000 156500 156000 275000 145000 135000\n",
      "  60000 124000 127000 137500 213500 119000 107900 123000 112000 284000\n",
      " 133000 149000 169000 207000 175000 137000 236000  79500 144000 162900\n",
      " 185900 369900 197900 104000  35311 337500 367294 130250 230000 755000\n",
      " 403000 132000 178000 136500 145000 123000]\n",
      "[161992. 331972.  89256. 165996. 265348.  64464. 243916. 154012.  62040.\n",
      " 129376. 151884. 115032.  44588. 271092. 181980. 136820. 207172. 142836.\n",
      " 111812. 204660. 168076. 238724. 175568. 131256. 200144. 160668. 186532.\n",
      "  85432. 178100. 205468. 143724. 295624. 273024. 103276. 240948. 147732.\n",
      " 169384. 227164. 330376.  77368. 138184. 232992. 119052. 315720. 117376.\n",
      " 165556. 113996. 123828. 367948. 144780. 120348. 174460. 120884. 309728.\n",
      " 149772. 218500. 209856. 128100. 131060. 127520.  67616. 146464. 337520.\n",
      " 254468. 254052. 198460.  88512. 278296. 124412. 189556. 155348. 130044.\n",
      "  97116.  75200. 355692. 187952. 319484. 300316. 128444. 126052. 116868.\n",
      "  83604. 116612.  98132. 169720. 137972. 256612. 214324. 150040. 202328.\n",
      " 123644. 149028. 118616. 261776. 142460. 163564. 195928. 174164. 207052.\n",
      " 235356. 140012. 218188. 231224. 158900. 186340. 154840. 159112. 307596.\n",
      " 152236. 179408.  34564. 133592. 143192. 159844. 223308.  90436.  77356.\n",
      "  94228. 190376. 293268. 152756. 151112. 178980. 192444. 191696. 133820.\n",
      " 235484. 109156. 148212. 191492. 207816. 267740. 216852. 170788.   -588.\n",
      " 326004. 313728. 149272. 213060. 465952. 342432. 130552. 186648. 138904.\n",
      " 118888. 111984.]\n"
     ]
    }
   ],
   "source": [
    "print(y_test)\n",
    "print(y_test_predicted)"
   ]
  },
  {
   "cell_type": "code",
   "execution_count": 79,
   "id": "b8bf49ce",
   "metadata": {},
   "outputs": [
    {
     "data": {
      "text/plain": [
       "146"
      ]
     },
     "execution_count": 79,
     "metadata": {},
     "output_type": "execute_result"
    }
   ],
   "source": [
    "len(y_test)"
   ]
  },
  {
   "cell_type": "code",
   "execution_count": 82,
   "id": "35b80e7d",
   "metadata": {},
   "outputs": [],
   "source": [
    "sum_y_test = y_test.sum()"
   ]
  },
  {
   "cell_type": "code",
   "execution_count": 84,
   "id": "2756e9cb",
   "metadata": {},
   "outputs": [
    {
     "name": "stdout",
     "output_type": "stream",
     "text": [
      "182869.34931506848\n"
     ]
    }
   ],
   "source": [
    "average_y_test = sum_y_test/146\n",
    "print(average_y_test)"
   ]
  },
  {
   "cell_type": "markdown",
   "id": "a447c057",
   "metadata": {},
   "source": [
    "Average house price in the validated data set is **$182,869**"
   ]
  },
  {
   "cell_type": "code",
   "execution_count": 86,
   "id": "6a8ba301",
   "metadata": {},
   "outputs": [
    {
     "name": "stdout",
     "output_type": "stream",
     "text": [
      "178154.13698630137\n"
     ]
    }
   ],
   "source": [
    "sum_y_test_predicted = y_test_predicted.sum()\n",
    "average_y_test_predicted = sum_y_test_predicted/146\n",
    "print(average_y_test_predicted)"
   ]
  },
  {
   "cell_type": "markdown",
   "id": "a9491234",
   "metadata": {},
   "source": [
    "Average predicted house price using linear regression is **$178,154**"
   ]
  },
  {
   "cell_type": "markdown",
   "id": "e9cd8ac3",
   "metadata": {},
   "source": [
    "The data above shows the **y_test** which are the actual values from the validation/final data set. **y_test_predicted** are the predicted values created from linear regression. "
   ]
  },
  {
   "cell_type": "markdown",
   "id": "debe53a1",
   "metadata": {},
   "source": [
    "At first glance, it seems that most predicted values created from linear regression are close to the actual values from the validate data set. "
   ]
  },
  {
   "cell_type": "markdown",
   "id": "d8039131",
   "metadata": {},
   "source": [
    " The Mean Absolute Error of **23376.664383561645** means that the predicted value for the houses' sale price can on an average deviate from the actual value by **23377 (+- 23377 USD)**. The Mean Absolute Error result isn't that bad considering house prices but some tweaking is necessary in order to make it more accurate. \n",
    "\n",
    "More data analysis may be necessary later on while better features and getting rid of some could help with better predictions.\n",
    "\n",
    "As advertised before, additional feature selection techniques (such as PCA and t-SNE) may be helpful. \n",
    "\n",
    "The Mean Squared Error is **1765743906.1438355** which is the average squared mean distance from the observed and predicted values (not as accurate as we would like). \n",
    "\n",
    "Correlation between predicted and actual values for sale price is **0.907** which is pretty strong. Our model's predictions are pretty close to the actual values which leads me to believe that realtors would be able to use our data set to help purchase a house. However, the Mean Absolute Error result does seem to be off by **$23,377** which is a considerable amount of money. "
   ]
  },
  {
   "cell_type": "code",
   "execution_count": 73,
   "id": "55e9d547",
   "metadata": {},
   "outputs": [
    {
     "data": {
      "image/png": "[encoded data removed]",
      "text/plain": [
       "<Figure size 432x288 with 1 Axes>"
      ]
     },
     "metadata": {
      "needs_background": "light"
     },
     "output_type": "display_data"
    }
   ],
   "source": [
    "from matplotlib import pyplot as plt\n",
    "\n",
    "weights = regression.coef_\n",
    "plt.plot(range(len(weights)), weights)\n",
    "plt.xlabel(\"Feature number\")\n",
    "plt.ylabel(\"Weight learned for corresponding feature\")\n",
    "plt.show()\n"
   ]
  },
  {
   "cell_type": "markdown",
   "id": "8d1cf008",
   "metadata": {},
   "source": [
    "The weights learned for the corresponding features seem to be based on how they are arranged from the dataframe. "
   ]
  },
  {
   "cell_type": "code",
   "execution_count": 87,
   "id": "a4ed6b71",
   "metadata": {},
   "outputs": [
    {
     "data": {
      "text/html": [
       "<div>\n",
       "<style scoped>\n",
       "    .dataframe tbody tr th:only-of-type {\n",
       "        vertical-align: middle;\n",
       "    }\n",
       "\n",
       "    .dataframe tbody tr th {\n",
       "        vertical-align: top;\n",
       "    }\n",
       "\n",
       "    .dataframe thead th {\n",
       "        text-align: right;\n",
       "    }\n",
       "</style>\n",
       "<table border=\"1\" class=\"dataframe\">\n",
       "  <thead>\n",
       "    <tr style=\"text-align: right;\">\n",
       "      <th></th>\n",
       "      <th>OverallQual</th>\n",
       "      <th>OverallCond</th>\n",
       "      <th>YearRemodAdd</th>\n",
       "      <th>GrLivArea</th>\n",
       "      <th>MoSold</th>\n",
       "      <th>Corner</th>\n",
       "      <th>CulDSac</th>\n",
       "      <th>FR2</th>\n",
       "      <th>FR3</th>\n",
       "      <th>Inside</th>\n",
       "      <th>...</th>\n",
       "      <th>Sawyer</th>\n",
       "      <th>SawyerW</th>\n",
       "      <th>Somerst</th>\n",
       "      <th>StoneBr</th>\n",
       "      <th>Timber</th>\n",
       "      <th>Veenker</th>\n",
       "      <th>IR1</th>\n",
       "      <th>IR2</th>\n",
       "      <th>IR3</th>\n",
       "      <th>Reg</th>\n",
       "    </tr>\n",
       "  </thead>\n",
       "  <tbody>\n",
       "    <tr>\n",
       "      <th>0</th>\n",
       "      <td>7</td>\n",
       "      <td>5</td>\n",
       "      <td>0.883333</td>\n",
       "      <td>0.259231</td>\n",
       "      <td>2</td>\n",
       "      <td>0.0</td>\n",
       "      <td>0.0</td>\n",
       "      <td>0.0</td>\n",
       "      <td>0.0</td>\n",
       "      <td>1.0</td>\n",
       "      <td>...</td>\n",
       "      <td>0.0</td>\n",
       "      <td>0.0</td>\n",
       "      <td>0.0</td>\n",
       "      <td>0.0</td>\n",
       "      <td>0.0</td>\n",
       "      <td>0.0</td>\n",
       "      <td>0.0</td>\n",
       "      <td>0.0</td>\n",
       "      <td>0.0</td>\n",
       "      <td>1.0</td>\n",
       "    </tr>\n",
       "    <tr>\n",
       "      <th>1</th>\n",
       "      <td>6</td>\n",
       "      <td>8</td>\n",
       "      <td>0.433333</td>\n",
       "      <td>0.174830</td>\n",
       "      <td>5</td>\n",
       "      <td>0.0</td>\n",
       "      <td>0.0</td>\n",
       "      <td>1.0</td>\n",
       "      <td>0.0</td>\n",
       "      <td>0.0</td>\n",
       "      <td>...</td>\n",
       "      <td>0.0</td>\n",
       "      <td>0.0</td>\n",
       "      <td>0.0</td>\n",
       "      <td>0.0</td>\n",
       "      <td>0.0</td>\n",
       "      <td>1.0</td>\n",
       "      <td>0.0</td>\n",
       "      <td>0.0</td>\n",
       "      <td>0.0</td>\n",
       "      <td>1.0</td>\n",
       "    </tr>\n",
       "    <tr>\n",
       "      <th>2</th>\n",
       "      <td>7</td>\n",
       "      <td>5</td>\n",
       "      <td>0.866667</td>\n",
       "      <td>0.273549</td>\n",
       "      <td>9</td>\n",
       "      <td>0.0</td>\n",
       "      <td>0.0</td>\n",
       "      <td>0.0</td>\n",
       "      <td>0.0</td>\n",
       "      <td>1.0</td>\n",
       "      <td>...</td>\n",
       "      <td>0.0</td>\n",
       "      <td>0.0</td>\n",
       "      <td>0.0</td>\n",
       "      <td>0.0</td>\n",
       "      <td>0.0</td>\n",
       "      <td>0.0</td>\n",
       "      <td>1.0</td>\n",
       "      <td>0.0</td>\n",
       "      <td>0.0</td>\n",
       "      <td>0.0</td>\n",
       "    </tr>\n",
       "    <tr>\n",
       "      <th>3</th>\n",
       "      <td>7</td>\n",
       "      <td>5</td>\n",
       "      <td>0.333333</td>\n",
       "      <td>0.260550</td>\n",
       "      <td>2</td>\n",
       "      <td>1.0</td>\n",
       "      <td>0.0</td>\n",
       "      <td>0.0</td>\n",
       "      <td>0.0</td>\n",
       "      <td>0.0</td>\n",
       "      <td>...</td>\n",
       "      <td>0.0</td>\n",
       "      <td>0.0</td>\n",
       "      <td>0.0</td>\n",
       "      <td>0.0</td>\n",
       "      <td>0.0</td>\n",
       "      <td>0.0</td>\n",
       "      <td>1.0</td>\n",
       "      <td>0.0</td>\n",
       "      <td>0.0</td>\n",
       "      <td>0.0</td>\n",
       "    </tr>\n",
       "    <tr>\n",
       "      <th>4</th>\n",
       "      <td>8</td>\n",
       "      <td>5</td>\n",
       "      <td>0.833333</td>\n",
       "      <td>0.351168</td>\n",
       "      <td>12</td>\n",
       "      <td>0.0</td>\n",
       "      <td>0.0</td>\n",
       "      <td>1.0</td>\n",
       "      <td>0.0</td>\n",
       "      <td>0.0</td>\n",
       "      <td>...</td>\n",
       "      <td>0.0</td>\n",
       "      <td>0.0</td>\n",
       "      <td>0.0</td>\n",
       "      <td>0.0</td>\n",
       "      <td>0.0</td>\n",
       "      <td>0.0</td>\n",
       "      <td>1.0</td>\n",
       "      <td>0.0</td>\n",
       "      <td>0.0</td>\n",
       "      <td>0.0</td>\n",
       "    </tr>\n",
       "  </tbody>\n",
       "</table>\n",
       "<p>5 rows × 39 columns</p>\n",
       "</div>"
      ],
      "text/plain": [
       "   OverallQual  OverallCond  YearRemodAdd  GrLivArea  MoSold  Corner  CulDSac  \\\n",
       "0            7            5      0.883333   0.259231       2     0.0      0.0   \n",
       "1            6            8      0.433333   0.174830       5     0.0      0.0   \n",
       "2            7            5      0.866667   0.273549       9     0.0      0.0   \n",
       "3            7            5      0.333333   0.260550       2     1.0      0.0   \n",
       "4            8            5      0.833333   0.351168      12     0.0      0.0   \n",
       "\n",
       "   FR2  FR3  Inside  ...  Sawyer  SawyerW  Somerst  StoneBr  Timber  Veenker  \\\n",
       "0  0.0  0.0     1.0  ...     0.0      0.0      0.0      0.0     0.0      0.0   \n",
       "1  1.0  0.0     0.0  ...     0.0      0.0      0.0      0.0     0.0      1.0   \n",
       "2  0.0  0.0     1.0  ...     0.0      0.0      0.0      0.0     0.0      0.0   \n",
       "3  0.0  0.0     0.0  ...     0.0      0.0      0.0      0.0     0.0      0.0   \n",
       "4  1.0  0.0     0.0  ...     0.0      0.0      0.0      0.0     0.0      0.0   \n",
       "\n",
       "   IR1   IR2  IR3  Reg  \n",
       "0  0.0   0.0  0.0  1.0  \n",
       "1  0.0   0.0  0.0  1.0  \n",
       "2  1.0   0.0  0.0  0.0  \n",
       "3  1.0   0.0  0.0  0.0  \n",
       "4  1.0   0.0  0.0  0.0  \n",
       "\n",
       "[5 rows x 39 columns]"
      ]
     },
     "execution_count": 87,
     "metadata": {},
     "output_type": "execute_result"
    }
   ],
   "source": [
    "features_official_df.head()"
   ]
  },
  {
   "cell_type": "markdown",
   "id": "f365db2d",
   "metadata": {},
   "source": [
    "The weights decline at **MoSold** which makes some sense since the following features: **OverallQual, OverallCond, YearRemodAdd, and GrLivArea** seem to be more substantial features for housing prices. It seems like all the **Neighborhood, LotConfig** were weighted highly while the **LotShape** seemed to have no predicting power. I wonder why **Neighborhood features and Lot Configurations** have the highest predicting power of sale price compared to the 4 earlier features shown before. "
   ]
  },
  {
   "cell_type": "code",
   "execution_count": null,
   "id": "c577338c",
   "metadata": {},
   "outputs": [],
   "source": []
  }
 ],
 "metadata": {
  "kernelspec": {
   "display_name": "Python 3 (ipykernel)",
   "language": "python",
   "name": "python3"
  },
  "language_info": {
   "codemirror_mode": {
    "name": "ipython",
    "version": 3
   },
   "file_extension": ".py",
   "mimetype": "text/x-python",
   "name": "python",
   "nbconvert_exporter": "python",
   "pygments_lexer": "ipython3",
   "version": "3.9.12"
  }
 },
 "nbformat": 4,
 "nbformat_minor": 5
}
