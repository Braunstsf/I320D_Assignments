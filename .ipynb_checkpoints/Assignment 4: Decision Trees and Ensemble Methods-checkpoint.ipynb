{
 "cells": [
  {
   "cell_type": "markdown",
   "id": "17d2e265",
   "metadata": {},
   "source": [
    "# Assignment 4: Decision Trees and Ensemble Methods"
   ]
  },
  {
   "cell_type": "markdown",
   "id": "a25fb768",
   "metadata": {},
   "source": [
    "<mark> Ethan Wen - Professor Mishra - 02/27/2022 </mark>"
   ]
  },
  {
   "cell_type": "markdown",
   "id": "e4e6085d",
   "metadata": {},
   "source": [
    "This assignment is updated with an Ablation Test from the past assignment, Assignment 3: Logisitic Regression and SVMs. "
   ]
  },
  {
   "cell_type": "markdown",
   "id": "615e680a",
   "metadata": {},
   "source": [
    "From Kaggle, we will be using data about Mount Rainier Weather and Climbing. The assingment asks us to develop a mobile application to determine whether one should climb Mount Rainier based on a set of features. "
   ]
  },
  {
   "cell_type": "markdown",
   "id": "23b70227",
   "metadata": {},
   "source": [
    "The features are: Battery Voltage AVG, Temperature AVG, Relative Humidity AVG, Wind Speed Daily AVG, Wind Direction AVG, Solar Radiation AVG, and Route. "
   ]
  },
  {
   "cell_type": "markdown",
   "id": "a5fc17be",
   "metadata": {},
   "source": [
    "The outputs that we are trying to predict would be the column called **'Succeeded'**. "
   ]
  },
  {
   "cell_type": "markdown",
   "id": "2e514186",
   "metadata": {},
   "source": [
    "Our output would be determined as either **0 or 1** which would stand for **don't hike and hike** Mt. Rainer respectively. "
   ]
  },
  {
   "cell_type": "markdown",
   "id": "b7c0a6b4",
   "metadata": {},
   "source": [
    "## 1. Feature Engineering "
   ]
  },
  {
   "cell_type": "code",
   "execution_count": 1,
   "id": "15d8f22c",
   "metadata": {},
   "outputs": [],
   "source": [
    "from IPython.core.interactiveshell import InteractiveShell\n",
    "InteractiveShell.ast_node_interactivity = \"all\""
   ]
  },
  {
   "cell_type": "code",
   "execution_count": 2,
   "id": "a15d6dc2",
   "metadata": {},
   "outputs": [
    {
     "name": "stdout",
     "output_type": "stream",
     "text": [
      "Shape of data (1895, 10)\n"
     ]
    }
   ],
   "source": [
    "import pandas as pd\n",
    "import numpy as np\n",
    "mtrainier_df = pd.read_csv(\"MtRainier_data.csv\")\n",
    "print (f\"Shape of data {mtrainier_df.shape}\")\n"
   ]
  },
  {
   "cell_type": "markdown",
   "id": "421796e7",
   "metadata": {},
   "source": [
    "As we can see here, the original dataset holds **10** columns and contains **1895** rows. The following code will try to find duplicates and drop columns that have missing data in one of their columns to make a better model. "
   ]
  },
  {
   "cell_type": "code",
   "execution_count": 3,
   "id": "f7b74d54",
   "metadata": {},
   "outputs": [
    {
     "name": "stdout",
     "output_type": "stream",
     "text": [
      "Shape of data (1895, 10)\n"
     ]
    },
    {
     "data": {
      "text/html": [
       "<div>\n",
       "<style scoped>\n",
       "    .dataframe tbody tr th:only-of-type {\n",
       "        vertical-align: middle;\n",
       "    }\n",
       "\n",
       "    .dataframe tbody tr th {\n",
       "        vertical-align: top;\n",
       "    }\n",
       "\n",
       "    .dataframe thead th {\n",
       "        text-align: right;\n",
       "    }\n",
       "</style>\n",
       "<table border=\"1\" class=\"dataframe\">\n",
       "  <thead>\n",
       "    <tr style=\"text-align: right;\">\n",
       "      <th></th>\n",
       "      <th>Unnamed: 0</th>\n",
       "      <th>Date</th>\n",
       "      <th>Route</th>\n",
       "      <th>Succeeded</th>\n",
       "      <th>Battery Voltage AVG</th>\n",
       "      <th>Temperature AVG</th>\n",
       "      <th>Relative Humidity AVG</th>\n",
       "      <th>Wind Speed Daily AVG</th>\n",
       "      <th>Wind Direction AVG</th>\n",
       "      <th>Solare Radiation AVG</th>\n",
       "    </tr>\n",
       "  </thead>\n",
       "  <tbody>\n",
       "    <tr>\n",
       "      <th>0</th>\n",
       "      <td>0</td>\n",
       "      <td>11/27/2015</td>\n",
       "      <td>Disappointment Cleaver</td>\n",
       "      <td>0</td>\n",
       "      <td>13.643750</td>\n",
       "      <td>26.321667</td>\n",
       "      <td>19.715000</td>\n",
       "      <td>27.839583</td>\n",
       "      <td>68.004167</td>\n",
       "      <td>88.496250</td>\n",
       "    </tr>\n",
       "    <tr>\n",
       "      <th>1</th>\n",
       "      <td>1</td>\n",
       "      <td>11/21/2015</td>\n",
       "      <td>Disappointment Cleaver</td>\n",
       "      <td>0</td>\n",
       "      <td>13.749583</td>\n",
       "      <td>31.300000</td>\n",
       "      <td>21.690708</td>\n",
       "      <td>2.245833</td>\n",
       "      <td>117.549667</td>\n",
       "      <td>93.660417</td>\n",
       "    </tr>\n",
       "    <tr>\n",
       "      <th>2</th>\n",
       "      <td>2</td>\n",
       "      <td>10/15/2015</td>\n",
       "      <td>Disappointment Cleaver</td>\n",
       "      <td>0</td>\n",
       "      <td>13.461250</td>\n",
       "      <td>46.447917</td>\n",
       "      <td>27.211250</td>\n",
       "      <td>17.163625</td>\n",
       "      <td>259.121375</td>\n",
       "      <td>138.387000</td>\n",
       "    </tr>\n",
       "    <tr>\n",
       "      <th>3</th>\n",
       "      <td>3</td>\n",
       "      <td>10/13/2015</td>\n",
       "      <td>Little Tahoma</td>\n",
       "      <td>0</td>\n",
       "      <td>13.532083</td>\n",
       "      <td>40.979583</td>\n",
       "      <td>28.335708</td>\n",
       "      <td>19.591167</td>\n",
       "      <td>279.779167</td>\n",
       "      <td>176.382667</td>\n",
       "    </tr>\n",
       "    <tr>\n",
       "      <th>4</th>\n",
       "      <td>4</td>\n",
       "      <td>10/9/2015</td>\n",
       "      <td>Disappointment Cleaver</td>\n",
       "      <td>0</td>\n",
       "      <td>13.216250</td>\n",
       "      <td>38.260417</td>\n",
       "      <td>74.329167</td>\n",
       "      <td>65.138333</td>\n",
       "      <td>264.687500</td>\n",
       "      <td>27.791292</td>\n",
       "    </tr>\n",
       "  </tbody>\n",
       "</table>\n",
       "</div>"
      ],
      "text/plain": [
       "   Unnamed: 0        Date                   Route  Succeeded  \\\n",
       "0           0  11/27/2015  Disappointment Cleaver          0   \n",
       "1           1  11/21/2015  Disappointment Cleaver          0   \n",
       "2           2  10/15/2015  Disappointment Cleaver          0   \n",
       "3           3  10/13/2015           Little Tahoma          0   \n",
       "4           4   10/9/2015  Disappointment Cleaver          0   \n",
       "\n",
       "   Battery Voltage AVG  Temperature AVG  Relative Humidity AVG  \\\n",
       "0            13.643750        26.321667              19.715000   \n",
       "1            13.749583        31.300000              21.690708   \n",
       "2            13.461250        46.447917              27.211250   \n",
       "3            13.532083        40.979583              28.335708   \n",
       "4            13.216250        38.260417              74.329167   \n",
       "\n",
       "   Wind Speed Daily AVG  Wind Direction AVG  Solare Radiation AVG  \n",
       "0             27.839583           68.004167             88.496250  \n",
       "1              2.245833          117.549667             93.660417  \n",
       "2             17.163625          259.121375            138.387000  \n",
       "3             19.591167          279.779167            176.382667  \n",
       "4             65.138333          264.687500             27.791292  "
      ]
     },
     "execution_count": 3,
     "metadata": {},
     "output_type": "execute_result"
    }
   ],
   "source": [
    "mtrainier_df = mtrainier_df.drop_duplicates()\n",
    "\n",
    "mtrainier_df = mtrainier_df.dropna()\n",
    "print (f\"Shape of data {mtrainier_df.shape}\")\n",
    "mtrainier_df.head()"
   ]
  },
  {
   "cell_type": "markdown",
   "id": "fba19de4",
   "metadata": {},
   "source": [
    "It seems like we have the same amount of rows so all of these data entries seem to be non-duplicates and aren't missing any data. However, there is an 'Unnamed' Section that replicates our index. "
   ]
  },
  {
   "cell_type": "code",
   "execution_count": 4,
   "id": "fcc9c9ac",
   "metadata": {},
   "outputs": [
    {
     "data": {
      "text/plain": [
       "Index(['Unnamed: 0', 'Date', 'Route', 'Succeeded', 'Battery Voltage AVG',\n",
       "       'Temperature AVG', 'Relative Humidity AVG', 'Wind Speed Daily AVG',\n",
       "       'Wind Direction AVG', 'Solare Radiation AVG'],\n",
       "      dtype='object')"
      ]
     },
     "execution_count": 4,
     "metadata": {},
     "output_type": "execute_result"
    }
   ],
   "source": [
    "mtrainier_df.columns"
   ]
  },
  {
   "cell_type": "code",
   "execution_count": 5,
   "id": "0c784c47",
   "metadata": {},
   "outputs": [
    {
     "data": {
      "text/plain": [
       "0          0\n",
       "1          1\n",
       "2          2\n",
       "3          3\n",
       "4          4\n",
       "        ... \n",
       "1890    1890\n",
       "1891    1891\n",
       "1892    1892\n",
       "1893    1893\n",
       "1894    1894\n",
       "Name: Unnamed: 0, Length: 1895, dtype: int64"
      ]
     },
     "execution_count": 5,
     "metadata": {},
     "output_type": "execute_result"
    },
    {
     "data": {
      "text/html": [
       "<div>\n",
       "<style scoped>\n",
       "    .dataframe tbody tr th:only-of-type {\n",
       "        vertical-align: middle;\n",
       "    }\n",
       "\n",
       "    .dataframe tbody tr th {\n",
       "        vertical-align: top;\n",
       "    }\n",
       "\n",
       "    .dataframe thead th {\n",
       "        text-align: right;\n",
       "    }\n",
       "</style>\n",
       "<table border=\"1\" class=\"dataframe\">\n",
       "  <thead>\n",
       "    <tr style=\"text-align: right;\">\n",
       "      <th></th>\n",
       "      <th>Date</th>\n",
       "      <th>Route</th>\n",
       "      <th>Succeeded</th>\n",
       "      <th>Battery Voltage AVG</th>\n",
       "      <th>Temperature AVG</th>\n",
       "      <th>Relative Humidity AVG</th>\n",
       "      <th>Wind Speed Daily AVG</th>\n",
       "      <th>Wind Direction AVG</th>\n",
       "      <th>Solare Radiation AVG</th>\n",
       "    </tr>\n",
       "  </thead>\n",
       "  <tbody>\n",
       "    <tr>\n",
       "      <th>0</th>\n",
       "      <td>11/27/2015</td>\n",
       "      <td>Disappointment Cleaver</td>\n",
       "      <td>0</td>\n",
       "      <td>13.643750</td>\n",
       "      <td>26.321667</td>\n",
       "      <td>19.715000</td>\n",
       "      <td>27.839583</td>\n",
       "      <td>68.004167</td>\n",
       "      <td>88.496250</td>\n",
       "    </tr>\n",
       "    <tr>\n",
       "      <th>1</th>\n",
       "      <td>11/21/2015</td>\n",
       "      <td>Disappointment Cleaver</td>\n",
       "      <td>0</td>\n",
       "      <td>13.749583</td>\n",
       "      <td>31.300000</td>\n",
       "      <td>21.690708</td>\n",
       "      <td>2.245833</td>\n",
       "      <td>117.549667</td>\n",
       "      <td>93.660417</td>\n",
       "    </tr>\n",
       "    <tr>\n",
       "      <th>2</th>\n",
       "      <td>10/15/2015</td>\n",
       "      <td>Disappointment Cleaver</td>\n",
       "      <td>0</td>\n",
       "      <td>13.461250</td>\n",
       "      <td>46.447917</td>\n",
       "      <td>27.211250</td>\n",
       "      <td>17.163625</td>\n",
       "      <td>259.121375</td>\n",
       "      <td>138.387000</td>\n",
       "    </tr>\n",
       "    <tr>\n",
       "      <th>3</th>\n",
       "      <td>10/13/2015</td>\n",
       "      <td>Little Tahoma</td>\n",
       "      <td>0</td>\n",
       "      <td>13.532083</td>\n",
       "      <td>40.979583</td>\n",
       "      <td>28.335708</td>\n",
       "      <td>19.591167</td>\n",
       "      <td>279.779167</td>\n",
       "      <td>176.382667</td>\n",
       "    </tr>\n",
       "    <tr>\n",
       "      <th>4</th>\n",
       "      <td>10/9/2015</td>\n",
       "      <td>Disappointment Cleaver</td>\n",
       "      <td>0</td>\n",
       "      <td>13.216250</td>\n",
       "      <td>38.260417</td>\n",
       "      <td>74.329167</td>\n",
       "      <td>65.138333</td>\n",
       "      <td>264.687500</td>\n",
       "      <td>27.791292</td>\n",
       "    </tr>\n",
       "  </tbody>\n",
       "</table>\n",
       "</div>"
      ],
      "text/plain": [
       "         Date                   Route  Succeeded  Battery Voltage AVG  \\\n",
       "0  11/27/2015  Disappointment Cleaver          0            13.643750   \n",
       "1  11/21/2015  Disappointment Cleaver          0            13.749583   \n",
       "2  10/15/2015  Disappointment Cleaver          0            13.461250   \n",
       "3  10/13/2015           Little Tahoma          0            13.532083   \n",
       "4   10/9/2015  Disappointment Cleaver          0            13.216250   \n",
       "\n",
       "   Temperature AVG  Relative Humidity AVG  Wind Speed Daily AVG  \\\n",
       "0        26.321667              19.715000             27.839583   \n",
       "1        31.300000              21.690708              2.245833   \n",
       "2        46.447917              27.211250             17.163625   \n",
       "3        40.979583              28.335708             19.591167   \n",
       "4        38.260417              74.329167             65.138333   \n",
       "\n",
       "   Wind Direction AVG  Solare Radiation AVG  \n",
       "0           68.004167             88.496250  \n",
       "1          117.549667             93.660417  \n",
       "2          259.121375            138.387000  \n",
       "3          279.779167            176.382667  \n",
       "4          264.687500             27.791292  "
      ]
     },
     "execution_count": 5,
     "metadata": {},
     "output_type": "execute_result"
    }
   ],
   "source": [
    "mtrainier_df.pop(\"Unnamed: 0\")\n",
    "mtrainier_df.head()"
   ]
  },
  {
   "cell_type": "markdown",
   "id": "cce78498",
   "metadata": {},
   "source": [
    "One thing that I am confused about is the use of date as a feature or if its just useless. The other features seem to be more related to the prediction of a trip to Mt. Rainier being successful. For now, I will probably just use date as an index instead since we don't need it. "
   ]
  },
  {
   "cell_type": "markdown",
   "id": "328c3acb",
   "metadata": {},
   "source": [
    "Most of our features seem to be numerical: Battery Voltage AVG, Temperature AVG, Relative Humidity AVG, Wind Speed Daily AVG, Wind Direction AVG,and Solare Radiation AVG. However, Route and Succeeded are both categorical data. 'Route' is a **categorical nominal variable** since its talking about different summit routes while 'Succeeded' could be a **categorical nominal binary variable** since its talking about two different outcomes - not hiking and hiking - which are related to each other in order. "
   ]
  },
  {
   "cell_type": "code",
   "execution_count": 6,
   "id": "bc2d957c",
   "metadata": {},
   "outputs": [
    {
     "data": {
      "text/plain": [
       "0       0\n",
       "1       0\n",
       "2       0\n",
       "3       0\n",
       "4       0\n",
       "       ..\n",
       "1890    0\n",
       "1891    1\n",
       "1892    1\n",
       "1893    0\n",
       "1894    0\n",
       "Name: Succeeded, Length: 1895, dtype: int64"
      ]
     },
     "execution_count": 6,
     "metadata": {},
     "output_type": "execute_result"
    },
    {
     "data": {
      "text/html": [
       "<div>\n",
       "<style scoped>\n",
       "    .dataframe tbody tr th:only-of-type {\n",
       "        vertical-align: middle;\n",
       "    }\n",
       "\n",
       "    .dataframe tbody tr th {\n",
       "        vertical-align: top;\n",
       "    }\n",
       "\n",
       "    .dataframe thead th {\n",
       "        text-align: right;\n",
       "    }\n",
       "</style>\n",
       "<table border=\"1\" class=\"dataframe\">\n",
       "  <thead>\n",
       "    <tr style=\"text-align: right;\">\n",
       "      <th></th>\n",
       "      <th>Route</th>\n",
       "      <th>Battery Voltage AVG</th>\n",
       "      <th>Temperature AVG</th>\n",
       "      <th>Relative Humidity AVG</th>\n",
       "      <th>Wind Speed Daily AVG</th>\n",
       "      <th>Wind Direction AVG</th>\n",
       "      <th>Solare Radiation AVG</th>\n",
       "    </tr>\n",
       "  </thead>\n",
       "  <tbody>\n",
       "    <tr>\n",
       "      <th>0</th>\n",
       "      <td>Disappointment Cleaver</td>\n",
       "      <td>13.643750</td>\n",
       "      <td>26.321667</td>\n",
       "      <td>19.715000</td>\n",
       "      <td>27.839583</td>\n",
       "      <td>68.004167</td>\n",
       "      <td>88.496250</td>\n",
       "    </tr>\n",
       "    <tr>\n",
       "      <th>1</th>\n",
       "      <td>Disappointment Cleaver</td>\n",
       "      <td>13.749583</td>\n",
       "      <td>31.300000</td>\n",
       "      <td>21.690708</td>\n",
       "      <td>2.245833</td>\n",
       "      <td>117.549667</td>\n",
       "      <td>93.660417</td>\n",
       "    </tr>\n",
       "    <tr>\n",
       "      <th>2</th>\n",
       "      <td>Disappointment Cleaver</td>\n",
       "      <td>13.461250</td>\n",
       "      <td>46.447917</td>\n",
       "      <td>27.211250</td>\n",
       "      <td>17.163625</td>\n",
       "      <td>259.121375</td>\n",
       "      <td>138.387000</td>\n",
       "    </tr>\n",
       "    <tr>\n",
       "      <th>3</th>\n",
       "      <td>Little Tahoma</td>\n",
       "      <td>13.532083</td>\n",
       "      <td>40.979583</td>\n",
       "      <td>28.335708</td>\n",
       "      <td>19.591167</td>\n",
       "      <td>279.779167</td>\n",
       "      <td>176.382667</td>\n",
       "    </tr>\n",
       "    <tr>\n",
       "      <th>4</th>\n",
       "      <td>Disappointment Cleaver</td>\n",
       "      <td>13.216250</td>\n",
       "      <td>38.260417</td>\n",
       "      <td>74.329167</td>\n",
       "      <td>65.138333</td>\n",
       "      <td>264.687500</td>\n",
       "      <td>27.791292</td>\n",
       "    </tr>\n",
       "  </tbody>\n",
       "</table>\n",
       "</div>"
      ],
      "text/plain": [
       "                    Route  Battery Voltage AVG  Temperature AVG  \\\n",
       "0  Disappointment Cleaver            13.643750        26.321667   \n",
       "1  Disappointment Cleaver            13.749583        31.300000   \n",
       "2  Disappointment Cleaver            13.461250        46.447917   \n",
       "3           Little Tahoma            13.532083        40.979583   \n",
       "4  Disappointment Cleaver            13.216250        38.260417   \n",
       "\n",
       "   Relative Humidity AVG  Wind Speed Daily AVG  Wind Direction AVG  \\\n",
       "0              19.715000             27.839583           68.004167   \n",
       "1              21.690708              2.245833          117.549667   \n",
       "2              27.211250             17.163625          259.121375   \n",
       "3              28.335708             19.591167          279.779167   \n",
       "4              74.329167             65.138333          264.687500   \n",
       "\n",
       "   Solare Radiation AVG  \n",
       "0             88.496250  \n",
       "1             93.660417  \n",
       "2            138.387000  \n",
       "3            176.382667  \n",
       "4             27.791292  "
      ]
     },
     "execution_count": 6,
     "metadata": {},
     "output_type": "execute_result"
    }
   ],
   "source": [
    "mtrainier_labels_df = pd.DataFrame(mtrainier_df[[\"Succeeded\"]])\n",
    "mtrainier_df.pop(\"Succeeded\")\n",
    "mtrainier_dates_df = pd.DataFrame(mtrainier_df.pop(\"Date\")) #I don't think we need it but I'll save it. \n",
    "mtrainier_features_df = mtrainier_df\n",
    "mtrainier_features_df.head()"
   ]
  },
  {
   "cell_type": "markdown",
   "id": "48533eb3",
   "metadata": {},
   "source": [
    "Before scaling, we need to deal with the **categorical nominal variable - Route**. Since its a categorical nominal variable, I will use one-hot encoding. "
   ]
  },
  {
   "cell_type": "code",
   "execution_count": 7,
   "id": "91ba0e0f",
   "metadata": {},
   "outputs": [
    {
     "name": "stdout",
     "output_type": "stream",
     "text": [
      "['Disappointment Cleaver', 'Disappointment Cleaver', 'Disappointment Cleaver', 'Little Tahoma', 'Disappointment Cleaver']\n"
     ]
    }
   ],
   "source": [
    "route_list = mtrainier_features_df[\"Route\"].to_list()\n",
    "print(route_list[:5])"
   ]
  },
  {
   "cell_type": "code",
   "execution_count": 8,
   "id": "9685e9e7",
   "metadata": {},
   "outputs": [
    {
     "data": {
      "text/plain": [
       "{'Curtis RIngraham Directge',\n",
       " 'Disappointment Cleaver',\n",
       " 'Emmons-Winthrop',\n",
       " \"Fuhrer's Finger\",\n",
       " 'Fuhrers Finger',\n",
       " 'Gibralter Chute',\n",
       " 'Gibralter Ledges',\n",
       " 'Ingraham Direct',\n",
       " 'Kautz Cleaver',\n",
       " 'Kautz Glacier',\n",
       " 'Liberty RIngraham Directge',\n",
       " 'Little Tahoma',\n",
       " 'Mowich Face',\n",
       " 'Nisqually Glacier',\n",
       " 'Ptarmigan RIngraham Directge',\n",
       " 'Success Cleaver',\n",
       " 'Sunset RIngraham Directge',\n",
       " 'Tahoma Cleaver',\n",
       " 'Tahoma Glacier',\n",
       " 'Unknown',\n",
       " 'Wilson Headwall',\n",
       " 'glacier only - no summit attempt'}"
      ]
     },
     "execution_count": 8,
     "metadata": {},
     "output_type": "execute_result"
    }
   ],
   "source": [
    "set(route_list)"
   ]
  },
  {
   "cell_type": "code",
   "execution_count": 9,
   "id": "f4b24020",
   "metadata": {},
   "outputs": [
    {
     "name": "stdout",
     "output_type": "stream",
     "text": [
      "[['Disappointment Cleaver'], ['Disappointment Cleaver'], ['Disappointment Cleaver'], ['Little Tahoma'], ['Disappointment Cleaver']]\n"
     ]
    }
   ],
   "source": [
    "route_list_of_lists = []\n",
    "\n",
    "for i in route_list: \n",
    "    route_list_of_lists.append([i])\n",
    "\n",
    "print(route_list_of_lists[:5])"
   ]
  },
  {
   "cell_type": "code",
   "execution_count": 10,
   "id": "7ab66ad3",
   "metadata": {},
   "outputs": [
    {
     "data": {
      "text/html": [
       "<style>#sk-container-id-1 {color: black;background-color: white;}#sk-container-id-1 pre{padding: 0;}#sk-container-id-1 div.sk-toggleable {background-color: white;}#sk-container-id-1 label.sk-toggleable__label {cursor: pointer;display: block;width: 100%;margin-bottom: 0;padding: 0.3em;box-sizing: border-box;text-align: center;}#sk-container-id-1 label.sk-toggleable__label-arrow:before {content: \"▸\";float: left;margin-right: 0.25em;color: #696969;}#sk-container-id-1 label.sk-toggleable__label-arrow:hover:before {color: black;}#sk-container-id-1 div.sk-estimator:hover label.sk-toggleable__label-arrow:before {color: black;}#sk-container-id-1 div.sk-toggleable__content {max-height: 0;max-width: 0;overflow: hidden;text-align: left;background-color: #f0f8ff;}#sk-container-id-1 div.sk-toggleable__content pre {margin: 0.2em;color: black;border-radius: 0.25em;background-color: #f0f8ff;}#sk-container-id-1 input.sk-toggleable__control:checked~div.sk-toggleable__content {max-height: 200px;max-width: 100%;overflow: auto;}#sk-container-id-1 input.sk-toggleable__control:checked~label.sk-toggleable__label-arrow:before {content: \"▾\";}#sk-container-id-1 div.sk-estimator input.sk-toggleable__control:checked~label.sk-toggleable__label {background-color: #d4ebff;}#sk-container-id-1 div.sk-label input.sk-toggleable__control:checked~label.sk-toggleable__label {background-color: #d4ebff;}#sk-container-id-1 input.sk-hidden--visually {border: 0;clip: rect(1px 1px 1px 1px);clip: rect(1px, 1px, 1px, 1px);height: 1px;margin: -1px;overflow: hidden;padding: 0;position: absolute;width: 1px;}#sk-container-id-1 div.sk-estimator {font-family: monospace;background-color: #f0f8ff;border: 1px dotted black;border-radius: 0.25em;box-sizing: border-box;margin-bottom: 0.5em;}#sk-container-id-1 div.sk-estimator:hover {background-color: #d4ebff;}#sk-container-id-1 div.sk-parallel-item::after {content: \"\";width: 100%;border-bottom: 1px solid gray;flex-grow: 1;}#sk-container-id-1 div.sk-label:hover label.sk-toggleable__label {background-color: #d4ebff;}#sk-container-id-1 div.sk-serial::before {content: \"\";position: absolute;border-left: 1px solid gray;box-sizing: border-box;top: 0;bottom: 0;left: 50%;z-index: 0;}#sk-container-id-1 div.sk-serial {display: flex;flex-direction: column;align-items: center;background-color: white;padding-right: 0.2em;padding-left: 0.2em;position: relative;}#sk-container-id-1 div.sk-item {position: relative;z-index: 1;}#sk-container-id-1 div.sk-parallel {display: flex;align-items: stretch;justify-content: center;background-color: white;position: relative;}#sk-container-id-1 div.sk-item::before, #sk-container-id-1 div.sk-parallel-item::before {content: \"\";position: absolute;border-left: 1px solid gray;box-sizing: border-box;top: 0;bottom: 0;left: 50%;z-index: -1;}#sk-container-id-1 div.sk-parallel-item {display: flex;flex-direction: column;z-index: 1;position: relative;background-color: white;}#sk-container-id-1 div.sk-parallel-item:first-child::after {align-self: flex-end;width: 50%;}#sk-container-id-1 div.sk-parallel-item:last-child::after {align-self: flex-start;width: 50%;}#sk-container-id-1 div.sk-parallel-item:only-child::after {width: 0;}#sk-container-id-1 div.sk-dashed-wrapped {border: 1px dashed gray;margin: 0 0.4em 0.5em 0.4em;box-sizing: border-box;padding-bottom: 0.4em;background-color: white;}#sk-container-id-1 div.sk-label label {font-family: monospace;font-weight: bold;display: inline-block;line-height: 1.2em;}#sk-container-id-1 div.sk-label-container {text-align: center;}#sk-container-id-1 div.sk-container {/* jupyter's `normalize.less` sets `[hidden] { display: none; }` but bootstrap.min.css set `[hidden] { display: none !important; }` so we also need the `!important` here to be able to override the default hidden behavior on the sphinx rendered scikit-learn.org. See: https://github.com/scikit-learn/scikit-learn/issues/21755 */display: inline-block !important;position: relative;}#sk-container-id-1 div.sk-text-repr-fallback {display: none;}</style><div id=\"sk-container-id-1\" class=\"sk-top-container\"><div class=\"sk-text-repr-fallback\"><pre>OneHotEncoder()</pre><b>In a Jupyter environment, please rerun this cell to show the HTML representation or trust the notebook. <br />On GitHub, the HTML representation is unable to render, please try loading this page with nbviewer.org.</b></div><div class=\"sk-container\" hidden><div class=\"sk-item\"><div class=\"sk-estimator sk-toggleable\"><input class=\"sk-toggleable__control sk-hidden--visually\" id=\"sk-estimator-id-1\" type=\"checkbox\" checked><label for=\"sk-estimator-id-1\" class=\"sk-toggleable__label sk-toggleable__label-arrow\">OneHotEncoder</label><div class=\"sk-toggleable__content\"><pre>OneHotEncoder()</pre></div></div></div></div></div>"
      ],
      "text/plain": [
       "OneHotEncoder()"
      ]
     },
     "execution_count": 10,
     "metadata": {},
     "output_type": "execute_result"
    },
    {
     "name": "stdout",
     "output_type": "stream",
     "text": [
      "Unique vocabulary items 22\n",
      "\n",
      "[[0. 1. 0. ... 0. 0. 0.]\n",
      " [0. 1. 0. ... 0. 0. 0.]\n",
      " [0. 1. 0. ... 0. 0. 0.]\n",
      " ...\n",
      " [0. 1. 0. ... 0. 0. 0.]\n",
      " [0. 1. 0. ... 0. 0. 0.]\n",
      " [0. 1. 0. ... 0. 0. 0.]]\n"
     ]
    }
   ],
   "source": [
    "from sklearn.preprocessing import OneHotEncoder\n",
    "\n",
    "route_encoder = OneHotEncoder()\n",
    "\n",
    "route_encoder.fit(route_list_of_lists)\n",
    "\n",
    "print(f\"Unique vocabulary items {len(route_encoder.categories_[0])}\\n\")\n",
    "\n",
    "route_transformed = route_encoder.transform(route_list_of_lists)\n",
    "\n",
    "route_transformed = route_transformed.toarray()\n",
    "\n",
    "print(route_transformed)"
   ]
  },
  {
   "cell_type": "code",
   "execution_count": 11,
   "id": "68d519d0",
   "metadata": {},
   "outputs": [
    {
     "data": {
      "text/plain": [
       "numpy.ndarray"
      ]
     },
     "execution_count": 11,
     "metadata": {},
     "output_type": "execute_result"
    }
   ],
   "source": [
    "type(route_transformed)"
   ]
  },
  {
   "cell_type": "code",
   "execution_count": 12,
   "id": "78482a1e",
   "metadata": {},
   "outputs": [],
   "source": [
    "route_transformed_df = pd.DataFrame(route_transformed)"
   ]
  },
  {
   "cell_type": "markdown",
   "id": "ca6f7496",
   "metadata": {},
   "source": [
    "Instead of replacing the labels one by one, I will use the method that I implemented in Assignment 2 to replace the column names."
   ]
  },
  {
   "cell_type": "code",
   "execution_count": 13,
   "id": "e218d9ab",
   "metadata": {},
   "outputs": [],
   "source": [
    "temp_list = []\n",
    "for i in range(len(route_transformed_df.columns)):\n",
    "    temp = list(route_transformed_df[i])\n",
    "    temp_list.append(temp.index(1.0))"
   ]
  },
  {
   "cell_type": "code",
   "execution_count": 14,
   "id": "9f0404e3",
   "metadata": {},
   "outputs": [
    {
     "name": "stdout",
     "output_type": "stream",
     "text": [
      "['Curtis RIngraham Directge', 'Disappointment Cleaver', 'Emmons-Winthrop', \"Fuhrer's Finger\", 'Fuhrers Finger', 'Gibralter Chute', 'Gibralter Ledges', 'Ingraham Direct', 'Kautz Cleaver', 'Kautz Glacier', 'Liberty RIngraham Directge', 'Little Tahoma', 'Mowich Face', 'Nisqually Glacier', 'Ptarmigan RIngraham Directge', 'Success Cleaver', 'Sunset RIngraham Directge', 'Tahoma Cleaver', 'Tahoma Glacier', 'Unknown', 'Wilson Headwall', 'glacier only - no summit attempt']\n"
     ]
    }
   ],
   "source": [
    "route_name_list = []\n",
    "for i in temp_list:\n",
    "    route_name_list.append(mtrainier_features_df[\"Route\"][i])\n",
    "print(route_name_list)"
   ]
  },
  {
   "cell_type": "code",
   "execution_count": 15,
   "id": "6cc3bd22",
   "metadata": {},
   "outputs": [],
   "source": [
    "route_transformed_df.columns = route_name_list"
   ]
  },
  {
   "cell_type": "code",
   "execution_count": 16,
   "id": "6f445fad",
   "metadata": {},
   "outputs": [
    {
     "data": {
      "text/html": [
       "<div>\n",
       "<style scoped>\n",
       "    .dataframe tbody tr th:only-of-type {\n",
       "        vertical-align: middle;\n",
       "    }\n",
       "\n",
       "    .dataframe tbody tr th {\n",
       "        vertical-align: top;\n",
       "    }\n",
       "\n",
       "    .dataframe thead th {\n",
       "        text-align: right;\n",
       "    }\n",
       "</style>\n",
       "<table border=\"1\" class=\"dataframe\">\n",
       "  <thead>\n",
       "    <tr style=\"text-align: right;\">\n",
       "      <th></th>\n",
       "      <th>Curtis RIngraham Directge</th>\n",
       "      <th>Disappointment Cleaver</th>\n",
       "      <th>Emmons-Winthrop</th>\n",
       "      <th>Fuhrer's Finger</th>\n",
       "      <th>Fuhrers Finger</th>\n",
       "      <th>Gibralter Chute</th>\n",
       "      <th>Gibralter Ledges</th>\n",
       "      <th>Ingraham Direct</th>\n",
       "      <th>Kautz Cleaver</th>\n",
       "      <th>Kautz Glacier</th>\n",
       "      <th>...</th>\n",
       "      <th>Mowich Face</th>\n",
       "      <th>Nisqually Glacier</th>\n",
       "      <th>Ptarmigan RIngraham Directge</th>\n",
       "      <th>Success Cleaver</th>\n",
       "      <th>Sunset RIngraham Directge</th>\n",
       "      <th>Tahoma Cleaver</th>\n",
       "      <th>Tahoma Glacier</th>\n",
       "      <th>Unknown</th>\n",
       "      <th>Wilson Headwall</th>\n",
       "      <th>glacier only - no summit attempt</th>\n",
       "    </tr>\n",
       "  </thead>\n",
       "  <tbody>\n",
       "    <tr>\n",
       "      <th>0</th>\n",
       "      <td>0.0</td>\n",
       "      <td>1.0</td>\n",
       "      <td>0.0</td>\n",
       "      <td>0.0</td>\n",
       "      <td>0.0</td>\n",
       "      <td>0.0</td>\n",
       "      <td>0.0</td>\n",
       "      <td>0.0</td>\n",
       "      <td>0.0</td>\n",
       "      <td>0.0</td>\n",
       "      <td>...</td>\n",
       "      <td>0.0</td>\n",
       "      <td>0.0</td>\n",
       "      <td>0.0</td>\n",
       "      <td>0.0</td>\n",
       "      <td>0.0</td>\n",
       "      <td>0.0</td>\n",
       "      <td>0.0</td>\n",
       "      <td>0.0</td>\n",
       "      <td>0.0</td>\n",
       "      <td>0.0</td>\n",
       "    </tr>\n",
       "    <tr>\n",
       "      <th>1</th>\n",
       "      <td>0.0</td>\n",
       "      <td>1.0</td>\n",
       "      <td>0.0</td>\n",
       "      <td>0.0</td>\n",
       "      <td>0.0</td>\n",
       "      <td>0.0</td>\n",
       "      <td>0.0</td>\n",
       "      <td>0.0</td>\n",
       "      <td>0.0</td>\n",
       "      <td>0.0</td>\n",
       "      <td>...</td>\n",
       "      <td>0.0</td>\n",
       "      <td>0.0</td>\n",
       "      <td>0.0</td>\n",
       "      <td>0.0</td>\n",
       "      <td>0.0</td>\n",
       "      <td>0.0</td>\n",
       "      <td>0.0</td>\n",
       "      <td>0.0</td>\n",
       "      <td>0.0</td>\n",
       "      <td>0.0</td>\n",
       "    </tr>\n",
       "    <tr>\n",
       "      <th>2</th>\n",
       "      <td>0.0</td>\n",
       "      <td>1.0</td>\n",
       "      <td>0.0</td>\n",
       "      <td>0.0</td>\n",
       "      <td>0.0</td>\n",
       "      <td>0.0</td>\n",
       "      <td>0.0</td>\n",
       "      <td>0.0</td>\n",
       "      <td>0.0</td>\n",
       "      <td>0.0</td>\n",
       "      <td>...</td>\n",
       "      <td>0.0</td>\n",
       "      <td>0.0</td>\n",
       "      <td>0.0</td>\n",
       "      <td>0.0</td>\n",
       "      <td>0.0</td>\n",
       "      <td>0.0</td>\n",
       "      <td>0.0</td>\n",
       "      <td>0.0</td>\n",
       "      <td>0.0</td>\n",
       "      <td>0.0</td>\n",
       "    </tr>\n",
       "    <tr>\n",
       "      <th>3</th>\n",
       "      <td>0.0</td>\n",
       "      <td>0.0</td>\n",
       "      <td>0.0</td>\n",
       "      <td>0.0</td>\n",
       "      <td>0.0</td>\n",
       "      <td>0.0</td>\n",
       "      <td>0.0</td>\n",
       "      <td>0.0</td>\n",
       "      <td>0.0</td>\n",
       "      <td>0.0</td>\n",
       "      <td>...</td>\n",
       "      <td>0.0</td>\n",
       "      <td>0.0</td>\n",
       "      <td>0.0</td>\n",
       "      <td>0.0</td>\n",
       "      <td>0.0</td>\n",
       "      <td>0.0</td>\n",
       "      <td>0.0</td>\n",
       "      <td>0.0</td>\n",
       "      <td>0.0</td>\n",
       "      <td>0.0</td>\n",
       "    </tr>\n",
       "    <tr>\n",
       "      <th>4</th>\n",
       "      <td>0.0</td>\n",
       "      <td>1.0</td>\n",
       "      <td>0.0</td>\n",
       "      <td>0.0</td>\n",
       "      <td>0.0</td>\n",
       "      <td>0.0</td>\n",
       "      <td>0.0</td>\n",
       "      <td>0.0</td>\n",
       "      <td>0.0</td>\n",
       "      <td>0.0</td>\n",
       "      <td>...</td>\n",
       "      <td>0.0</td>\n",
       "      <td>0.0</td>\n",
       "      <td>0.0</td>\n",
       "      <td>0.0</td>\n",
       "      <td>0.0</td>\n",
       "      <td>0.0</td>\n",
       "      <td>0.0</td>\n",
       "      <td>0.0</td>\n",
       "      <td>0.0</td>\n",
       "      <td>0.0</td>\n",
       "    </tr>\n",
       "  </tbody>\n",
       "</table>\n",
       "<p>5 rows × 22 columns</p>\n",
       "</div>"
      ],
      "text/plain": [
       "   Curtis RIngraham Directge  Disappointment Cleaver  Emmons-Winthrop  \\\n",
       "0                        0.0                     1.0              0.0   \n",
       "1                        0.0                     1.0              0.0   \n",
       "2                        0.0                     1.0              0.0   \n",
       "3                        0.0                     0.0              0.0   \n",
       "4                        0.0                     1.0              0.0   \n",
       "\n",
       "   Fuhrer's Finger  Fuhrers Finger  Gibralter Chute  Gibralter Ledges  \\\n",
       "0              0.0             0.0              0.0               0.0   \n",
       "1              0.0             0.0              0.0               0.0   \n",
       "2              0.0             0.0              0.0               0.0   \n",
       "3              0.0             0.0              0.0               0.0   \n",
       "4              0.0             0.0              0.0               0.0   \n",
       "\n",
       "   Ingraham Direct  Kautz Cleaver  Kautz Glacier  ...  Mowich Face  \\\n",
       "0              0.0            0.0            0.0  ...          0.0   \n",
       "1              0.0            0.0            0.0  ...          0.0   \n",
       "2              0.0            0.0            0.0  ...          0.0   \n",
       "3              0.0            0.0            0.0  ...          0.0   \n",
       "4              0.0            0.0            0.0  ...          0.0   \n",
       "\n",
       "   Nisqually Glacier  Ptarmigan RIngraham Directge  Success Cleaver  \\\n",
       "0                0.0                           0.0              0.0   \n",
       "1                0.0                           0.0              0.0   \n",
       "2                0.0                           0.0              0.0   \n",
       "3                0.0                           0.0              0.0   \n",
       "4                0.0                           0.0              0.0   \n",
       "\n",
       "   Sunset RIngraham Directge  Tahoma Cleaver  Tahoma Glacier  Unknown  \\\n",
       "0                        0.0             0.0             0.0      0.0   \n",
       "1                        0.0             0.0             0.0      0.0   \n",
       "2                        0.0             0.0             0.0      0.0   \n",
       "3                        0.0             0.0             0.0      0.0   \n",
       "4                        0.0             0.0             0.0      0.0   \n",
       "\n",
       "   Wilson Headwall  glacier only - no summit attempt  \n",
       "0              0.0                               0.0  \n",
       "1              0.0                               0.0  \n",
       "2              0.0                               0.0  \n",
       "3              0.0                               0.0  \n",
       "4              0.0                               0.0  \n",
       "\n",
       "[5 rows x 22 columns]"
      ]
     },
     "execution_count": 16,
     "metadata": {},
     "output_type": "execute_result"
    }
   ],
   "source": [
    "route_transformed_df.head()"
   ]
  },
  {
   "cell_type": "code",
   "execution_count": 17,
   "id": "c2cc86cd",
   "metadata": {},
   "outputs": [
    {
     "name": "stdout",
     "output_type": "stream",
     "text": [
      "(1895, 22)\n",
      "(1895, 7)\n"
     ]
    }
   ],
   "source": [
    "print(route_transformed_df.shape)\n",
    "print(mtrainier_features_df.shape)"
   ]
  },
  {
   "cell_type": "code",
   "execution_count": 18,
   "id": "fa60141c",
   "metadata": {},
   "outputs": [
    {
     "data": {
      "text/plain": [
       "0    Disappointment Cleaver\n",
       "1    Disappointment Cleaver\n",
       "2    Disappointment Cleaver\n",
       "3             Little Tahoma\n",
       "4    Disappointment Cleaver\n",
       "Name: Route, dtype: object"
      ]
     },
     "execution_count": 18,
     "metadata": {},
     "output_type": "execute_result"
    }
   ],
   "source": [
    "mtrainier_features_df['Route'].head()"
   ]
  },
  {
   "cell_type": "markdown",
   "id": "7b8207cd",
   "metadata": {},
   "source": [
    "It matches up so we can put this back to the original dataframe. "
   ]
  },
  {
   "cell_type": "code",
   "execution_count": 19,
   "id": "49031eeb",
   "metadata": {},
   "outputs": [
    {
     "data": {
      "text/plain": [
       "(1895, 29)"
      ]
     },
     "execution_count": 19,
     "metadata": {},
     "output_type": "execute_result"
    }
   ],
   "source": [
    "mtrainier_features_df.reset_index(drop=True, inplace=True)\n",
    "route_transformed_df.reset_index(drop=True, inplace=True)\n",
    "\n",
    "mtrainier_features_final_df = pd.concat([mtrainier_features_df, route_transformed_df], axis=1)\n",
    "mtrainier_features_final_df.shape"
   ]
  },
  {
   "cell_type": "markdown",
   "id": "b15d6654",
   "metadata": {},
   "source": [
    "mtrainier_features_final_df.head()"
   ]
  },
  {
   "cell_type": "code",
   "execution_count": 20,
   "id": "589d33ba",
   "metadata": {},
   "outputs": [
    {
     "data": {
      "text/plain": [
       "0       Disappointment Cleaver\n",
       "1       Disappointment Cleaver\n",
       "2       Disappointment Cleaver\n",
       "3                Little Tahoma\n",
       "4       Disappointment Cleaver\n",
       "                 ...          \n",
       "1890    Disappointment Cleaver\n",
       "1891    Disappointment Cleaver\n",
       "1892    Disappointment Cleaver\n",
       "1893    Disappointment Cleaver\n",
       "1894    Disappointment Cleaver\n",
       "Name: Route, Length: 1895, dtype: object"
      ]
     },
     "execution_count": 20,
     "metadata": {},
     "output_type": "execute_result"
    }
   ],
   "source": [
    "mtrainier_features_final_df.pop('Route')"
   ]
  },
  {
   "cell_type": "markdown",
   "id": "cc1e3221",
   "metadata": {},
   "source": [
    "This will be our final dataframe for mtrainier with the one-hot encoding features included. "
   ]
  },
  {
   "cell_type": "code",
   "execution_count": 21,
   "id": "8d7bfd5e",
   "metadata": {},
   "outputs": [
    {
     "data": {
      "text/html": [
       "<div>\n",
       "<style scoped>\n",
       "    .dataframe tbody tr th:only-of-type {\n",
       "        vertical-align: middle;\n",
       "    }\n",
       "\n",
       "    .dataframe tbody tr th {\n",
       "        vertical-align: top;\n",
       "    }\n",
       "\n",
       "    .dataframe thead th {\n",
       "        text-align: right;\n",
       "    }\n",
       "</style>\n",
       "<table border=\"1\" class=\"dataframe\">\n",
       "  <thead>\n",
       "    <tr style=\"text-align: right;\">\n",
       "      <th></th>\n",
       "      <th>Battery Voltage AVG</th>\n",
       "      <th>Temperature AVG</th>\n",
       "      <th>Relative Humidity AVG</th>\n",
       "      <th>Wind Speed Daily AVG</th>\n",
       "      <th>Wind Direction AVG</th>\n",
       "      <th>Solare Radiation AVG</th>\n",
       "      <th>Curtis RIngraham Directge</th>\n",
       "      <th>Disappointment Cleaver</th>\n",
       "      <th>Emmons-Winthrop</th>\n",
       "      <th>Fuhrer's Finger</th>\n",
       "      <th>...</th>\n",
       "      <th>Mowich Face</th>\n",
       "      <th>Nisqually Glacier</th>\n",
       "      <th>Ptarmigan RIngraham Directge</th>\n",
       "      <th>Success Cleaver</th>\n",
       "      <th>Sunset RIngraham Directge</th>\n",
       "      <th>Tahoma Cleaver</th>\n",
       "      <th>Tahoma Glacier</th>\n",
       "      <th>Unknown</th>\n",
       "      <th>Wilson Headwall</th>\n",
       "      <th>glacier only - no summit attempt</th>\n",
       "    </tr>\n",
       "  </thead>\n",
       "  <tbody>\n",
       "    <tr>\n",
       "      <th>0</th>\n",
       "      <td>13.643750</td>\n",
       "      <td>26.321667</td>\n",
       "      <td>19.715000</td>\n",
       "      <td>27.839583</td>\n",
       "      <td>68.004167</td>\n",
       "      <td>88.496250</td>\n",
       "      <td>0.0</td>\n",
       "      <td>1.0</td>\n",
       "      <td>0.0</td>\n",
       "      <td>0.0</td>\n",
       "      <td>...</td>\n",
       "      <td>0.0</td>\n",
       "      <td>0.0</td>\n",
       "      <td>0.0</td>\n",
       "      <td>0.0</td>\n",
       "      <td>0.0</td>\n",
       "      <td>0.0</td>\n",
       "      <td>0.0</td>\n",
       "      <td>0.0</td>\n",
       "      <td>0.0</td>\n",
       "      <td>0.0</td>\n",
       "    </tr>\n",
       "    <tr>\n",
       "      <th>1</th>\n",
       "      <td>13.749583</td>\n",
       "      <td>31.300000</td>\n",
       "      <td>21.690708</td>\n",
       "      <td>2.245833</td>\n",
       "      <td>117.549667</td>\n",
       "      <td>93.660417</td>\n",
       "      <td>0.0</td>\n",
       "      <td>1.0</td>\n",
       "      <td>0.0</td>\n",
       "      <td>0.0</td>\n",
       "      <td>...</td>\n",
       "      <td>0.0</td>\n",
       "      <td>0.0</td>\n",
       "      <td>0.0</td>\n",
       "      <td>0.0</td>\n",
       "      <td>0.0</td>\n",
       "      <td>0.0</td>\n",
       "      <td>0.0</td>\n",
       "      <td>0.0</td>\n",
       "      <td>0.0</td>\n",
       "      <td>0.0</td>\n",
       "    </tr>\n",
       "    <tr>\n",
       "      <th>2</th>\n",
       "      <td>13.461250</td>\n",
       "      <td>46.447917</td>\n",
       "      <td>27.211250</td>\n",
       "      <td>17.163625</td>\n",
       "      <td>259.121375</td>\n",
       "      <td>138.387000</td>\n",
       "      <td>0.0</td>\n",
       "      <td>1.0</td>\n",
       "      <td>0.0</td>\n",
       "      <td>0.0</td>\n",
       "      <td>...</td>\n",
       "      <td>0.0</td>\n",
       "      <td>0.0</td>\n",
       "      <td>0.0</td>\n",
       "      <td>0.0</td>\n",
       "      <td>0.0</td>\n",
       "      <td>0.0</td>\n",
       "      <td>0.0</td>\n",
       "      <td>0.0</td>\n",
       "      <td>0.0</td>\n",
       "      <td>0.0</td>\n",
       "    </tr>\n",
       "    <tr>\n",
       "      <th>3</th>\n",
       "      <td>13.532083</td>\n",
       "      <td>40.979583</td>\n",
       "      <td>28.335708</td>\n",
       "      <td>19.591167</td>\n",
       "      <td>279.779167</td>\n",
       "      <td>176.382667</td>\n",
       "      <td>0.0</td>\n",
       "      <td>0.0</td>\n",
       "      <td>0.0</td>\n",
       "      <td>0.0</td>\n",
       "      <td>...</td>\n",
       "      <td>0.0</td>\n",
       "      <td>0.0</td>\n",
       "      <td>0.0</td>\n",
       "      <td>0.0</td>\n",
       "      <td>0.0</td>\n",
       "      <td>0.0</td>\n",
       "      <td>0.0</td>\n",
       "      <td>0.0</td>\n",
       "      <td>0.0</td>\n",
       "      <td>0.0</td>\n",
       "    </tr>\n",
       "    <tr>\n",
       "      <th>4</th>\n",
       "      <td>13.216250</td>\n",
       "      <td>38.260417</td>\n",
       "      <td>74.329167</td>\n",
       "      <td>65.138333</td>\n",
       "      <td>264.687500</td>\n",
       "      <td>27.791292</td>\n",
       "      <td>0.0</td>\n",
       "      <td>1.0</td>\n",
       "      <td>0.0</td>\n",
       "      <td>0.0</td>\n",
       "      <td>...</td>\n",
       "      <td>0.0</td>\n",
       "      <td>0.0</td>\n",
       "      <td>0.0</td>\n",
       "      <td>0.0</td>\n",
       "      <td>0.0</td>\n",
       "      <td>0.0</td>\n",
       "      <td>0.0</td>\n",
       "      <td>0.0</td>\n",
       "      <td>0.0</td>\n",
       "      <td>0.0</td>\n",
       "    </tr>\n",
       "  </tbody>\n",
       "</table>\n",
       "<p>5 rows × 28 columns</p>\n",
       "</div>"
      ],
      "text/plain": [
       "   Battery Voltage AVG  Temperature AVG  Relative Humidity AVG  \\\n",
       "0            13.643750        26.321667              19.715000   \n",
       "1            13.749583        31.300000              21.690708   \n",
       "2            13.461250        46.447917              27.211250   \n",
       "3            13.532083        40.979583              28.335708   \n",
       "4            13.216250        38.260417              74.329167   \n",
       "\n",
       "   Wind Speed Daily AVG  Wind Direction AVG  Solare Radiation AVG  \\\n",
       "0             27.839583           68.004167             88.496250   \n",
       "1              2.245833          117.549667             93.660417   \n",
       "2             17.163625          259.121375            138.387000   \n",
       "3             19.591167          279.779167            176.382667   \n",
       "4             65.138333          264.687500             27.791292   \n",
       "\n",
       "   Curtis RIngraham Directge  Disappointment Cleaver  Emmons-Winthrop  \\\n",
       "0                        0.0                     1.0              0.0   \n",
       "1                        0.0                     1.0              0.0   \n",
       "2                        0.0                     1.0              0.0   \n",
       "3                        0.0                     0.0              0.0   \n",
       "4                        0.0                     1.0              0.0   \n",
       "\n",
       "   Fuhrer's Finger  ...  Mowich Face  Nisqually Glacier  \\\n",
       "0              0.0  ...          0.0                0.0   \n",
       "1              0.0  ...          0.0                0.0   \n",
       "2              0.0  ...          0.0                0.0   \n",
       "3              0.0  ...          0.0                0.0   \n",
       "4              0.0  ...          0.0                0.0   \n",
       "\n",
       "   Ptarmigan RIngraham Directge  Success Cleaver  Sunset RIngraham Directge  \\\n",
       "0                           0.0              0.0                        0.0   \n",
       "1                           0.0              0.0                        0.0   \n",
       "2                           0.0              0.0                        0.0   \n",
       "3                           0.0              0.0                        0.0   \n",
       "4                           0.0              0.0                        0.0   \n",
       "\n",
       "   Tahoma Cleaver  Tahoma Glacier  Unknown  Wilson Headwall  \\\n",
       "0             0.0             0.0      0.0              0.0   \n",
       "1             0.0             0.0      0.0              0.0   \n",
       "2             0.0             0.0      0.0              0.0   \n",
       "3             0.0             0.0      0.0              0.0   \n",
       "4             0.0             0.0      0.0              0.0   \n",
       "\n",
       "   glacier only - no summit attempt  \n",
       "0                               0.0  \n",
       "1                               0.0  \n",
       "2                               0.0  \n",
       "3                               0.0  \n",
       "4                               0.0  \n",
       "\n",
       "[5 rows x 28 columns]"
      ]
     },
     "execution_count": 21,
     "metadata": {},
     "output_type": "execute_result"
    }
   ],
   "source": [
    "mtrainier_features_final_df.head()"
   ]
  },
  {
   "cell_type": "markdown",
   "id": "5ea4c871",
   "metadata": {},
   "source": [
    "Before Data Pre-Processing and splitting for validation, we should use Standard Scaling/Min Max Scaling for the numerical features."
   ]
  },
  {
   "cell_type": "markdown",
   "id": "c276de71",
   "metadata": {},
   "source": [
    "In <mark>Assignment 3: Logistic Regression and SVMs</mark>, we used only standard scaling. Our end output in terms of model accuracy was affected so we will be doing different iterations of model evaluation later on: MinMax Scaling, Standard Scaling, Removing glacier only - no summit attempt, taking away the 'Route' feature entirely before feature ablation (removing all 22 one-hot encoding features), and ablating all 22 one-hot encoding features when doing feature ablation normally with the rest of the features. "
   ]
  },
  {
   "cell_type": "markdown",
   "id": "038896fe",
   "metadata": {},
   "source": [
    "Scaling feature transforms mtrainier_features_minmax_df even though I made a copy before scaling mtrainier_features_final_df. I could save it by using to_pickle. "
   ]
  },
  {
   "cell_type": "code",
   "execution_count": 22,
   "id": "a1668e0e",
   "metadata": {},
   "outputs": [
    {
     "data": {
      "text/html": [
       "<div>\n",
       "<style scoped>\n",
       "    .dataframe tbody tr th:only-of-type {\n",
       "        vertical-align: middle;\n",
       "    }\n",
       "\n",
       "    .dataframe tbody tr th {\n",
       "        vertical-align: top;\n",
       "    }\n",
       "\n",
       "    .dataframe thead th {\n",
       "        text-align: right;\n",
       "    }\n",
       "</style>\n",
       "<table border=\"1\" class=\"dataframe\">\n",
       "  <thead>\n",
       "    <tr style=\"text-align: right;\">\n",
       "      <th></th>\n",
       "      <th>Battery Voltage AVG</th>\n",
       "      <th>Temperature AVG</th>\n",
       "      <th>Relative Humidity AVG</th>\n",
       "      <th>Wind Speed Daily AVG</th>\n",
       "      <th>Wind Direction AVG</th>\n",
       "      <th>Solare Radiation AVG</th>\n",
       "      <th>Curtis RIngraham Directge</th>\n",
       "      <th>Disappointment Cleaver</th>\n",
       "      <th>Emmons-Winthrop</th>\n",
       "      <th>Fuhrer's Finger</th>\n",
       "      <th>...</th>\n",
       "      <th>Mowich Face</th>\n",
       "      <th>Nisqually Glacier</th>\n",
       "      <th>Ptarmigan RIngraham Directge</th>\n",
       "      <th>Success Cleaver</th>\n",
       "      <th>Sunset RIngraham Directge</th>\n",
       "      <th>Tahoma Cleaver</th>\n",
       "      <th>Tahoma Glacier</th>\n",
       "      <th>Unknown</th>\n",
       "      <th>Wilson Headwall</th>\n",
       "      <th>glacier only - no summit attempt</th>\n",
       "    </tr>\n",
       "  </thead>\n",
       "  <tbody>\n",
       "    <tr>\n",
       "      <th>0</th>\n",
       "      <td>2.003522</td>\n",
       "      <td>-1.580891</td>\n",
       "      <td>-1.269311</td>\n",
       "      <td>1.895222</td>\n",
       "      <td>-0.958813</td>\n",
       "      <td>-1.567664</td>\n",
       "      <td>0.0</td>\n",
       "      <td>1.0</td>\n",
       "      <td>0.0</td>\n",
       "      <td>0.0</td>\n",
       "      <td>...</td>\n",
       "      <td>0.0</td>\n",
       "      <td>0.0</td>\n",
       "      <td>0.0</td>\n",
       "      <td>0.0</td>\n",
       "      <td>0.0</td>\n",
       "      <td>0.0</td>\n",
       "      <td>0.0</td>\n",
       "      <td>0.0</td>\n",
       "      <td>0.0</td>\n",
       "      <td>0.0</td>\n",
       "    </tr>\n",
       "    <tr>\n",
       "      <th>1</th>\n",
       "      <td>3.506158</td>\n",
       "      <td>-1.033951</td>\n",
       "      <td>-1.180109</td>\n",
       "      <td>-0.902775</td>\n",
       "      <td>-0.414849</td>\n",
       "      <td>-1.520897</td>\n",
       "      <td>0.0</td>\n",
       "      <td>1.0</td>\n",
       "      <td>0.0</td>\n",
       "      <td>0.0</td>\n",
       "      <td>...</td>\n",
       "      <td>0.0</td>\n",
       "      <td>0.0</td>\n",
       "      <td>0.0</td>\n",
       "      <td>0.0</td>\n",
       "      <td>0.0</td>\n",
       "      <td>0.0</td>\n",
       "      <td>0.0</td>\n",
       "      <td>0.0</td>\n",
       "      <td>0.0</td>\n",
       "      <td>0.0</td>\n",
       "    </tr>\n",
       "    <tr>\n",
       "      <th>2</th>\n",
       "      <td>-0.587638</td>\n",
       "      <td>0.630261</td>\n",
       "      <td>-0.930861</td>\n",
       "      <td>0.728090</td>\n",
       "      <td>1.139477</td>\n",
       "      <td>-1.115850</td>\n",
       "      <td>0.0</td>\n",
       "      <td>1.0</td>\n",
       "      <td>0.0</td>\n",
       "      <td>0.0</td>\n",
       "      <td>...</td>\n",
       "      <td>0.0</td>\n",
       "      <td>0.0</td>\n",
       "      <td>0.0</td>\n",
       "      <td>0.0</td>\n",
       "      <td>0.0</td>\n",
       "      <td>0.0</td>\n",
       "      <td>0.0</td>\n",
       "      <td>0.0</td>\n",
       "      <td>0.0</td>\n",
       "      <td>0.0</td>\n",
       "    </tr>\n",
       "    <tr>\n",
       "      <th>3</th>\n",
       "      <td>0.418063</td>\n",
       "      <td>0.029488</td>\n",
       "      <td>-0.880092</td>\n",
       "      <td>0.993477</td>\n",
       "      <td>1.366280</td>\n",
       "      <td>-0.771758</td>\n",
       "      <td>0.0</td>\n",
       "      <td>0.0</td>\n",
       "      <td>0.0</td>\n",
       "      <td>0.0</td>\n",
       "      <td>...</td>\n",
       "      <td>0.0</td>\n",
       "      <td>0.0</td>\n",
       "      <td>0.0</td>\n",
       "      <td>0.0</td>\n",
       "      <td>0.0</td>\n",
       "      <td>0.0</td>\n",
       "      <td>0.0</td>\n",
       "      <td>0.0</td>\n",
       "      <td>0.0</td>\n",
       "      <td>0.0</td>\n",
       "    </tr>\n",
       "    <tr>\n",
       "      <th>4</th>\n",
       "      <td>-4.066182</td>\n",
       "      <td>-0.269251</td>\n",
       "      <td>1.196481</td>\n",
       "      <td>5.972851</td>\n",
       "      <td>1.200588</td>\n",
       "      <td>-2.117412</td>\n",
       "      <td>0.0</td>\n",
       "      <td>1.0</td>\n",
       "      <td>0.0</td>\n",
       "      <td>0.0</td>\n",
       "      <td>...</td>\n",
       "      <td>0.0</td>\n",
       "      <td>0.0</td>\n",
       "      <td>0.0</td>\n",
       "      <td>0.0</td>\n",
       "      <td>0.0</td>\n",
       "      <td>0.0</td>\n",
       "      <td>0.0</td>\n",
       "      <td>0.0</td>\n",
       "      <td>0.0</td>\n",
       "      <td>0.0</td>\n",
       "    </tr>\n",
       "  </tbody>\n",
       "</table>\n",
       "<p>5 rows × 28 columns</p>\n",
       "</div>"
      ],
      "text/plain": [
       "   Battery Voltage AVG  Temperature AVG  Relative Humidity AVG  \\\n",
       "0             2.003522        -1.580891              -1.269311   \n",
       "1             3.506158        -1.033951              -1.180109   \n",
       "2            -0.587638         0.630261              -0.930861   \n",
       "3             0.418063         0.029488              -0.880092   \n",
       "4            -4.066182        -0.269251               1.196481   \n",
       "\n",
       "   Wind Speed Daily AVG  Wind Direction AVG  Solare Radiation AVG  \\\n",
       "0              1.895222           -0.958813             -1.567664   \n",
       "1             -0.902775           -0.414849             -1.520897   \n",
       "2              0.728090            1.139477             -1.115850   \n",
       "3              0.993477            1.366280             -0.771758   \n",
       "4              5.972851            1.200588             -2.117412   \n",
       "\n",
       "   Curtis RIngraham Directge  Disappointment Cleaver  Emmons-Winthrop  \\\n",
       "0                        0.0                     1.0              0.0   \n",
       "1                        0.0                     1.0              0.0   \n",
       "2                        0.0                     1.0              0.0   \n",
       "3                        0.0                     0.0              0.0   \n",
       "4                        0.0                     1.0              0.0   \n",
       "\n",
       "   Fuhrer's Finger  ...  Mowich Face  Nisqually Glacier  \\\n",
       "0              0.0  ...          0.0                0.0   \n",
       "1              0.0  ...          0.0                0.0   \n",
       "2              0.0  ...          0.0                0.0   \n",
       "3              0.0  ...          0.0                0.0   \n",
       "4              0.0  ...          0.0                0.0   \n",
       "\n",
       "   Ptarmigan RIngraham Directge  Success Cleaver  Sunset RIngraham Directge  \\\n",
       "0                           0.0              0.0                        0.0   \n",
       "1                           0.0              0.0                        0.0   \n",
       "2                           0.0              0.0                        0.0   \n",
       "3                           0.0              0.0                        0.0   \n",
       "4                           0.0              0.0                        0.0   \n",
       "\n",
       "   Tahoma Cleaver  Tahoma Glacier  Unknown  Wilson Headwall  \\\n",
       "0             0.0             0.0      0.0              0.0   \n",
       "1             0.0             0.0      0.0              0.0   \n",
       "2             0.0             0.0      0.0              0.0   \n",
       "3             0.0             0.0      0.0              0.0   \n",
       "4             0.0             0.0      0.0              0.0   \n",
       "\n",
       "   glacier only - no summit attempt  \n",
       "0                               0.0  \n",
       "1                               0.0  \n",
       "2                               0.0  \n",
       "3                               0.0  \n",
       "4                               0.0  \n",
       "\n",
       "[5 rows x 28 columns]"
      ]
     },
     "execution_count": 22,
     "metadata": {},
     "output_type": "execute_result"
    }
   ],
   "source": [
    "from sklearn.preprocessing import StandardScaler\n",
    "from sklearn.preprocessing import MinMaxScaler\n",
    "\n",
    "mtrainier_features_final_df.to_pickle(\"mtrainier_features_backup.pkl\")\n",
    "\n",
    "standard_scaler = StandardScaler()\n",
    "minmax_scaler = MinMaxScaler()\n",
    "numerical_columns = ['Battery Voltage AVG', 'Temperature AVG', 'Relative Humidity AVG',\n",
    "                      'Wind Speed Daily AVG', 'Wind Direction AVG', 'Solare Radiation AVG']\n",
    "\n",
    "mtrainier_features_final_df[numerical_columns] = standard_scaler.fit_transform(mtrainier_features_final_df[numerical_columns])\n",
    "mtrainier_features_final_df.head()\n"
   ]
  },
  {
   "cell_type": "code",
   "execution_count": 23,
   "id": "34ad1ffc",
   "metadata": {},
   "outputs": [],
   "source": [
    "mtrainier_features_minmax_df = pd.read_pickle(\"mtrainier_features_backup.pkl\")"
   ]
  },
  {
   "cell_type": "markdown",
   "id": "14107bdd",
   "metadata": {},
   "source": [
    "I put in into a dataframe labeled minmax for scaling purposes; could possibly need to use the backup pickle file later. "
   ]
  },
  {
   "cell_type": "code",
   "execution_count": 24,
   "id": "b5d6ace7",
   "metadata": {},
   "outputs": [
    {
     "data": {
      "text/html": [
       "<div>\n",
       "<style scoped>\n",
       "    .dataframe tbody tr th:only-of-type {\n",
       "        vertical-align: middle;\n",
       "    }\n",
       "\n",
       "    .dataframe tbody tr th {\n",
       "        vertical-align: top;\n",
       "    }\n",
       "\n",
       "    .dataframe thead th {\n",
       "        text-align: right;\n",
       "    }\n",
       "</style>\n",
       "<table border=\"1\" class=\"dataframe\">\n",
       "  <thead>\n",
       "    <tr style=\"text-align: right;\">\n",
       "      <th></th>\n",
       "      <th>Battery Voltage AVG</th>\n",
       "      <th>Temperature AVG</th>\n",
       "      <th>Relative Humidity AVG</th>\n",
       "      <th>Wind Speed Daily AVG</th>\n",
       "      <th>Wind Direction AVG</th>\n",
       "      <th>Solare Radiation AVG</th>\n",
       "      <th>Curtis RIngraham Directge</th>\n",
       "      <th>Disappointment Cleaver</th>\n",
       "      <th>Emmons-Winthrop</th>\n",
       "      <th>Fuhrer's Finger</th>\n",
       "      <th>...</th>\n",
       "      <th>Mowich Face</th>\n",
       "      <th>Nisqually Glacier</th>\n",
       "      <th>Ptarmigan RIngraham Directge</th>\n",
       "      <th>Success Cleaver</th>\n",
       "      <th>Sunset RIngraham Directge</th>\n",
       "      <th>Tahoma Cleaver</th>\n",
       "      <th>Tahoma Glacier</th>\n",
       "      <th>Unknown</th>\n",
       "      <th>Wilson Headwall</th>\n",
       "      <th>glacier only - no summit attempt</th>\n",
       "    </tr>\n",
       "  </thead>\n",
       "  <tbody>\n",
       "    <tr>\n",
       "      <th>0</th>\n",
       "      <td>13.643750</td>\n",
       "      <td>26.321667</td>\n",
       "      <td>19.715000</td>\n",
       "      <td>27.839583</td>\n",
       "      <td>68.004167</td>\n",
       "      <td>88.496250</td>\n",
       "      <td>0.0</td>\n",
       "      <td>1.0</td>\n",
       "      <td>0.0</td>\n",
       "      <td>0.0</td>\n",
       "      <td>...</td>\n",
       "      <td>0.0</td>\n",
       "      <td>0.0</td>\n",
       "      <td>0.0</td>\n",
       "      <td>0.0</td>\n",
       "      <td>0.0</td>\n",
       "      <td>0.0</td>\n",
       "      <td>0.0</td>\n",
       "      <td>0.0</td>\n",
       "      <td>0.0</td>\n",
       "      <td>0.0</td>\n",
       "    </tr>\n",
       "    <tr>\n",
       "      <th>1</th>\n",
       "      <td>13.749583</td>\n",
       "      <td>31.300000</td>\n",
       "      <td>21.690708</td>\n",
       "      <td>2.245833</td>\n",
       "      <td>117.549667</td>\n",
       "      <td>93.660417</td>\n",
       "      <td>0.0</td>\n",
       "      <td>1.0</td>\n",
       "      <td>0.0</td>\n",
       "      <td>0.0</td>\n",
       "      <td>...</td>\n",
       "      <td>0.0</td>\n",
       "      <td>0.0</td>\n",
       "      <td>0.0</td>\n",
       "      <td>0.0</td>\n",
       "      <td>0.0</td>\n",
       "      <td>0.0</td>\n",
       "      <td>0.0</td>\n",
       "      <td>0.0</td>\n",
       "      <td>0.0</td>\n",
       "      <td>0.0</td>\n",
       "    </tr>\n",
       "    <tr>\n",
       "      <th>2</th>\n",
       "      <td>13.461250</td>\n",
       "      <td>46.447917</td>\n",
       "      <td>27.211250</td>\n",
       "      <td>17.163625</td>\n",
       "      <td>259.121375</td>\n",
       "      <td>138.387000</td>\n",
       "      <td>0.0</td>\n",
       "      <td>1.0</td>\n",
       "      <td>0.0</td>\n",
       "      <td>0.0</td>\n",
       "      <td>...</td>\n",
       "      <td>0.0</td>\n",
       "      <td>0.0</td>\n",
       "      <td>0.0</td>\n",
       "      <td>0.0</td>\n",
       "      <td>0.0</td>\n",
       "      <td>0.0</td>\n",
       "      <td>0.0</td>\n",
       "      <td>0.0</td>\n",
       "      <td>0.0</td>\n",
       "      <td>0.0</td>\n",
       "    </tr>\n",
       "    <tr>\n",
       "      <th>3</th>\n",
       "      <td>13.532083</td>\n",
       "      <td>40.979583</td>\n",
       "      <td>28.335708</td>\n",
       "      <td>19.591167</td>\n",
       "      <td>279.779167</td>\n",
       "      <td>176.382667</td>\n",
       "      <td>0.0</td>\n",
       "      <td>0.0</td>\n",
       "      <td>0.0</td>\n",
       "      <td>0.0</td>\n",
       "      <td>...</td>\n",
       "      <td>0.0</td>\n",
       "      <td>0.0</td>\n",
       "      <td>0.0</td>\n",
       "      <td>0.0</td>\n",
       "      <td>0.0</td>\n",
       "      <td>0.0</td>\n",
       "      <td>0.0</td>\n",
       "      <td>0.0</td>\n",
       "      <td>0.0</td>\n",
       "      <td>0.0</td>\n",
       "    </tr>\n",
       "    <tr>\n",
       "      <th>4</th>\n",
       "      <td>13.216250</td>\n",
       "      <td>38.260417</td>\n",
       "      <td>74.329167</td>\n",
       "      <td>65.138333</td>\n",
       "      <td>264.687500</td>\n",
       "      <td>27.791292</td>\n",
       "      <td>0.0</td>\n",
       "      <td>1.0</td>\n",
       "      <td>0.0</td>\n",
       "      <td>0.0</td>\n",
       "      <td>...</td>\n",
       "      <td>0.0</td>\n",
       "      <td>0.0</td>\n",
       "      <td>0.0</td>\n",
       "      <td>0.0</td>\n",
       "      <td>0.0</td>\n",
       "      <td>0.0</td>\n",
       "      <td>0.0</td>\n",
       "      <td>0.0</td>\n",
       "      <td>0.0</td>\n",
       "      <td>0.0</td>\n",
       "    </tr>\n",
       "  </tbody>\n",
       "</table>\n",
       "<p>5 rows × 28 columns</p>\n",
       "</div>"
      ],
      "text/plain": [
       "   Battery Voltage AVG  Temperature AVG  Relative Humidity AVG  \\\n",
       "0            13.643750        26.321667              19.715000   \n",
       "1            13.749583        31.300000              21.690708   \n",
       "2            13.461250        46.447917              27.211250   \n",
       "3            13.532083        40.979583              28.335708   \n",
       "4            13.216250        38.260417              74.329167   \n",
       "\n",
       "   Wind Speed Daily AVG  Wind Direction AVG  Solare Radiation AVG  \\\n",
       "0             27.839583           68.004167             88.496250   \n",
       "1              2.245833          117.549667             93.660417   \n",
       "2             17.163625          259.121375            138.387000   \n",
       "3             19.591167          279.779167            176.382667   \n",
       "4             65.138333          264.687500             27.791292   \n",
       "\n",
       "   Curtis RIngraham Directge  Disappointment Cleaver  Emmons-Winthrop  \\\n",
       "0                        0.0                     1.0              0.0   \n",
       "1                        0.0                     1.0              0.0   \n",
       "2                        0.0                     1.0              0.0   \n",
       "3                        0.0                     0.0              0.0   \n",
       "4                        0.0                     1.0              0.0   \n",
       "\n",
       "   Fuhrer's Finger  ...  Mowich Face  Nisqually Glacier  \\\n",
       "0              0.0  ...          0.0                0.0   \n",
       "1              0.0  ...          0.0                0.0   \n",
       "2              0.0  ...          0.0                0.0   \n",
       "3              0.0  ...          0.0                0.0   \n",
       "4              0.0  ...          0.0                0.0   \n",
       "\n",
       "   Ptarmigan RIngraham Directge  Success Cleaver  Sunset RIngraham Directge  \\\n",
       "0                           0.0              0.0                        0.0   \n",
       "1                           0.0              0.0                        0.0   \n",
       "2                           0.0              0.0                        0.0   \n",
       "3                           0.0              0.0                        0.0   \n",
       "4                           0.0              0.0                        0.0   \n",
       "\n",
       "   Tahoma Cleaver  Tahoma Glacier  Unknown  Wilson Headwall  \\\n",
       "0             0.0             0.0      0.0              0.0   \n",
       "1             0.0             0.0      0.0              0.0   \n",
       "2             0.0             0.0      0.0              0.0   \n",
       "3             0.0             0.0      0.0              0.0   \n",
       "4             0.0             0.0      0.0              0.0   \n",
       "\n",
       "   glacier only - no summit attempt  \n",
       "0                               0.0  \n",
       "1                               0.0  \n",
       "2                               0.0  \n",
       "3                               0.0  \n",
       "4                               0.0  \n",
       "\n",
       "[5 rows x 28 columns]"
      ]
     },
     "execution_count": 24,
     "metadata": {},
     "output_type": "execute_result"
    }
   ],
   "source": [
    "mtrainier_features_minmax_df.head()"
   ]
  },
  {
   "cell_type": "code",
   "execution_count": 25,
   "id": "ea7f3a4c",
   "metadata": {},
   "outputs": [],
   "source": [
    "mtrainier_features_minmax_df[numerical_columns] = minmax_scaler.fit_transform(mtrainier_features_minmax_df[numerical_columns])"
   ]
  },
  {
   "cell_type": "code",
   "execution_count": 26,
   "id": "f7d2a446",
   "metadata": {},
   "outputs": [
    {
     "data": {
      "text/html": [
       "<div>\n",
       "<style scoped>\n",
       "    .dataframe tbody tr th:only-of-type {\n",
       "        vertical-align: middle;\n",
       "    }\n",
       "\n",
       "    .dataframe tbody tr th {\n",
       "        vertical-align: top;\n",
       "    }\n",
       "\n",
       "    .dataframe thead th {\n",
       "        text-align: right;\n",
       "    }\n",
       "</style>\n",
       "<table border=\"1\" class=\"dataframe\">\n",
       "  <thead>\n",
       "    <tr style=\"text-align: right;\">\n",
       "      <th></th>\n",
       "      <th>Battery Voltage AVG</th>\n",
       "      <th>Temperature AVG</th>\n",
       "      <th>Relative Humidity AVG</th>\n",
       "      <th>Wind Speed Daily AVG</th>\n",
       "      <th>Wind Direction AVG</th>\n",
       "      <th>Solare Radiation AVG</th>\n",
       "      <th>Curtis RIngraham Directge</th>\n",
       "      <th>Disappointment Cleaver</th>\n",
       "      <th>Emmons-Winthrop</th>\n",
       "      <th>Fuhrer's Finger</th>\n",
       "      <th>...</th>\n",
       "      <th>Mowich Face</th>\n",
       "      <th>Nisqually Glacier</th>\n",
       "      <th>Ptarmigan RIngraham Directge</th>\n",
       "      <th>Success Cleaver</th>\n",
       "      <th>Sunset RIngraham Directge</th>\n",
       "      <th>Tahoma Cleaver</th>\n",
       "      <th>Tahoma Glacier</th>\n",
       "      <th>Unknown</th>\n",
       "      <th>Wilson Headwall</th>\n",
       "      <th>glacier only - no summit attempt</th>\n",
       "    </tr>\n",
       "  </thead>\n",
       "  <tbody>\n",
       "    <tr>\n",
       "      <th>0</th>\n",
       "      <td>0.813017</td>\n",
       "      <td>0.395119</td>\n",
       "      <td>0.083886</td>\n",
       "      <td>0.427392</td>\n",
       "      <td>0.204255</td>\n",
       "      <td>0.240442</td>\n",
       "      <td>0.0</td>\n",
       "      <td>1.0</td>\n",
       "      <td>0.0</td>\n",
       "      <td>0.0</td>\n",
       "      <td>...</td>\n",
       "      <td>0.0</td>\n",
       "      <td>0.0</td>\n",
       "      <td>0.0</td>\n",
       "      <td>0.0</td>\n",
       "      <td>0.0</td>\n",
       "      <td>0.0</td>\n",
       "      <td>0.0</td>\n",
       "      <td>0.0</td>\n",
       "      <td>0.0</td>\n",
       "      <td>0.0</td>\n",
       "    </tr>\n",
       "    <tr>\n",
       "      <th>1</th>\n",
       "      <td>0.944215</td>\n",
       "      <td>0.496061</td>\n",
       "      <td>0.106431</td>\n",
       "      <td>0.034478</td>\n",
       "      <td>0.389892</td>\n",
       "      <td>0.254473</td>\n",
       "      <td>0.0</td>\n",
       "      <td>1.0</td>\n",
       "      <td>0.0</td>\n",
       "      <td>0.0</td>\n",
       "      <td>...</td>\n",
       "      <td>0.0</td>\n",
       "      <td>0.0</td>\n",
       "      <td>0.0</td>\n",
       "      <td>0.0</td>\n",
       "      <td>0.0</td>\n",
       "      <td>0.0</td>\n",
       "      <td>0.0</td>\n",
       "      <td>0.0</td>\n",
       "      <td>0.0</td>\n",
       "      <td>0.0</td>\n",
       "    </tr>\n",
       "    <tr>\n",
       "      <th>2</th>\n",
       "      <td>0.586777</td>\n",
       "      <td>0.803203</td>\n",
       "      <td>0.169424</td>\n",
       "      <td>0.263495</td>\n",
       "      <td>0.920335</td>\n",
       "      <td>0.375994</td>\n",
       "      <td>0.0</td>\n",
       "      <td>1.0</td>\n",
       "      <td>0.0</td>\n",
       "      <td>0.0</td>\n",
       "      <td>...</td>\n",
       "      <td>0.0</td>\n",
       "      <td>0.0</td>\n",
       "      <td>0.0</td>\n",
       "      <td>0.0</td>\n",
       "      <td>0.0</td>\n",
       "      <td>0.0</td>\n",
       "      <td>0.0</td>\n",
       "      <td>0.0</td>\n",
       "      <td>0.0</td>\n",
       "      <td>0.0</td>\n",
       "    </tr>\n",
       "    <tr>\n",
       "      <th>3</th>\n",
       "      <td>0.674587</td>\n",
       "      <td>0.692326</td>\n",
       "      <td>0.182255</td>\n",
       "      <td>0.300762</td>\n",
       "      <td>0.997736</td>\n",
       "      <td>0.479228</td>\n",
       "      <td>0.0</td>\n",
       "      <td>0.0</td>\n",
       "      <td>0.0</td>\n",
       "      <td>0.0</td>\n",
       "      <td>...</td>\n",
       "      <td>0.0</td>\n",
       "      <td>0.0</td>\n",
       "      <td>0.0</td>\n",
       "      <td>0.0</td>\n",
       "      <td>0.0</td>\n",
       "      <td>0.0</td>\n",
       "      <td>0.0</td>\n",
       "      <td>0.0</td>\n",
       "      <td>0.0</td>\n",
       "      <td>0.0</td>\n",
       "    </tr>\n",
       "    <tr>\n",
       "      <th>4</th>\n",
       "      <td>0.283058</td>\n",
       "      <td>0.637191</td>\n",
       "      <td>0.707076</td>\n",
       "      <td>1.000000</td>\n",
       "      <td>0.941191</td>\n",
       "      <td>0.075508</td>\n",
       "      <td>0.0</td>\n",
       "      <td>1.0</td>\n",
       "      <td>0.0</td>\n",
       "      <td>0.0</td>\n",
       "      <td>...</td>\n",
       "      <td>0.0</td>\n",
       "      <td>0.0</td>\n",
       "      <td>0.0</td>\n",
       "      <td>0.0</td>\n",
       "      <td>0.0</td>\n",
       "      <td>0.0</td>\n",
       "      <td>0.0</td>\n",
       "      <td>0.0</td>\n",
       "      <td>0.0</td>\n",
       "      <td>0.0</td>\n",
       "    </tr>\n",
       "  </tbody>\n",
       "</table>\n",
       "<p>5 rows × 28 columns</p>\n",
       "</div>"
      ],
      "text/plain": [
       "   Battery Voltage AVG  Temperature AVG  Relative Humidity AVG  \\\n",
       "0             0.813017         0.395119               0.083886   \n",
       "1             0.944215         0.496061               0.106431   \n",
       "2             0.586777         0.803203               0.169424   \n",
       "3             0.674587         0.692326               0.182255   \n",
       "4             0.283058         0.637191               0.707076   \n",
       "\n",
       "   Wind Speed Daily AVG  Wind Direction AVG  Solare Radiation AVG  \\\n",
       "0              0.427392            0.204255              0.240442   \n",
       "1              0.034478            0.389892              0.254473   \n",
       "2              0.263495            0.920335              0.375994   \n",
       "3              0.300762            0.997736              0.479228   \n",
       "4              1.000000            0.941191              0.075508   \n",
       "\n",
       "   Curtis RIngraham Directge  Disappointment Cleaver  Emmons-Winthrop  \\\n",
       "0                        0.0                     1.0              0.0   \n",
       "1                        0.0                     1.0              0.0   \n",
       "2                        0.0                     1.0              0.0   \n",
       "3                        0.0                     0.0              0.0   \n",
       "4                        0.0                     1.0              0.0   \n",
       "\n",
       "   Fuhrer's Finger  ...  Mowich Face  Nisqually Glacier  \\\n",
       "0              0.0  ...          0.0                0.0   \n",
       "1              0.0  ...          0.0                0.0   \n",
       "2              0.0  ...          0.0                0.0   \n",
       "3              0.0  ...          0.0                0.0   \n",
       "4              0.0  ...          0.0                0.0   \n",
       "\n",
       "   Ptarmigan RIngraham Directge  Success Cleaver  Sunset RIngraham Directge  \\\n",
       "0                           0.0              0.0                        0.0   \n",
       "1                           0.0              0.0                        0.0   \n",
       "2                           0.0              0.0                        0.0   \n",
       "3                           0.0              0.0                        0.0   \n",
       "4                           0.0              0.0                        0.0   \n",
       "\n",
       "   Tahoma Cleaver  Tahoma Glacier  Unknown  Wilson Headwall  \\\n",
       "0             0.0             0.0      0.0              0.0   \n",
       "1             0.0             0.0      0.0              0.0   \n",
       "2             0.0             0.0      0.0              0.0   \n",
       "3             0.0             0.0      0.0              0.0   \n",
       "4             0.0             0.0      0.0              0.0   \n",
       "\n",
       "   glacier only - no summit attempt  \n",
       "0                               0.0  \n",
       "1                               0.0  \n",
       "2                               0.0  \n",
       "3                               0.0  \n",
       "4                               0.0  \n",
       "\n",
       "[5 rows x 28 columns]"
      ]
     },
     "execution_count": 26,
     "metadata": {},
     "output_type": "execute_result"
    }
   ],
   "source": [
    "mtrainier_features_minmax_df.head()"
   ]
  },
  {
   "cell_type": "code",
   "execution_count": 27,
   "id": "0a4706a1",
   "metadata": {},
   "outputs": [],
   "source": [
    "mtrainier_features_default_df = pd.read_pickle(\"mtrainier_features_backup.pkl\")"
   ]
  },
  {
   "cell_type": "code",
   "execution_count": 28,
   "id": "29c3f85c",
   "metadata": {},
   "outputs": [
    {
     "data": {
      "text/html": [
       "<div>\n",
       "<style scoped>\n",
       "    .dataframe tbody tr th:only-of-type {\n",
       "        vertical-align: middle;\n",
       "    }\n",
       "\n",
       "    .dataframe tbody tr th {\n",
       "        vertical-align: top;\n",
       "    }\n",
       "\n",
       "    .dataframe thead th {\n",
       "        text-align: right;\n",
       "    }\n",
       "</style>\n",
       "<table border=\"1\" class=\"dataframe\">\n",
       "  <thead>\n",
       "    <tr style=\"text-align: right;\">\n",
       "      <th></th>\n",
       "      <th>Battery Voltage AVG</th>\n",
       "      <th>Temperature AVG</th>\n",
       "      <th>Relative Humidity AVG</th>\n",
       "      <th>Wind Speed Daily AVG</th>\n",
       "      <th>Wind Direction AVG</th>\n",
       "      <th>Solare Radiation AVG</th>\n",
       "      <th>Curtis RIngraham Directge</th>\n",
       "      <th>Disappointment Cleaver</th>\n",
       "      <th>Emmons-Winthrop</th>\n",
       "      <th>Fuhrer's Finger</th>\n",
       "      <th>...</th>\n",
       "      <th>Mowich Face</th>\n",
       "      <th>Nisqually Glacier</th>\n",
       "      <th>Ptarmigan RIngraham Directge</th>\n",
       "      <th>Success Cleaver</th>\n",
       "      <th>Sunset RIngraham Directge</th>\n",
       "      <th>Tahoma Cleaver</th>\n",
       "      <th>Tahoma Glacier</th>\n",
       "      <th>Unknown</th>\n",
       "      <th>Wilson Headwall</th>\n",
       "      <th>glacier only - no summit attempt</th>\n",
       "    </tr>\n",
       "  </thead>\n",
       "  <tbody>\n",
       "    <tr>\n",
       "      <th>0</th>\n",
       "      <td>13.643750</td>\n",
       "      <td>26.321667</td>\n",
       "      <td>19.715000</td>\n",
       "      <td>27.839583</td>\n",
       "      <td>68.004167</td>\n",
       "      <td>88.496250</td>\n",
       "      <td>0.0</td>\n",
       "      <td>1.0</td>\n",
       "      <td>0.0</td>\n",
       "      <td>0.0</td>\n",
       "      <td>...</td>\n",
       "      <td>0.0</td>\n",
       "      <td>0.0</td>\n",
       "      <td>0.0</td>\n",
       "      <td>0.0</td>\n",
       "      <td>0.0</td>\n",
       "      <td>0.0</td>\n",
       "      <td>0.0</td>\n",
       "      <td>0.0</td>\n",
       "      <td>0.0</td>\n",
       "      <td>0.0</td>\n",
       "    </tr>\n",
       "    <tr>\n",
       "      <th>1</th>\n",
       "      <td>13.749583</td>\n",
       "      <td>31.300000</td>\n",
       "      <td>21.690708</td>\n",
       "      <td>2.245833</td>\n",
       "      <td>117.549667</td>\n",
       "      <td>93.660417</td>\n",
       "      <td>0.0</td>\n",
       "      <td>1.0</td>\n",
       "      <td>0.0</td>\n",
       "      <td>0.0</td>\n",
       "      <td>...</td>\n",
       "      <td>0.0</td>\n",
       "      <td>0.0</td>\n",
       "      <td>0.0</td>\n",
       "      <td>0.0</td>\n",
       "      <td>0.0</td>\n",
       "      <td>0.0</td>\n",
       "      <td>0.0</td>\n",
       "      <td>0.0</td>\n",
       "      <td>0.0</td>\n",
       "      <td>0.0</td>\n",
       "    </tr>\n",
       "    <tr>\n",
       "      <th>2</th>\n",
       "      <td>13.461250</td>\n",
       "      <td>46.447917</td>\n",
       "      <td>27.211250</td>\n",
       "      <td>17.163625</td>\n",
       "      <td>259.121375</td>\n",
       "      <td>138.387000</td>\n",
       "      <td>0.0</td>\n",
       "      <td>1.0</td>\n",
       "      <td>0.0</td>\n",
       "      <td>0.0</td>\n",
       "      <td>...</td>\n",
       "      <td>0.0</td>\n",
       "      <td>0.0</td>\n",
       "      <td>0.0</td>\n",
       "      <td>0.0</td>\n",
       "      <td>0.0</td>\n",
       "      <td>0.0</td>\n",
       "      <td>0.0</td>\n",
       "      <td>0.0</td>\n",
       "      <td>0.0</td>\n",
       "      <td>0.0</td>\n",
       "    </tr>\n",
       "    <tr>\n",
       "      <th>3</th>\n",
       "      <td>13.532083</td>\n",
       "      <td>40.979583</td>\n",
       "      <td>28.335708</td>\n",
       "      <td>19.591167</td>\n",
       "      <td>279.779167</td>\n",
       "      <td>176.382667</td>\n",
       "      <td>0.0</td>\n",
       "      <td>0.0</td>\n",
       "      <td>0.0</td>\n",
       "      <td>0.0</td>\n",
       "      <td>...</td>\n",
       "      <td>0.0</td>\n",
       "      <td>0.0</td>\n",
       "      <td>0.0</td>\n",
       "      <td>0.0</td>\n",
       "      <td>0.0</td>\n",
       "      <td>0.0</td>\n",
       "      <td>0.0</td>\n",
       "      <td>0.0</td>\n",
       "      <td>0.0</td>\n",
       "      <td>0.0</td>\n",
       "    </tr>\n",
       "    <tr>\n",
       "      <th>4</th>\n",
       "      <td>13.216250</td>\n",
       "      <td>38.260417</td>\n",
       "      <td>74.329167</td>\n",
       "      <td>65.138333</td>\n",
       "      <td>264.687500</td>\n",
       "      <td>27.791292</td>\n",
       "      <td>0.0</td>\n",
       "      <td>1.0</td>\n",
       "      <td>0.0</td>\n",
       "      <td>0.0</td>\n",
       "      <td>...</td>\n",
       "      <td>0.0</td>\n",
       "      <td>0.0</td>\n",
       "      <td>0.0</td>\n",
       "      <td>0.0</td>\n",
       "      <td>0.0</td>\n",
       "      <td>0.0</td>\n",
       "      <td>0.0</td>\n",
       "      <td>0.0</td>\n",
       "      <td>0.0</td>\n",
       "      <td>0.0</td>\n",
       "    </tr>\n",
       "  </tbody>\n",
       "</table>\n",
       "<p>5 rows × 28 columns</p>\n",
       "</div>"
      ],
      "text/plain": [
       "   Battery Voltage AVG  Temperature AVG  Relative Humidity AVG  \\\n",
       "0            13.643750        26.321667              19.715000   \n",
       "1            13.749583        31.300000              21.690708   \n",
       "2            13.461250        46.447917              27.211250   \n",
       "3            13.532083        40.979583              28.335708   \n",
       "4            13.216250        38.260417              74.329167   \n",
       "\n",
       "   Wind Speed Daily AVG  Wind Direction AVG  Solare Radiation AVG  \\\n",
       "0             27.839583           68.004167             88.496250   \n",
       "1              2.245833          117.549667             93.660417   \n",
       "2             17.163625          259.121375            138.387000   \n",
       "3             19.591167          279.779167            176.382667   \n",
       "4             65.138333          264.687500             27.791292   \n",
       "\n",
       "   Curtis RIngraham Directge  Disappointment Cleaver  Emmons-Winthrop  \\\n",
       "0                        0.0                     1.0              0.0   \n",
       "1                        0.0                     1.0              0.0   \n",
       "2                        0.0                     1.0              0.0   \n",
       "3                        0.0                     0.0              0.0   \n",
       "4                        0.0                     1.0              0.0   \n",
       "\n",
       "   Fuhrer's Finger  ...  Mowich Face  Nisqually Glacier  \\\n",
       "0              0.0  ...          0.0                0.0   \n",
       "1              0.0  ...          0.0                0.0   \n",
       "2              0.0  ...          0.0                0.0   \n",
       "3              0.0  ...          0.0                0.0   \n",
       "4              0.0  ...          0.0                0.0   \n",
       "\n",
       "   Ptarmigan RIngraham Directge  Success Cleaver  Sunset RIngraham Directge  \\\n",
       "0                           0.0              0.0                        0.0   \n",
       "1                           0.0              0.0                        0.0   \n",
       "2                           0.0              0.0                        0.0   \n",
       "3                           0.0              0.0                        0.0   \n",
       "4                           0.0              0.0                        0.0   \n",
       "\n",
       "   Tahoma Cleaver  Tahoma Glacier  Unknown  Wilson Headwall  \\\n",
       "0             0.0             0.0      0.0              0.0   \n",
       "1             0.0             0.0      0.0              0.0   \n",
       "2             0.0             0.0      0.0              0.0   \n",
       "3             0.0             0.0      0.0              0.0   \n",
       "4             0.0             0.0      0.0              0.0   \n",
       "\n",
       "   glacier only - no summit attempt  \n",
       "0                               0.0  \n",
       "1                               0.0  \n",
       "2                               0.0  \n",
       "3                               0.0  \n",
       "4                               0.0  \n",
       "\n",
       "[5 rows x 28 columns]"
      ]
     },
     "execution_count": 28,
     "metadata": {},
     "output_type": "execute_result"
    }
   ],
   "source": [
    "mtrainier_features_default_df.head()"
   ]
  },
  {
   "cell_type": "code",
   "execution_count": 29,
   "id": "30594c55",
   "metadata": {},
   "outputs": [],
   "source": [
    "mtrainier_no_route_df = mtrainier_features_final_df.iloc[:, 0:6]"
   ]
  },
  {
   "cell_type": "code",
   "execution_count": 30,
   "id": "d129f3bd",
   "metadata": {},
   "outputs": [
    {
     "data": {
      "text/plain": [
       "Index(['Battery Voltage AVG', 'Temperature AVG', 'Relative Humidity AVG',\n",
       "       'Wind Speed Daily AVG', 'Wind Direction AVG', 'Solare Radiation AVG',\n",
       "       'Curtis RIngraham Directge', 'Disappointment Cleaver',\n",
       "       'Emmons-Winthrop', 'Fuhrer's Finger', 'Fuhrers Finger',\n",
       "       'Gibralter Chute', 'Gibralter Ledges', 'Ingraham Direct',\n",
       "       'Kautz Cleaver', 'Kautz Glacier', 'Liberty RIngraham Directge',\n",
       "       'Little Tahoma', 'Mowich Face', 'Nisqually Glacier',\n",
       "       'Ptarmigan RIngraham Directge', 'Success Cleaver',\n",
       "       'Sunset RIngraham Directge', 'Tahoma Cleaver', 'Tahoma Glacier',\n",
       "       'Unknown', 'Wilson Headwall', 'glacier only - no summit attempt'],\n",
       "      dtype='object')"
      ]
     },
     "execution_count": 30,
     "metadata": {},
     "output_type": "execute_result"
    }
   ],
   "source": [
    "mtrainier_features_default_df.columns"
   ]
  },
  {
   "cell_type": "code",
   "execution_count": 31,
   "id": "289b7cac",
   "metadata": {},
   "outputs": [
    {
     "data": {
      "text/plain": [
       "{0.0, 1.0}"
      ]
     },
     "execution_count": 31,
     "metadata": {},
     "output_type": "execute_result"
    }
   ],
   "source": [
    "set(mtrainier_features_default_df['Unknown'])"
   ]
  },
  {
   "cell_type": "code",
   "execution_count": 32,
   "id": "c899492c",
   "metadata": {},
   "outputs": [
    {
     "data": {
      "text/plain": [
       "0.0    0.999472\n",
       "1.0    0.000528\n",
       "Name: Unknown, dtype: float64"
      ]
     },
     "execution_count": 32,
     "metadata": {},
     "output_type": "execute_result"
    }
   ],
   "source": [
    "mtrainier_features_default_df['Unknown'].value_counts(1) "
   ]
  },
  {
   "cell_type": "code",
   "execution_count": 33,
   "id": "26302a11",
   "metadata": {},
   "outputs": [
    {
     "data": {
      "text/plain": [
       "0.0    0.986807\n",
       "1.0    0.013193\n",
       "Name: glacier only - no summit attempt, dtype: float64"
      ]
     },
     "execution_count": 33,
     "metadata": {},
     "output_type": "execute_result"
    }
   ],
   "source": [
    "mtrainier_features_default_df['glacier only - no summit attempt'].value_counts(1)"
   ]
  },
  {
   "cell_type": "markdown",
   "id": "362e033e",
   "metadata": {},
   "source": [
    "It seems like these columns for route - one-hot encodings were meant to be unsuccessful which thus makes prediction accuracy hard for models. "
   ]
  },
  {
   "cell_type": "code",
   "execution_count": 34,
   "id": "6544178d",
   "metadata": {},
   "outputs": [],
   "source": [
    "mtrainier_removed_df = mtrainier_features_final_df.drop(columns=['Unknown', 'glacier only - no summit attempt'])"
   ]
  },
  {
   "cell_type": "markdown",
   "id": "d68b5a9e",
   "metadata": {},
   "source": [
    "----"
   ]
  },
  {
   "cell_type": "markdown",
   "id": "95e5139f",
   "metadata": {},
   "source": [
    "To make things less confusing, I will be putting all the dataframes and files that we will use later right here. \n",
    "\n",
    "- **mtrainier_labels_df** &harr; (Labels from original mtrainier_df[\"Succeeded\"])\n",
    "- **mtrainier_features_df** &harr; (Features from original mtrainier_df without one-hot encoding for \"Route\")\n",
    "- **mtrainier_features_final_df**  &harr; (Features that have one-hot encoding applied + Standard Scaling)\n",
    "- **mtrainier_features_minmax_df**  &harr; (Features that have one-hot encoding applied + MinMax Scaling)\n",
    "- **mtrainier_features_default_df**  &harr; (Features that have one-hot encoding applied - no scaling)\n",
    "- **mtrainier_features_backup.pkl**  &harr; (Backup pkl file that saved mtrainier_features_final_df before Standard Scaling) \n",
    "- **mtrainier_no_route_df** &harr; (Features without \"Route\" + Standard Scaling)\n",
    "- **mtrainier_removed_df** &harr; (Features without \"glacier only - no summit attempt\" and \"Unknown\")\n"
   ]
  },
  {
   "cell_type": "markdown",
   "id": "c711328e",
   "metadata": {},
   "source": [
    "## 2. Defining Classifiers "
   ]
  },
  {
   "cell_type": "markdown",
   "id": "1f912572",
   "metadata": {},
   "source": [
    "In Assignment 3, I used code from Lab 5 which I will now be updating with code from my submission of Lab 6. "
   ]
  },
  {
   "cell_type": "code",
   "execution_count": 35,
   "id": "5aa2b949",
   "metadata": {},
   "outputs": [
    {
     "name": "stdout",
     "output_type": "stream",
     "text": [
      "We are working with classifiers dict_keys(['lr', 'svm', 'decision_tree', 'random_forest', 'grad_boost', 'voting'])\n"
     ]
    }
   ],
   "source": [
    "from sklearn.linear_model import LogisticRegression\n",
    "from sklearn.svm import SVC\n",
    "from sklearn.tree import DecisionTreeClassifier\n",
    "from sklearn.ensemble import RandomForestClassifier, GradientBoostingClassifier, VotingClassifier\n",
    "#Ensemble methods try to combine multiple models to improve accuracy. \n",
    "\n",
    "\n",
    "lr_vanilla = LogisticRegression(penalty= \"none\")  #penalty=\"none\" depending on your sklearn version\n",
    "svm_linear = SVC(kernel=\"linear\")\n",
    "dt = DecisionTreeClassifier()\n",
    "rf = RandomForestClassifier(random_state=23) # some random seed for reproducibility\n",
    "grad_boost = GradientBoostingClassifier()\n",
    "voting = VotingClassifier(estimators=[(\"1\",lr_vanilla),(\"2\",svm_linear),(\"3\",dt)])\n",
    "\n",
    "all_models = {\"lr\":lr_vanilla, \n",
    "              \"svm\":svm_linear,\n",
    "              \"decision_tree\":dt,\n",
    "              \"random_forest\":rf,\n",
    "              \"grad_boost\":grad_boost,\n",
    "              \"voting\":voting}\n",
    "\n",
    "print (f\"We are working with classifiers {all_models.keys()}\")"
   ]
  },
  {
   "cell_type": "markdown",
   "id": "ea079c73",
   "metadata": {},
   "source": [
    "-----"
   ]
  },
  {
   "cell_type": "markdown",
   "id": "d372b50a",
   "metadata": {},
   "source": [
    "From earlier, I expressed my interest in tinkering around with modifying the dataframe to see if I could approve accuracy in model prediction. \n",
    "\\\n",
    "\\\n",
    "For reference:\n",
    "1. Standard Scaling\n",
    "2. MinMax Scaling\n",
    "3. Removing \"glacier only - no summit attempt\" and \"Unknown\" (Both of these features equate to an almost 100% non success rate for climbing Mt. Rainier)\n",
    "4. Taking away the 'Route' feature entirely before feature ablation (removing all 22 one-hot encoding features)\n",
    "5. Feature Ablation for all 22 one-hot encoding features when doing feature ablation normally with the rest of the features. "
   ]
  },
  {
   "cell_type": "markdown",
   "id": "dcae28f5",
   "metadata": {},
   "source": [
    "## Data Splitting and Cross-Validation"
   ]
  },
  {
   "cell_type": "markdown",
   "id": "72f2f7e7",
   "metadata": {},
   "source": [
    "### 1. Let's Start with Standard Scaling "
   ]
  },
  {
   "cell_type": "code",
   "execution_count": 36,
   "id": "6ff7b895",
   "metadata": {
    "scrolled": false
   },
   "outputs": [
    {
     "name": "stderr",
     "output_type": "stream",
     "text": [
      "/Users/wolfpack/opt/anaconda3/lib/python3.9/site-packages/sklearn/linear_model/_logistic.py:444: ConvergenceWarning: lbfgs failed to converge (status=1):\n",
      "STOP: TOTAL NO. of ITERATIONS REACHED LIMIT.\n",
      "\n",
      "Increase the number of iterations (max_iter) or scale the data as shown in:\n",
      "    https://scikit-learn.org/stable/modules/preprocessing.html\n",
      "Please also refer to the documentation for alternative solver options:\n",
      "    https://scikit-learn.org/stable/modules/linear_model.html#logistic-regression\n",
      "  n_iter_i = _check_optimize_result(\n",
      "/Users/wolfpack/opt/anaconda3/lib/python3.9/site-packages/sklearn/linear_model/_logistic.py:444: ConvergenceWarning: lbfgs failed to converge (status=1):\n",
      "STOP: TOTAL NO. of ITERATIONS REACHED LIMIT.\n",
      "\n",
      "Increase the number of iterations (max_iter) or scale the data as shown in:\n",
      "    https://scikit-learn.org/stable/modules/preprocessing.html\n",
      "Please also refer to the documentation for alternative solver options:\n",
      "    https://scikit-learn.org/stable/modules/linear_model.html#logistic-regression\n",
      "  n_iter_i = _check_optimize_result(\n",
      "/Users/wolfpack/opt/anaconda3/lib/python3.9/site-packages/sklearn/linear_model/_logistic.py:444: ConvergenceWarning: lbfgs failed to converge (status=1):\n",
      "STOP: TOTAL NO. of ITERATIONS REACHED LIMIT.\n",
      "\n",
      "Increase the number of iterations (max_iter) or scale the data as shown in:\n",
      "    https://scikit-learn.org/stable/modules/preprocessing.html\n",
      "Please also refer to the documentation for alternative solver options:\n",
      "    https://scikit-learn.org/stable/modules/linear_model.html#logistic-regression\n",
      "  n_iter_i = _check_optimize_result(\n",
      "/Users/wolfpack/opt/anaconda3/lib/python3.9/site-packages/sklearn/linear_model/_logistic.py:444: ConvergenceWarning: lbfgs failed to converge (status=1):\n",
      "STOP: TOTAL NO. of ITERATIONS REACHED LIMIT.\n",
      "\n",
      "Increase the number of iterations (max_iter) or scale the data as shown in:\n",
      "    https://scikit-learn.org/stable/modules/preprocessing.html\n",
      "Please also refer to the documentation for alternative solver options:\n",
      "    https://scikit-learn.org/stable/modules/linear_model.html#logistic-regression\n",
      "  n_iter_i = _check_optimize_result(\n",
      "/Users/wolfpack/opt/anaconda3/lib/python3.9/site-packages/sklearn/linear_model/_logistic.py:444: ConvergenceWarning: lbfgs failed to converge (status=1):\n",
      "STOP: TOTAL NO. of ITERATIONS REACHED LIMIT.\n",
      "\n",
      "Increase the number of iterations (max_iter) or scale the data as shown in:\n",
      "    https://scikit-learn.org/stable/modules/preprocessing.html\n",
      "Please also refer to the documentation for alternative solver options:\n",
      "    https://scikit-learn.org/stable/modules/linear_model.html#logistic-regression\n",
      "  n_iter_i = _check_optimize_result(\n",
      "/Users/wolfpack/opt/anaconda3/lib/python3.9/site-packages/sklearn/linear_model/_logistic.py:444: ConvergenceWarning: lbfgs failed to converge (status=1):\n",
      "STOP: TOTAL NO. of ITERATIONS REACHED LIMIT.\n",
      "\n",
      "Increase the number of iterations (max_iter) or scale the data as shown in:\n",
      "    https://scikit-learn.org/stable/modules/preprocessing.html\n",
      "Please also refer to the documentation for alternative solver options:\n",
      "    https://scikit-learn.org/stable/modules/linear_model.html#logistic-regression\n",
      "  n_iter_i = _check_optimize_result(\n",
      "/Users/wolfpack/opt/anaconda3/lib/python3.9/site-packages/sklearn/linear_model/_logistic.py:444: ConvergenceWarning: lbfgs failed to converge (status=1):\n",
      "STOP: TOTAL NO. of ITERATIONS REACHED LIMIT.\n",
      "\n",
      "Increase the number of iterations (max_iter) or scale the data as shown in:\n",
      "    https://scikit-learn.org/stable/modules/preprocessing.html\n",
      "Please also refer to the documentation for alternative solver options:\n",
      "    https://scikit-learn.org/stable/modules/linear_model.html#logistic-regression\n",
      "  n_iter_i = _check_optimize_result(\n",
      "/Users/wolfpack/opt/anaconda3/lib/python3.9/site-packages/sklearn/linear_model/_logistic.py:444: ConvergenceWarning: lbfgs failed to converge (status=1):\n",
      "STOP: TOTAL NO. of ITERATIONS REACHED LIMIT.\n",
      "\n",
      "Increase the number of iterations (max_iter) or scale the data as shown in:\n",
      "    https://scikit-learn.org/stable/modules/preprocessing.html\n",
      "Please also refer to the documentation for alternative solver options:\n",
      "    https://scikit-learn.org/stable/modules/linear_model.html#logistic-regression\n",
      "  n_iter_i = _check_optimize_result(\n",
      "/Users/wolfpack/opt/anaconda3/lib/python3.9/site-packages/sklearn/linear_model/_logistic.py:444: ConvergenceWarning: lbfgs failed to converge (status=1):\n",
      "STOP: TOTAL NO. of ITERATIONS REACHED LIMIT.\n",
      "\n",
      "Increase the number of iterations (max_iter) or scale the data as shown in:\n",
      "    https://scikit-learn.org/stable/modules/preprocessing.html\n",
      "Please also refer to the documentation for alternative solver options:\n",
      "    https://scikit-learn.org/stable/modules/linear_model.html#logistic-regression\n",
      "  n_iter_i = _check_optimize_result(\n",
      "/Users/wolfpack/opt/anaconda3/lib/python3.9/site-packages/sklearn/linear_model/_logistic.py:444: ConvergenceWarning: lbfgs failed to converge (status=1):\n",
      "STOP: TOTAL NO. of ITERATIONS REACHED LIMIT.\n",
      "\n",
      "Increase the number of iterations (max_iter) or scale the data as shown in:\n",
      "    https://scikit-learn.org/stable/modules/preprocessing.html\n",
      "Please also refer to the documentation for alternative solver options:\n",
      "    https://scikit-learn.org/stable/modules/linear_model.html#logistic-regression\n",
      "  n_iter_i = _check_optimize_result(\n"
     ]
    },
    {
     "name": "stdout",
     "output_type": "stream",
     "text": [
      "Mean cross validation accuracy for model lr = 0.6293257653938769\n",
      "Mean cross validation accuracy for model svm = 0.6175988992088064\n",
      "Mean cross validation accuracy for model decision_tree = 0.6076298589611283\n",
      "Mean cross validation accuracy for model random_forest = 0.634031647746818\n",
      "Mean cross validation accuracy for model grad_boost = 0.6340591675266598\n"
     ]
    },
    {
     "name": "stderr",
     "output_type": "stream",
     "text": [
      "/Users/wolfpack/opt/anaconda3/lib/python3.9/site-packages/sklearn/linear_model/_logistic.py:444: ConvergenceWarning: lbfgs failed to converge (status=1):\n",
      "STOP: TOTAL NO. of ITERATIONS REACHED LIMIT.\n",
      "\n",
      "Increase the number of iterations (max_iter) or scale the data as shown in:\n",
      "    https://scikit-learn.org/stable/modules/preprocessing.html\n",
      "Please also refer to the documentation for alternative solver options:\n",
      "    https://scikit-learn.org/stable/modules/linear_model.html#logistic-regression\n",
      "  n_iter_i = _check_optimize_result(\n",
      "/Users/wolfpack/opt/anaconda3/lib/python3.9/site-packages/sklearn/linear_model/_logistic.py:444: ConvergenceWarning: lbfgs failed to converge (status=1):\n",
      "STOP: TOTAL NO. of ITERATIONS REACHED LIMIT.\n",
      "\n",
      "Increase the number of iterations (max_iter) or scale the data as shown in:\n",
      "    https://scikit-learn.org/stable/modules/preprocessing.html\n",
      "Please also refer to the documentation for alternative solver options:\n",
      "    https://scikit-learn.org/stable/modules/linear_model.html#logistic-regression\n",
      "  n_iter_i = _check_optimize_result(\n",
      "/Users/wolfpack/opt/anaconda3/lib/python3.9/site-packages/sklearn/linear_model/_logistic.py:444: ConvergenceWarning: lbfgs failed to converge (status=1):\n",
      "STOP: TOTAL NO. of ITERATIONS REACHED LIMIT.\n",
      "\n",
      "Increase the number of iterations (max_iter) or scale the data as shown in:\n",
      "    https://scikit-learn.org/stable/modules/preprocessing.html\n",
      "Please also refer to the documentation for alternative solver options:\n",
      "    https://scikit-learn.org/stable/modules/linear_model.html#logistic-regression\n",
      "  n_iter_i = _check_optimize_result(\n",
      "/Users/wolfpack/opt/anaconda3/lib/python3.9/site-packages/sklearn/linear_model/_logistic.py:444: ConvergenceWarning: lbfgs failed to converge (status=1):\n",
      "STOP: TOTAL NO. of ITERATIONS REACHED LIMIT.\n",
      "\n",
      "Increase the number of iterations (max_iter) or scale the data as shown in:\n",
      "    https://scikit-learn.org/stable/modules/preprocessing.html\n",
      "Please also refer to the documentation for alternative solver options:\n",
      "    https://scikit-learn.org/stable/modules/linear_model.html#logistic-regression\n",
      "  n_iter_i = _check_optimize_result(\n",
      "/Users/wolfpack/opt/anaconda3/lib/python3.9/site-packages/sklearn/linear_model/_logistic.py:444: ConvergenceWarning: lbfgs failed to converge (status=1):\n",
      "STOP: TOTAL NO. of ITERATIONS REACHED LIMIT.\n",
      "\n",
      "Increase the number of iterations (max_iter) or scale the data as shown in:\n",
      "    https://scikit-learn.org/stable/modules/preprocessing.html\n",
      "Please also refer to the documentation for alternative solver options:\n",
      "    https://scikit-learn.org/stable/modules/linear_model.html#logistic-regression\n",
      "  n_iter_i = _check_optimize_result(\n",
      "/Users/wolfpack/opt/anaconda3/lib/python3.9/site-packages/sklearn/linear_model/_logistic.py:444: ConvergenceWarning: lbfgs failed to converge (status=1):\n",
      "STOP: TOTAL NO. of ITERATIONS REACHED LIMIT.\n",
      "\n",
      "Increase the number of iterations (max_iter) or scale the data as shown in:\n",
      "    https://scikit-learn.org/stable/modules/preprocessing.html\n",
      "Please also refer to the documentation for alternative solver options:\n",
      "    https://scikit-learn.org/stable/modules/linear_model.html#logistic-regression\n",
      "  n_iter_i = _check_optimize_result(\n",
      "/Users/wolfpack/opt/anaconda3/lib/python3.9/site-packages/sklearn/linear_model/_logistic.py:444: ConvergenceWarning: lbfgs failed to converge (status=1):\n",
      "STOP: TOTAL NO. of ITERATIONS REACHED LIMIT.\n",
      "\n",
      "Increase the number of iterations (max_iter) or scale the data as shown in:\n",
      "    https://scikit-learn.org/stable/modules/preprocessing.html\n",
      "Please also refer to the documentation for alternative solver options:\n",
      "    https://scikit-learn.org/stable/modules/linear_model.html#logistic-regression\n",
      "  n_iter_i = _check_optimize_result(\n",
      "/Users/wolfpack/opt/anaconda3/lib/python3.9/site-packages/sklearn/linear_model/_logistic.py:444: ConvergenceWarning: lbfgs failed to converge (status=1):\n",
      "STOP: TOTAL NO. of ITERATIONS REACHED LIMIT.\n",
      "\n",
      "Increase the number of iterations (max_iter) or scale the data as shown in:\n",
      "    https://scikit-learn.org/stable/modules/preprocessing.html\n",
      "Please also refer to the documentation for alternative solver options:\n",
      "    https://scikit-learn.org/stable/modules/linear_model.html#logistic-regression\n",
      "  n_iter_i = _check_optimize_result(\n",
      "/Users/wolfpack/opt/anaconda3/lib/python3.9/site-packages/sklearn/linear_model/_logistic.py:444: ConvergenceWarning: lbfgs failed to converge (status=1):\n",
      "STOP: TOTAL NO. of ITERATIONS REACHED LIMIT.\n",
      "\n",
      "Increase the number of iterations (max_iter) or scale the data as shown in:\n",
      "    https://scikit-learn.org/stable/modules/preprocessing.html\n",
      "Please also refer to the documentation for alternative solver options:\n",
      "    https://scikit-learn.org/stable/modules/linear_model.html#logistic-regression\n",
      "  n_iter_i = _check_optimize_result(\n",
      "/Users/wolfpack/opt/anaconda3/lib/python3.9/site-packages/sklearn/linear_model/_logistic.py:444: ConvergenceWarning: lbfgs failed to converge (status=1):\n",
      "STOP: TOTAL NO. of ITERATIONS REACHED LIMIT.\n",
      "\n",
      "Increase the number of iterations (max_iter) or scale the data as shown in:\n",
      "    https://scikit-learn.org/stable/modules/preprocessing.html\n",
      "Please also refer to the documentation for alternative solver options:\n",
      "    https://scikit-learn.org/stable/modules/linear_model.html#logistic-regression\n",
      "  n_iter_i = _check_optimize_result(\n"
     ]
    },
    {
     "name": "stdout",
     "output_type": "stream",
     "text": [
      "Mean cross validation accuracy for model voting = 0.6328551771585827\n",
      "Best model is grad_boost with 10-fold accuracy of 0.6340591675266598\n"
     ]
    }
   ],
   "source": [
    "from sklearn.model_selection import train_test_split\n",
    "from sklearn.model_selection import cross_val_score\n",
    "\n",
    "features = mtrainier_features_final_df.to_numpy()\n",
    "labels = mtrainier_labels_df.to_numpy()\n",
    "\n",
    "_x, x_test, _y, y_test = train_test_split(features, labels, test_size=0.10, random_state=42)\n",
    "\n",
    "k = 10\n",
    "\n",
    "# We can use sklearn's cross validation score directly\n",
    "# We can speed up training using n_jobs parameter which specifies how many cpu_cores to use\n",
    "\n",
    "best_model_name = \"\"\n",
    "best_model_valid_accuracy = 0\n",
    "best_model = \"None\"\n",
    "\n",
    "for model_name in all_models.keys():\n",
    "    model = all_models[model_name]\n",
    "    cv_scores = cross_val_score(model,_x,_y.flatten(), cv=k, n_jobs=4)\n",
    "    average_cv_score = cv_scores.mean()\n",
    "    print (f\"Mean cross validation accuracy for model {model_name} = {average_cv_score}\")\n",
    "\n",
    "    if average_cv_score > best_model_valid_accuracy :\n",
    "        best_model_name = model_name\n",
    "        best_model_valid_accuracy  = average_cv_score\n",
    "        best_model = model\n",
    "\n",
    "print (f\"Best model is {best_model_name} with {k}-fold accuracy of {best_model_valid_accuracy}\")"
   ]
  },
  {
   "cell_type": "code",
   "execution_count": 37,
   "id": "04dcc10d",
   "metadata": {},
   "outputs": [
    {
     "data": {
      "text/html": [
       "<style>#sk-container-id-2 {color: black;background-color: white;}#sk-container-id-2 pre{padding: 0;}#sk-container-id-2 div.sk-toggleable {background-color: white;}#sk-container-id-2 label.sk-toggleable__label {cursor: pointer;display: block;width: 100%;margin-bottom: 0;padding: 0.3em;box-sizing: border-box;text-align: center;}#sk-container-id-2 label.sk-toggleable__label-arrow:before {content: \"▸\";float: left;margin-right: 0.25em;color: #696969;}#sk-container-id-2 label.sk-toggleable__label-arrow:hover:before {color: black;}#sk-container-id-2 div.sk-estimator:hover label.sk-toggleable__label-arrow:before {color: black;}#sk-container-id-2 div.sk-toggleable__content {max-height: 0;max-width: 0;overflow: hidden;text-align: left;background-color: #f0f8ff;}#sk-container-id-2 div.sk-toggleable__content pre {margin: 0.2em;color: black;border-radius: 0.25em;background-color: #f0f8ff;}#sk-container-id-2 input.sk-toggleable__control:checked~div.sk-toggleable__content {max-height: 200px;max-width: 100%;overflow: auto;}#sk-container-id-2 input.sk-toggleable__control:checked~label.sk-toggleable__label-arrow:before {content: \"▾\";}#sk-container-id-2 div.sk-estimator input.sk-toggleable__control:checked~label.sk-toggleable__label {background-color: #d4ebff;}#sk-container-id-2 div.sk-label input.sk-toggleable__control:checked~label.sk-toggleable__label {background-color: #d4ebff;}#sk-container-id-2 input.sk-hidden--visually {border: 0;clip: rect(1px 1px 1px 1px);clip: rect(1px, 1px, 1px, 1px);height: 1px;margin: -1px;overflow: hidden;padding: 0;position: absolute;width: 1px;}#sk-container-id-2 div.sk-estimator {font-family: monospace;background-color: #f0f8ff;border: 1px dotted black;border-radius: 0.25em;box-sizing: border-box;margin-bottom: 0.5em;}#sk-container-id-2 div.sk-estimator:hover {background-color: #d4ebff;}#sk-container-id-2 div.sk-parallel-item::after {content: \"\";width: 100%;border-bottom: 1px solid gray;flex-grow: 1;}#sk-container-id-2 div.sk-label:hover label.sk-toggleable__label {background-color: #d4ebff;}#sk-container-id-2 div.sk-serial::before {content: \"\";position: absolute;border-left: 1px solid gray;box-sizing: border-box;top: 0;bottom: 0;left: 50%;z-index: 0;}#sk-container-id-2 div.sk-serial {display: flex;flex-direction: column;align-items: center;background-color: white;padding-right: 0.2em;padding-left: 0.2em;position: relative;}#sk-container-id-2 div.sk-item {position: relative;z-index: 1;}#sk-container-id-2 div.sk-parallel {display: flex;align-items: stretch;justify-content: center;background-color: white;position: relative;}#sk-container-id-2 div.sk-item::before, #sk-container-id-2 div.sk-parallel-item::before {content: \"\";position: absolute;border-left: 1px solid gray;box-sizing: border-box;top: 0;bottom: 0;left: 50%;z-index: -1;}#sk-container-id-2 div.sk-parallel-item {display: flex;flex-direction: column;z-index: 1;position: relative;background-color: white;}#sk-container-id-2 div.sk-parallel-item:first-child::after {align-self: flex-end;width: 50%;}#sk-container-id-2 div.sk-parallel-item:last-child::after {align-self: flex-start;width: 50%;}#sk-container-id-2 div.sk-parallel-item:only-child::after {width: 0;}#sk-container-id-2 div.sk-dashed-wrapped {border: 1px dashed gray;margin: 0 0.4em 0.5em 0.4em;box-sizing: border-box;padding-bottom: 0.4em;background-color: white;}#sk-container-id-2 div.sk-label label {font-family: monospace;font-weight: bold;display: inline-block;line-height: 1.2em;}#sk-container-id-2 div.sk-label-container {text-align: center;}#sk-container-id-2 div.sk-container {/* jupyter's `normalize.less` sets `[hidden] { display: none; }` but bootstrap.min.css set `[hidden] { display: none !important; }` so we also need the `!important` here to be able to override the default hidden behavior on the sphinx rendered scikit-learn.org. See: https://github.com/scikit-learn/scikit-learn/issues/21755 */display: inline-block !important;position: relative;}#sk-container-id-2 div.sk-text-repr-fallback {display: none;}</style><div id=\"sk-container-id-2\" class=\"sk-top-container\"><div class=\"sk-text-repr-fallback\"><pre>GradientBoostingClassifier()</pre><b>In a Jupyter environment, please rerun this cell to show the HTML representation or trust the notebook. <br />On GitHub, the HTML representation is unable to render, please try loading this page with nbviewer.org.</b></div><div class=\"sk-container\" hidden><div class=\"sk-item\"><div class=\"sk-estimator sk-toggleable\"><input class=\"sk-toggleable__control sk-hidden--visually\" id=\"sk-estimator-id-2\" type=\"checkbox\" checked><label for=\"sk-estimator-id-2\" class=\"sk-toggleable__label sk-toggleable__label-arrow\">GradientBoostingClassifier</label><div class=\"sk-toggleable__content\"><pre>GradientBoostingClassifier()</pre></div></div></div></div></div>"
      ],
      "text/plain": [
       "GradientBoostingClassifier()"
      ]
     },
     "execution_count": 37,
     "metadata": {},
     "output_type": "execute_result"
    },
    {
     "name": "stdout",
     "output_type": "stream",
     "text": [
      "Test accuracy for model 0.6263157894736842\n"
     ]
    }
   ],
   "source": [
    "from sklearn.metrics import accuracy_score\n",
    "\n",
    "# Let's fit the best model again with train+valid data\n",
    "# This is the model we are gonna ship/deploy to practice\n",
    "\n",
    "best_model.fit(_x,_y.flatten())\n",
    "\n",
    "y_pred_test = best_model.predict(x_test)\n",
    "test_accuracy = accuracy_score(y_pred_test, y_test.flatten())\n",
    "\n",
    "print (f\"Test accuracy for model {test_accuracy}\")"
   ]
  },
  {
   "cell_type": "markdown",
   "id": "e03eb235",
   "metadata": {},
   "source": [
    "For Standard Scaling, the best model is <mark> **grad_boost** with 10-fold accuracy of **0.6340591675266597** and test accuracy for model **0.6263157894736842** </mark>. "
   ]
  },
  {
   "cell_type": "markdown",
   "id": "c1bac661",
   "metadata": {},
   "source": [
    "###  For Standard Scaling, we will run feature abalation. "
   ]
  },
  {
   "cell_type": "code",
   "execution_count": 38,
   "id": "71393340",
   "metadata": {},
   "outputs": [
    {
     "name": "stdout",
     "output_type": "stream",
     "text": [
      "Index(['Battery Voltage AVG', 'Temperature AVG', 'Relative Humidity AVG',\n",
      "       'Wind Speed Daily AVG', 'Wind Direction AVG', 'Solare Radiation AVG',\n",
      "       'Curtis RIngraham Directge', 'Disappointment Cleaver',\n",
      "       'Emmons-Winthrop', 'Fuhrer's Finger', 'Fuhrers Finger',\n",
      "       'Gibralter Chute', 'Gibralter Ledges', 'Ingraham Direct',\n",
      "       'Kautz Cleaver', 'Kautz Glacier', 'Liberty RIngraham Directge',\n",
      "       'Little Tahoma', 'Mowich Face', 'Nisqually Glacier',\n",
      "       'Ptarmigan RIngraham Directge', 'Success Cleaver',\n",
      "       'Sunset RIngraham Directge', 'Tahoma Cleaver', 'Tahoma Glacier',\n",
      "       'Unknown', 'Wilson Headwall', 'glacier only - no summit attempt'],\n",
      "      dtype='object')\n"
     ]
    }
   ],
   "source": [
    "feature_names = mtrainier_features_final_df.columns \n",
    "print(feature_names)"
   ]
  },
  {
   "cell_type": "code",
   "execution_count": 39,
   "id": "8c20b230",
   "metadata": {},
   "outputs": [
    {
     "data": {
      "text/plain": [
       "Index(['Curtis RIngraham Directge', 'Disappointment Cleaver',\n",
       "       'Emmons-Winthrop', 'Fuhrer's Finger', 'Fuhrers Finger',\n",
       "       'Gibralter Chute', 'Gibralter Ledges', 'Ingraham Direct',\n",
       "       'Kautz Cleaver', 'Kautz Glacier', 'Liberty RIngraham Directge',\n",
       "       'Little Tahoma', 'Mowich Face', 'Nisqually Glacier',\n",
       "       'Ptarmigan RIngraham Directge', 'Success Cleaver',\n",
       "       'Sunset RIngraham Directge', 'Tahoma Cleaver', 'Tahoma Glacier',\n",
       "       'Unknown', 'Wilson Headwall', 'glacier only - no summit attempt'],\n",
       "      dtype='object')"
      ]
     },
     "execution_count": 39,
     "metadata": {},
     "output_type": "execute_result"
    }
   ],
   "source": [
    "feature_names[6:28]"
   ]
  },
  {
   "cell_type": "code",
   "execution_count": 40,
   "id": "71401933",
   "metadata": {},
   "outputs": [],
   "source": [
    "x_ablated = np.delete(_x,np.s_[6:28],axis=1)\n"
   ]
  },
  {
   "cell_type": "markdown",
   "id": "c8480475",
   "metadata": {},
   "source": [
    "We want to remove all the routes when trying to remove a categorical column from \"Route\". "
   ]
  },
  {
   "cell_type": "code",
   "execution_count": 41,
   "id": "2817b96f",
   "metadata": {},
   "outputs": [
    {
     "name": "stdout",
     "output_type": "stream",
     "text": [
      "Removing feature Battery Voltage AVG\n",
      "Mean cross validation accuracy = 0.6352356381148951\n",
      "Removing feature Temperature AVG\n",
      "Mean cross validation accuracy = 0.6440282077743378\n",
      "Removing feature Relative Humidity AVG\n",
      "Mean cross validation accuracy = 0.6334640522875817\n",
      "Removing feature Wind Speed Daily AVG\n",
      "Mean cross validation accuracy = 0.6352287581699347\n",
      "Removing feature Wind Direction AVG\n",
      "Mean cross validation accuracy = 0.6399312005503957\n",
      "Removing feature Solare Radiation AVG\n",
      "Mean cross validation accuracy = 0.6399346405228759\n",
      "Removing feature Curtis RIngraham Directge\n",
      "Mean cross validation accuracy = 0.6264396284829722\n"
     ]
    }
   ],
   "source": [
    "# Let's run ablation tests on our best model\n",
    "# You could choose any model to do this test\n",
    "best_model = GradientBoostingClassifier()\n",
    "\n",
    "feature_names = mtrainier_features_final_df.columns \n",
    "\n",
    "# Let's maintain an accuracy dictionary\n",
    "\n",
    "accuracy_drop_log = {\"No ablation\":0}\n",
    "\n",
    "for i in range(len(feature_names)):\n",
    "    # we are going to drop one feature at a time - which includes the entire one-hot encoding key when we do route\n",
    "    feature_name = feature_names[i]\n",
    "    print (f\"Removing feature {feature_name}\")\n",
    "    \n",
    "    #first categorical feature derived from one-hot encoding\n",
    "    if feature_name != 'Curtis RIngraham Directge': \n",
    "        x_ablated = np.delete(_x,i,axis=1) \n",
    "        cv_scores = cross_val_score(best_model,x_ablated,_y.flatten(), cv=k, n_jobs=4)\n",
    "        average_cv_score = cv_scores.mean()\n",
    "        print (f\"Mean cross validation accuracy = {average_cv_score}\")\n",
    "        accuracy_drop_log[feature_name] = best_model_valid_accuracy-average_cv_score\n",
    "    else: #to represent all the routes \n",
    "        x_ablated = np.delete(_x,np.s_[6:28],axis=1)\n",
    "        cv_scores = cross_val_score(best_model,x_ablated,_y.flatten(), cv=k, n_jobs=4)\n",
    "        average_cv_score = cv_scores.mean()\n",
    "        print (f\"Mean cross validation accuracy = {average_cv_score}\")\n",
    "        accuracy_drop_log[feature_name] = best_model_valid_accuracy-average_cv_score\n",
    "        break \n",
    "        \n"
   ]
  },
  {
   "cell_type": "markdown",
   "id": "18da48ba",
   "metadata": {},
   "source": [
    "By seperating the categorical features through an if/else statement, we can break the loop off and delete all the categorical features in one go. "
   ]
  },
  {
   "cell_type": "code",
   "execution_count": 42,
   "id": "1273c6a4",
   "metadata": {},
   "outputs": [
    {
     "data": {
      "text/plain": [
       "<BarContainer object of 8 artists>"
      ]
     },
     "execution_count": 42,
     "metadata": {},
     "output_type": "execute_result"
    },
    {
     "data": {
      "text/plain": [
       "([0, 1, 2, 3, 4, 5, 6, 7],\n",
       " [Text(0, 0, ''),\n",
       "  Text(0, 0, ''),\n",
       "  Text(0, 0, ''),\n",
       "  Text(0, 0, ''),\n",
       "  Text(0, 0, ''),\n",
       "  Text(0, 0, ''),\n",
       "  Text(0, 0, ''),\n",
       "  Text(0, 0, '')])"
      ]
     },
     "execution_count": 42,
     "metadata": {},
     "output_type": "execute_result"
    },
    {
     "data": {
      "image/png": "[encoded data removed]",
      "text/plain": [
       "<Figure size 432x288 with 1 Axes>"
      ]
     },
     "metadata": {
      "needs_background": "light"
     },
     "output_type": "display_data"
    }
   ],
   "source": [
    "from matplotlib import pyplot as plt\n",
    "\n",
    "plt.bar(accuracy_drop_log.keys(), accuracy_drop_log.values(), color=\"maroon\", width = 0.4)\n",
    "plt.xticks(rotation=\"vertical\")"
   ]
  },
  {
   "cell_type": "code",
   "execution_count": 43,
   "id": "d7e5e569",
   "metadata": {},
   "outputs": [
    {
     "name": "stdout",
     "output_type": "stream",
     "text": [
      "Features are ranked from best to worst (based on how removing them impacts the accuracy of grad_boost)\n",
      "**************************************\n",
      "Feature 1.Curtis RIngraham Directge, drop in acc 0.007619539043687618\n",
      "Feature 2.Relative Humidity AVG, drop in acc 0.0005951152390780701\n",
      "Feature 3.Wind Speed Daily AVG, drop in acc -0.0011695906432749315\n",
      "Feature 4.Battery Voltage AVG, drop in acc -0.0011764705882353343\n",
      "Feature 5.Wind Direction AVG, drop in acc -0.005872033023735845\n",
      "Feature 6.Solare Radiation AVG, drop in acc -0.005875472996216047\n",
      "Feature 7.Temperature AVG, drop in acc -0.009969040247677974\n"
     ]
    }
   ],
   "source": [
    "def criteria(l):\n",
    "    return l[1]\n",
    "\n",
    "sorted_accs =  sorted(accuracy_drop_log.items(),key=criteria, reverse=True)\n",
    "\n",
    "print (f\"Features are ranked from best to worst (based on how removing them impacts the accuracy of {best_model_name})\")\n",
    "print (f\"**************************************\")\n",
    "\n",
    "i=1\n",
    "for entry in sorted_accs:\n",
    "    feature_name = entry[0]\n",
    "    acc_drop = entry[1]\n",
    "    \n",
    "    # We do not want to print \"No ablation\"\n",
    "    if feature_name != \"No ablation\":\n",
    "        print (f\"Feature {i}.{feature_name}, drop in acc {acc_drop}\")\n",
    "        i=i+1"
   ]
  },
  {
   "cell_type": "markdown",
   "id": "17a32e04",
   "metadata": {},
   "source": [
    "From here, we can see that the most important feature is \"Curtis RIngraham Directge\" which stands for all the one-hot encoding features. It seems luike Route and Relative Humidity are the most important features in terms of model performance.  "
   ]
  },
  {
   "cell_type": "markdown",
   "id": "552cd2b6",
   "metadata": {},
   "source": [
    "### 2. MinMax Scaling "
   ]
  },
  {
   "cell_type": "code",
   "execution_count": 44,
   "id": "c15d0db2",
   "metadata": {},
   "outputs": [
    {
     "name": "stderr",
     "output_type": "stream",
     "text": [
      "/Users/wolfpack/opt/anaconda3/lib/python3.9/site-packages/sklearn/linear_model/_logistic.py:444: ConvergenceWarning: lbfgs failed to converge (status=1):\n",
      "STOP: TOTAL NO. of ITERATIONS REACHED LIMIT.\n",
      "\n",
      "Increase the number of iterations (max_iter) or scale the data as shown in:\n",
      "    https://scikit-learn.org/stable/modules/preprocessing.html\n",
      "Please also refer to the documentation for alternative solver options:\n",
      "    https://scikit-learn.org/stable/modules/linear_model.html#logistic-regression\n",
      "  n_iter_i = _check_optimize_result(\n",
      "/Users/wolfpack/opt/anaconda3/lib/python3.9/site-packages/sklearn/linear_model/_logistic.py:444: ConvergenceWarning: lbfgs failed to converge (status=1):\n",
      "STOP: TOTAL NO. of ITERATIONS REACHED LIMIT.\n",
      "\n",
      "Increase the number of iterations (max_iter) or scale the data as shown in:\n",
      "    https://scikit-learn.org/stable/modules/preprocessing.html\n",
      "Please also refer to the documentation for alternative solver options:\n",
      "    https://scikit-learn.org/stable/modules/linear_model.html#logistic-regression\n",
      "  n_iter_i = _check_optimize_result(\n",
      "/Users/wolfpack/opt/anaconda3/lib/python3.9/site-packages/sklearn/linear_model/_logistic.py:444: ConvergenceWarning: lbfgs failed to converge (status=1):\n",
      "STOP: TOTAL NO. of ITERATIONS REACHED LIMIT.\n",
      "\n",
      "Increase the number of iterations (max_iter) or scale the data as shown in:\n",
      "    https://scikit-learn.org/stable/modules/preprocessing.html\n",
      "Please also refer to the documentation for alternative solver options:\n",
      "    https://scikit-learn.org/stable/modules/linear_model.html#logistic-regression\n",
      "  n_iter_i = _check_optimize_result(\n",
      "/Users/wolfpack/opt/anaconda3/lib/python3.9/site-packages/sklearn/linear_model/_logistic.py:444: ConvergenceWarning: lbfgs failed to converge (status=1):\n",
      "STOP: TOTAL NO. of ITERATIONS REACHED LIMIT.\n",
      "\n",
      "Increase the number of iterations (max_iter) or scale the data as shown in:\n",
      "    https://scikit-learn.org/stable/modules/preprocessing.html\n",
      "Please also refer to the documentation for alternative solver options:\n",
      "    https://scikit-learn.org/stable/modules/linear_model.html#logistic-regression\n",
      "  n_iter_i = _check_optimize_result(\n",
      "/Users/wolfpack/opt/anaconda3/lib/python3.9/site-packages/sklearn/linear_model/_logistic.py:444: ConvergenceWarning: lbfgs failed to converge (status=1):\n",
      "STOP: TOTAL NO. of ITERATIONS REACHED LIMIT.\n",
      "\n",
      "Increase the number of iterations (max_iter) or scale the data as shown in:\n",
      "    https://scikit-learn.org/stable/modules/preprocessing.html\n",
      "Please also refer to the documentation for alternative solver options:\n",
      "    https://scikit-learn.org/stable/modules/linear_model.html#logistic-regression\n",
      "  n_iter_i = _check_optimize_result(\n",
      "/Users/wolfpack/opt/anaconda3/lib/python3.9/site-packages/sklearn/linear_model/_logistic.py:444: ConvergenceWarning: lbfgs failed to converge (status=1):\n",
      "STOP: TOTAL NO. of ITERATIONS REACHED LIMIT.\n",
      "\n",
      "Increase the number of iterations (max_iter) or scale the data as shown in:\n",
      "    https://scikit-learn.org/stable/modules/preprocessing.html\n",
      "Please also refer to the documentation for alternative solver options:\n",
      "    https://scikit-learn.org/stable/modules/linear_model.html#logistic-regression\n",
      "  n_iter_i = _check_optimize_result(\n",
      "/Users/wolfpack/opt/anaconda3/lib/python3.9/site-packages/sklearn/linear_model/_logistic.py:444: ConvergenceWarning: lbfgs failed to converge (status=1):\n",
      "STOP: TOTAL NO. of ITERATIONS REACHED LIMIT.\n",
      "\n",
      "Increase the number of iterations (max_iter) or scale the data as shown in:\n",
      "    https://scikit-learn.org/stable/modules/preprocessing.html\n",
      "Please also refer to the documentation for alternative solver options:\n",
      "    https://scikit-learn.org/stable/modules/linear_model.html"
     ]
    },
    {
     "name": "stdout",
     "output_type": "stream",
     "text": [
      "Mean cross validation accuracy for model lr = 0.6293257653938769\n"
     ]
    },
    {
     "name": "stderr",
     "output_type": "stream",
     "text": [
      "#logistic-regression\n",
      "  n_iter_i = _check_optimize_result(\n",
      "/Users/wolfpack/opt/anaconda3/lib/python3.9/site-packages/sklearn/linear_model/_logistic.py:444: ConvergenceWarning: lbfgs failed to converge (status=1):\n",
      "STOP: TOTAL NO. of ITERATIONS REACHED LIMIT.\n",
      "\n",
      "Increase the number of iterations (max_iter) or scale the data as shown in:\n",
      "    https://scikit-learn.org/stable/modules/preprocessing.html\n",
      "Please also refer to the documentation for alternative solver options:\n",
      "    https://scikit-learn.org/stable/modules/linear_model.html#logistic-regression\n",
      "  n_iter_i = _check_optimize_result(\n",
      "/Users/wolfpack/opt/anaconda3/lib/python3.9/site-packages/sklearn/linear_model/_logistic.py:444: ConvergenceWarning: lbfgs failed to converge (status=1):\n",
      "STOP: TOTAL NO. of ITERATIONS REACHED LIMIT.\n",
      "\n",
      "Increase the number of iterations (max_iter) or scale the data as shown in:\n",
      "    https://scikit-learn.org/stable/modules/preprocessing.html\n",
      "Please also refer to the documentation for alternative solver options:\n",
      "    https://scikit-learn.org/stable/modules/linear_model.html#logistic-regression\n",
      "  n_iter_i = _check_optimize_result(\n",
      "/Users/wolfpack/opt/anaconda3/lib/python3.9/site-packages/sklearn/linear_model/_logistic.py:444: ConvergenceWarning: lbfgs failed to converge (status=1):\n",
      "STOP: TOTAL NO. of ITERATIONS REACHED LIMIT.\n",
      "\n",
      "Increase the number of iterations (max_iter) or scale the data as shown in:\n",
      "    https://scikit-learn.org/stable/modules/preprocessing.html\n",
      "Please also refer to the documentation for alternative solver options:\n",
      "    https://scikit-learn.org/stable/modules/linear_model.html#logistic-regression\n",
      "  n_iter_i = _check_optimize_result(\n"
     ]
    },
    {
     "name": "stdout",
     "output_type": "stream",
     "text": [
      "Mean cross validation accuracy for model svm = 0.6087994496044031\n",
      "Mean cross validation accuracy for model decision_tree = 0.6076332989336085\n",
      "Mean cross validation accuracy for model random_forest = 0.634031647746818\n",
      "Mean cross validation accuracy for model grad_boost = 0.63406260749914\n"
     ]
    },
    {
     "name": "stderr",
     "output_type": "stream",
     "text": [
      "/Users/wolfpack/opt/anaconda3/lib/python3.9/site-packages/sklearn/linear_model/_logistic.py:444: ConvergenceWarning: lbfgs failed to converge (status=1):\n",
      "STOP: TOTAL NO. of ITERATIONS REACHED LIMIT.\n",
      "\n",
      "Increase the number of iterations (max_iter) or scale the data as shown in:\n",
      "    https://scikit-learn.org/stable/modules/preprocessing.html\n",
      "Please also refer to the documentation for alternative solver options:\n",
      "    https://scikit-learn.org/stable/modules/linear_model.html#logistic-regression\n",
      "  n_iter_i = _check_optimize_result(\n",
      "/Users/wolfpack/opt/anaconda3/lib/python3.9/site-packages/sklearn/linear_model/_logistic.py:444: ConvergenceWarning: lbfgs failed to converge (status=1):\n",
      "STOP: TOTAL NO. of ITERATIONS REACHED LIMIT.\n",
      "\n",
      "Increase the number of iterations (max_iter) or scale the data as shown in:\n",
      "    https://scikit-learn.org/stable/modules/preprocessing.html\n",
      "Please also refer to the documentation for alternative solver options:\n",
      "    https://scikit-learn.org/stable/modules/linear_model.html#logistic-regression\n",
      "  n_iter_i = _check_optimize_result(\n",
      "/Users/wolfpack/opt/anaconda3/lib/python3.9/site-packages/sklearn/linear_model/_logistic.py:444: ConvergenceWarning: lbfgs failed to converge (status=1):\n",
      "STOP: TOTAL NO. of ITERATIONS REACHED LIMIT.\n",
      "\n",
      "Increase the number of iterations (max_iter) or scale the data as shown in:\n",
      "    https://scikit-learn.org/stable/modules/preprocessing.html\n",
      "Please also refer to the documentation for alternative solver options:\n",
      "    https://scikit-learn.org/stable/modules/linear_model.html#logistic-regression\n",
      "  n_iter_i = _check_optimize_result(\n",
      "/Users/wolfpack/opt/anaconda3/lib/python3.9/site-packages/sklearn/linear_model/_logistic.py:444: ConvergenceWarning: lbfgs failed to converge (status=1):\n",
      "STOP: TOTAL NO. of ITERATIONS REACHED LIMIT.\n",
      "\n",
      "Increase the number of iterations (max_iter) or scale the data as shown in:\n",
      "    https://scikit-learn.org/stable/modules/preprocessing.html\n",
      "Please also refer to the documentation for alternative solver options:\n",
      "    https://scikit-learn.org/stable/modules/linear_model.html#logistic-regression\n",
      "  n_iter_i = _check_optimize_result(\n",
      "/Users/wolfpack/opt/anaconda3/lib/python3.9/site-packages/sklearn/linear_model/_logistic.py:444: ConvergenceWarning: lbfgs failed to converge (status=1):\n",
      "STOP: TOTAL NO. of ITERATIONS REACHED LIMIT.\n",
      "\n",
      "Increase the number of iterations (max_iter) or scale the data as shown in:\n",
      "    https://scikit-learn.org/stable/modules/preprocessing.html\n",
      "Please also refer to the documentation for alternative solver options:\n",
      "    https://scikit-learn.org/stable/modules/linear_model.html#logistic-regression\n",
      "  n_iter_i = _check_optimize_result(\n",
      "/Users/wolfpack/opt/anaconda3/lib/python3.9/site-packages/sklearn/linear_model/_logistic.py:444: ConvergenceWarning: lbfgs failed to converge (status=1):\n",
      "STOP: TOTAL NO. of ITERATIONS REACHED LIMIT.\n",
      "\n",
      "Increase the number of iterations (max_iter) or scale the data as shown in:\n",
      "    https://scikit-learn.org/stable/modules/preprocessing.html\n",
      "Please also refer to the documentation for alternative solver options:\n",
      "    https://scikit-learn.org/stable/modules/linear_model.html#logistic-regression\n",
      "  n_iter_i = _check_optimize_result(\n",
      "/Users/wolfpack/opt/anaconda3/lib/python3.9/site-packages/sklearn/linear_model/_logistic.py:444: ConvergenceWarning: lbfgs failed to converge (status=1):\n",
      "STOP: TOTAL NO. of ITERATIONS REACHED LIMIT.\n",
      "\n",
      "Increase the number of iterations (max_iter) or scale the data as shown in:\n",
      "    https://scikit-learn.org/stable/modules/preprocessing.html\n",
      "Please also refer to the documentation for alternative solver options:\n",
      "    https://scikit-learn.org/stable/modules/linear_model.html#logistic-regression\n",
      "  n_iter_i = _check_optimize_result(\n",
      "/Users/wolfpack/opt/anaconda3/lib/python3.9/site-packages/sklearn/linear_model/_logistic.py:444: ConvergenceWarning: lbfgs failed to converge (status=1):\n",
      "STOP: TOTAL NO. of ITERATIONS REACHED LIMIT.\n",
      "\n",
      "Increase the number of iterations (max_iter) or scale the data as shown in:\n",
      "    https://scikit-learn.org/stable/modules/preprocessing.html\n",
      "Please also refer to the documentation for alternative solver options:\n",
      "    https://scikit-learn.org/stable/modules/linear_model.html#logistic-regression\n",
      "  n_iter_i = _check_optimize_result(\n"
     ]
    },
    {
     "name": "stdout",
     "output_type": "stream",
     "text": [
      "Mean cross validation accuracy for model voting = 0.6322738218094257\n",
      "Best model is grad_boost with 10-fold accuracy of 0.63406260749914\n"
     ]
    },
    {
     "name": "stderr",
     "output_type": "stream",
     "text": [
      "/Users/wolfpack/opt/anaconda3/lib/python3.9/site-packages/sklearn/linear_model/_logistic.py:444: ConvergenceWarning: lbfgs failed to converge (status=1):\n",
      "STOP: TOTAL NO. of ITERATIONS REACHED LIMIT.\n",
      "\n",
      "Increase the number of iterations (max_iter) or scale the data as shown in:\n",
      "    https://scikit-learn.org/stable/modules/preprocessing.html\n",
      "Please also refer to the documentation for alternative solver options:\n",
      "    https://scikit-learn.org/stable/modules/linear_model.html#logistic-regression\n",
      "  n_iter_i = _check_optimize_result(\n",
      "/Users/wolfpack/opt/anaconda3/lib/python3.9/site-packages/sklearn/linear_model/_logistic.py:444: ConvergenceWarning: lbfgs failed to converge (status=1):\n",
      "STOP: TOTAL NO. of ITERATIONS REACHED LIMIT.\n",
      "\n",
      "Increase the number of iterations (max_iter) or scale the data as shown in:\n",
      "    https://scikit-learn.org/stable/modules/preprocessing.html\n",
      "Please also refer to the documentation for alternative solver options:\n",
      "    https://scikit-learn.org/stable/modules/linear_model.html#logistic-regression\n",
      "  n_iter_i = _check_optimize_result(\n"
     ]
    }
   ],
   "source": [
    "from sklearn.model_selection import train_test_split\n",
    "from sklearn.model_selection import cross_val_score\n",
    "\n",
    "features = mtrainier_features_minmax_df.to_numpy()\n",
    "labels = mtrainier_labels_df.to_numpy()\n",
    "\n",
    "_x, x_test, _y, y_test = train_test_split(features, labels, test_size=0.10, random_state=42)\n",
    "\n",
    "k = 10\n",
    "\n",
    "# We can use sklearn's cross validation score directly\n",
    "# We can speed up training using n_jobs parameter which specifies how many cpu_cores to use\n",
    "\n",
    "best_model_name = \"\"\n",
    "best_model_valid_accuracy = 0\n",
    "best_model = \"None\"\n",
    "\n",
    "for model_name in all_models.keys():\n",
    "    model = all_models[model_name]\n",
    "    cv_scores = cross_val_score(model,_x,_y.flatten(), cv=k, n_jobs=4)\n",
    "    average_cv_score = cv_scores.mean()\n",
    "    print (f\"Mean cross validation accuracy for model {model_name} = {average_cv_score}\")\n",
    "\n",
    "    if average_cv_score > best_model_valid_accuracy :\n",
    "        best_model_name = model_name\n",
    "        best_model_valid_accuracy  = average_cv_score\n",
    "        best_model = model\n",
    "\n",
    "print (f\"Best model is {best_model_name} with {k}-fold accuracy of {best_model_valid_accuracy}\")"
   ]
  },
  {
   "cell_type": "code",
   "execution_count": 46,
   "id": "a6337d45",
   "metadata": {},
   "outputs": [
    {
     "data": {
      "text/html": [
       "<style>#sk-container-id-3 {color: black;background-color: white;}#sk-container-id-3 pre{padding: 0;}#sk-container-id-3 div.sk-toggleable {background-color: white;}#sk-container-id-3 label.sk-toggleable__label {cursor: pointer;display: block;width: 100%;margin-bottom: 0;padding: 0.3em;box-sizing: border-box;text-align: center;}#sk-container-id-3 label.sk-toggleable__label-arrow:before {content: \"▸\";float: left;margin-right: 0.25em;color: #696969;}#sk-container-id-3 label.sk-toggleable__label-arrow:hover:before {color: black;}#sk-container-id-3 div.sk-estimator:hover label.sk-toggleable__label-arrow:before {color: black;}#sk-container-id-3 div.sk-toggleable__content {max-height: 0;max-width: 0;overflow: hidden;text-align: left;background-color: #f0f8ff;}#sk-container-id-3 div.sk-toggleable__content pre {margin: 0.2em;color: black;border-radius: 0.25em;background-color: #f0f8ff;}#sk-container-id-3 input.sk-toggleable__control:checked~div.sk-toggleable__content {max-height: 200px;max-width: 100%;overflow: auto;}#sk-container-id-3 input.sk-toggleable__control:checked~label.sk-toggleable__label-arrow:before {content: \"▾\";}#sk-container-id-3 div.sk-estimator input.sk-toggleable__control:checked~label.sk-toggleable__label {background-color: #d4ebff;}#sk-container-id-3 div.sk-label input.sk-toggleable__control:checked~label.sk-toggleable__label {background-color: #d4ebff;}#sk-container-id-3 input.sk-hidden--visually {border: 0;clip: rect(1px 1px 1px 1px);clip: rect(1px, 1px, 1px, 1px);height: 1px;margin: -1px;overflow: hidden;padding: 0;position: absolute;width: 1px;}#sk-container-id-3 div.sk-estimator {font-family: monospace;background-color: #f0f8ff;border: 1px dotted black;border-radius: 0.25em;box-sizing: border-box;margin-bottom: 0.5em;}#sk-container-id-3 div.sk-estimator:hover {background-color: #d4ebff;}#sk-container-id-3 div.sk-parallel-item::after {content: \"\";width: 100%;border-bottom: 1px solid gray;flex-grow: 1;}#sk-container-id-3 div.sk-label:hover label.sk-toggleable__label {background-color: #d4ebff;}#sk-container-id-3 div.sk-serial::before {content: \"\";position: absolute;border-left: 1px solid gray;box-sizing: border-box;top: 0;bottom: 0;left: 50%;z-index: 0;}#sk-container-id-3 div.sk-serial {display: flex;flex-direction: column;align-items: center;background-color: white;padding-right: 0.2em;padding-left: 0.2em;position: relative;}#sk-container-id-3 div.sk-item {position: relative;z-index: 1;}#sk-container-id-3 div.sk-parallel {display: flex;align-items: stretch;justify-content: center;background-color: white;position: relative;}#sk-container-id-3 div.sk-item::before, #sk-container-id-3 div.sk-parallel-item::before {content: \"\";position: absolute;border-left: 1px solid gray;box-sizing: border-box;top: 0;bottom: 0;left: 50%;z-index: -1;}#sk-container-id-3 div.sk-parallel-item {display: flex;flex-direction: column;z-index: 1;position: relative;background-color: white;}#sk-container-id-3 div.sk-parallel-item:first-child::after {align-self: flex-end;width: 50%;}#sk-container-id-3 div.sk-parallel-item:last-child::after {align-self: flex-start;width: 50%;}#sk-container-id-3 div.sk-parallel-item:only-child::after {width: 0;}#sk-container-id-3 div.sk-dashed-wrapped {border: 1px dashed gray;margin: 0 0.4em 0.5em 0.4em;box-sizing: border-box;padding-bottom: 0.4em;background-color: white;}#sk-container-id-3 div.sk-label label {font-family: monospace;font-weight: bold;display: inline-block;line-height: 1.2em;}#sk-container-id-3 div.sk-label-container {text-align: center;}#sk-container-id-3 div.sk-container {/* jupyter's `normalize.less` sets `[hidden] { display: none; }` but bootstrap.min.css set `[hidden] { display: none !important; }` so we also need the `!important` here to be able to override the default hidden behavior on the sphinx rendered scikit-learn.org. See: https://github.com/scikit-learn/scikit-learn/issues/21755 */display: inline-block !important;position: relative;}#sk-container-id-3 div.sk-text-repr-fallback {display: none;}</style><div id=\"sk-container-id-3\" class=\"sk-top-container\"><div class=\"sk-text-repr-fallback\"><pre>GradientBoostingClassifier()</pre><b>In a Jupyter environment, please rerun this cell to show the HTML representation or trust the notebook. <br />On GitHub, the HTML representation is unable to render, please try loading this page with nbviewer.org.</b></div><div class=\"sk-container\" hidden><div class=\"sk-item\"><div class=\"sk-estimator sk-toggleable\"><input class=\"sk-toggleable__control sk-hidden--visually\" id=\"sk-estimator-id-3\" type=\"checkbox\" checked><label for=\"sk-estimator-id-3\" class=\"sk-toggleable__label sk-toggleable__label-arrow\">GradientBoostingClassifier</label><div class=\"sk-toggleable__content\"><pre>GradientBoostingClassifier()</pre></div></div></div></div></div>"
      ],
      "text/plain": [
       "GradientBoostingClassifier()"
      ]
     },
     "execution_count": 46,
     "metadata": {},
     "output_type": "execute_result"
    },
    {
     "name": "stdout",
     "output_type": "stream",
     "text": [
      "Test accuracy for model 0.6263157894736842\n"
     ]
    }
   ],
   "source": [
    "best_model.fit(_x,_y.flatten())\n",
    "\n",
    "y_pred_test = best_model.predict(x_test)\n",
    "test_accuracy = accuracy_score(y_pred_test, y_test.flatten())\n",
    "\n",
    "print (f\"Test accuracy for model {test_accuracy}\")"
   ]
  },
  {
   "cell_type": "markdown",
   "id": "9675f085",
   "metadata": {},
   "source": [
    "Best model is <mark> grad_boost with 10-fold accuracy of **0.63406260749914** with a test accuracy of **0.6263157894736842** </mark>"
   ]
  },
  {
   "cell_type": "markdown",
   "id": "2db3881d",
   "metadata": {},
   "source": [
    "###  For MinMax Scaling, we will run feature abalation. "
   ]
  },
  {
   "cell_type": "code",
   "execution_count": 47,
   "id": "a6adc2ff",
   "metadata": {},
   "outputs": [
    {
     "name": "stdout",
     "output_type": "stream",
     "text": [
      "Removing feature Battery Voltage AVG\n",
      "Mean cross validation accuracy = 0.6346508427932577\n",
      "Removing feature Temperature AVG\n",
      "Mean cross validation accuracy = 0.6440282077743378\n",
      "Removing feature Relative Humidity AVG\n",
      "Mean cross validation accuracy = 0.6340522875816994\n",
      "Removing feature Wind Speed Daily AVG\n",
      "Mean cross validation accuracy = 0.63640522875817\n",
      "Removing feature Wind Direction AVG\n",
      "Mean cross validation accuracy = 0.6405159958720331\n",
      "Removing feature Solare Radiation AVG\n",
      "Mean cross validation accuracy = 0.6399346405228759\n",
      "Removing feature Curtis RIngraham Directge\n",
      "Mean cross validation accuracy = 0.6258513931888545\n"
     ]
    }
   ],
   "source": [
    "# Let's run ablation tests on our best model\n",
    "# You could choose any model to do this test\n",
    "best_model = GradientBoostingClassifier()\n",
    "\n",
    "feature_names = mtrainier_features_minmax_df.columns \n",
    "\n",
    "# Let's maintain an accuracy dictionary\n",
    "\n",
    "accuracy_drop_log = {\"No ablation\":0}\n",
    "\n",
    "for i in range(len(feature_names)):\n",
    "    # we are going to drop one feature at a time - which includes the entire one-hot encoding key when we do route\n",
    "    feature_name = feature_names[i]\n",
    "    print (f\"Removing feature {feature_name}\")\n",
    "    \n",
    "    #first categorical feature derived from one-hot encoding\n",
    "    if feature_name != 'Curtis RIngraham Directge': \n",
    "        x_ablated = np.delete(_x,i,axis=1) \n",
    "        cv_scores = cross_val_score(best_model,x_ablated,_y.flatten(), cv=k, n_jobs=4)\n",
    "        average_cv_score = cv_scores.mean()\n",
    "        print (f\"Mean cross validation accuracy = {average_cv_score}\")\n",
    "        accuracy_drop_log[feature_name] = best_model_valid_accuracy-average_cv_score\n",
    "    else: #to represent all the routes \n",
    "        x_ablated = np.delete(_x,np.s_[6:28],axis=1)\n",
    "        cv_scores = cross_val_score(best_model,x_ablated,_y.flatten(), cv=k, n_jobs=4)\n",
    "        average_cv_score = cv_scores.mean()\n",
    "        print (f\"Mean cross validation accuracy = {average_cv_score}\")\n",
    "        accuracy_drop_log[feature_name] = best_model_valid_accuracy-average_cv_score\n",
    "        break \n",
    "        "
   ]
  },
  {
   "cell_type": "code",
   "execution_count": 48,
   "id": "c2df48a2",
   "metadata": {},
   "outputs": [
    {
     "data": {
      "text/plain": [
       "<BarContainer object of 8 artists>"
      ]
     },
     "execution_count": 48,
     "metadata": {},
     "output_type": "execute_result"
    },
    {
     "data": {
      "text/plain": [
       "([0, 1, 2, 3, 4, 5, 6, 7],\n",
       " [Text(0, 0, ''),\n",
       "  Text(0, 0, ''),\n",
       "  Text(0, 0, ''),\n",
       "  Text(0, 0, ''),\n",
       "  Text(0, 0, ''),\n",
       "  Text(0, 0, ''),\n",
       "  Text(0, 0, ''),\n",
       "  Text(0, 0, '')])"
      ]
     },
     "execution_count": 48,
     "metadata": {},
     "output_type": "execute_result"
    },
    {
     "data": {
      "image/png": "[encoded data removed]",
      "text/plain": [
       "<Figure size 432x288 with 1 Axes>"
      ]
     },
     "metadata": {
      "needs_background": "light"
     },
     "output_type": "display_data"
    }
   ],
   "source": [
    "from matplotlib import pyplot as plt\n",
    "\n",
    "plt.bar(accuracy_drop_log.keys(), accuracy_drop_log.values(), color=\"maroon\", width = 0.4)\n",
    "plt.xticks(rotation=\"vertical\")"
   ]
  },
  {
   "cell_type": "code",
   "execution_count": 49,
   "id": "d5d8badc",
   "metadata": {},
   "outputs": [
    {
     "name": "stdout",
     "output_type": "stream",
     "text": [
      "Features are ranked from best to worst (based on how removing them impacts the accuracy of grad_boost)\n",
      "**************************************\n",
      "Feature 1.Curtis RIngraham Directge, drop in acc 0.008211214310285486\n",
      "Feature 2.Relative Humidity AVG, drop in acc 1.0319917440604343e-05\n",
      "Feature 3.Battery Voltage AVG, drop in acc -0.0005882352941176672\n",
      "Feature 4.Wind Speed Daily AVG, drop in acc -0.0023426212590299533\n",
      "Feature 5.Solare Radiation AVG, drop in acc -0.005872033023735845\n",
      "Feature 6.Wind Direction AVG, drop in acc -0.00645338837289311\n",
      "Feature 7.Temperature AVG, drop in acc -0.009965600275197772\n"
     ]
    }
   ],
   "source": [
    "def criteria(l):\n",
    "    return l[1]\n",
    "\n",
    "sorted_accs =  sorted(accuracy_drop_log.items(),key=criteria, reverse=True)\n",
    "\n",
    "print (f\"Features are ranked from best to worst (based on how removing them impacts the accuracy of {best_model_name})\")\n",
    "print (f\"**************************************\")\n",
    "\n",
    "i=1\n",
    "for entry in sorted_accs:\n",
    "    feature_name = entry[0]\n",
    "    acc_drop = entry[1]\n",
    "    \n",
    "    # We do not want to print \"No ablation\"\n",
    "    if feature_name != \"No ablation\":\n",
    "        print (f\"Feature {i}.{feature_name}, drop in acc {acc_drop}\")\n",
    "        i=i+1"
   ]
  },
  {
   "cell_type": "markdown",
   "id": "fc7bec3d",
   "metadata": {},
   "source": [
    "We can see that the most important features are still the same with \"Curtis RIngraham Directge\" being on top. It is slightly more important in terms of accuracy compared to Standard Scaling. "
   ]
  },
  {
   "cell_type": "markdown",
   "id": "9af637fa",
   "metadata": {},
   "source": [
    "### 3. Removing \"glacier only - no summit attempt\" and \"Unknown\""
   ]
  },
  {
   "cell_type": "code",
   "execution_count": 50,
   "id": "a5a9b286",
   "metadata": {},
   "outputs": [
    {
     "name": "stderr",
     "output_type": "stream",
     "text": [
      "/Users/wolfpack/opt/anaconda3/lib/python3.9/site-packages/sklearn/linear_model/_logistic.py:444: ConvergenceWarning: lbfgs failed to converge (status=1):\n",
      "STOP: TOTAL NO. of ITERATIONS REACHED LIMIT.\n",
      "\n",
      "Increase the number of iterations (max_iter) or scale the data as shown in:\n",
      "    https://scikit-learn.org/stable/modules/preprocessing.html\n",
      "Please also refer to the documentation for alternative solver options:\n",
      "    https://scikit-learn.org/stable/modules/linear_model.html#logistic-regression\n",
      "  n_iter_i = _check_optimize_result(\n",
      "/Users/wolfpack/opt/anaconda3/lib/python3.9/site-packages/sklearn/linear_model/_logistic.py:444: ConvergenceWarning: lbfgs failed to converge (status=1):\n",
      "STOP: TOTAL NO. of ITERATIONS REACHED LIMIT.\n",
      "\n",
      "Increase the number of iterations (max_iter) or scale the data as shown in:\n",
      "    https://scikit-learn.org/stable/modules/preprocessing.html\n",
      "Please also refer to the documentation for alternative solver options:\n",
      "    https://scikit-learn.org/stable/modules/linear_model.html#logistic-regression\n",
      "  n_iter_i = _check_optimize_result(\n",
      "/Users/wolfpack/opt/anaconda3/lib/python3.9/site-packages/sklearn/linear_model/_logistic.py:444: ConvergenceWarning: lbfgs failed to converge (status=1):\n",
      "STOP: TOTAL NO. of ITERATIONS REACHED LIMIT.\n",
      "\n",
      "Increase the number of iterations (max_iter) or scale the data as shown in:\n",
      "    https://scikit-learn.org/stable/modules/preprocessing.html\n",
      "Please also refer to the documentation for alternative solver options:\n",
      "    https://scikit-learn.org/stable/modules/linear_model.html#logistic-regression\n",
      "  n_iter_i = _check_optimize_result(\n",
      "/Users/wolfpack/opt/anaconda3/lib/python3.9/site-packages/sklearn/linear_model/_logistic.py:444: ConvergenceWarning: lbfgs failed to converge (status=1):\n",
      "STOP: TOTAL NO. of ITERATIONS REACHED LIMIT.\n",
      "\n",
      "Increase the number of iterations (max_iter) or scale the data as shown in:\n",
      "    https://scikit-learn.org/stable/modules/preprocessing.html\n",
      "Please also refer to the documentation for alternative solver options:\n",
      "    https://scikit-learn.org/stable/modules/linear_model.html#logistic-regression\n",
      "  n_iter_i = _check_optimize_result(\n",
      "/Users/wolfpack/opt/anaconda3/lib/python3.9/site-packages/sklearn/linear_model/_logistic.py:444: ConvergenceWarning: lbfgs failed to converge (status=1):\n",
      "STOP: TOTAL NO. of ITERATIONS REACHED LIMIT.\n",
      "\n",
      "Increase the number of iterations (max_iter) or scale the data as shown in:\n",
      "    https://scikit-learn.org/stable/modules/preprocessing.html\n",
      "Please also refer to the documentation for alternative solver options:\n",
      "    https://scikit-learn.org/stable/modules/linear_model.html#logistic-regression\n",
      "  n_iter_i = _check_optimize_result(\n",
      "/Users/wolfpack/opt/anaconda3/lib/python3.9/site-packages/sklearn/linear_model/_logistic.py:444: ConvergenceWarning: lbfgs failed to converge (status=1):\n",
      "STOP: TOTAL NO. of ITERATIONS REACHED LIMIT.\n",
      "\n",
      "Increase the number of iterations (max_iter) or scale the data as shown in:\n",
      "    https://scikit-learn.org/stable/modules/preprocessing.html\n",
      "Please also refer to the documentation for alternative solver options:\n",
      "    https://scikit-learn.org/stable/modules/linear_model.html#logistic-regression\n",
      "  n_iter_i = _check_optimize_result(\n",
      "/Users/wolfpack/opt/anaconda3/lib/python3.9/site-packages/sklearn/linear_model/_logistic.py:444: ConvergenceWarning: lbfgs failed to converge (status=1):\n",
      "STOP: TOTAL NO. of ITERATIONS REACHED LIMIT.\n",
      "\n",
      "Increase the number of iterations (max_iter) or scale the data as shown in:\n",
      "    https://scikit-learn.org/stable/modules/preprocessing.html\n",
      "Please also refer to the documentation for alternative solver options:\n",
      "    https://scikit-learn.org/stable/modules/linear_model.html#logistic-regression\n",
      "  n_iter_i = _check_optimize_result(\n",
      "/Users/wolfpack/opt/anaconda3/lib/python3.9/site-packages/sklearn/linear_model/_logistic.py:444: ConvergenceWarning: lbfgs failed to converge (status=1):\n",
      "STOP: TOTAL NO. of ITERATIONS REACHED LIMIT.\n",
      "\n",
      "Increase the number of iterations (max_iter) or scale the data as shown in:\n",
      "    https://scikit-learn.org/stable/modules/preprocessing.html\n",
      "Please also refer to the documentation for alternative solver options:\n",
      "    https://scikit-learn.org/stable/modules/linear_model.html#logistic-regression\n",
      "  n_iter_i = _check_optimize_result(\n",
      "/Users/wolfpack/opt/anaconda3/lib/python3.9/site-packages/sklearn/linear_model/_logistic.py:444: ConvergenceWarning: lbfgs failed to converge (status=1):\n",
      "STOP: TOTAL NO. of ITERATIONS REACHED LIMIT.\n",
      "\n",
      "Increase the number of iterations (max_iter) or scale the data as shown in:\n",
      "    https://scikit-learn.org/stable/modules/preprocessing.html\n",
      "Please also refer to the documentation for alternative solver options:\n",
      "    https://scikit-learn.org/stable/modules/linear_model.html#logistic-regression\n",
      "  n_iter_i = _check_optimize_result(\n",
      "/Users/wolfpack/opt/anaconda3/lib/python3.9/site-packages/sklearn/linear_model/_logistic.py:444: ConvergenceWarning: lbfgs failed to converge (status=1):\n",
      "STOP: TOTAL NO. of ITERATIONS REACHED LIMIT.\n",
      "\n",
      "Increase the number of iterations (max_iter) or scale the data as shown in:\n",
      "    https://scikit-learn.org/stable/modules/preprocessing.html\n",
      "Please also refer to the documentation for alternative solver options:\n",
      "    https://scikit-learn.org/stable/modules/linear_model.html#logistic-regression\n",
      "  n_iter_i = _check_optimize_result(\n"
     ]
    },
    {
     "name": "stdout",
     "output_type": "stream",
     "text": [
      "Mean cross validation accuracy for model lr = 0.6299071207430339\n",
      "Mean cross validation accuracy for model svm = 0.6187616099071207\n",
      "Mean cross validation accuracy for model decision_tree = 0.6105675954592363\n",
      "Mean cross validation accuracy for model random_forest = 0.6275851393188854\n",
      "Mean cross validation accuracy for model grad_boost = 0.6240798073615411\n"
     ]
    },
    {
     "name": "stderr",
     "output_type": "stream",
     "text": [
      "/Users/wolfpack/opt/anaconda3/lib/python3.9/site-packages/sklearn/linear_model/_logistic.py:444: ConvergenceWarning: lbfgs failed to converge (status=1):\n",
      "STOP: TOTAL NO. of ITERATIONS REACHED LIMIT.\n",
      "\n",
      "Increase the number of iterations (max_iter) or scale the data as shown in:\n",
      "    https://scikit-learn.org/stable/modules/preprocessing.html\n",
      "Please also refer to the documentation for alternative solver options:\n",
      "    https://scikit-learn.org/stable/modules/linear_model.html#logistic-regression\n",
      "  n_iter_i = _check_optimize_result(\n",
      "/Users/wolfpack/opt/anaconda3/lib/python3.9/site-packages/sklearn/linear_model/_logistic.py:444: ConvergenceWarning: lbfgs failed to converge (status=1):\n",
      "STOP: TOTAL NO. of ITERATIONS REACHED LIMIT.\n",
      "\n",
      "Increase the number of iterations (max_iter) or scale the data as shown in:\n",
      "    https://scikit-learn.org/stable/modules/preprocessing.html\n",
      "Please also refer to the documentation for alternative solver options:\n",
      "    https://scikit-learn.org/stable/modules/linear_model.html#logistic-regression\n",
      "  n_iter_i = _check_optimize_result(\n",
      "/Users/wolfpack/opt/anaconda3/lib/python3.9/site-packages/sklearn/linear_model/_logistic.py:444: ConvergenceWarning: lbfgs failed to converge (status=1):\n",
      "STOP: TOTAL NO. of ITERATIONS REACHED LIMIT.\n",
      "\n",
      "Increase the number of iterations (max_iter) or scale the data as shown in:\n",
      "    https://scikit-learn.org/stable/modules/preprocessing.html\n",
      "Please also refer to the documentation for alternative solver options:\n",
      "    https://scikit-learn.org/stable/modules/linear_model.html#logistic-regression\n",
      "  n_iter_i = _check_optimize_result(\n",
      "/Users/wolfpack/opt/anaconda3/lib/python3.9/site-packages/sklearn/linear_model/_logistic.py:444: ConvergenceWarning: lbfgs failed to converge (status=1):\n",
      "STOP: TOTAL NO. of ITERATIONS REACHED LIMIT.\n",
      "\n",
      "Increase the number of iterations (max_iter) or scale the data as shown in:\n",
      "    https://scikit-learn.org/stable/modules/preprocessing.html\n",
      "Please also refer to the documentation for alternative solver options:\n",
      "    https://scikit-learn.org/stable/modules/linear_model.html#logistic-regression\n",
      "  n_iter_i = _check_optimize_result(\n",
      "/Users/wolfpack/opt/anaconda3/lib/python3.9/site-packages/sklearn/linear_model/_logistic.py:444: ConvergenceWarning: lbfgs failed to converge (status=1):\n",
      "STOP: TOTAL NO. of ITERATIONS REACHED LIMIT.\n",
      "\n",
      "Increase the number of iterations (max_iter) or scale the data as shown in:\n",
      "    https://scikit-learn.org/stable/modules/preprocessing.html\n",
      "Please also refer to the documentation for alternative solver options:\n",
      "    https://scikit-learn.org/stable/modules/linear_model.html#logistic-regression\n",
      "  n_iter_i = _check_optimize_result(\n",
      "/Users/wolfpack/opt/anaconda3/lib/python3.9/site-packages/sklearn/linear_model/_logistic.py:444: ConvergenceWarning: lbfgs failed to converge (status=1):\n",
      "STOP: TOTAL NO. of ITERATIONS REACHED LIMIT.\n",
      "\n",
      "Increase the number of iterations (max_iter) or scale the data as shown in:\n",
      "    https://scikit-learn.org/stable/modules/preprocessing.html\n",
      "Please also refer to the documentation for alternative solver options:\n",
      "    https://scikit-learn.org/stable/modules/linear_model.html#logistic-regression\n",
      "  n_iter_i = _check_optimize_result(\n",
      "/Users/wolfpack/opt/anaconda3/lib/python3.9/site-packages/sklearn/linear_model/_logistic.py:444: ConvergenceWarning: lbfgs failed to converge (status=1):\n",
      "STOP: TOTAL NO. of ITERATIONS REACHED LIMIT.\n",
      "\n",
      "Increase the number of iterations (max_iter) or scale the data as shown in:\n",
      "    https://scikit-learn.org/stable/modules/preprocessing.html\n",
      "Please also refer to the documentation for alternative solver options:\n",
      "    https://scikit-learn.org/stable/modules/linear_model.html#logistic-regression\n",
      "  n_iter_i = _check_optimize_result(\n",
      "/Users/wolfpack/opt/anaconda3/lib/python3.9/site-packages/sklearn/linear_model/_logistic.py:444: ConvergenceWarning: lbfgs failed to converge (status=1):\n",
      "STOP: TOTAL NO. of ITERATIONS REACHED LIMIT.\n",
      "\n",
      "Increase the number of iterations (max_iter) or scale the data as shown in:\n",
      "    https://scikit-learn.org/stable/modules/preprocessing.html\n",
      "Please also refer to the documentation for alternative solver options:\n",
      "    https://scikit-learn.org/stable/modules/linear_model.html#logistic-regression\n",
      "  n_iter_i = _check_optimize_result(\n"
     ]
    },
    {
     "name": "stdout",
     "output_type": "stream",
     "text": [
      "Mean cross validation accuracy for model voting = 0.6334330925352598\n",
      "Best model is voting with 10-fold accuracy of 0.6334330925352598\n"
     ]
    },
    {
     "name": "stderr",
     "output_type": "stream",
     "text": [
      "/Users/wolfpack/opt/anaconda3/lib/python3.9/site-packages/sklearn/linear_model/_logistic.py:444: ConvergenceWarning: lbfgs failed to converge (status=1):\n",
      "STOP: TOTAL NO. of ITERATIONS REACHED LIMIT.\n",
      "\n",
      "Increase the number of iterations (max_iter) or scale the data as shown in:\n",
      "    https://scikit-learn.org/stable/modules/preprocessing.html\n",
      "Please also refer to the documentation for alternative solver options:\n",
      "    https://scikit-learn.org/stable/modules/linear_model.html#logistic-regression\n",
      "  n_iter_i = _check_optimize_result(\n",
      "/Users/wolfpack/opt/anaconda3/lib/python3.9/site-packages/sklearn/linear_model/_logistic.py:444: ConvergenceWarning: lbfgs failed to converge (status=1):\n",
      "STOP: TOTAL NO. of ITERATIONS REACHED LIMIT.\n",
      "\n",
      "Increase the number of iterations (max_iter) or scale the data as shown in:\n",
      "    https://scikit-learn.org/stable/modules/preprocessing.html\n",
      "Please also refer to the documentation for alternative solver options:\n",
      "    https://scikit-learn.org/stable/modules/linear_model.html#logistic-regression\n",
      "  n_iter_i = _check_optimize_result(\n"
     ]
    }
   ],
   "source": [
    "from sklearn.model_selection import train_test_split\n",
    "from sklearn.model_selection import cross_val_score\n",
    "\n",
    "features = mtrainier_removed_df.to_numpy()\n",
    "labels = mtrainier_labels_df.to_numpy()\n",
    "\n",
    "_x, x_test, _y, y_test = train_test_split(features, labels, test_size=0.10, random_state=42)\n",
    "\n",
    "k = 10\n",
    "\n",
    "# We can use sklearn's cross validation score directly\n",
    "# We can speed up training using n_jobs parameter which specifies how many cpu_cores to use\n",
    "\n",
    "best_model_name = \"\"\n",
    "best_model_valid_accuracy = 0\n",
    "best_model = \"None\"\n",
    "\n",
    "for model_name in all_models.keys():\n",
    "    model = all_models[model_name]\n",
    "    cv_scores = cross_val_score(model,_x,_y.flatten(), cv=k, n_jobs=4)\n",
    "    average_cv_score = cv_scores.mean()\n",
    "    print (f\"Mean cross validation accuracy for model {model_name} = {average_cv_score}\")\n",
    "\n",
    "    if average_cv_score > best_model_valid_accuracy :\n",
    "        best_model_name = model_name\n",
    "        best_model_valid_accuracy  = average_cv_score\n",
    "        best_model = model\n",
    "\n",
    "print (f\"Best model is {best_model_name} with {k}-fold accuracy of {best_model_valid_accuracy}\")"
   ]
  },
  {
   "cell_type": "code",
   "execution_count": 51,
   "id": "fc7b71bc",
   "metadata": {},
   "outputs": [
    {
     "name": "stderr",
     "output_type": "stream",
     "text": [
      "/Users/wolfpack/opt/anaconda3/lib/python3.9/site-packages/sklearn/linear_model/_logistic.py:444: ConvergenceWarning: lbfgs failed to converge (status=1):\n",
      "STOP: TOTAL NO. of ITERATIONS REACHED LIMIT.\n",
      "\n",
      "Increase the number of iterations (max_iter) or scale the data as shown in:\n",
      "    https://scikit-learn.org/stable/modules/preprocessing.html\n",
      "Please also refer to the documentation for alternative solver options:\n",
      "    https://scikit-learn.org/stable/modules/linear_model.html#logistic-regression\n",
      "  n_iter_i = _check_optimize_result(\n"
     ]
    },
    {
     "data": {
      "text/html": [
       "<style>#sk-container-id-4 {color: black;background-color: white;}#sk-container-id-4 pre{padding: 0;}#sk-container-id-4 div.sk-toggleable {background-color: white;}#sk-container-id-4 label.sk-toggleable__label {cursor: pointer;display: block;width: 100%;margin-bottom: 0;padding: 0.3em;box-sizing: border-box;text-align: center;}#sk-container-id-4 label.sk-toggleable__label-arrow:before {content: \"▸\";float: left;margin-right: 0.25em;color: #696969;}#sk-container-id-4 label.sk-toggleable__label-arrow:hover:before {color: black;}#sk-container-id-4 div.sk-estimator:hover label.sk-toggleable__label-arrow:before {color: black;}#sk-container-id-4 div.sk-toggleable__content {max-height: 0;max-width: 0;overflow: hidden;text-align: left;background-color: #f0f8ff;}#sk-container-id-4 div.sk-toggleable__content pre {margin: 0.2em;color: black;border-radius: 0.25em;background-color: #f0f8ff;}#sk-container-id-4 input.sk-toggleable__control:checked~div.sk-toggleable__content {max-height: 200px;max-width: 100%;overflow: auto;}#sk-container-id-4 input.sk-toggleable__control:checked~label.sk-toggleable__label-arrow:before {content: \"▾\";}#sk-container-id-4 div.sk-estimator input.sk-toggleable__control:checked~label.sk-toggleable__label {background-color: #d4ebff;}#sk-container-id-4 div.sk-label input.sk-toggleable__control:checked~label.sk-toggleable__label {background-color: #d4ebff;}#sk-container-id-4 input.sk-hidden--visually {border: 0;clip: rect(1px 1px 1px 1px);clip: rect(1px, 1px, 1px, 1px);height: 1px;margin: -1px;overflow: hidden;padding: 0;position: absolute;width: 1px;}#sk-container-id-4 div.sk-estimator {font-family: monospace;background-color: #f0f8ff;border: 1px dotted black;border-radius: 0.25em;box-sizing: border-box;margin-bottom: 0.5em;}#sk-container-id-4 div.sk-estimator:hover {background-color: #d4ebff;}#sk-container-id-4 div.sk-parallel-item::after {content: \"\";width: 100%;border-bottom: 1px solid gray;flex-grow: 1;}#sk-container-id-4 div.sk-label:hover label.sk-toggleable__label {background-color: #d4ebff;}#sk-container-id-4 div.sk-serial::before {content: \"\";position: absolute;border-left: 1px solid gray;box-sizing: border-box;top: 0;bottom: 0;left: 50%;z-index: 0;}#sk-container-id-4 div.sk-serial {display: flex;flex-direction: column;align-items: center;background-color: white;padding-right: 0.2em;padding-left: 0.2em;position: relative;}#sk-container-id-4 div.sk-item {position: relative;z-index: 1;}#sk-container-id-4 div.sk-parallel {display: flex;align-items: stretch;justify-content: center;background-color: white;position: relative;}#sk-container-id-4 div.sk-item::before, #sk-container-id-4 div.sk-parallel-item::before {content: \"\";position: absolute;border-left: 1px solid gray;box-sizing: border-box;top: 0;bottom: 0;left: 50%;z-index: -1;}#sk-container-id-4 div.sk-parallel-item {display: flex;flex-direction: column;z-index: 1;position: relative;background-color: white;}#sk-container-id-4 div.sk-parallel-item:first-child::after {align-self: flex-end;width: 50%;}#sk-container-id-4 div.sk-parallel-item:last-child::after {align-self: flex-start;width: 50%;}#sk-container-id-4 div.sk-parallel-item:only-child::after {width: 0;}#sk-container-id-4 div.sk-dashed-wrapped {border: 1px dashed gray;margin: 0 0.4em 0.5em 0.4em;box-sizing: border-box;padding-bottom: 0.4em;background-color: white;}#sk-container-id-4 div.sk-label label {font-family: monospace;font-weight: bold;display: inline-block;line-height: 1.2em;}#sk-container-id-4 div.sk-label-container {text-align: center;}#sk-container-id-4 div.sk-container {/* jupyter's `normalize.less` sets `[hidden] { display: none; }` but bootstrap.min.css set `[hidden] { display: none !important; }` so we also need the `!important` here to be able to override the default hidden behavior on the sphinx rendered scikit-learn.org. See: https://github.com/scikit-learn/scikit-learn/issues/21755 */display: inline-block !important;position: relative;}#sk-container-id-4 div.sk-text-repr-fallback {display: none;}</style><div id=\"sk-container-id-4\" class=\"sk-top-container\"><div class=\"sk-text-repr-fallback\"><pre>VotingClassifier(estimators=[(&#x27;1&#x27;, LogisticRegression(penalty=&#x27;none&#x27;)),\n",
       "                             (&#x27;2&#x27;, SVC(kernel=&#x27;linear&#x27;)),\n",
       "                             (&#x27;3&#x27;, DecisionTreeClassifier())])</pre><b>In a Jupyter environment, please rerun this cell to show the HTML representation or trust the notebook. <br />On GitHub, the HTML representation is unable to render, please try loading this page with nbviewer.org.</b></div><div class=\"sk-container\" hidden><div class=\"sk-item sk-dashed-wrapped\"><div class=\"sk-label-container\"><div class=\"sk-label sk-toggleable\"><input class=\"sk-toggleable__control sk-hidden--visually\" id=\"sk-estimator-id-4\" type=\"checkbox\" ><label for=\"sk-estimator-id-4\" class=\"sk-toggleable__label sk-toggleable__label-arrow\">VotingClassifier</label><div class=\"sk-toggleable__content\"><pre>VotingClassifier(estimators=[(&#x27;1&#x27;, LogisticRegression(penalty=&#x27;none&#x27;)),\n",
       "                             (&#x27;2&#x27;, SVC(kernel=&#x27;linear&#x27;)),\n",
       "                             (&#x27;3&#x27;, DecisionTreeClassifier())])</pre></div></div></div><div class=\"sk-parallel\"><div class=\"sk-parallel-item\"><div class=\"sk-item\"><div class=\"sk-label-container\"><div class=\"sk-label sk-toggleable\"><label>1</label></div></div><div class=\"sk-serial\"><div class=\"sk-item\"><div class=\"sk-estimator sk-toggleable\"><input class=\"sk-toggleable__control sk-hidden--visually\" id=\"sk-estimator-id-5\" type=\"checkbox\" ><label for=\"sk-estimator-id-5\" class=\"sk-toggleable__label sk-toggleable__label-arrow\">LogisticRegression</label><div class=\"sk-toggleable__content\"><pre>LogisticRegression(penalty=&#x27;none&#x27;)</pre></div></div></div></div></div></div><div class=\"sk-parallel-item\"><div class=\"sk-item\"><div class=\"sk-label-container\"><div class=\"sk-label sk-toggleable\"><label>2</label></div></div><div class=\"sk-serial\"><div class=\"sk-item\"><div class=\"sk-estimator sk-toggleable\"><input class=\"sk-toggleable__control sk-hidden--visually\" id=\"sk-estimator-id-6\" type=\"checkbox\" ><label for=\"sk-estimator-id-6\" class=\"sk-toggleable__label sk-toggleable__label-arrow\">SVC</label><div class=\"sk-toggleable__content\"><pre>SVC(kernel=&#x27;linear&#x27;)</pre></div></div></div></div></div></div><div class=\"sk-parallel-item\"><div class=\"sk-item\"><div class=\"sk-label-container\"><div class=\"sk-label sk-toggleable\"><label>3</label></div></div><div class=\"sk-serial\"><div class=\"sk-item\"><div class=\"sk-estimator sk-toggleable\"><input class=\"sk-toggleable__control sk-hidden--visually\" id=\"sk-estimator-id-7\" type=\"checkbox\" ><label for=\"sk-estimator-id-7\" class=\"sk-toggleable__label sk-toggleable__label-arrow\">DecisionTreeClassifier</label><div class=\"sk-toggleable__content\"><pre>DecisionTreeClassifier()</pre></div></div></div></div></div></div></div></div></div></div>"
      ],
      "text/plain": [
       "VotingClassifier(estimators=[('1', LogisticRegression(penalty='none')),\n",
       "                             ('2', SVC(kernel='linear')),\n",
       "                             ('3', DecisionTreeClassifier())])"
      ]
     },
     "execution_count": 51,
     "metadata": {},
     "output_type": "execute_result"
    },
    {
     "name": "stdout",
     "output_type": "stream",
     "text": [
      "Test accuracy for model 0.6210526315789474\n"
     ]
    }
   ],
   "source": [
    "best_model.fit(_x,_y.flatten())\n",
    "\n",
    "y_pred_test = best_model.predict(x_test)\n",
    "test_accuracy = accuracy_score(y_pred_test, y_test.flatten())\n",
    "\n",
    "print (f\"Test accuracy for model {test_accuracy}\")"
   ]
  },
  {
   "cell_type": "markdown",
   "id": "5017b04e",
   "metadata": {},
   "source": [
    "There is some difference when we remove the two columns \"Unknown\" and \"\"glacier only - no summit attempt\". The best model is <mark> voting with 10-fold accuracy of **0.6334330925352598** and a test accuracy of **0.6210526315789474** </mark>"
   ]
  },
  {
   "cell_type": "markdown",
   "id": "17743d02",
   "metadata": {},
   "source": [
    "### For the removed parts of the dataframe, we will run feature ablation. "
   ]
  },
  {
   "cell_type": "code",
   "execution_count": 56,
   "id": "6854304c",
   "metadata": {},
   "outputs": [
    {
     "name": "stdout",
     "output_type": "stream",
     "text": [
      "Removing feature Battery Voltage AVG\n"
     ]
    },
    {
     "name": "stderr",
     "output_type": "stream",
     "text": [
      "/Users/wolfpack/opt/anaconda3/lib/python3.9/site-packages/sklearn/linear_model/_logistic.py:444: ConvergenceWarning: lbfgs failed to converge (status=1):\n",
      "STOP: TOTAL NO. of ITERATIONS REACHED LIMIT.\n",
      "\n",
      "Increase the number of iterations (max_iter) or scale the data as shown in:\n",
      "    https://scikit-learn.org/stable/modules/preprocessing.html\n",
      "Please also refer to the documentation for alternative solver options:\n",
      "    https://scikit-learn.org/stable/modules/linear_model.html#logistic-regression\n",
      "  n_iter_i = _check_optimize_result(\n",
      "/Users/wolfpack/opt/anaconda3/lib/python3.9/site-packages/sklearn/linear_model/_logistic.py:444: ConvergenceWarning: lbfgs failed to converge (status=1):\n",
      "STOP: TOTAL NO. of ITERATIONS REACHED LIMIT.\n",
      "\n",
      "Increase the number of iterations (max_iter) or scale the data as shown in:\n",
      "    https://scikit-learn.org/stable/modules/preprocessing.html\n",
      "Please also refer to the documentation for alternative solver options:\n",
      "    https://scikit-learn.org/stable/modules/linear_model.html#logistic-regression\n",
      "  n_iter_i = _check_optimize_result(\n",
      "/Users/wolfpack/opt/anaconda3/lib/python3.9/site-packages/sklearn/linear_model/_logistic.py:444: ConvergenceWarning: lbfgs failed to converge (status=1):\n",
      "STOP: TOTAL NO. of ITERATIONS REACHED LIMIT.\n",
      "\n",
      "Increase the number of iterations (max_iter) or scale the data as shown in:\n",
      "    https://scikit-learn.org/stable/modules/preprocessing.html\n",
      "Please also refer to the documentation for alternative solver options:\n",
      "    https://scikit-learn.org/stable/modules/linear_model.html#logistic-regression\n",
      "  n_iter_i = _check_optimize_result(\n",
      "/Users/wolfpack/opt/anaconda3/lib/python3.9/site-packages/sklearn/linear_model/_logistic.py:444: ConvergenceWarning: lbfgs failed to converge (status=1):\n",
      "STOP: TOTAL NO. of ITERATIONS REACHED LIMIT.\n",
      "\n",
      "Increase the number of iterations (max_iter) or scale the data as shown in:\n",
      "    https://scikit-learn.org/stable/modules/preprocessing.html\n",
      "Please also refer to the documentation for alternative solver options:\n",
      "    https://scikit-learn.org/stable/modules/linear_model.html#logistic-regression\n",
      "  n_iter_i = _check_optimize_result(\n",
      "/Users/wolfpack/opt/anaconda3/lib/python3.9/site-packages/sklearn/linear_model/_logistic.py:444: ConvergenceWarning: lbfgs failed to converge (status=1):\n",
      "STOP: TOTAL NO. of ITERATIONS REACHED LIMIT.\n",
      "\n",
      "Increase the number of iterations (max_iter) or scale the data as shown in:\n",
      "    https://scikit-learn.org/stable/modules/preprocessing.html\n",
      "Please also refer to the documentation for alternative solver options:\n",
      "    https://scikit-learn.org/stable/modules/linear_model.html#logistic-regression\n",
      "  n_iter_i = _check_optimize_result(\n",
      "/Users/wolfpack/opt/anaconda3/lib/python3.9/site-packages/sklearn/linear_model/_logistic.py:444: ConvergenceWarning: lbfgs failed to converge (status=1):\n",
      "STOP: TOTAL NO. of ITERATIONS REACHED LIMIT.\n",
      "\n",
      "Increase the number of iterations (max_iter) or scale the data as shown in:\n",
      "    https://scikit-learn.org/stable/modules/preprocessing.html\n",
      "Please also refer to the documentation for alternative solver options:\n",
      "    https://scikit-learn.org/stable/modules/linear_model.html#logistic-regression\n",
      "  n_iter_i = _check_optimize_result(\n",
      "/Users/wolfpack/opt/anaconda3/lib/python3.9/site-packages/sklearn/linear_model/_logistic.py:444: ConvergenceWarning: lbfgs failed to converge (status=1):\n",
      "STOP: TOTAL NO. of ITERATIONS REACHED LIMIT.\n",
      "\n",
      "Increase the number of iterations (max_iter) or scale the data as shown in:\n",
      "    https://scikit-learn.org/stable/modules/preprocessing.html\n",
      "Please also refer to the documentation for alternative solver options:\n",
      "    https://scikit-learn.org/stable/modules/linear_model.html#logistic-regression\n",
      "  n_iter_i = _check_optimize_result(\n",
      "/Users/wolfpack/opt/anaconda3/lib/python3.9/site-packages/sklearn/linear_model/_logistic.py:444: ConvergenceWarning: lbfgs failed to converge (status=1):\n",
      "STOP: TOTAL NO. of ITERATIONS REACHED LIMIT.\n",
      "\n",
      "Increase the number of iterations (max_iter) or scale the data as shown in:\n",
      "    https://scikit-learn.org/stable/modules/preprocessing.html\n",
      "Please also refer to the documentation for alternative solver options:\n",
      "    https://scikit-learn.org/stable/modules/linear_model.html#logistic-regression\n",
      "  n_iter_i = _check_optimize_result(\n",
      "/Users/wolfpack/opt/anaconda3/lib/python3.9/site-packages/sklearn/linear_model/_logistic.py:444: ConvergenceWarning: lbfgs failed to converge (status=1):\n",
      "STOP: TOTAL NO. of ITERATIONS REACHED LIMIT.\n",
      "\n",
      "Increase the number of iterations (max_iter) or scale the data as shown in:\n",
      "    https://scikit-learn.org/stable/modules/preprocessing.html\n",
      "Please also refer to the documentation for alternative solver options:\n",
      "    https://scikit-learn.org/stable/modules/linear_model.html#logistic-regression\n",
      "  n_iter_i = _check_optimize_result(\n",
      "/Users/wolfpack/opt/anaconda3/lib/python3.9/site-packages/sklearn/linear_model/_logistic.py:444: ConvergenceWarning: lbfgs failed to converge (status=1):\n",
      "STOP: TOTAL NO. of ITERATIONS REACHED LIMIT.\n",
      "\n",
      "Increase the number of iterations (max_iter) or scale the data as shown in:\n",
      "    https://scikit-learn.org/stable/modules/preprocessing.html\n",
      "Please also refer to the documentation for alternative solver options:\n",
      "    https://scikit-learn.org/stable/modules/linear_model.html#logistic-regression\n",
      "  n_iter_i = _check_optimize_result(\n"
     ]
    },
    {
     "name": "stdout",
     "output_type": "stream",
     "text": [
      "Mean cross validation accuracy = 0.6199312005503956\n",
      "Removing feature Temperature AVG\n"
     ]
    },
    {
     "name": "stderr",
     "output_type": "stream",
     "text": [
      "/Users/wolfpack/opt/anaconda3/lib/python3.9/site-packages/sklearn/linear_model/_logistic.py:444: ConvergenceWarning: lbfgs failed to converge (status=1):\n",
      "STOP: TOTAL NO. of ITERATIONS REACHED LIMIT.\n",
      "\n",
      "Increase the number of iterations (max_iter) or scale the data as shown in:\n",
      "    https://scikit-learn.org/stable/modules/preprocessing.html\n",
      "Please also refer to the documentation for alternative solver options:\n",
      "    https://scikit-learn.org/stable/modules/linear_model.html#logistic-regression\n",
      "  n_iter_i = _check_optimize_result(\n",
      "/Users/wolfpack/opt/anaconda3/lib/python3.9/site-packages/sklearn/linear_model/_logistic.py:444: ConvergenceWarning: lbfgs failed to converge (status=1):\n",
      "STOP: TOTAL NO. of ITERATIONS REACHED LIMIT.\n",
      "\n",
      "Increase the number of iterations (max_iter) or scale the data as shown in:\n",
      "    https://scikit-learn.org/stable/modules/preprocessing.html\n",
      "Please also refer to the documentation for alternative solver options:\n",
      "    https://scikit-learn.org/stable/modules/linear_model.html#logistic-regression\n",
      "  n_iter_i = _check_optimize_result(\n",
      "/Users/wolfpack/opt/anaconda3/lib/python3.9/site-packages/sklearn/linear_model/_logistic.py:444: ConvergenceWarning: lbfgs failed to converge (status=1):\n",
      "STOP: TOTAL NO. of ITERATIONS REACHED LIMIT.\n",
      "\n",
      "Increase the number of iterations (max_iter) or scale the data as shown in:\n",
      "    https://scikit-learn.org/stable/modules/preprocessing.html\n",
      "Please also refer to the documentation for alternative solver options:\n",
      "    https://scikit-learn.org/stable/modules/linear_model.html#logistic-regression\n",
      "  n_iter_i = _check_optimize_result(\n",
      "/Users/wolfpack/opt/anaconda3/lib/python3.9/site-packages/sklearn/linear_model/_logistic.py:444: ConvergenceWarning: lbfgs failed to converge (status=1):\n",
      "STOP: TOTAL NO. of ITERATIONS REACHED LIMIT.\n",
      "\n",
      "Increase the number of iterations (max_iter) or scale the data as shown in:\n",
      "    https://scikit-learn.org/stable/modules/preprocessing.html\n",
      "Please also refer to the documentation for alternative solver options:\n",
      "    https://scikit-learn.org/stable/modules/linear_model.html#logistic-regression\n",
      "  n_iter_i = _check_optimize_result(\n",
      "/Users/wolfpack/opt/anaconda3/lib/python3.9/site-packages/sklearn/linear_model/_logistic.py:444: ConvergenceWarning: lbfgs failed to converge (status=1):\n",
      "STOP: TOTAL NO. of ITERATIONS REACHED LIMIT.\n",
      "\n",
      "Increase the number of iterations (max_iter) or scale the data as shown in:\n",
      "    https://scikit-learn.org/stable/modules/preprocessing.html\n",
      "Please also refer to the documentation for alternative solver options:\n",
      "    https://scikit-learn.org/stable/modules/linear_model.html#logistic-regression\n",
      "  n_iter_i = _check_optimize_result(\n",
      "/Users/wolfpack/opt/anaconda3/lib/python3.9/site-packages/sklearn/linear_model/_logistic.py:444: ConvergenceWarning: lbfgs failed to converge (status=1):\n",
      "STOP: TOTAL NO. of ITERATIONS REACHED LIMIT.\n",
      "\n",
      "Increase the number of iterations (max_iter) or scale the data as shown in:\n",
      "    https://scikit-learn.org/stable/modules/preprocessing.html\n",
      "Please also refer to the documentation for alternative solver options:\n",
      "    https://scikit-learn.org/stable/modules/linear_model.html#logistic-regression\n",
      "  n_iter_i = _check_optimize_result(\n",
      "/Users/wolfpack/opt/anaconda3/lib/python3.9/site-packages/sklearn/linear_model/_logistic.py:444: ConvergenceWarning: lbfgs failed to converge (status=1):\n",
      "STOP: TOTAL NO. of ITERATIONS REACHED LIMIT.\n",
      "\n",
      "Increase the number of iterations (max_iter) or scale the data as shown in:\n",
      "    https://scikit-learn.org/stable/modules/preprocessing.html\n",
      "Please also refer to the documentation for alternative solver options:\n",
      "    https://scikit-learn.org/stable/modules/linear_model.html#logistic-regression\n",
      "  n_iter_i = _check_optimize_result(\n",
      "/Users/wolfpack/opt/anaconda3/lib/python3.9/site-packages/sklearn/linear_model/_logistic.py:444: ConvergenceWarning: lbfgs failed to converge (status=1):\n",
      "STOP: TOTAL NO. of ITERATIONS REACHED LIMIT.\n",
      "\n",
      "Increase the number of iterations (max_iter) or scale the data as shown in:\n",
      "    https://scikit-learn.org/stable/modules/preprocessing.html\n",
      "Please also refer to the documentation for alternative solver options:\n",
      "    https://scikit-learn.org/stable/modules/linear_model.html#logistic-regression\n",
      "  n_iter_i = _check_optimize_result(\n",
      "/Users/wolfpack/opt/anaconda3/lib/python3.9/site-packages/sklearn/linear_model/_logistic.py:444: ConvergenceWarning: lbfgs failed to converge (status=1):\n",
      "STOP: TOTAL NO. of ITERATIONS REACHED LIMIT.\n",
      "\n",
      "Increase the number of iterations (max_iter) or scale the data as shown in:\n",
      "    https://scikit-learn.org/stable/modules/preprocessing.html\n",
      "Please also refer to the documentation for alternative solver options:\n",
      "    https://scikit-learn.org/stable/modules/linear_model.html#logistic-regression\n",
      "  n_iter_i = _check_optimize_result(\n",
      "/Users/wolfpack/opt/anaconda3/lib/python3.9/site-packages/sklearn/linear_model/_logistic.py:444: ConvergenceWarning: lbfgs failed to converge (status=1):\n",
      "STOP: TOTAL NO. of ITERATIONS REACHED LIMIT.\n",
      "\n",
      "Increase the number of iterations (max_iter) or scale the data as shown in:\n",
      "    https://scikit-learn.org/stable/modules/preprocessing.html\n",
      "Please also refer to the documentation for alternative solver options:\n",
      "    https://scikit-learn.org/stable/modules/linear_model.html#logistic-regression\n",
      "  n_iter_i = _check_optimize_result(\n",
      "/Users/wolfpack/opt/anaconda3/lib/python3.9/site-packages/sklearn/linear_model/_logistic.py:444: ConvergenceWarning: lbfgs failed to converge (status=1):\n",
      "STOP: TOTAL NO. of ITERATIONS REACHED LIMIT.\n",
      "\n",
      "Increase the number of iterations (max_iter) or scale the data as shown in:\n",
      "    https://scikit-learn.org/stable/modules/preprocessing.html\n",
      "Please also refer to the documentation for alternative solver options:\n",
      "    https://scikit-learn.org/stable/modules/linear_model.html#logistic-regression\n",
      "  n_iter_i = _check_optimize_result(\n",
      "/Users/wolfpack/opt/anaconda3/lib/python3.9/site-packages/sklearn/linear_model/_logistic.py:444: ConvergenceWarning: lbfgs failed to converge (status=1):\n",
      "STOP: TOTAL NO. of ITERATIONS REACHED LIMIT.\n",
      "\n",
      "Increase the number of iterations (max_iter) or scale the data as shown in:\n",
      "    https://scikit-learn.org/stable/modules/preprocessing.html\n",
      "Please also refer to the documentation for alternative solver options:\n",
      "    https://scikit-learn.org/stable/modules/linear_model.html#logistic-regression\n",
      "  n_iter_i = _check_optimize_result(\n",
      "/Users/wolfpack/opt/anaconda3/lib/python3.9/site-packages/sklearn/linear_model/_logistic.py:444: ConvergenceWarning: lbfgs failed to converge (status=1):\n",
      "STOP: TOTAL NO. of ITERATIONS REACHED LIMIT.\n",
      "\n",
      "Increase the number of iterations (max_iter) or scale the data as shown in:\n",
      "    https://scikit-learn.org/stable/modules/preprocessing.html\n",
      "Please also refer to the documentation for alternative solver options:\n",
      "    https://scikit-learn.org/stable/modules/linear_model.html#logistic-regression\n",
      "  n_iter_i = _check_optimize_result(\n",
      "/Users/wolfpack/opt/anaconda3/lib/python3.9/site-packages/sklearn/linear_model/_logistic.py:444: ConvergenceWarning: lbfgs failed to converge (status=1):\n",
      "STOP: TOTAL NO. of ITERATIONS REACHED LIMIT.\n",
      "\n",
      "Increase the number of iterations (max_iter) or scale the data as shown in:\n",
      "    https://scikit-learn.org/stable/modules/preprocessing.html\n",
      "Please also refer to the documentation for alternative solver options:\n",
      "    https://scikit-learn.org/stable/modules/linear_model.html#logistic-regression\n",
      "  n_iter_i = _check_optimize_result(\n"
     ]
    },
    {
     "name": "stdout",
     "output_type": "stream",
     "text": [
      "Mean cross validation accuracy = 0.6269797041623667\n",
      "Removing feature Relative Humidity AVG\n"
     ]
    },
    {
     "name": "stderr",
     "output_type": "stream",
     "text": [
      "/Users/wolfpack/opt/anaconda3/lib/python3.9/site-packages/sklearn/linear_model/_logistic.py:444: ConvergenceWarning: lbfgs failed to converge (status=1):\n",
      "STOP: TOTAL NO. of ITERATIONS REACHED LIMIT.\n",
      "\n",
      "Increase the number of iterations (max_iter) or scale the data as shown in:\n",
      "    https://scikit-learn.org/stable/modules/preprocessing.html\n",
      "Please also refer to the documentation for alternative solver options:\n",
      "    https://scikit-learn.org/stable/modules/linear_model.html#logistic-regression\n",
      "  n_iter_i = _check_optimize_result(\n",
      "/Users/wolfpack/opt/anaconda3/lib/python3.9/site-packages/sklearn/linear_model/_logistic.py:444: ConvergenceWarning: lbfgs failed to converge (status=1):\n",
      "STOP: TOTAL NO. of ITERATIONS REACHED LIMIT.\n",
      "\n",
      "Increase the number of iterations (max_iter) or scale the data as shown in:\n",
      "    https://scikit-learn.org/stable/modules/preprocessing.html\n",
      "Please also refer to the documentation for alternative solver options:\n",
      "    https://scikit-learn.org/stable/modules/linear_model.html#logistic-regression\n",
      "  n_iter_i = _check_optimize_result(\n",
      "/Users/wolfpack/opt/anaconda3/lib/python3.9/site-packages/sklearn/linear_model/_logistic.py:444: ConvergenceWarning: lbfgs failed to converge (status=1):\n",
      "STOP: TOTAL NO. of ITERATIONS REACHED LIMIT.\n",
      "\n",
      "Increase the number of iterations (max_iter) or scale the data as shown in:\n",
      "    https://scikit-learn.org/stable/modules/preprocessing.html\n",
      "Please also refer to the documentation for alternative solver options:\n",
      "    https://scikit-learn.org/stable/modules/linear_model.html#logistic-regression\n",
      "  n_iter_i = _check_optimize_result(\n",
      "/Users/wolfpack/opt/anaconda3/lib/python3.9/site-packages/sklearn/linear_model/_logistic.py:444: ConvergenceWarning: lbfgs failed to converge (status=1):\n",
      "STOP: TOTAL NO. of ITERATIONS REACHED LIMIT.\n",
      "\n",
      "Increase the number of iterations (max_iter) or scale the data as shown in:\n",
      "    https://scikit-learn.org/stable/modules/preprocessing.html\n",
      "Please also refer to the documentation for alternative solver options:\n",
      "    https://scikit-learn.org/stable/modules/linear_model.html#logistic-regression\n",
      "  n_iter_i = _check_optimize_result(\n",
      "/Users/wolfpack/opt/anaconda3/lib/python3.9/site-packages/sklearn/linear_model/_logistic.py:444: ConvergenceWarning: lbfgs failed to converge (status=1):\n",
      "STOP: TOTAL NO. of ITERATIONS REACHED LIMIT.\n",
      "\n",
      "Increase the number of iterations (max_iter) or scale the data as shown in:\n",
      "    https://scikit-learn.org/stable/modules/preprocessing.html\n",
      "Please also refer to the documentation for alternative solver options:\n",
      "    https://scikit-learn.org/stable/modules/linear_model.html#logistic-regression\n",
      "  n_iter_i = _check_optimize_result(\n",
      "/Users/wolfpack/opt/anaconda3/lib/python3.9/site-packages/sklearn/linear_model/_logistic.py:444: ConvergenceWarning: lbfgs failed to converge (status=1):\n",
      "STOP: TOTAL NO. of ITERATIONS REACHED LIMIT.\n",
      "\n",
      "Increase the number of iterations (max_iter) or scale the data as shown in:\n",
      "    https://scikit-learn.org/stable/modules/preprocessing.html\n",
      "Please also refer to the documentation for alternative solver options:\n",
      "    https://scikit-learn.org/stable/modules/linear_model.html#logistic-regression\n",
      "  n_iter_i = _check_optimize_result(\n"
     ]
    },
    {
     "name": "stdout",
     "output_type": "stream",
     "text": [
      "Mean cross validation accuracy = 0.6340144478844169\n",
      "Removing feature Wind Speed Daily AVG\n"
     ]
    },
    {
     "name": "stderr",
     "output_type": "stream",
     "text": [
      "/Users/wolfpack/opt/anaconda3/lib/python3.9/site-packages/sklearn/linear_model/_logistic.py:444: ConvergenceWarning: lbfgs failed to converge (status=1):\n",
      "STOP: TOTAL NO. of ITERATIONS REACHED LIMIT.\n",
      "\n",
      "Increase the number of iterations (max_iter) or scale the data as shown in:\n",
      "    https://scikit-learn.org/stable/modules/preprocessing.html\n",
      "Please also refer to the documentation for alternative solver options:\n",
      "    https://scikit-learn.org/stable/modules/linear_model.html#logistic-regression\n",
      "  n_iter_i = _check_optimize_result(\n",
      "/Users/wolfpack/opt/anaconda3/lib/python3.9/site-packages/sklearn/linear_model/_logistic.py:444: ConvergenceWarning: lbfgs failed to converge (status=1):\n",
      "STOP: TOTAL NO. of ITERATIONS REACHED LIMIT.\n",
      "\n",
      "Increase the number of iterations (max_iter) or scale the data as shown in:\n",
      "    https://scikit-learn.org/stable/modules/preprocessing.html\n",
      "Please also refer to the documentation for alternative solver options:\n",
      "    https://scikit-learn.org/stable/modules/linear_model.html#logistic-regression\n",
      "  n_iter_i = _check_optimize_result(\n",
      "/Users/wolfpack/opt/anaconda3/lib/python3.9/site-packages/sklearn/linear_model/_logistic.py:444: ConvergenceWarning: lbfgs failed to converge (status=1):\n",
      "STOP: TOTAL NO. of ITERATIONS REACHED LIMIT.\n",
      "\n",
      "Increase the number of iterations (max_iter) or scale the data as shown in:\n",
      "    https://scikit-learn.org/stable/modules/preprocessing.html\n",
      "Please also refer to the documentation for alternative solver options:\n",
      "    https://scikit-learn.org/stable/modules/linear_model.html#logistic-regression\n",
      "  n_iter_i = _check_optimize_result(\n",
      "/Users/wolfpack/opt/anaconda3/lib/python3.9/site-packages/sklearn/linear_model/_logistic.py:444: ConvergenceWarning: lbfgs failed to converge (status=1):\n",
      "STOP: TOTAL NO. of ITERATIONS REACHED LIMIT.\n",
      "\n",
      "Increase the number of iterations (max_iter) or scale the data as shown in:\n",
      "    https://scikit-learn.org/stable/modules/preprocessing.html\n",
      "Please also refer to the documentation for alternative solver options:\n",
      "    https://scikit-learn.org/stable/modules/linear_model.html#logistic-regression\n",
      "  n_iter_i = _check_optimize_result(\n",
      "/Users/wolfpack/opt/anaconda3/lib/python3.9/site-packages/sklearn/linear_model/_logistic.py:444: ConvergenceWarning: lbfgs failed to converge (status=1):\n",
      "STOP: TOTAL NO. of ITERATIONS REACHED LIMIT.\n",
      "\n",
      "Increase the number of iterations (max_iter) or scale the data as shown in:\n",
      "    https://scikit-learn.org/stable/modules/preprocessing.html\n",
      "Please also refer to the documentation for alternative solver options:\n",
      "    https://scikit-learn.org/stable/modules/linear_model.html#logistic-regression\n",
      "  n_iter_i = _check_optimize_result(\n",
      "/Users/wolfpack/opt/anaconda3/lib/python3.9/site-packages/sklearn/linear_model/_logistic.py:444: ConvergenceWarning: lbfgs failed to converge (status=1):\n",
      "STOP: TOTAL NO. of ITERATIONS REACHED LIMIT.\n",
      "\n",
      "Increase the number of iterations (max_iter) or scale the data as shown in:\n",
      "    https://scikit-learn.org/stable/modules/preprocessing.html\n",
      "Please also refer to the documentation for alternative solver options:\n",
      "    https://scikit-learn.org/stable/modules/linear_model.html#logistic-regression\n",
      "  n_iter_i = _check_optimize_result(\n",
      "/Users/wolfpack/opt/anaconda3/lib/python3.9/site-packages/sklearn/linear_model/_logistic.py:444: ConvergenceWarning: lbfgs failed to converge (status=1):\n",
      "STOP: TOTAL NO. of ITERATIONS REACHED LIMIT.\n",
      "\n",
      "Increase the number of iterations (max_iter) or scale the data as shown in:\n",
      "    https://scikit-learn.org/stable/modules/preprocessing.html\n",
      "Please also refer to the documentation for alternative solver options:\n",
      "    https://scikit-learn.org/stable/modules/linear_model.html#logistic-regression\n",
      "  n_iter_i = _check_optimize_result(\n",
      "/Users/wolfpack/opt/anaconda3/lib/python3.9/site-packages/sklearn/linear_model/_logistic.py:444: ConvergenceWarning: lbfgs failed to converge (status=1):\n",
      "STOP: TOTAL NO. of ITERATIONS REACHED LIMIT.\n",
      "\n",
      "Increase the number of iterations (max_iter) or scale the data as shown in:\n",
      "    https://scikit-learn.org/stable/modules/preprocessing.html\n",
      "Please also refer to the documentation for alternative solver options:\n",
      "    https://scikit-learn.org/stable/modules/linear_model.html#logistic-regression\n",
      "  n_iter_i = _check_optimize_result(\n",
      "/Users/wolfpack/opt/anaconda3/lib/python3.9/site-packages/sklearn/linear_model/_logistic.py:444: ConvergenceWarning: lbfgs failed to converge (status=1):\n",
      "STOP: TOTAL NO. of ITERATIONS REACHED LIMIT.\n",
      "\n",
      "Increase the number of iterations (max_iter) or scale the data as shown in:\n",
      "    https://scikit-learn.org/stable/modules/preprocessing.html\n",
      "Please also refer to the documentation for alternative solver options:\n",
      "    https://scikit-learn.org/stable/modules/linear_model.html#logistic-regression\n",
      "  n_iter_i = _check_optimize_result(\n",
      "/Users/wolfpack/opt/anaconda3/lib/python3.9/site-packages/sklearn/linear_model/_logistic.py:444: ConvergenceWarning: lbfgs failed to converge (status=1):\n",
      "STOP: TOTAL NO. of ITERATIONS REACHED LIMIT.\n",
      "\n",
      "Increase the number of iterations (max_iter) or scale the data as shown in:\n",
      "    https://scikit-learn.org/stable/modules/preprocessing.html\n",
      "Please also refer to the documentation for alternative solver options:\n",
      "    https://scikit-learn.org/stable/modules/linear_model.html#logistic-regression\n",
      "  n_iter_i = _check_optimize_result(\n",
      "/Users/wolfpack/opt/anaconda3/lib/python3.9/site-packages/sklearn/linear_model/_logistic.py:444: ConvergenceWarning: lbfgs failed to converge (status=1):\n",
      "STOP: TOTAL NO. of ITERATIONS REACHED LIMIT.\n",
      "\n",
      "Increase the number of iterations (max_iter) or scale the data as shown in:\n",
      "    https://scikit-learn.org/stable/modules/preprocessing.html\n",
      "Please also refer to the documentation for alternative solver options:\n",
      "    https://scikit-learn.org/stable/modules/linear_model.html#logistic-regression\n",
      "  n_iter_i = _check_optimize_result(\n",
      "/Users/wolfpack/opt/anaconda3/lib/python3.9/site-packages/sklearn/linear_model/_logistic.py:444: ConvergenceWarning: lbfgs failed to converge (status=1):\n",
      "STOP: TOTAL NO. of ITERATIONS REACHED LIMIT.\n",
      "\n",
      "Increase the number of iterations (max_iter) or scale the data as shown in:\n",
      "    https://scikit-learn.org/stable/modules/preprocessing.html\n",
      "Please also refer to the documentation for alternative solver options:\n",
      "    https://scikit-learn.org/stable/modules/linear_model.html#logistic-regression\n",
      "  n_iter_i = _check_optimize_result(\n",
      "/Users/wolfpack/opt/anaconda3/lib/python3.9/site-packages/sklearn/linear_model/_logistic.py:444: ConvergenceWarning: lbfgs failed to converge (status=1):\n",
      "STOP: TOTAL NO. of ITERATIONS REACHED LIMIT.\n",
      "\n",
      "Increase the number of iterations (max_iter) or scale the data as shown in:\n",
      "    https://scikit-learn.org/stable/modules/preprocessing.html\n",
      "Please also refer to the documentation for alternative solver options:\n",
      "    https://scikit-learn.org/stable/modules/linear_model.html#logistic-regression\n",
      "  n_iter_i = _check_optimize_result(\n",
      "/Users/wolfpack/opt/anaconda3/lib/python3.9/site-packages/sklearn/linear_model/_logistic.py:444: ConvergenceWarning: lbfgs failed to converge (status=1):\n",
      "STOP: TOTAL NO. of ITERATIONS REACHED LIMIT.\n",
      "\n",
      "Increase the number of iterations (max_iter) or scale the data as shown in:\n",
      "    https://scikit-learn.org/stable/modules/preprocessing.html\n",
      "Please also refer to the documentation for alternative solver options:\n",
      "    https://scikit-learn.org/stable/modules/linear_model.html#logistic-regression\n",
      "  n_iter_i = _check_optimize_result(\n"
     ]
    },
    {
     "name": "stdout",
     "output_type": "stream",
     "text": [
      "Mean cross validation accuracy = 0.6351909184726521\n",
      "Removing feature Wind Direction AVG\n"
     ]
    },
    {
     "name": "stderr",
     "output_type": "stream",
     "text": [
      "/Users/wolfpack/opt/anaconda3/lib/python3.9/site-packages/sklearn/linear_model/_logistic.py:444: ConvergenceWarning: lbfgs failed to converge (status=1):\n",
      "STOP: TOTAL NO. of ITERATIONS REACHED LIMIT.\n",
      "\n",
      "Increase the number of iterations (max_iter) or scale the data as shown in:\n",
      "    https://scikit-learn.org/stable/modules/preprocessing.html\n",
      "Please also refer to the documentation for alternative solver options:\n",
      "    https://scikit-learn.org/stable/modules/linear_model.html#logistic-regression\n",
      "  n_iter_i = _check_optimize_result(\n",
      "/Users/wolfpack/opt/anaconda3/lib/python3.9/site-packages/sklearn/linear_model/_logistic.py:444: ConvergenceWarning: lbfgs failed to converge (status=1):\n",
      "STOP: TOTAL NO. of ITERATIONS REACHED LIMIT.\n",
      "\n",
      "Increase the number of iterations (max_iter) or scale the data as shown in:\n",
      "    https://scikit-learn.org/stable/modules/preprocessing.html\n",
      "Please also refer to the documentation for alternative solver options:\n",
      "    https://scikit-learn.org/stable/modules/linear_model.html#logistic-regression\n",
      "  n_iter_i = _check_optimize_result(\n",
      "/Users/wolfpack/opt/anaconda3/lib/python3.9/site-packages/sklearn/linear_model/_logistic.py:444: ConvergenceWarning: lbfgs failed to converge (status=1):\n",
      "STOP: TOTAL NO. of ITERATIONS REACHED LIMIT.\n",
      "\n",
      "Increase the number of iterations (max_iter) or scale the data as shown in:\n",
      "    https://scikit-learn.org/stable/modules/preprocessing.html\n",
      "Please also refer to the documentation for alternative solver options:\n",
      "    https://scikit-learn.org/stable/modules/linear_model.html#logistic-regression\n",
      "  n_iter_i = _check_optimize_result(\n",
      "/Users/wolfpack/opt/anaconda3/lib/python3.9/site-packages/sklearn/linear_model/_logistic.py:444: ConvergenceWarning: lbfgs failed to converge (status=1):\n",
      "STOP: TOTAL NO. of ITERATIONS REACHED LIMIT.\n",
      "\n",
      "Increase the number of iterations (max_iter) or scale the data as shown in:\n",
      "    https://scikit-learn.org/stable/modules/preprocessing.html\n",
      "Please also refer to the documentation for alternative solver options:\n",
      "    https://scikit-learn.org/stable/modules/linear_model.html#logistic-regression\n",
      "  n_iter_i = _check_optimize_result(\n",
      "/Users/wolfpack/opt/anaconda3/lib/python3.9/site-packages/sklearn/linear_model/_logistic.py:444: ConvergenceWarning: lbfgs failed to converge (status=1):\n",
      "STOP: TOTAL NO. of ITERATIONS REACHED LIMIT.\n",
      "\n",
      "Increase the number of iterations (max_iter) or scale the data as shown in:\n",
      "    https://scikit-learn.org/stable/modules/preprocessing.html\n",
      "Please also refer to the documentation for alternative solver options:\n",
      "    https://scikit-learn.org/stable/modules/linear_model.html#logistic-regression\n",
      "  n_iter_i = _check_optimize_result(\n",
      "/Users/wolfpack/opt/anaconda3/lib/python3.9/site-packages/sklearn/linear_model/_logistic.py:444: ConvergenceWarning: lbfgs failed to converge (status=1):\n",
      "STOP: TOTAL NO. of ITERATIONS REACHED LIMIT.\n",
      "\n",
      "Increase the number of iterations (max_iter) or scale the data as shown in:\n",
      "    https://scikit-learn.org/stable/modules/preprocessing.html\n",
      "Please also refer to the documentation for alternative solver options:\n",
      "    https://scikit-learn.org/stable/modules/linear_model.html#logistic-regression\n",
      "  n_iter_i = _check_optimize_result(\n"
     ]
    },
    {
     "name": "stdout",
     "output_type": "stream",
     "text": [
      "Mean cross validation accuracy = 0.6322669418644651\n",
      "Removing feature Solare Radiation AVG\n"
     ]
    },
    {
     "name": "stderr",
     "output_type": "stream",
     "text": [
      "/Users/wolfpack/opt/anaconda3/lib/python3.9/site-packages/sklearn/linear_model/_logistic.py:444: ConvergenceWarning: lbfgs failed to converge (status=1):\n",
      "STOP: TOTAL NO. of ITERATIONS REACHED LIMIT.\n",
      "\n",
      "Increase the number of iterations (max_iter) or scale the data as shown in:\n",
      "    https://scikit-learn.org/stable/modules/preprocessing.html\n",
      "Please also refer to the documentation for alternative solver options:\n",
      "    https://scikit-learn.org/stable/modules/linear_model.html#logistic-regression\n",
      "  n_iter_i = _check_optimize_result(\n",
      "/Users/wolfpack/opt/anaconda3/lib/python3.9/site-packages/sklearn/linear_model/_logistic.py:444: ConvergenceWarning: lbfgs failed to converge (status=1):\n",
      "STOP: TOTAL NO. of ITERATIONS REACHED LIMIT.\n",
      "\n",
      "Increase the number of iterations (max_iter) or scale the data as shown in:\n",
      "    https://scikit-learn.org/stable/modules/preprocessing.html\n",
      "Please also refer to the documentation for alternative solver options:\n",
      "    https://scikit-learn.org/stable/modules/linear_model.html#logistic-regression\n",
      "  n_iter_i = _check_optimize_result(\n",
      "/Users/wolfpack/opt/anaconda3/lib/python3.9/site-packages/sklearn/linear_model/_logistic.py:444: ConvergenceWarning: lbfgs failed to converge (status=1):\n",
      "STOP: TOTAL NO. of ITERATIONS REACHED LIMIT.\n",
      "\n",
      "Increase the number of iterations (max_iter) or scale the data as shown in:\n",
      "    https://scikit-learn.org/stable/modules/preprocessing.html\n",
      "Please also refer to the documentation for alternative solver options:\n",
      "    https://scikit-learn.org/stable/modules/linear_model.html#logistic-regression\n",
      "  n_iter_i = _check_optimize_result(\n",
      "/Users/wolfpack/opt/anaconda3/lib/python3.9/site-packages/sklearn/linear_model/_logistic.py:444: ConvergenceWarning: lbfgs failed to converge (status=1):\n",
      "STOP: TOTAL NO. of ITERATIONS REACHED LIMIT.\n",
      "\n",
      "Increase the number of iterations (max_iter) or scale the data as shown in:\n",
      "    https://scikit-learn.org/stable/modules/preprocessing.html\n",
      "Please also refer to the documentation for alternative solver options:\n",
      "    https://scikit-learn.org/stable/modules/linear_model.html#logistic-regression\n",
      "  n_iter_i = _check_optimize_result(\n",
      "/Users/wolfpack/opt/anaconda3/lib/python3.9/site-packages/sklearn/linear_model/_logistic.py:444: ConvergenceWarning: lbfgs failed to converge (status=1):\n",
      "STOP: TOTAL NO. of ITERATIONS REACHED LIMIT.\n",
      "\n",
      "Increase the number of iterations (max_iter) or scale the data as shown in:\n",
      "    https://scikit-learn.org/stable/modules/preprocessing.html\n",
      "Please also refer to the documentation for alternative solver options:\n",
      "    https://scikit-learn.org/stable/modules/linear_model.html#logistic-regression\n",
      "  n_iter_i = _check_optimize_result(\n",
      "/Users/wolfpack/opt/anaconda3/lib/python3.9/site-packages/sklearn/linear_model/_logistic.py:444: ConvergenceWarning: lbfgs failed to converge (status=1):\n",
      "STOP: TOTAL NO. of ITERATIONS REACHED LIMIT.\n",
      "\n",
      "Increase the number of iterations (max_iter) or scale the data as shown in:\n",
      "    https://scikit-learn.org/stable/modules/preprocessing.html\n",
      "Please also refer to the documentation for alternative solver options:\n",
      "    https://scikit-learn.org/stable/modules/linear_model.html#logistic-regression\n",
      "  n_iter_i = _check_optimize_result(\n",
      "/Users/wolfpack/opt/anaconda3/lib/python3.9/site-packages/sklearn/linear_model/_logistic.py:444: ConvergenceWarning: lbfgs failed to converge (status=1):\n",
      "STOP: TOTAL NO. of ITERATIONS REACHED LIMIT.\n",
      "\n",
      "Increase the number of iterations (max_iter) or scale the data as shown in:\n",
      "    https://scikit-learn.org/stable/modules/preprocessing.html\n",
      "Please also refer to the documentation for alternative solver options:\n",
      "    https://scikit-learn.org/stable/modules/linear_model.html#logistic-regression\n",
      "  n_iter_i = _check_optimize_result(\n",
      "/Users/wolfpack/opt/anaconda3/lib/python3.9/site-packages/sklearn/linear_model/_logistic.py:444: ConvergenceWarning: lbfgs failed to converge (status=1):\n",
      "STOP: TOTAL NO. of ITERATIONS REACHED LIMIT.\n",
      "\n",
      "Increase the number of iterations (max_iter) or scale the data as shown in:\n",
      "    https://scikit-learn.org/stable/modules/preprocessing.html\n",
      "Please also refer to the documentation for alternative solver options:\n",
      "    https://scikit-learn.org/stable/modules/linear_model.html#logistic-regression\n",
      "  n_iter_i = _check_optimize_result(\n",
      "/Users/wolfpack/opt/anaconda3/lib/python3.9/site-packages/sklearn/linear_model/_logistic.py:444: ConvergenceWarning: lbfgs failed to converge (status=1):\n",
      "STOP: TOTAL NO. of ITERATIONS REACHED LIMIT.\n",
      "\n",
      "Increase the number of iterations (max_iter) or scale the data as shown in:\n",
      "    https://scikit-learn.org/stable/modules/preprocessing.html\n",
      "Please also refer to the documentation for alternative solver options:\n",
      "    https://scikit-learn.org/stable/modules/linear_model.html#logistic-regression\n",
      "  n_iter_i = _check_optimize_result(\n",
      "/Users/wolfpack/opt/anaconda3/lib/python3.9/site-packages/sklearn/linear_model/_logistic.py:444: ConvergenceWarning: lbfgs failed to converge (status=1):\n",
      "STOP: TOTAL NO. of ITERATIONS REACHED LIMIT.\n",
      "\n",
      "Increase the number of iterations (max_iter) or scale the data as shown in:\n",
      "    https://scikit-learn.org/stable/modules/preprocessing.html\n",
      "Please also refer to the documentation for alternative solver options:\n",
      "    https://scikit-learn.org/stable/modules/linear_model.html#logistic-regression\n",
      "  n_iter_i = _check_optimize_result(\n"
     ]
    },
    {
     "name": "stdout",
     "output_type": "stream",
     "text": [
      "Mean cross validation accuracy = 0.6058789129686962\n",
      "Removing feature Curtis RIngraham Directge\n",
      "Mean cross validation accuracy = 0.6240488476092191\n"
     ]
    }
   ],
   "source": [
    "# Let's run ablation tests on our best model\n",
    "# You could choose any model to do this test\n",
    "best_model = VotingClassifier(estimators=[(\"1\",lr_vanilla),(\"2\",svm_linear),(\"3\",dt)])\n",
    "\n",
    "feature_names = mtrainier_removed_df.columns \n",
    "\n",
    "# Let's maintain an accuracy dictionary\n",
    "\n",
    "accuracy_drop_log = {\"No ablation\":0}\n",
    "\n",
    "for i in range(len(feature_names)):\n",
    "    # we are going to drop one feature at a time - which includes the entire one-hot encoding key when we do route\n",
    "    feature_name = feature_names[i]\n",
    "    print (f\"Removing feature {feature_name}\")\n",
    "    \n",
    "    #first categorical feature derived from one-hot encoding\n",
    "    if feature_name != 'Curtis RIngraham Directge': \n",
    "        x_ablated = np.delete(_x,i,axis=1) \n",
    "        cv_scores = cross_val_score(best_model,x_ablated,_y.flatten(), cv=k, n_jobs=4)\n",
    "        average_cv_score = cv_scores.mean()\n",
    "        print (f\"Mean cross validation accuracy = {average_cv_score}\")\n",
    "        accuracy_drop_log[feature_name] = best_model_valid_accuracy-average_cv_score\n",
    "    else: #to represent all the routes \n",
    "        x_ablated = np.delete(_x,np.s_[6:26],axis=1)\n",
    "        cv_scores = cross_val_score(best_model,x_ablated,_y.flatten(), cv=k, n_jobs=4)\n",
    "        average_cv_score = cv_scores.mean()\n",
    "        print (f\"Mean cross validation accuracy = {average_cv_score}\")\n",
    "        accuracy_drop_log[feature_name] = best_model_valid_accuracy-average_cv_score\n",
    "        break \n",
    "        "
   ]
  },
  {
   "cell_type": "code",
   "execution_count": 57,
   "id": "6503b96b",
   "metadata": {},
   "outputs": [
    {
     "data": {
      "text/plain": [
       "<BarContainer object of 8 artists>"
      ]
     },
     "execution_count": 57,
     "metadata": {},
     "output_type": "execute_result"
    },
    {
     "data": {
      "text/plain": [
       "([0, 1, 2, 3, 4, 5, 6, 7],\n",
       " [Text(0, 0, ''),\n",
       "  Text(0, 0, ''),\n",
       "  Text(0, 0, ''),\n",
       "  Text(0, 0, ''),\n",
       "  Text(0, 0, ''),\n",
       "  Text(0, 0, ''),\n",
       "  Text(0, 0, ''),\n",
       "  Text(0, 0, '')])"
      ]
     },
     "execution_count": 57,
     "metadata": {},
     "output_type": "execute_result"
    },
    {
     "data": {
      "image/png": "[encoded data removed]",
      "text/plain": [
       "<Figure size 432x288 with 1 Axes>"
      ]
     },
     "metadata": {
      "needs_background": "light"
     },
     "output_type": "display_data"
    }
   ],
   "source": [
    "from matplotlib import pyplot as plt\n",
    "\n",
    "plt.bar(accuracy_drop_log.keys(), accuracy_drop_log.values(), color=\"maroon\", width = 0.4)\n",
    "plt.xticks(rotation=\"vertical\")"
   ]
  },
  {
   "cell_type": "code",
   "execution_count": 58,
   "id": "2bbf5e88",
   "metadata": {},
   "outputs": [
    {
     "name": "stdout",
     "output_type": "stream",
     "text": [
      "Features are ranked from best to worst (based on how removing them impacts the accuracy of voting)\n",
      "**************************************\n",
      "Feature 1.Solare Radiation AVG, drop in acc 0.027554179566563586\n",
      "Feature 2.Battery Voltage AVG, drop in acc 0.013501891984864178\n",
      "Feature 3.Curtis RIngraham Directge, drop in acc 0.00938424492604073\n",
      "Feature 4.Temperature AVG, drop in acc 0.00645338837289311\n",
      "Feature 5.Wind Direction AVG, drop in acc 0.00116615067079473\n",
      "Feature 6.Relative Humidity AVG, drop in acc -0.0005813553491570422\n",
      "Feature 7.Wind Speed Daily AVG, drop in acc -0.0017578259373922656\n"
     ]
    }
   ],
   "source": [
    "def criteria(l):\n",
    "    return l[1]\n",
    "\n",
    "sorted_accs =  sorted(accuracy_drop_log.items(),key=criteria, reverse=True)\n",
    "\n",
    "print (f\"Features are ranked from best to worst (based on how removing them impacts the accuracy of {best_model_name})\")\n",
    "print (f\"**************************************\")\n",
    "\n",
    "i=1\n",
    "for entry in sorted_accs:\n",
    "    feature_name = entry[0]\n",
    "    acc_drop = entry[1]\n",
    "    \n",
    "    # We do not want to print \"No ablation\"\n",
    "    if feature_name != \"No ablation\":\n",
    "        print (f\"Feature {i}.{feature_name}, drop in acc {acc_drop}\")\n",
    "        i=i+1"
   ]
  },
  {
   "cell_type": "markdown",
   "id": "96a79a81",
   "metadata": {},
   "source": [
    "We can see that there is a huge shift in terms of importance features from \"Curtis RIngraham Directge\" to now Solare Radiation AVG and Battery Voltage AVG having more importance. In fact, most of the drops in features have some substantial affect on accuracy unlike when we kept all of the features from one-hot encoding.  "
   ]
  },
  {
   "cell_type": "markdown",
   "id": "9c4f8449",
   "metadata": {},
   "source": [
    "### 4. Taking away the 'Route' feature entirely before feature ablation"
   ]
  },
  {
   "cell_type": "code",
   "execution_count": 60,
   "id": "5e7c6525",
   "metadata": {},
   "outputs": [
    {
     "name": "stdout",
     "output_type": "stream",
     "text": [
      "Mean cross validation accuracy for model lr = 0.6134571723426212\n",
      "Mean cross validation accuracy for model svm = 0.618173374613003\n",
      "Mean cross validation accuracy for model decision_tree = 0.6117853457172342\n",
      "Mean cross validation accuracy for model random_forest = 0.6223460612315102\n",
      "Mean cross validation accuracy for model grad_boost = 0.6264396284829722\n",
      "Mean cross validation accuracy for model voting = 0.6240488476092191\n",
      "Best model is grad_boost with 10-fold accuracy of 0.6264396284829722\n"
     ]
    }
   ],
   "source": [
    "from sklearn.model_selection import train_test_split\n",
    "from sklearn.model_selection import cross_val_score\n",
    "\n",
    "features = mtrainier_no_route_df.to_numpy()\n",
    "labels = mtrainier_labels_df.to_numpy()\n",
    "\n",
    "_x, x_test, _y, y_test = train_test_split(features, labels, test_size=0.10, random_state=42)\n",
    "\n",
    "k = 10\n",
    "\n",
    "# We can use sklearn's cross validation score directly\n",
    "# We can speed up training using n_jobs parameter which specifies how many cpu_cores to use\n",
    "\n",
    "best_model_name = \"\"\n",
    "best_model_valid_accuracy = 0\n",
    "best_model = \"None\"\n",
    "\n",
    "for model_name in all_models.keys():\n",
    "    model = all_models[model_name]\n",
    "    cv_scores = cross_val_score(model,_x,_y.flatten(), cv=k, n_jobs=4)\n",
    "    average_cv_score = cv_scores.mean()\n",
    "    print (f\"Mean cross validation accuracy for model {model_name} = {average_cv_score}\")\n",
    "\n",
    "    if average_cv_score > best_model_valid_accuracy :\n",
    "        best_model_name = model_name\n",
    "        best_model_valid_accuracy  = average_cv_score\n",
    "        best_model = model\n",
    "\n",
    "print (f\"Best model is {best_model_name} with {k}-fold accuracy of {best_model_valid_accuracy}\")"
   ]
  },
  {
   "cell_type": "code",
   "execution_count": 61,
   "id": "6e4dcded",
   "metadata": {},
   "outputs": [
    {
     "data": {
      "text/html": [
       "<style>#sk-container-id-5 {color: black;background-color: white;}#sk-container-id-5 pre{padding: 0;}#sk-container-id-5 div.sk-toggleable {background-color: white;}#sk-container-id-5 label.sk-toggleable__label {cursor: pointer;display: block;width: 100%;margin-bottom: 0;padding: 0.3em;box-sizing: border-box;text-align: center;}#sk-container-id-5 label.sk-toggleable__label-arrow:before {content: \"▸\";float: left;margin-right: 0.25em;color: #696969;}#sk-container-id-5 label.sk-toggleable__label-arrow:hover:before {color: black;}#sk-container-id-5 div.sk-estimator:hover label.sk-toggleable__label-arrow:before {color: black;}#sk-container-id-5 div.sk-toggleable__content {max-height: 0;max-width: 0;overflow: hidden;text-align: left;background-color: #f0f8ff;}#sk-container-id-5 div.sk-toggleable__content pre {margin: 0.2em;color: black;border-radius: 0.25em;background-color: #f0f8ff;}#sk-container-id-5 input.sk-toggleable__control:checked~div.sk-toggleable__content {max-height: 200px;max-width: 100%;overflow: auto;}#sk-container-id-5 input.sk-toggleable__control:checked~label.sk-toggleable__label-arrow:before {content: \"▾\";}#sk-container-id-5 div.sk-estimator input.sk-toggleable__control:checked~label.sk-toggleable__label {background-color: #d4ebff;}#sk-container-id-5 div.sk-label input.sk-toggleable__control:checked~label.sk-toggleable__label {background-color: #d4ebff;}#sk-container-id-5 input.sk-hidden--visually {border: 0;clip: rect(1px 1px 1px 1px);clip: rect(1px, 1px, 1px, 1px);height: 1px;margin: -1px;overflow: hidden;padding: 0;position: absolute;width: 1px;}#sk-container-id-5 div.sk-estimator {font-family: monospace;background-color: #f0f8ff;border: 1px dotted black;border-radius: 0.25em;box-sizing: border-box;margin-bottom: 0.5em;}#sk-container-id-5 div.sk-estimator:hover {background-color: #d4ebff;}#sk-container-id-5 div.sk-parallel-item::after {content: \"\";width: 100%;border-bottom: 1px solid gray;flex-grow: 1;}#sk-container-id-5 div.sk-label:hover label.sk-toggleable__label {background-color: #d4ebff;}#sk-container-id-5 div.sk-serial::before {content: \"\";position: absolute;border-left: 1px solid gray;box-sizing: border-box;top: 0;bottom: 0;left: 50%;z-index: 0;}#sk-container-id-5 div.sk-serial {display: flex;flex-direction: column;align-items: center;background-color: white;padding-right: 0.2em;padding-left: 0.2em;position: relative;}#sk-container-id-5 div.sk-item {position: relative;z-index: 1;}#sk-container-id-5 div.sk-parallel {display: flex;align-items: stretch;justify-content: center;background-color: white;position: relative;}#sk-container-id-5 div.sk-item::before, #sk-container-id-5 div.sk-parallel-item::before {content: \"\";position: absolute;border-left: 1px solid gray;box-sizing: border-box;top: 0;bottom: 0;left: 50%;z-index: -1;}#sk-container-id-5 div.sk-parallel-item {display: flex;flex-direction: column;z-index: 1;position: relative;background-color: white;}#sk-container-id-5 div.sk-parallel-item:first-child::after {align-self: flex-end;width: 50%;}#sk-container-id-5 div.sk-parallel-item:last-child::after {align-self: flex-start;width: 50%;}#sk-container-id-5 div.sk-parallel-item:only-child::after {width: 0;}#sk-container-id-5 div.sk-dashed-wrapped {border: 1px dashed gray;margin: 0 0.4em 0.5em 0.4em;box-sizing: border-box;padding-bottom: 0.4em;background-color: white;}#sk-container-id-5 div.sk-label label {font-family: monospace;font-weight: bold;display: inline-block;line-height: 1.2em;}#sk-container-id-5 div.sk-label-container {text-align: center;}#sk-container-id-5 div.sk-container {/* jupyter's `normalize.less` sets `[hidden] { display: none; }` but bootstrap.min.css set `[hidden] { display: none !important; }` so we also need the `!important` here to be able to override the default hidden behavior on the sphinx rendered scikit-learn.org. See: https://github.com/scikit-learn/scikit-learn/issues/21755 */display: inline-block !important;position: relative;}#sk-container-id-5 div.sk-text-repr-fallback {display: none;}</style><div id=\"sk-container-id-5\" class=\"sk-top-container\"><div class=\"sk-text-repr-fallback\"><pre>GradientBoostingClassifier()</pre><b>In a Jupyter environment, please rerun this cell to show the HTML representation or trust the notebook. <br />On GitHub, the HTML representation is unable to render, please try loading this page with nbviewer.org.</b></div><div class=\"sk-container\" hidden><div class=\"sk-item\"><div class=\"sk-estimator sk-toggleable\"><input class=\"sk-toggleable__control sk-hidden--visually\" id=\"sk-estimator-id-8\" type=\"checkbox\" checked><label for=\"sk-estimator-id-8\" class=\"sk-toggleable__label sk-toggleable__label-arrow\">GradientBoostingClassifier</label><div class=\"sk-toggleable__content\"><pre>GradientBoostingClassifier()</pre></div></div></div></div></div>"
      ],
      "text/plain": [
       "GradientBoostingClassifier()"
      ]
     },
     "execution_count": 61,
     "metadata": {},
     "output_type": "execute_result"
    },
    {
     "name": "stdout",
     "output_type": "stream",
     "text": [
      "Test accuracy for model 0.631578947368421\n"
     ]
    }
   ],
   "source": [
    "best_model.fit(_x,_y.flatten())\n",
    "\n",
    "y_pred_test = best_model.predict(x_test)\n",
    "test_accuracy = accuracy_score(y_pred_test, y_test.flatten())\n",
    "\n",
    "print (f\"Test accuracy for model {test_accuracy}\")"
   ]
  },
  {
   "cell_type": "markdown",
   "id": "dd259927",
   "metadata": {},
   "source": [
    "The best model is <mark>grad_boost with 10-fold accuracy of **0.6264396284829722** and a test accuracy of **0.631578947368421**</mark>"
   ]
  },
  {
   "cell_type": "markdown",
   "id": "c2ad0ac2",
   "metadata": {},
   "source": [
    "### For removing 'Route', we will run feature ablation. "
   ]
  },
  {
   "cell_type": "code",
   "execution_count": 63,
   "id": "53d734b6",
   "metadata": {},
   "outputs": [
    {
     "name": "stdout",
     "output_type": "stream",
     "text": [
      "Removing feature Battery Voltage AVG\n",
      "Mean cross validation accuracy = 0.6211558307533539\n",
      "Removing feature Temperature AVG\n",
      "Mean cross validation accuracy = 0.6258479532163743\n",
      "Removing feature Relative Humidity AVG\n",
      "Mean cross validation accuracy = 0.6240763673890609\n",
      "Removing feature Wind Speed Daily AVG\n",
      "Mean cross validation accuracy = 0.6328895768833849\n",
      "Removing feature Wind Direction AVG\n",
      "Mean cross validation accuracy = 0.6258513931888545\n",
      "Removing feature Solare Radiation AVG\n",
      "Mean cross validation accuracy = 0.6223323013415893\n"
     ]
    }
   ],
   "source": [
    "# Let's run ablation tests on our best model\n",
    "# You could choose any model to do this test\n",
    "best_model = GradientBoostingClassifier()\n",
    "\n",
    "feature_names = mtrainier_no_route_df.columns \n",
    "\n",
    "# Let's maintain an accuracy dictionary\n",
    "\n",
    "accuracy_drop_log = {\"No ablation\":0}\n",
    "\n",
    "for i in range(len(feature_names)):\n",
    "    # we are going to drop one feature at a time - which includes the entire one-hot encoding key when we do route\n",
    "    feature_name = feature_names[i]\n",
    "    print (f\"Removing feature {feature_name}\")\n",
    "    \n",
    "    #first categorical feature derived from one-hot encoding\n",
    "    if feature_name != 'Curtis RIngraham Directge': \n",
    "        x_ablated = np.delete(_x,i,axis=1) \n",
    "        cv_scores = cross_val_score(best_model,x_ablated,_y.flatten(), cv=k, n_jobs=4)\n",
    "        average_cv_score = cv_scores.mean()\n",
    "        print (f\"Mean cross validation accuracy = {average_cv_score}\")\n",
    "        accuracy_drop_log[feature_name] = best_model_valid_accuracy-average_cv_score\n",
    "    else: #to represent all the routes \n",
    "        x_ablated = np.delete(_x,np.s_[6:26],axis=1)\n",
    "        cv_scores = cross_val_score(best_model,x_ablated,_y.flatten(), cv=k, n_jobs=4)\n",
    "        average_cv_score = cv_scores.mean()\n",
    "        print (f\"Mean cross validation accuracy = {average_cv_score}\")\n",
    "        accuracy_drop_log[feature_name] = best_model_valid_accuracy-average_cv_score\n",
    "        break \n",
    "        "
   ]
  },
  {
   "cell_type": "code",
   "execution_count": 64,
   "id": "5304d1f1",
   "metadata": {},
   "outputs": [
    {
     "data": {
      "text/plain": [
       "<BarContainer object of 7 artists>"
      ]
     },
     "execution_count": 64,
     "metadata": {},
     "output_type": "execute_result"
    },
    {
     "data": {
      "text/plain": [
       "([0, 1, 2, 3, 4, 5, 6],\n",
       " [Text(0, 0, ''),\n",
       "  Text(0, 0, ''),\n",
       "  Text(0, 0, ''),\n",
       "  Text(0, 0, ''),\n",
       "  Text(0, 0, ''),\n",
       "  Text(0, 0, ''),\n",
       "  Text(0, 0, '')])"
      ]
     },
     "execution_count": 64,
     "metadata": {},
     "output_type": "execute_result"
    },
    {
     "data": {
      "image/png": "[encoded data removed]",
      "text/plain": [
       "<Figure size 432x288 with 1 Axes>"
      ]
     },
     "metadata": {
      "needs_background": "light"
     },
     "output_type": "display_data"
    }
   ],
   "source": [
    "from matplotlib import pyplot as plt\n",
    "\n",
    "plt.bar(accuracy_drop_log.keys(), accuracy_drop_log.values(), color=\"maroon\", width = 0.4)\n",
    "plt.xticks(rotation=\"vertical\")"
   ]
  },
  {
   "cell_type": "code",
   "execution_count": 65,
   "id": "cf9569ec",
   "metadata": {},
   "outputs": [
    {
     "name": "stdout",
     "output_type": "stream",
     "text": [
      "Features are ranked from best to worst (based on how removing them impacts the accuracy of grad_boost)\n",
      "**************************************\n",
      "Feature 1.Battery Voltage AVG, drop in acc 0.005283797729618289\n",
      "Feature 2.Solare Radiation AVG, drop in acc 0.004107327141382844\n",
      "Feature 3.Relative Humidity AVG, drop in acc 0.002363261093911273\n",
      "Feature 4.Temperature AVG, drop in acc 0.0005916752665978686\n",
      "Feature 5.Wind Direction AVG, drop in acc 0.0005882352941176672\n",
      "Feature 6.Wind Speed Daily AVG, drop in acc -0.006449948400412686\n"
     ]
    }
   ],
   "source": [
    "def criteria(l):\n",
    "    return l[1]\n",
    "\n",
    "sorted_accs =  sorted(accuracy_drop_log.items(),key=criteria, reverse=True)\n",
    "\n",
    "print (f\"Features are ranked from best to worst (based on how removing them impacts the accuracy of {best_model_name})\")\n",
    "print (f\"**************************************\")\n",
    "\n",
    "i=1\n",
    "for entry in sorted_accs:\n",
    "    feature_name = entry[0]\n",
    "    acc_drop = entry[1]\n",
    "    \n",
    "    # We do not want to print \"No ablation\"\n",
    "    if feature_name != \"No ablation\":\n",
    "        print (f\"Feature {i}.{feature_name}, drop in acc {acc_drop}\")\n",
    "        i=i+1"
   ]
  },
  {
   "cell_type": "markdown",
   "id": "1046e46a",
   "metadata": {},
   "source": [
    "We can see that removing 'Route' feature matches up with removing the two features \"Unknown\" and \"glacier only - no summit attempt\". The most importance features are now Battery Voltage AVG and Solare Radiation AVG. However, the drops in these features wouldn't really affect accuracy as well compared to removing those two features only. "
   ]
  },
  {
   "cell_type": "markdown",
   "id": "b1aa63a6",
   "metadata": {},
   "source": [
    "## Insights and Analysis"
   ]
  },
  {
   "cell_type": "markdown",
   "id": "9a8b3740",
   "metadata": {},
   "source": [
    "I tried 4 different modifications and ran feature ablation on each model. The four modifications were: Standard Scaling, MinMax Scaling, removing the two features 'Unknowns' and 'glacier - no attempt at summit', and removing route entirely from the dataframe. Overall despite doing all these modifications, most of the models were stagnant in terms of model accuracy with it ranging between 0.62-0.63 for test and validation accuracy. However, the changes in terms of feature importance were interesting since \"Route\" was the most important feature for MinMax and Standard Scaling. After I removed those two categorical features and kept the other 20 routes, the importance feature of \"Route\" dropped to third. Battery Voltage AVG and Solare Radiation AVG were both the top features for the last models. I believe that model acccuracy can improve if better data or more features were added.  "
   ]
  },
  {
   "cell_type": "code",
   "execution_count": null,
   "id": "cf34ac50",
   "metadata": {},
   "outputs": [],
   "source": []
  }
 ],
 "metadata": {
  "kernelspec": {
   "display_name": "Python 3 (ipykernel)",
   "language": "python",
   "name": "python3"
  },
  "language_info": {
   "codemirror_mode": {
    "name": "ipython",
    "version": 3
   },
   "file_extension": ".py",
   "mimetype": "text/x-python",
   "name": "python",
   "nbconvert_exporter": "python",
   "pygments_lexer": "ipython3",
   "version": "3.9.12"
  }
 },
 "nbformat": 4,
 "nbformat_minor": 5
}
